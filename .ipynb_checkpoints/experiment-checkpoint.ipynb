{
 "cells": [
  {
   "cell_type": "code",
   "execution_count": 1,
   "id": "f644b852-b8f6-4f0c-ac5b-66090834db3b",
   "metadata": {},
   "outputs": [
    {
     "name": "stderr",
     "output_type": "stream",
     "text": [
      "2024-06-01 18:27:01.624766: I tensorflow/stream_executor/platform/default/dso_loader.cc:49] Successfully opened dynamic library libcudart.so.10.1\n"
     ]
    }
   ],
   "source": [
    "import pandas as pd\n",
    "import tensorflow as tf"
   ]
  },
  {
   "cell_type": "code",
   "execution_count": 2,
   "id": "7d66976e-67e5-4dc8-ab85-b433fc5a18ab",
   "metadata": {},
   "outputs": [
    {
     "data": {
      "text/plain": [
       "((741,),\n",
       " (741,),\n",
       " pandas.core.series.Series,\n",
       " Rating\n",
       " 3    160\n",
       " 5    160\n",
       " 4    160\n",
       " 1    142\n",
       " 2    119\n",
       " Name: count, dtype: int64)"
      ]
     },
     "execution_count": 2,
     "metadata": {},
     "output_type": "execute_result"
    }
   ],
   "source": [
    "df = pd.read_csv(\"dataset/balanced_data2.csv\")\n",
    "df[\"Rating\"].shape, df[\"Review\"].shape, type(df[\"Rating\"]), df[\"Rating\"].value_counts()"
   ]
  },
  {
   "cell_type": "code",
   "execution_count": 3,
   "id": "1652a52f-021b-4c43-93cf-166bf1dbf21a",
   "metadata": {},
   "outputs": [
    {
     "data": {
      "text/plain": [
       "{1: 0, 2: 1, 3: 2, 5: 3, 4: 4}"
      ]
     },
     "execution_count": 3,
     "metadata": {},
     "output_type": "execute_result"
    }
   ],
   "source": [
    "possible_labels = df.Rating.unique()\n",
    "\n",
    "label_dict = {}\n",
    "for index, possible_label in enumerate(possible_labels):\n",
    "    label_dict[possible_label] = index\n",
    "label_dict"
   ]
  },
  {
   "cell_type": "code",
   "execution_count": 4,
   "id": "3da8186c-a4da-4ea1-8476-b35aa3f073e3",
   "metadata": {},
   "outputs": [],
   "source": [
    "df['Rating'] = df.Rating.replace(label_dict)"
   ]
  },
  {
   "cell_type": "code",
   "execution_count": 5,
   "id": "5f5175ec-8df4-4d37-93e5-8324fbafad6b",
   "metadata": {},
   "outputs": [],
   "source": [
    "# from sklearn.model_selection import train_test_split\n",
    "\n",
    "# X_train, X_val, y_train, y_val = train_test_split(df.Review.values, \n",
    "#                                                   df.Rating.values, \n",
    "#                                                   test_size=0.15, \n",
    "#                                                   random_state=42, \n",
    "#                                                   stratify=df.Rating.values)"
   ]
  },
  {
   "cell_type": "code",
   "execution_count": 6,
   "id": "1fcaa247-18a9-4988-aa67-930a2511879e",
   "metadata": {},
   "outputs": [],
   "source": [
    "# X_train.shape, y_train.shape, X_val.shape, y_val.shape"
   ]
  },
  {
   "cell_type": "code",
   "execution_count": 7,
   "id": "46252fac-2778-4b84-9972-f144d88f3403",
   "metadata": {},
   "outputs": [
    {
     "data": {
      "text/plain": [
       "Rating\n",
       "2    160\n",
       "3    160\n",
       "4    160\n",
       "0    142\n",
       "1    119\n",
       "Name: count, dtype: int64"
      ]
     },
     "execution_count": 7,
     "metadata": {},
     "output_type": "execute_result"
    }
   ],
   "source": [
    "df[\"Rating\"].value_counts()"
   ]
  },
  {
   "cell_type": "code",
   "execution_count": 8,
   "id": "de94ac29-076c-4bcc-b196-25159256a8ae",
   "metadata": {},
   "outputs": [],
   "source": [
    "# y_train_series = pd.Series(y_train)\n",
    "# y_val_series = pd.Series(y_val)\n",
    "\n",
    "# train_distribution = y_train_series.value_counts()\n",
    "# val_distribution = y_val_series.value_counts()\n",
    "\n",
    "# print(\"Training label distribution:\")\n",
    "# print(train_distribution)\n",
    "\n",
    "# print(\"\\nValidation label distribution:\")\n",
    "# print(val_distribution)"
   ]
  },
  {
   "cell_type": "code",
   "execution_count": 9,
   "id": "77ff9c12-5ad7-441f-aaa1-558476abd84b",
   "metadata": {},
   "outputs": [],
   "source": [
    "from datasets import Dataset\n",
    "\n",
    "dataset = Dataset.from_pandas(df)"
   ]
  },
  {
   "cell_type": "code",
   "execution_count": null,
   "id": "9ee1d1d2-01fa-49e8-9a12-4437350f21fb",
   "metadata": {},
   "outputs": [],
   "source": []
  }
 ],
 "metadata": {
  "kernelspec": {
   "display_name": "Python 3 (ipykernel)",
   "language": "python",
   "name": "python3"
  },
  "language_info": {
   "codemirror_mode": {
    "name": "ipython",
    "version": 3
   },
   "file_extension": ".py",
   "mimetype": "text/x-python",
   "name": "python",
   "nbconvert_exporter": "python",
   "pygments_lexer": "ipython3",
   "version": "3.9.19"
  }
 },
 "nbformat": 4,
 "nbformat_minor": 5
}
