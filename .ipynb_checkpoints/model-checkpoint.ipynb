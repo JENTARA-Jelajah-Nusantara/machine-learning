{
 "cells": [
  {
   "cell_type": "code",
   "execution_count": 1,
   "metadata": {
    "colab": {
     "base_uri": "https://localhost:8080/"
    },
    "id": "QN4ifWbNhdNq",
    "outputId": "f3fb33e7-9cd5-47c3-e129-a3bbaf373afa"
   },
   "outputs": [
    {
     "name": "stdout",
     "output_type": "stream",
     "text": [
      "Collecting transformers==4.31.0\n",
      "  Downloading transformers-4.31.0-py3-none-any.whl (7.4 MB)\n",
      "\u001b[2K     \u001b[90m━━━━━━━━━━━━━━━━━━━━━━━━━━━━━━━━━━━━━━━━\u001b[0m \u001b[32m7.4/7.4 MB\u001b[0m \u001b[31m62.2 MB/s\u001b[0m eta \u001b[36m0:00:00\u001b[0m\n",
      "\u001b[?25hRequirement already satisfied: filelock in /usr/local/lib/python3.10/dist-packages (from transformers==4.31.0) (3.14.0)\n",
      "Requirement already satisfied: huggingface-hub<1.0,>=0.14.1 in /usr/local/lib/python3.10/dist-packages (from transformers==4.31.0) (0.23.2)\n",
      "Requirement already satisfied: numpy>=1.17 in /usr/local/lib/python3.10/dist-packages (from transformers==4.31.0) (1.25.2)\n",
      "Requirement already satisfied: packaging>=20.0 in /usr/local/lib/python3.10/dist-packages (from transformers==4.31.0) (24.0)\n",
      "Requirement already satisfied: pyyaml>=5.1 in /usr/local/lib/python3.10/dist-packages (from transformers==4.31.0) (6.0.1)\n",
      "Requirement already satisfied: regex!=2019.12.17 in /usr/local/lib/python3.10/dist-packages (from transformers==4.31.0) (2024.5.15)\n",
      "Requirement already satisfied: requests in /usr/local/lib/python3.10/dist-packages (from transformers==4.31.0) (2.31.0)\n",
      "Collecting tokenizers!=0.11.3,<0.14,>=0.11.1 (from transformers==4.31.0)\n",
      "  Downloading tokenizers-0.13.3-cp310-cp310-manylinux_2_17_x86_64.manylinux2014_x86_64.whl (7.8 MB)\n",
      "\u001b[2K     \u001b[90m━━━━━━━━━━━━━━━━━━━━━━━━━━━━━━━━━━━━━━━━\u001b[0m \u001b[32m7.8/7.8 MB\u001b[0m \u001b[31m42.1 MB/s\u001b[0m eta \u001b[36m0:00:00\u001b[0m\n",
      "\u001b[?25hRequirement already satisfied: safetensors>=0.3.1 in /usr/local/lib/python3.10/dist-packages (from transformers==4.31.0) (0.4.3)\n",
      "Requirement already satisfied: tqdm>=4.27 in /usr/local/lib/python3.10/dist-packages (from transformers==4.31.0) (4.66.4)\n",
      "Requirement already satisfied: fsspec>=2023.5.0 in /usr/local/lib/python3.10/dist-packages (from huggingface-hub<1.0,>=0.14.1->transformers==4.31.0) (2023.6.0)\n",
      "Requirement already satisfied: typing-extensions>=3.7.4.3 in /usr/local/lib/python3.10/dist-packages (from huggingface-hub<1.0,>=0.14.1->transformers==4.31.0) (4.12.1)\n",
      "Requirement already satisfied: charset-normalizer<4,>=2 in /usr/local/lib/python3.10/dist-packages (from requests->transformers==4.31.0) (3.3.2)\n",
      "Requirement already satisfied: idna<4,>=2.5 in /usr/local/lib/python3.10/dist-packages (from requests->transformers==4.31.0) (3.7)\n",
      "Requirement already satisfied: urllib3<3,>=1.21.1 in /usr/local/lib/python3.10/dist-packages (from requests->transformers==4.31.0) (2.0.7)\n",
      "Requirement already satisfied: certifi>=2017.4.17 in /usr/local/lib/python3.10/dist-packages (from requests->transformers==4.31.0) (2024.6.2)\n",
      "Installing collected packages: tokenizers, transformers\n",
      "  Attempting uninstall: tokenizers\n",
      "    Found existing installation: tokenizers 0.19.1\n",
      "    Uninstalling tokenizers-0.19.1:\n",
      "      Successfully uninstalled tokenizers-0.19.1\n",
      "  Attempting uninstall: transformers\n",
      "    Found existing installation: transformers 4.41.2\n",
      "    Uninstalling transformers-4.41.2:\n",
      "      Successfully uninstalled transformers-4.41.2\n",
      "Successfully installed tokenizers-0.13.3 transformers-4.31.0\n"
     ]
    }
   ],
   "source": [
    "!pip install transformers==4.31.0"
   ]
  },
  {
   "cell_type": "code",
   "execution_count": 2,
   "metadata": {
    "id": "bwRoqJxOK2Dp"
   },
   "outputs": [],
   "source": [
    "import numpy as np\n",
    "import pandas as pd"
   ]
  },
  {
   "cell_type": "code",
   "execution_count": 3,
   "metadata": {
    "colab": {
     "base_uri": "https://localhost:8080/",
     "height": 206
    },
    "id": "DF3nNreuK43V",
    "outputId": "e1ed7556-6bde-4abd-830a-02d63dc74228"
   },
   "outputs": [
    {
     "data": {
      "application/vnd.google.colaboratory.intrinsic+json": {
       "summary": "{\n  \"name\": \"df\",\n  \"rows\": 741,\n  \"fields\": [\n    {\n      \"column\": \"Rating\",\n      \"properties\": {\n        \"dtype\": \"number\",\n        \"std\": 1,\n        \"min\": 1,\n        \"max\": 5,\n        \"num_unique_values\": 5,\n        \"samples\": [\n          2,\n          4,\n          3\n        ],\n        \"semantic_type\": \"\",\n        \"description\": \"\"\n      }\n    },\n    {\n      \"column\": \"Review\",\n      \"properties\": {\n        \"dtype\": \"string\",\n        \"num_unique_values\": 734,\n        \"samples\": [\n          \"mancing ikan kiloan tiket masuk rp5000org\",\n          \"bagus sekali view nya disana\",\n          \"overall bagus fasilitas fasilitas penunjang wifi tempat terdapat steaker listrik colokan listrik\"\n        ],\n        \"semantic_type\": \"\",\n        \"description\": \"\"\n      }\n    }\n  ]\n}",
       "type": "dataframe",
       "variable_name": "df"
      },
      "text/html": [
       "\n",
       "  <div id=\"df-9c836004-8c99-4564-bb7f-4db8226f933b\" class=\"colab-df-container\">\n",
       "    <div>\n",
       "<style scoped>\n",
       "    .dataframe tbody tr th:only-of-type {\n",
       "        vertical-align: middle;\n",
       "    }\n",
       "\n",
       "    .dataframe tbody tr th {\n",
       "        vertical-align: top;\n",
       "    }\n",
       "\n",
       "    .dataframe thead th {\n",
       "        text-align: right;\n",
       "    }\n",
       "</style>\n",
       "<table border=\"1\" class=\"dataframe\">\n",
       "  <thead>\n",
       "    <tr style=\"text-align: right;\">\n",
       "      <th></th>\n",
       "      <th>Rating</th>\n",
       "      <th>Review</th>\n",
       "    </tr>\n",
       "  </thead>\n",
       "  <tbody>\n",
       "    <tr>\n",
       "      <th>0</th>\n",
       "      <td>1</td>\n",
       "      <td>mall terpanas padahal mall besar panas banget ...</td>\n",
       "    </tr>\n",
       "    <tr>\n",
       "      <th>1</th>\n",
       "      <td>2</td>\n",
       "      <td>tempatnya terawat sayang sekali duduk gazebo b...</td>\n",
       "    </tr>\n",
       "    <tr>\n",
       "      <th>2</th>\n",
       "      <td>3</td>\n",
       "      <td>tempat yg nagus sayang banyak sampah berseraka...</td>\n",
       "    </tr>\n",
       "    <tr>\n",
       "      <th>3</th>\n",
       "      <td>5</td>\n",
       "      <td>bingung malam nongkrong padang nyari tempat no...</td>\n",
       "    </tr>\n",
       "    <tr>\n",
       "      <th>4</th>\n",
       "      <td>3</td>\n",
       "      <td>lokasinya startegis pinggir laut sayang lengka...</td>\n",
       "    </tr>\n",
       "  </tbody>\n",
       "</table>\n",
       "</div>\n",
       "    <div class=\"colab-df-buttons\">\n",
       "\n",
       "  <div class=\"colab-df-container\">\n",
       "    <button class=\"colab-df-convert\" onclick=\"convertToInteractive('df-9c836004-8c99-4564-bb7f-4db8226f933b')\"\n",
       "            title=\"Convert this dataframe to an interactive table.\"\n",
       "            style=\"display:none;\">\n",
       "\n",
       "  <svg xmlns=\"http://www.w3.org/2000/svg\" height=\"24px\" viewBox=\"0 -960 960 960\">\n",
       "    <path d=\"M120-120v-720h720v720H120Zm60-500h600v-160H180v160Zm220 220h160v-160H400v160Zm0 220h160v-160H400v160ZM180-400h160v-160H180v160Zm440 0h160v-160H620v160ZM180-180h160v-160H180v160Zm440 0h160v-160H620v160Z\"/>\n",
       "  </svg>\n",
       "    </button>\n",
       "\n",
       "  <style>\n",
       "    .colab-df-container {\n",
       "      display:flex;\n",
       "      gap: 12px;\n",
       "    }\n",
       "\n",
       "    .colab-df-convert {\n",
       "      background-color: #E8F0FE;\n",
       "      border: none;\n",
       "      border-radius: 50%;\n",
       "      cursor: pointer;\n",
       "      display: none;\n",
       "      fill: #1967D2;\n",
       "      height: 32px;\n",
       "      padding: 0 0 0 0;\n",
       "      width: 32px;\n",
       "    }\n",
       "\n",
       "    .colab-df-convert:hover {\n",
       "      background-color: #E2EBFA;\n",
       "      box-shadow: 0px 1px 2px rgba(60, 64, 67, 0.3), 0px 1px 3px 1px rgba(60, 64, 67, 0.15);\n",
       "      fill: #174EA6;\n",
       "    }\n",
       "\n",
       "    .colab-df-buttons div {\n",
       "      margin-bottom: 4px;\n",
       "    }\n",
       "\n",
       "    [theme=dark] .colab-df-convert {\n",
       "      background-color: #3B4455;\n",
       "      fill: #D2E3FC;\n",
       "    }\n",
       "\n",
       "    [theme=dark] .colab-df-convert:hover {\n",
       "      background-color: #434B5C;\n",
       "      box-shadow: 0px 1px 3px 1px rgba(0, 0, 0, 0.15);\n",
       "      filter: drop-shadow(0px 1px 2px rgba(0, 0, 0, 0.3));\n",
       "      fill: #FFFFFF;\n",
       "    }\n",
       "  </style>\n",
       "\n",
       "    <script>\n",
       "      const buttonEl =\n",
       "        document.querySelector('#df-9c836004-8c99-4564-bb7f-4db8226f933b button.colab-df-convert');\n",
       "      buttonEl.style.display =\n",
       "        google.colab.kernel.accessAllowed ? 'block' : 'none';\n",
       "\n",
       "      async function convertToInteractive(key) {\n",
       "        const element = document.querySelector('#df-9c836004-8c99-4564-bb7f-4db8226f933b');\n",
       "        const dataTable =\n",
       "          await google.colab.kernel.invokeFunction('convertToInteractive',\n",
       "                                                    [key], {});\n",
       "        if (!dataTable) return;\n",
       "\n",
       "        const docLinkHtml = 'Like what you see? Visit the ' +\n",
       "          '<a target=\"_blank\" href=https://colab.research.google.com/notebooks/data_table.ipynb>data table notebook</a>'\n",
       "          + ' to learn more about interactive tables.';\n",
       "        element.innerHTML = '';\n",
       "        dataTable['output_type'] = 'display_data';\n",
       "        await google.colab.output.renderOutput(dataTable, element);\n",
       "        const docLink = document.createElement('div');\n",
       "        docLink.innerHTML = docLinkHtml;\n",
       "        element.appendChild(docLink);\n",
       "      }\n",
       "    </script>\n",
       "  </div>\n",
       "\n",
       "\n",
       "<div id=\"df-cc5b9fa4-cb2d-483c-af99-8b0ebe5c8be8\">\n",
       "  <button class=\"colab-df-quickchart\" onclick=\"quickchart('df-cc5b9fa4-cb2d-483c-af99-8b0ebe5c8be8')\"\n",
       "            title=\"Suggest charts\"\n",
       "            style=\"display:none;\">\n",
       "\n",
       "<svg xmlns=\"http://www.w3.org/2000/svg\" height=\"24px\"viewBox=\"0 0 24 24\"\n",
       "     width=\"24px\">\n",
       "    <g>\n",
       "        <path d=\"M19 3H5c-1.1 0-2 .9-2 2v14c0 1.1.9 2 2 2h14c1.1 0 2-.9 2-2V5c0-1.1-.9-2-2-2zM9 17H7v-7h2v7zm4 0h-2V7h2v10zm4 0h-2v-4h2v4z\"/>\n",
       "    </g>\n",
       "</svg>\n",
       "  </button>\n",
       "\n",
       "<style>\n",
       "  .colab-df-quickchart {\n",
       "      --bg-color: #E8F0FE;\n",
       "      --fill-color: #1967D2;\n",
       "      --hover-bg-color: #E2EBFA;\n",
       "      --hover-fill-color: #174EA6;\n",
       "      --disabled-fill-color: #AAA;\n",
       "      --disabled-bg-color: #DDD;\n",
       "  }\n",
       "\n",
       "  [theme=dark] .colab-df-quickchart {\n",
       "      --bg-color: #3B4455;\n",
       "      --fill-color: #D2E3FC;\n",
       "      --hover-bg-color: #434B5C;\n",
       "      --hover-fill-color: #FFFFFF;\n",
       "      --disabled-bg-color: #3B4455;\n",
       "      --disabled-fill-color: #666;\n",
       "  }\n",
       "\n",
       "  .colab-df-quickchart {\n",
       "    background-color: var(--bg-color);\n",
       "    border: none;\n",
       "    border-radius: 50%;\n",
       "    cursor: pointer;\n",
       "    display: none;\n",
       "    fill: var(--fill-color);\n",
       "    height: 32px;\n",
       "    padding: 0;\n",
       "    width: 32px;\n",
       "  }\n",
       "\n",
       "  .colab-df-quickchart:hover {\n",
       "    background-color: var(--hover-bg-color);\n",
       "    box-shadow: 0 1px 2px rgba(60, 64, 67, 0.3), 0 1px 3px 1px rgba(60, 64, 67, 0.15);\n",
       "    fill: var(--button-hover-fill-color);\n",
       "  }\n",
       "\n",
       "  .colab-df-quickchart-complete:disabled,\n",
       "  .colab-df-quickchart-complete:disabled:hover {\n",
       "    background-color: var(--disabled-bg-color);\n",
       "    fill: var(--disabled-fill-color);\n",
       "    box-shadow: none;\n",
       "  }\n",
       "\n",
       "  .colab-df-spinner {\n",
       "    border: 2px solid var(--fill-color);\n",
       "    border-color: transparent;\n",
       "    border-bottom-color: var(--fill-color);\n",
       "    animation:\n",
       "      spin 1s steps(1) infinite;\n",
       "  }\n",
       "\n",
       "  @keyframes spin {\n",
       "    0% {\n",
       "      border-color: transparent;\n",
       "      border-bottom-color: var(--fill-color);\n",
       "      border-left-color: var(--fill-color);\n",
       "    }\n",
       "    20% {\n",
       "      border-color: transparent;\n",
       "      border-left-color: var(--fill-color);\n",
       "      border-top-color: var(--fill-color);\n",
       "    }\n",
       "    30% {\n",
       "      border-color: transparent;\n",
       "      border-left-color: var(--fill-color);\n",
       "      border-top-color: var(--fill-color);\n",
       "      border-right-color: var(--fill-color);\n",
       "    }\n",
       "    40% {\n",
       "      border-color: transparent;\n",
       "      border-right-color: var(--fill-color);\n",
       "      border-top-color: var(--fill-color);\n",
       "    }\n",
       "    60% {\n",
       "      border-color: transparent;\n",
       "      border-right-color: var(--fill-color);\n",
       "    }\n",
       "    80% {\n",
       "      border-color: transparent;\n",
       "      border-right-color: var(--fill-color);\n",
       "      border-bottom-color: var(--fill-color);\n",
       "    }\n",
       "    90% {\n",
       "      border-color: transparent;\n",
       "      border-bottom-color: var(--fill-color);\n",
       "    }\n",
       "  }\n",
       "</style>\n",
       "\n",
       "  <script>\n",
       "    async function quickchart(key) {\n",
       "      const quickchartButtonEl =\n",
       "        document.querySelector('#' + key + ' button');\n",
       "      quickchartButtonEl.disabled = true;  // To prevent multiple clicks.\n",
       "      quickchartButtonEl.classList.add('colab-df-spinner');\n",
       "      try {\n",
       "        const charts = await google.colab.kernel.invokeFunction(\n",
       "            'suggestCharts', [key], {});\n",
       "      } catch (error) {\n",
       "        console.error('Error during call to suggestCharts:', error);\n",
       "      }\n",
       "      quickchartButtonEl.classList.remove('colab-df-spinner');\n",
       "      quickchartButtonEl.classList.add('colab-df-quickchart-complete');\n",
       "    }\n",
       "    (() => {\n",
       "      let quickchartButtonEl =\n",
       "        document.querySelector('#df-cc5b9fa4-cb2d-483c-af99-8b0ebe5c8be8 button');\n",
       "      quickchartButtonEl.style.display =\n",
       "        google.colab.kernel.accessAllowed ? 'block' : 'none';\n",
       "    })();\n",
       "  </script>\n",
       "</div>\n",
       "    </div>\n",
       "  </div>\n"
      ],
      "text/plain": [
       "   Rating                                             Review\n",
       "0       1  mall terpanas padahal mall besar panas banget ...\n",
       "1       2  tempatnya terawat sayang sekali duduk gazebo b...\n",
       "2       3  tempat yg nagus sayang banyak sampah berseraka...\n",
       "3       5  bingung malam nongkrong padang nyari tempat no...\n",
       "4       3  lokasinya startegis pinggir laut sayang lengka..."
      ]
     },
     "execution_count": 3,
     "metadata": {},
     "output_type": "execute_result"
    }
   ],
   "source": [
    "df = pd.read_csv(\"./balanced_cleaned_data.csv\")\n",
    "df.head()"
   ]
  },
  {
   "cell_type": "code",
   "execution_count": 4,
   "metadata": {
    "colab": {
     "base_uri": "https://localhost:8080/"
    },
    "id": "-DBdbws5MMP7",
    "outputId": "35ffff7b-2e06-4497-fea8-0336e9a2bc01"
   },
   "outputs": [
    {
     "data": {
      "text/plain": [
       "array([0, 0, 0, 0, 1])"
      ]
     },
     "execution_count": 4,
     "metadata": {},
     "output_type": "execute_result"
    }
   ],
   "source": [
    "one_hot = pd.get_dummies(df, columns=['Rating'], prefix='Rating')\n",
    "labels = one_hot.iloc[:, 1:].values.astype(int)\n",
    "\n",
    "labels[3]"
   ]
  },
  {
   "cell_type": "code",
   "execution_count": 5,
   "metadata": {
    "colab": {
     "base_uri": "https://localhost:8080/"
    },
    "id": "9J79PGKyMRet",
    "outputId": "0b95af43-3ae8-49c7-a14b-3075dd7b7546"
   },
   "outputs": [
    {
     "data": {
      "text/plain": [
       "(741, 512)"
      ]
     },
     "execution_count": 5,
     "metadata": {},
     "output_type": "execute_result"
    }
   ],
   "source": [
    "max_length = 512\n",
    "\n",
    "x_ids = np.zeros((len(df), max_length))\n",
    "x_attmask = np.zeros((len(df), max_length))\n",
    "\n",
    "x_ids.shape"
   ]
  },
  {
   "cell_type": "code",
   "execution_count": 6,
   "metadata": {
    "colab": {
     "base_uri": "https://localhost:8080/",
     "height": 304,
     "referenced_widgets": [
      "b36d2ed14c58470fbf51ba27388f1657",
      "70c278ef33624377a39e7134610b48dd",
      "b2d3e3ecfaa041c9ae0e4a024dbe31b6",
      "3aa5a1b598cf4569a102c88befa54e56",
      "9478a099bc674eee980c0e886240f096",
      "da47f9673bfa47fc93b2efe67076b471",
      "963fe09926ec476db275f69ee591993b",
      "08fc7c24a1944e20ae466c48e2c1c86e",
      "e888caf1bd624df2b8dffde2e3c6bedf",
      "03d1a2f1d8b94b7d9072811f6d8f5b5f",
      "1d7219c536d2474bb8664ce7f821a039",
      "0bb6d10f3954466a811dd0ce583c626d",
      "f8bc4a43f7c44974bc1eff517f170ef5",
      "5d0ba8f318ac41ef8b65728d00e4b01f",
      "c7fbeeeb9c7d4b86a6c39b4182a03ee9",
      "280cc1c39b2f4ac6b586d1f79e2cb4c2",
      "010e67b7bf37472a8b41256028589522",
      "63f19636813a4a2a8ab6c7c1c8f209dc",
      "14d6865b753a4875ba8640c22000aa86",
      "caebc48bfc854e3cb3c5b5dca8252adf",
      "3823f306f8404d1bb20349878f59d1fb",
      "c4669c427bc3469d8952b211517548d0",
      "c33944b445e84fb6b6b6feeeb7d448c4",
      "ad4ae4f207b84d49a4c6e0916ec877ea",
      "fa94c53e3eb64dbe8c299f13aaf9cd4e",
      "bd904a06ff764888a74db15434135a68",
      "9ad3b5c84fcc444f8ff3d2a09dc77804",
      "396d7363e6e54c9194d22e67d0e09d51",
      "7954a50f1e8546d181143cb3d8290a7b",
      "8db848cf5fbe4e749d52eaa80de5b22f",
      "1bea79805ef747b79488dbe13ef285e7",
      "3bcb70f0d08e4c5e911c0efae8d37fa1",
      "fe5748c354f84b30835dec2846cbceab",
      "44a1cbb918e4439896b106b504250c02",
      "d0d5e287dadf4e1185ed9c698af9714b",
      "0de8929df9e24f9ea3cf5e87e7ae61fa",
      "49a13796fce648f99e5b4ce9a0a3ec21",
      "6b96c91cdbea422397706a76fcea6189",
      "0808fbfbf1ff4a61831db7e5c101f9c5",
      "ed074e819b0b4dfeb22fa345ae0accc1",
      "3fa90ca11fea40628a8cc99c1222fea0",
      "69213f7f87394f6281b63f53d6ea13db",
      "364a8a97554340948783735137e8d704",
      "6e0f4fc2d165460ba82ea156dbd4fc4b"
     ]
    },
    "id": "tNrJGn13OIyC",
    "outputId": "eadb07ea-8218-43ba-a6d0-a0960cf8a682"
   },
   "outputs": [
    {
     "name": "stderr",
     "output_type": "stream",
     "text": [
      "/usr/local/lib/python3.10/dist-packages/huggingface_hub/file_download.py:1132: FutureWarning: `resume_download` is deprecated and will be removed in version 1.0.0. Downloads always resume when possible. If you want to force a new download, use `force_download=True`.\n",
      "  warnings.warn(\n",
      "/usr/local/lib/python3.10/dist-packages/huggingface_hub/utils/_token.py:89: UserWarning: \n",
      "The secret `HF_TOKEN` does not exist in your Colab secrets.\n",
      "To authenticate with the Hugging Face Hub, create a token in your settings tab (https://huggingface.co/settings/tokens), set it as secret in your Google Colab and restart your session.\n",
      "You will be able to reuse this secret in all of your notebooks.\n",
      "Please note that authentication is recommended but still optional to access public models or datasets.\n",
      "  warnings.warn(\n"
     ]
    },
    {
     "data": {
      "application/vnd.jupyter.widget-view+json": {
       "model_id": "b36d2ed14c58470fbf51ba27388f1657",
       "version_major": 2,
       "version_minor": 0
      },
      "text/plain": [
       "vocab.txt:   0%|          | 0.00/229k [00:00<?, ?B/s]"
      ]
     },
     "metadata": {},
     "output_type": "display_data"
    },
    {
     "data": {
      "application/vnd.jupyter.widget-view+json": {
       "model_id": "0bb6d10f3954466a811dd0ce583c626d",
       "version_major": 2,
       "version_minor": 0
      },
      "text/plain": [
       "special_tokens_map.json:   0%|          | 0.00/112 [00:00<?, ?B/s]"
      ]
     },
     "metadata": {},
     "output_type": "display_data"
    },
    {
     "data": {
      "application/vnd.jupyter.widget-view+json": {
       "model_id": "c33944b445e84fb6b6b6feeeb7d448c4",
       "version_major": 2,
       "version_minor": 0
      },
      "text/plain": [
       "tokenizer_config.json:   0%|          | 0.00/2.00 [00:00<?, ?B/s]"
      ]
     },
     "metadata": {},
     "output_type": "display_data"
    },
    {
     "data": {
      "application/vnd.jupyter.widget-view+json": {
       "model_id": "44a1cbb918e4439896b106b504250c02",
       "version_major": 2,
       "version_minor": 0
      },
      "text/plain": [
       "config.json:   0%|          | 0.00/1.53k [00:00<?, ?B/s]"
      ]
     },
     "metadata": {},
     "output_type": "display_data"
    }
   ],
   "source": [
    "from transformers import BertTokenizer\n",
    "\n",
    "checkpoint = \"indobenchmark/indobert-base-p2\"\n",
    "\n",
    "tokenizer = BertTokenizer.from_pretrained(checkpoint)\n",
    "\n",
    "def preprocess(texts, max_len):\n",
    "    input_ids = []\n",
    "    attention_masks = []\n",
    "    for text in texts:\n",
    "        tokenized_text = tokenizer.encode_plus(\n",
    "            text,\n",
    "            max_length=max_len,\n",
    "            truncation=True,\n",
    "            padding='max_length',\n",
    "            add_special_tokens=True,\n",
    "            return_tensors='tf',\n",
    "        )\n",
    "        input_ids.append(tokenized_text['input_ids'][0].numpy())\n",
    "        attention_masks.append(tokenized_text['attention_mask'][0].numpy())\n",
    "\n",
    "    input_ids = np.array(input_ids)\n",
    "    attention_masks = np.array(attention_masks)\n",
    "\n",
    "    return input_ids, attention_masks"
   ]
  },
  {
   "cell_type": "code",
   "execution_count": 7,
   "metadata": {
    "id": "bNWIpB7QSGK7"
   },
   "outputs": [],
   "source": [
    "x_ids, x_attmask = preprocess(df['Review'], max_length)"
   ]
  },
  {
   "cell_type": "code",
   "execution_count": null,
   "metadata": {
    "id": "Bq-wxDb2TVxk"
   },
   "outputs": [],
   "source": [
    "# for i,text in enumerate(df[\"Review\"]):\n",
    "#   tokenized_text = tokenizer.encode_plus(\n",
    "#             text,\n",
    "#             max_length=max_length,\n",
    "#             truncation=True,\n",
    "#             padding='max_length',\n",
    "#             add_special_tokens=True,\n",
    "#             return_tensors='tf',\n",
    "#         )\n",
    "#   x_ids[i, :] = tokenized_text['input_ids']\n",
    "#   x_attmask[i, :] = tokenized_text['attention_mask']\n",
    "# x_ids"
   ]
  },
  {
   "cell_type": "code",
   "execution_count": 8,
   "metadata": {
    "colab": {
     "base_uri": "https://localhost:8080/"
    },
    "id": "BcnwU9KCUkeF",
    "outputId": "4e81ba78-6289-4b8a-d566-c61c020c1ab9"
   },
   "outputs": [
    {
     "data": {
      "text/plain": [
       "(array([[    2,  6408,  1036, ...,     0,     0,     0],\n",
       "        [    2,  7229, 13871, ...,     0,     0,     0],\n",
       "        [    2,   515,   741, ...,     0,     0,     0],\n",
       "        ...,\n",
       "        [    2,  2875,  1326, ...,     0,     0,     0],\n",
       "        [    2,  3107, 10135, ...,     0,     0,     0],\n",
       "        [    2,  1821,  2875, ...,     0,     0,     0]], dtype=int32),\n",
       " array([[1, 1, 1, ..., 0, 0, 0],\n",
       "        [1, 1, 1, ..., 0, 0, 0],\n",
       "        [1, 1, 1, ..., 0, 0, 0],\n",
       "        ...,\n",
       "        [1, 1, 1, ..., 0, 0, 0],\n",
       "        [1, 1, 1, ..., 0, 0, 0],\n",
       "        [1, 1, 1, ..., 0, 0, 0]], dtype=int32),\n",
       " array([[1, 0, 0, 0, 0],\n",
       "        [0, 1, 0, 0, 0],\n",
       "        [0, 0, 1, 0, 0],\n",
       "        ...,\n",
       "        [0, 0, 1, 0, 0],\n",
       "        [0, 0, 0, 1, 0],\n",
       "        [1, 0, 0, 0, 0]]))"
      ]
     },
     "execution_count": 8,
     "metadata": {},
     "output_type": "execute_result"
    }
   ],
   "source": [
    "x_ids, x_attmask, labels"
   ]
  },
  {
   "cell_type": "code",
   "execution_count": 9,
   "metadata": {
    "colab": {
     "base_uri": "https://localhost:8080/"
    },
    "id": "SGHbatXeVJDV",
    "outputId": "2f5255b1-43d1-400e-9142-ea4bd66ef2fb"
   },
   "outputs": [
    {
     "data": {
      "text/plain": [
       "<_TakeDataset element_spec=(TensorSpec(shape=(512,), dtype=tf.int32, name=None), TensorSpec(shape=(512,), dtype=tf.int32, name=None), TensorSpec(shape=(5,), dtype=tf.int64, name=None))>"
      ]
     },
     "execution_count": 9,
     "metadata": {},
     "output_type": "execute_result"
    }
   ],
   "source": [
    "import tensorflow as tf\n",
    "\n",
    "dataset = tf.data.Dataset.from_tensor_slices(\n",
    "    (x_ids, x_attmask, labels)\n",
    ")\n",
    "\n",
    "dataset.take(1)"
   ]
  },
  {
   "cell_type": "code",
   "execution_count": 10,
   "metadata": {
    "id": "sevh28P6WNU1"
   },
   "outputs": [],
   "source": [
    "def to_dict(input_ids, attention_mask, labels):\n",
    "  return {\n",
    "      'input_ids': input_ids,\n",
    "      'attention_mask': attention_mask,\n",
    "  }, labels\n",
    "\n",
    "dataset = dataset.map(to_dict)"
   ]
  },
  {
   "cell_type": "code",
   "execution_count": 11,
   "metadata": {
    "colab": {
     "base_uri": "https://localhost:8080/"
    },
    "id": "6KgPCE8bXiEQ",
    "outputId": "5d6dbbce-e45c-48e2-f273-4b189e7af8ad"
   },
   "outputs": [
    {
     "data": {
      "text/plain": [
       "<_TakeDataset element_spec=({'input_ids': TensorSpec(shape=(512,), dtype=tf.int32, name=None), 'attention_mask': TensorSpec(shape=(512,), dtype=tf.int32, name=None)}, TensorSpec(shape=(5,), dtype=tf.int64, name=None))>"
      ]
     },
     "execution_count": 11,
     "metadata": {},
     "output_type": "execute_result"
    }
   ],
   "source": [
    "dataset.take(1)"
   ]
  },
  {
   "cell_type": "code",
   "execution_count": 12,
   "metadata": {
    "colab": {
     "base_uri": "https://localhost:8080/"
    },
    "id": "3Ow__pModdas",
    "outputId": "83469817-f1c1-4a3d-8afc-c904af6e9c03"
   },
   "outputs": [
    {
     "data": {
      "text/plain": [
       "<_TakeDataset element_spec=({'input_ids': TensorSpec(shape=(16, 512), dtype=tf.int32, name=None), 'attention_mask': TensorSpec(shape=(16, 512), dtype=tf.int32, name=None)}, TensorSpec(shape=(16, 5), dtype=tf.int64, name=None))>"
      ]
     },
     "execution_count": 12,
     "metadata": {},
     "output_type": "execute_result"
    }
   ],
   "source": [
    "batch_size = 16\n",
    "\n",
    "dataset = dataset.shuffle(1000).batch(batch_size, drop_remainder=True)\n",
    "dataset.take(1)"
   ]
  },
  {
   "cell_type": "code",
   "execution_count": 13,
   "metadata": {
    "id": "2-LD1GJZXjoZ"
   },
   "outputs": [],
   "source": [
    "split = 0.9\n",
    "size = int((len(df) / batch_size) * split)\n",
    "# size = int(len(df) * split)"
   ]
  },
  {
   "cell_type": "code",
   "execution_count": 14,
   "metadata": {
    "id": "6W5a8irkYYsd"
   },
   "outputs": [],
   "source": [
    "train_data = dataset.take(size)\n",
    "validation_data = dataset.skip(size)"
   ]
  },
  {
   "cell_type": "code",
   "execution_count": 15,
   "metadata": {
    "colab": {
     "base_uri": "https://localhost:8080/"
    },
    "id": "II76fgr8Yael",
    "outputId": "bbef8d3f-458e-4958-80a4-bb52ebbcd4c9"
   },
   "outputs": [
    {
     "data": {
      "text/plain": [
       "(<_TakeDataset element_spec=({'input_ids': TensorSpec(shape=(16, 512), dtype=tf.int32, name=None), 'attention_mask': TensorSpec(shape=(16, 512), dtype=tf.int32, name=None)}, TensorSpec(shape=(16, 5), dtype=tf.int64, name=None))>,\n",
       " <_SkipDataset element_spec=({'input_ids': TensorSpec(shape=(16, 512), dtype=tf.int32, name=None), 'attention_mask': TensorSpec(shape=(16, 512), dtype=tf.int32, name=None)}, TensorSpec(shape=(16, 5), dtype=tf.int64, name=None))>)"
      ]
     },
     "execution_count": 15,
     "metadata": {},
     "output_type": "execute_result"
    }
   ],
   "source": [
    "train_data, validation_data"
   ]
  },
  {
   "cell_type": "code",
   "execution_count": 16,
   "metadata": {
    "id": "cDUbzqgTYyhB"
   },
   "outputs": [],
   "source": [
    "del dataset"
   ]
  },
  {
   "cell_type": "code",
   "execution_count": 17,
   "metadata": {
    "colab": {
     "base_uri": "https://localhost:8080/",
     "height": 416,
     "referenced_widgets": [
      "86b340cef97d4b718a6bcfe672b53a3c",
      "626ed47a3a1a4491880be60f249c60b0",
      "f10cc8d584954828bf9417d97f369ec4",
      "3fdfe765b0dd4a6e83ab020f0911dfde",
      "3301be33ba014ae5b1f15c19e0b8c1a0",
      "fb73d81f6dc746ae9fa94055ce6c48bc",
      "63ec7b3998be42d7991bd937501e1ef5",
      "7a38e652dccb461981faa0dc7aab00fd",
      "787bf0ccae784475949a38e2b1eeb160",
      "b7e20e58f99c4ad5b4be63cab948cf63",
      "b31487d73ff84bbcb13ed856cb4a14f5"
     ]
    },
    "id": "-PbZ5wOmY4_l",
    "outputId": "be7822fd-64d0-43f4-a756-d11d9ac3d231"
   },
   "outputs": [
    {
     "name": "stderr",
     "output_type": "stream",
     "text": [
      "/usr/local/lib/python3.10/dist-packages/huggingface_hub/file_download.py:1132: FutureWarning: `resume_download` is deprecated and will be removed in version 1.0.0. Downloads always resume when possible. If you want to force a new download, use `force_download=True`.\n",
      "  warnings.warn(\n",
      "/usr/local/lib/python3.10/dist-packages/huggingface_hub/file_download.py:1132: FutureWarning: `resume_download` is deprecated and will be removed in version 1.0.0. Downloads always resume when possible. If you want to force a new download, use `force_download=True`.\n",
      "  warnings.warn(\n"
     ]
    },
    {
     "data": {
      "application/vnd.jupyter.widget-view+json": {
       "model_id": "86b340cef97d4b718a6bcfe672b53a3c",
       "version_major": 2,
       "version_minor": 0
      },
      "text/plain": [
       "tf_model.h5:   0%|          | 0.00/656M [00:00<?, ?B/s]"
      ]
     },
     "metadata": {},
     "output_type": "display_data"
    },
    {
     "name": "stderr",
     "output_type": "stream",
     "text": [
      "Some layers from the model checkpoint at indobenchmark/indobert-base-p2 were not used when initializing TFBertModel: ['mlm___cls', 'nsp___cls']\n",
      "- This IS expected if you are initializing TFBertModel from the checkpoint of a model trained on another task or with another architecture (e.g. initializing a BertForSequenceClassification model from a BertForPreTraining model).\n",
      "- This IS NOT expected if you are initializing TFBertModel from the checkpoint of a model that you expect to be exactly identical (initializing a BertForSequenceClassification model from a BertForSequenceClassification model).\n",
      "All the layers of TFBertModel were initialized from the model checkpoint at indobenchmark/indobert-base-p2.\n",
      "If your task is similar to the task the model of the checkpoint was trained on, you can already use TFBertModel for predictions without further training.\n"
     ]
    },
    {
     "name": "stdout",
     "output_type": "stream",
     "text": [
      "Model: \"tf_bert_model\"\n",
      "_________________________________________________________________\n",
      " Layer (type)                Output Shape              Param #   \n",
      "=================================================================\n",
      " bert (TFBertMainLayer)      multiple                  124441344 \n",
      "                                                                 \n",
      "=================================================================\n",
      "Total params: 124441344 (474.71 MB)\n",
      "Trainable params: 124441344 (474.71 MB)\n",
      "Non-trainable params: 0 (0.00 Byte)\n",
      "_________________________________________________________________\n"
     ]
    }
   ],
   "source": [
    "from transformers import TFAutoModel\n",
    "\n",
    "indo_bert = TFAutoModel.from_pretrained(checkpoint)\n",
    "\n",
    "indo_bert.summary()"
   ]
  },
  {
   "cell_type": "code",
   "execution_count": 18,
   "metadata": {
    "id": "I0-2g_jYZGUy"
   },
   "outputs": [],
   "source": [
    "input_ids = tf.keras.layers.Input(shape=(max_length,), name='input_ids', dtype='int32')\n",
    "mask = tf.keras.layers.Input(shape=(max_length,), name='attention_mask', dtype='int32')\n",
    "\n",
    "x = indo_bert.bert(input_ids, attention_mask=mask)[1]\n",
    "x = tf.keras.layers.Dense(1024, activation='relu')(x)\n",
    "y = tf.keras.layers.Dense(5, activation='softmax', name='outputs')(x)"
   ]
  },
  {
   "cell_type": "code",
   "execution_count": 19,
   "metadata": {
    "colab": {
     "base_uri": "https://localhost:8080/"
    },
    "id": "A7ODP30OaVIT",
    "outputId": "e39f76fa-04df-4c8c-949b-c057e2436fcd"
   },
   "outputs": [
    {
     "name": "stdout",
     "output_type": "stream",
     "text": [
      "Model: \"model\"\n",
      "__________________________________________________________________________________________________\n",
      " Layer (type)                Output Shape                 Param #   Connected to                  \n",
      "==================================================================================================\n",
      " input_ids (InputLayer)      [(None, 512)]                0         []                            \n",
      "                                                                                                  \n",
      " attention_mask (InputLayer  [(None, 512)]                0         []                            \n",
      " )                                                                                                \n",
      "                                                                                                  \n",
      " bert (TFBertMainLayer)      TFBaseModelOutputWithPooli   1244413   ['input_ids[0][0]',           \n",
      "                             ngAndCrossAttentions(last_   44         'attention_mask[0][0]']      \n",
      "                             hidden_state=(None, 512, 7                                           \n",
      "                             68),                                                                 \n",
      "                              pooler_output=(None, 768)                                           \n",
      "                             , past_key_values=None, hi                                           \n",
      "                             dden_states=None, attentio                                           \n",
      "                             ns=None, cross_attentions=                                           \n",
      "                             None)                                                                \n",
      "                                                                                                  \n",
      " dense (Dense)               (None, 1024)                 787456    ['bert[0][1]']                \n",
      "                                                                                                  \n",
      " outputs (Dense)             (None, 5)                    5125      ['dense[0][0]']               \n",
      "                                                                                                  \n",
      "==================================================================================================\n",
      "Total params: 125233925 (477.73 MB)\n",
      "Trainable params: 792581 (3.02 MB)\n",
      "Non-trainable params: 124441344 (474.71 MB)\n",
      "__________________________________________________________________________________________________\n"
     ]
    }
   ],
   "source": [
    "model = tf.keras.Model(inputs=[input_ids, mask], outputs=y)\n",
    "model.layers[2].trainable = False\n",
    "model.summary()"
   ]
  },
  {
   "cell_type": "code",
   "execution_count": 20,
   "metadata": {
    "id": "7zqrLj4wboNg"
   },
   "outputs": [],
   "source": [
    "optimizer = tf.keras.optimizers.Adam(learning_rate=1e-3)\n",
    "loss = tf.keras.losses.CategoricalCrossentropy()\n",
    "\n",
    "model.compile(\n",
    "    optimizer=optimizer,\n",
    "    loss=loss,\n",
    "    metrics=['accuracy']\n",
    ")"
   ]
  },
  {
   "cell_type": "code",
   "execution_count": 21,
   "metadata": {
    "colab": {
     "base_uri": "https://localhost:8080/"
    },
    "id": "GZSOLuUIcN2m",
    "outputId": "0a479271-1a5c-4291-b541-eea9dbf2b8be"
   },
   "outputs": [
    {
     "name": "stdout",
     "output_type": "stream",
     "text": [
      "Epoch 1/150\n",
      "41/41 [==============================] - 42s 753ms/step - loss: 1.8466 - accuracy: 0.2546 - val_loss: 1.4956 - val_accuracy: 0.3500\n",
      "Epoch 2/150\n",
      "41/41 [==============================] - 30s 731ms/step - loss: 1.5037 - accuracy: 0.3537 - val_loss: 1.7600 - val_accuracy: 0.3125\n",
      "Epoch 3/150\n",
      "41/41 [==============================] - 31s 750ms/step - loss: 1.4611 - accuracy: 0.3476 - val_loss: 1.4565 - val_accuracy: 0.3875\n",
      "Epoch 4/150\n",
      "41/41 [==============================] - 30s 744ms/step - loss: 1.4096 - accuracy: 0.3704 - val_loss: 1.4112 - val_accuracy: 0.3500\n",
      "Epoch 5/150\n",
      "41/41 [==============================] - 31s 748ms/step - loss: 1.4178 - accuracy: 0.3735 - val_loss: 1.3128 - val_accuracy: 0.5125\n",
      "Epoch 6/150\n",
      "41/41 [==============================] - 31s 747ms/step - loss: 1.3719 - accuracy: 0.3826 - val_loss: 1.3523 - val_accuracy: 0.4000\n",
      "Epoch 7/150\n",
      "41/41 [==============================] - 31s 746ms/step - loss: 1.3387 - accuracy: 0.4009 - val_loss: 1.2494 - val_accuracy: 0.4750\n",
      "Epoch 8/150\n",
      "41/41 [==============================] - 30s 745ms/step - loss: 1.3313 - accuracy: 0.4192 - val_loss: 1.4746 - val_accuracy: 0.3500\n",
      "Epoch 9/150\n",
      "41/41 [==============================] - 31s 748ms/step - loss: 1.3683 - accuracy: 0.4055 - val_loss: 1.2419 - val_accuracy: 0.5375\n",
      "Epoch 10/150\n",
      "41/41 [==============================] - 31s 748ms/step - loss: 1.3172 - accuracy: 0.4497 - val_loss: 1.2984 - val_accuracy: 0.5250\n",
      "Epoch 11/150\n",
      "41/41 [==============================] - 31s 748ms/step - loss: 1.2848 - accuracy: 0.4390 - val_loss: 1.3098 - val_accuracy: 0.5000\n",
      "Epoch 12/150\n",
      "41/41 [==============================] - 31s 748ms/step - loss: 1.2804 - accuracy: 0.4573 - val_loss: 1.2427 - val_accuracy: 0.4625\n",
      "Epoch 13/150\n",
      "41/41 [==============================] - 30s 743ms/step - loss: 1.2619 - accuracy: 0.4405 - val_loss: 1.1792 - val_accuracy: 0.5125\n",
      "Epoch 14/150\n",
      "41/41 [==============================] - 30s 745ms/step - loss: 1.2286 - accuracy: 0.4695 - val_loss: 1.1460 - val_accuracy: 0.5500\n",
      "Epoch 15/150\n",
      "41/41 [==============================] - 31s 749ms/step - loss: 1.2401 - accuracy: 0.4345 - val_loss: 1.2353 - val_accuracy: 0.4875\n",
      "Epoch 16/150\n",
      "41/41 [==============================] - 31s 747ms/step - loss: 1.1936 - accuracy: 0.4756 - val_loss: 1.1606 - val_accuracy: 0.4625\n",
      "Epoch 17/150\n",
      "41/41 [==============================] - 30s 742ms/step - loss: 1.1985 - accuracy: 0.5030 - val_loss: 1.1384 - val_accuracy: 0.4750\n",
      "Epoch 18/150\n",
      "41/41 [==============================] - 31s 749ms/step - loss: 1.1964 - accuracy: 0.4817 - val_loss: 1.0331 - val_accuracy: 0.5125\n",
      "Epoch 19/150\n",
      "41/41 [==============================] - 31s 747ms/step - loss: 1.1971 - accuracy: 0.4756 - val_loss: 1.2514 - val_accuracy: 0.4500\n",
      "Epoch 20/150\n",
      "41/41 [==============================] - 31s 748ms/step - loss: 1.1726 - accuracy: 0.5061 - val_loss: 1.1200 - val_accuracy: 0.4875\n",
      "Epoch 21/150\n",
      "41/41 [==============================] - 31s 749ms/step - loss: 1.1693 - accuracy: 0.5030 - val_loss: 1.1291 - val_accuracy: 0.5625\n",
      "Epoch 22/150\n",
      "41/41 [==============================] - 31s 746ms/step - loss: 1.2012 - accuracy: 0.4787 - val_loss: 1.1023 - val_accuracy: 0.5625\n",
      "Epoch 23/150\n",
      "41/41 [==============================] - 30s 744ms/step - loss: 1.1576 - accuracy: 0.5076 - val_loss: 1.1636 - val_accuracy: 0.4500\n",
      "Epoch 24/150\n",
      "41/41 [==============================] - 31s 749ms/step - loss: 1.1230 - accuracy: 0.5305 - val_loss: 1.0113 - val_accuracy: 0.6125\n",
      "Epoch 25/150\n",
      "41/41 [==============================] - 31s 749ms/step - loss: 1.1616 - accuracy: 0.5168 - val_loss: 1.0001 - val_accuracy: 0.5500\n",
      "Epoch 26/150\n",
      "41/41 [==============================] - 31s 745ms/step - loss: 1.1004 - accuracy: 0.5473 - val_loss: 1.0848 - val_accuracy: 0.5375\n",
      "Epoch 27/150\n",
      "41/41 [==============================] - 31s 751ms/step - loss: 1.1064 - accuracy: 0.5305 - val_loss: 0.9478 - val_accuracy: 0.6875\n",
      "Epoch 28/150\n",
      "41/41 [==============================] - 30s 743ms/step - loss: 1.1077 - accuracy: 0.5229 - val_loss: 0.9853 - val_accuracy: 0.5500\n",
      "Epoch 29/150\n",
      "41/41 [==============================] - 31s 749ms/step - loss: 1.0501 - accuracy: 0.5701 - val_loss: 0.8257 - val_accuracy: 0.6500\n",
      "Epoch 30/150\n",
      "41/41 [==============================] - 31s 748ms/step - loss: 1.0647 - accuracy: 0.5290 - val_loss: 1.0162 - val_accuracy: 0.5625\n",
      "Epoch 31/150\n",
      "41/41 [==============================] - 30s 745ms/step - loss: 1.0717 - accuracy: 0.5351 - val_loss: 1.0245 - val_accuracy: 0.6250\n",
      "Epoch 32/150\n",
      "41/41 [==============================] - 30s 744ms/step - loss: 1.0768 - accuracy: 0.5320 - val_loss: 0.8713 - val_accuracy: 0.6375\n",
      "Epoch 33/150\n",
      "41/41 [==============================] - 33s 801ms/step - loss: 1.0483 - accuracy: 0.5686 - val_loss: 0.8578 - val_accuracy: 0.6750\n",
      "Epoch 34/150\n",
      "41/41 [==============================] - 31s 748ms/step - loss: 1.0795 - accuracy: 0.5396 - val_loss: 0.9242 - val_accuracy: 0.6250\n",
      "Epoch 35/150\n",
      "41/41 [==============================] - 31s 748ms/step - loss: 1.0170 - accuracy: 0.5793 - val_loss: 0.9141 - val_accuracy: 0.6125\n",
      "Epoch 36/150\n",
      "41/41 [==============================] - 33s 800ms/step - loss: 1.0316 - accuracy: 0.5534 - val_loss: 0.8314 - val_accuracy: 0.6750\n",
      "Epoch 37/150\n",
      "41/41 [==============================] - 31s 745ms/step - loss: 1.0534 - accuracy: 0.5473 - val_loss: 1.0158 - val_accuracy: 0.5500\n",
      "Epoch 38/150\n",
      "41/41 [==============================] - 31s 747ms/step - loss: 1.0096 - accuracy: 0.5686 - val_loss: 1.0514 - val_accuracy: 0.5750\n",
      "Epoch 39/150\n",
      "41/41 [==============================] - 31s 750ms/step - loss: 1.0672 - accuracy: 0.5396 - val_loss: 0.9267 - val_accuracy: 0.6625\n",
      "Epoch 40/150\n",
      "41/41 [==============================] - 30s 744ms/step - loss: 0.9864 - accuracy: 0.6082 - val_loss: 0.8025 - val_accuracy: 0.6625\n",
      "Epoch 41/150\n",
      "41/41 [==============================] - 31s 751ms/step - loss: 0.9977 - accuracy: 0.5945 - val_loss: 0.8102 - val_accuracy: 0.6500\n",
      "Epoch 42/150\n",
      "41/41 [==============================] - 30s 743ms/step - loss: 0.9525 - accuracy: 0.5823 - val_loss: 0.8134 - val_accuracy: 0.6625\n",
      "Epoch 43/150\n",
      "41/41 [==============================] - 31s 748ms/step - loss: 0.9577 - accuracy: 0.6098 - val_loss: 0.8174 - val_accuracy: 0.7000\n",
      "Epoch 44/150\n",
      "41/41 [==============================] - 31s 748ms/step - loss: 0.9609 - accuracy: 0.6220 - val_loss: 0.9420 - val_accuracy: 0.6125\n",
      "Epoch 45/150\n",
      "41/41 [==============================] - 30s 744ms/step - loss: 0.9730 - accuracy: 0.6021 - val_loss: 0.8635 - val_accuracy: 0.6250\n",
      "Epoch 46/150\n",
      "41/41 [==============================] - 31s 747ms/step - loss: 0.9523 - accuracy: 0.6174 - val_loss: 0.7256 - val_accuracy: 0.7500\n",
      "Epoch 47/150\n",
      "41/41 [==============================] - 31s 750ms/step - loss: 1.0021 - accuracy: 0.5854 - val_loss: 0.9323 - val_accuracy: 0.7125\n",
      "Epoch 48/150\n",
      "41/41 [==============================] - 30s 741ms/step - loss: 0.9296 - accuracy: 0.6357 - val_loss: 0.7489 - val_accuracy: 0.7125\n",
      "Epoch 49/150\n",
      "41/41 [==============================] - 31s 749ms/step - loss: 0.9350 - accuracy: 0.6204 - val_loss: 0.7739 - val_accuracy: 0.6500\n",
      "Epoch 50/150\n",
      "41/41 [==============================] - 31s 749ms/step - loss: 0.9320 - accuracy: 0.6052 - val_loss: 0.8749 - val_accuracy: 0.6750\n",
      "Epoch 51/150\n",
      "41/41 [==============================] - 30s 741ms/step - loss: 0.9092 - accuracy: 0.6341 - val_loss: 0.7985 - val_accuracy: 0.6875\n",
      "Epoch 52/150\n",
      "41/41 [==============================] - 31s 749ms/step - loss: 0.9367 - accuracy: 0.5976 - val_loss: 0.8012 - val_accuracy: 0.7250\n",
      "Epoch 53/150\n",
      "41/41 [==============================] - 31s 750ms/step - loss: 0.8674 - accuracy: 0.6372 - val_loss: 0.7453 - val_accuracy: 0.6875\n",
      "Epoch 54/150\n",
      "41/41 [==============================] - 30s 741ms/step - loss: 0.8509 - accuracy: 0.6753 - val_loss: 0.6889 - val_accuracy: 0.7625\n",
      "Epoch 55/150\n",
      "41/41 [==============================] - 33s 798ms/step - loss: 0.8839 - accuracy: 0.6479 - val_loss: 0.7554 - val_accuracy: 0.6875\n",
      "Epoch 56/150\n",
      "41/41 [==============================] - 31s 750ms/step - loss: 0.8778 - accuracy: 0.6448 - val_loss: 0.7295 - val_accuracy: 0.6500\n",
      "Epoch 57/150\n",
      "41/41 [==============================] - 33s 796ms/step - loss: 0.8279 - accuracy: 0.6692 - val_loss: 0.6742 - val_accuracy: 0.8375\n",
      "Epoch 58/150\n",
      "41/41 [==============================] - 30s 744ms/step - loss: 0.8041 - accuracy: 0.6738 - val_loss: 0.9389 - val_accuracy: 0.5500\n",
      "Epoch 59/150\n",
      "41/41 [==============================] - 33s 799ms/step - loss: 0.9193 - accuracy: 0.6159 - val_loss: 0.6684 - val_accuracy: 0.7500\n",
      "Epoch 60/150\n",
      "41/41 [==============================] - 31s 749ms/step - loss: 0.8493 - accuracy: 0.6540 - val_loss: 0.6696 - val_accuracy: 0.7500\n",
      "Epoch 61/150\n",
      "41/41 [==============================] - 31s 748ms/step - loss: 0.8687 - accuracy: 0.6662 - val_loss: 0.6950 - val_accuracy: 0.7500\n",
      "Epoch 62/150\n",
      "41/41 [==============================] - 30s 743ms/step - loss: 0.7985 - accuracy: 0.6799 - val_loss: 0.7700 - val_accuracy: 0.7000\n",
      "Epoch 63/150\n",
      "41/41 [==============================] - 31s 746ms/step - loss: 0.8325 - accuracy: 0.6601 - val_loss: 0.7799 - val_accuracy: 0.6125\n",
      "Epoch 64/150\n",
      "41/41 [==============================] - 31s 748ms/step - loss: 0.8545 - accuracy: 0.6448 - val_loss: 0.6202 - val_accuracy: 0.7875\n",
      "Epoch 65/150\n",
      "41/41 [==============================] - 30s 744ms/step - loss: 0.7407 - accuracy: 0.6966 - val_loss: 0.5777 - val_accuracy: 0.8125\n",
      "Epoch 66/150\n",
      "41/41 [==============================] - 31s 746ms/step - loss: 0.7928 - accuracy: 0.6829 - val_loss: 0.5841 - val_accuracy: 0.7875\n",
      "Epoch 67/150\n",
      "41/41 [==============================] - 31s 749ms/step - loss: 0.7806 - accuracy: 0.6814 - val_loss: 0.7444 - val_accuracy: 0.7625\n",
      "Epoch 68/150\n",
      "41/41 [==============================] - 30s 743ms/step - loss: 0.8246 - accuracy: 0.6814 - val_loss: 0.8100 - val_accuracy: 0.6750\n",
      "Epoch 69/150\n",
      "41/41 [==============================] - 30s 744ms/step - loss: 0.8065 - accuracy: 0.6753 - val_loss: 0.5470 - val_accuracy: 0.7750\n",
      "Epoch 70/150\n",
      "41/41 [==============================] - 30s 746ms/step - loss: 0.7828 - accuracy: 0.6921 - val_loss: 0.7711 - val_accuracy: 0.6750\n",
      "Epoch 71/150\n",
      "41/41 [==============================] - 33s 798ms/step - loss: 0.7493 - accuracy: 0.6921 - val_loss: 0.6213 - val_accuracy: 0.7500\n",
      "Epoch 72/150\n",
      "41/41 [==============================] - 30s 744ms/step - loss: 0.7990 - accuracy: 0.6921 - val_loss: 0.7134 - val_accuracy: 0.7250\n",
      "Epoch 73/150\n",
      "41/41 [==============================] - 33s 800ms/step - loss: 0.8039 - accuracy: 0.6799 - val_loss: 0.6722 - val_accuracy: 0.7125\n",
      "Epoch 74/150\n",
      "41/41 [==============================] - 31s 748ms/step - loss: 0.7450 - accuracy: 0.7134 - val_loss: 0.5701 - val_accuracy: 0.7875\n",
      "Epoch 75/150\n",
      "41/41 [==============================] - 31s 747ms/step - loss: 0.7471 - accuracy: 0.7088 - val_loss: 0.6154 - val_accuracy: 0.7500\n",
      "Epoch 76/150\n",
      "41/41 [==============================] - 33s 797ms/step - loss: 0.7575 - accuracy: 0.7195 - val_loss: 0.5495 - val_accuracy: 0.8000\n",
      "Epoch 77/150\n",
      "41/41 [==============================] - 31s 746ms/step - loss: 0.6709 - accuracy: 0.7576 - val_loss: 0.5492 - val_accuracy: 0.8250\n",
      "Epoch 78/150\n",
      "41/41 [==============================] - 31s 747ms/step - loss: 0.7078 - accuracy: 0.7149 - val_loss: 0.6268 - val_accuracy: 0.7750\n",
      "Epoch 79/150\n",
      "41/41 [==============================] - 30s 741ms/step - loss: 0.7267 - accuracy: 0.7226 - val_loss: 0.5120 - val_accuracy: 0.8125\n",
      "Epoch 80/150\n",
      "41/41 [==============================] - 31s 749ms/step - loss: 0.6835 - accuracy: 0.7378 - val_loss: 0.5621 - val_accuracy: 0.8125\n",
      "Epoch 81/150\n",
      "41/41 [==============================] - 31s 749ms/step - loss: 0.7378 - accuracy: 0.6982 - val_loss: 0.7403 - val_accuracy: 0.6875\n",
      "Epoch 82/150\n",
      "41/41 [==============================] - 30s 740ms/step - loss: 0.6857 - accuracy: 0.7409 - val_loss: 0.4074 - val_accuracy: 0.8875\n",
      "Epoch 83/150\n",
      "41/41 [==============================] - 31s 748ms/step - loss: 0.6895 - accuracy: 0.7500 - val_loss: 0.4860 - val_accuracy: 0.8500\n",
      "Epoch 84/150\n",
      "41/41 [==============================] - 31s 747ms/step - loss: 0.6795 - accuracy: 0.7378 - val_loss: 0.5508 - val_accuracy: 0.7750\n",
      "Epoch 85/150\n",
      "41/41 [==============================] - 31s 745ms/step - loss: 0.6962 - accuracy: 0.7180 - val_loss: 0.5117 - val_accuracy: 0.8500\n",
      "Epoch 86/150\n",
      "41/41 [==============================] - 31s 749ms/step - loss: 0.6521 - accuracy: 0.7470 - val_loss: 0.5763 - val_accuracy: 0.8000\n",
      "Epoch 87/150\n",
      "41/41 [==============================] - 30s 744ms/step - loss: 0.6393 - accuracy: 0.7424 - val_loss: 0.5238 - val_accuracy: 0.8125\n",
      "Epoch 88/150\n",
      "41/41 [==============================] - 30s 743ms/step - loss: 0.6664 - accuracy: 0.7302 - val_loss: 0.4419 - val_accuracy: 0.8625\n",
      "Epoch 89/150\n",
      "41/41 [==============================] - 31s 749ms/step - loss: 0.6576 - accuracy: 0.7409 - val_loss: 0.3834 - val_accuracy: 0.9000\n",
      "Epoch 90/150\n",
      "41/41 [==============================] - 31s 749ms/step - loss: 0.6555 - accuracy: 0.7317 - val_loss: 0.5576 - val_accuracy: 0.7500\n",
      "Epoch 91/150\n",
      "41/41 [==============================] - 30s 741ms/step - loss: 0.6186 - accuracy: 0.7561 - val_loss: 0.3995 - val_accuracy: 0.8750\n",
      "Epoch 92/150\n",
      "41/41 [==============================] - 33s 799ms/step - loss: 0.6041 - accuracy: 0.7668 - val_loss: 0.4478 - val_accuracy: 0.8375\n",
      "Epoch 93/150\n",
      "41/41 [==============================] - 31s 750ms/step - loss: 0.6344 - accuracy: 0.7485 - val_loss: 0.5810 - val_accuracy: 0.7750\n",
      "Epoch 94/150\n",
      "41/41 [==============================] - 31s 748ms/step - loss: 0.5993 - accuracy: 0.7668 - val_loss: 0.4793 - val_accuracy: 0.8875\n",
      "Epoch 95/150\n",
      "41/41 [==============================] - 31s 747ms/step - loss: 0.6475 - accuracy: 0.7378 - val_loss: 0.5162 - val_accuracy: 0.8250\n",
      "Epoch 96/150\n",
      "41/41 [==============================] - 31s 748ms/step - loss: 0.5822 - accuracy: 0.7652 - val_loss: 0.3954 - val_accuracy: 0.8250\n",
      "Epoch 97/150\n",
      "41/41 [==============================] - 31s 750ms/step - loss: 0.6032 - accuracy: 0.7790 - val_loss: 0.4392 - val_accuracy: 0.8250\n",
      "Epoch 98/150\n",
      "41/41 [==============================] - 30s 742ms/step - loss: 0.5872 - accuracy: 0.7729 - val_loss: 0.5001 - val_accuracy: 0.8000\n",
      "Epoch 99/150\n",
      "41/41 [==============================] - 33s 799ms/step - loss: 0.5735 - accuracy: 0.7668 - val_loss: 0.3060 - val_accuracy: 0.9375\n",
      "Epoch 100/150\n",
      "41/41 [==============================] - 31s 749ms/step - loss: 0.6571 - accuracy: 0.7302 - val_loss: 0.4518 - val_accuracy: 0.8000\n",
      "Epoch 101/150\n",
      "41/41 [==============================] - 31s 746ms/step - loss: 0.5822 - accuracy: 0.7896 - val_loss: 0.4196 - val_accuracy: 0.9000\n",
      "Epoch 102/150\n",
      "41/41 [==============================] - 31s 748ms/step - loss: 0.5663 - accuracy: 0.7713 - val_loss: 0.4113 - val_accuracy: 0.9375\n",
      "Epoch 103/150\n",
      "41/41 [==============================] - 31s 747ms/step - loss: 0.5622 - accuracy: 0.7835 - val_loss: 0.3705 - val_accuracy: 0.9000\n",
      "Epoch 104/150\n",
      "41/41 [==============================] - 31s 747ms/step - loss: 0.5844 - accuracy: 0.7759 - val_loss: 0.4180 - val_accuracy: 0.8625\n",
      "Epoch 105/150\n",
      "41/41 [==============================] - 31s 745ms/step - loss: 0.5815 - accuracy: 0.7774 - val_loss: 0.4281 - val_accuracy: 0.8750\n",
      "Epoch 106/150\n",
      "41/41 [==============================] - 31s 749ms/step - loss: 0.5743 - accuracy: 0.7866 - val_loss: 0.3416 - val_accuracy: 0.9000\n",
      "Epoch 107/150\n",
      "41/41 [==============================] - 31s 746ms/step - loss: 0.5280 - accuracy: 0.8003 - val_loss: 0.5637 - val_accuracy: 0.7625\n",
      "Epoch 108/150\n",
      "41/41 [==============================] - 31s 748ms/step - loss: 0.5248 - accuracy: 0.8079 - val_loss: 0.3352 - val_accuracy: 0.9125\n",
      "Epoch 109/150\n",
      "41/41 [==============================] - 30s 742ms/step - loss: 0.5261 - accuracy: 0.8003 - val_loss: 0.3900 - val_accuracy: 0.9125\n",
      "Epoch 110/150\n",
      "41/41 [==============================] - 31s 746ms/step - loss: 0.5672 - accuracy: 0.7790 - val_loss: 0.4661 - val_accuracy: 0.8000\n",
      "Epoch 111/150\n",
      "41/41 [==============================] - 30s 744ms/step - loss: 0.5539 - accuracy: 0.7591 - val_loss: 0.4353 - val_accuracy: 0.8625\n",
      "Epoch 112/150\n",
      "41/41 [==============================] - 33s 799ms/step - loss: 0.5636 - accuracy: 0.7866 - val_loss: 0.3923 - val_accuracy: 0.8750\n",
      "Epoch 113/150\n",
      "41/41 [==============================] - 31s 748ms/step - loss: 0.5517 - accuracy: 0.7744 - val_loss: 0.3607 - val_accuracy: 0.8875\n",
      "Epoch 114/150\n",
      "41/41 [==============================] - 32s 794ms/step - loss: 0.5086 - accuracy: 0.7942 - val_loss: 0.3634 - val_accuracy: 0.8625\n",
      "Epoch 115/150\n",
      "41/41 [==============================] - 31s 745ms/step - loss: 0.4982 - accuracy: 0.8216 - val_loss: 0.4167 - val_accuracy: 0.8625\n",
      "Epoch 116/150\n",
      "41/41 [==============================] - 31s 746ms/step - loss: 0.5180 - accuracy: 0.8095 - val_loss: 0.3211 - val_accuracy: 0.8375\n",
      "Epoch 117/150\n",
      "41/41 [==============================] - 30s 744ms/step - loss: 0.4896 - accuracy: 0.8216 - val_loss: 0.4209 - val_accuracy: 0.8500\n",
      "Epoch 118/150\n",
      "41/41 [==============================] - 30s 745ms/step - loss: 0.4744 - accuracy: 0.8338 - val_loss: 0.2772 - val_accuracy: 0.9500\n",
      "Epoch 119/150\n",
      "41/41 [==============================] - 33s 798ms/step - loss: 0.5198 - accuracy: 0.8018 - val_loss: 0.2683 - val_accuracy: 0.9250\n",
      "Epoch 120/150\n",
      "41/41 [==============================] - 30s 743ms/step - loss: 0.4709 - accuracy: 0.8262 - val_loss: 0.2626 - val_accuracy: 0.9125\n",
      "Epoch 121/150\n",
      "41/41 [==============================] - 31s 749ms/step - loss: 0.4701 - accuracy: 0.8232 - val_loss: 0.3781 - val_accuracy: 0.8375\n",
      "Epoch 122/150\n",
      "41/41 [==============================] - 31s 747ms/step - loss: 0.4924 - accuracy: 0.8125 - val_loss: 0.2723 - val_accuracy: 0.9000\n",
      "Epoch 123/150\n",
      "41/41 [==============================] - 31s 745ms/step - loss: 0.5030 - accuracy: 0.8247 - val_loss: 0.3364 - val_accuracy: 0.9125\n",
      "Epoch 124/150\n",
      "41/41 [==============================] - 31s 750ms/step - loss: 0.4737 - accuracy: 0.8262 - val_loss: 0.2799 - val_accuracy: 0.8875\n",
      "Epoch 125/150\n",
      "41/41 [==============================] - 30s 744ms/step - loss: 0.4791 - accuracy: 0.8125 - val_loss: 0.3557 - val_accuracy: 0.8625\n",
      "Epoch 126/150\n",
      "41/41 [==============================] - 30s 743ms/step - loss: 0.4939 - accuracy: 0.8095 - val_loss: 0.2859 - val_accuracy: 0.9000\n",
      "Epoch 127/150\n",
      "41/41 [==============================] - 31s 752ms/step - loss: 0.4711 - accuracy: 0.8155 - val_loss: 0.3210 - val_accuracy: 0.9500\n",
      "Epoch 128/150\n",
      "41/41 [==============================] - 31s 745ms/step - loss: 0.4581 - accuracy: 0.8384 - val_loss: 0.4390 - val_accuracy: 0.8375\n",
      "Epoch 129/150\n",
      "41/41 [==============================] - 31s 745ms/step - loss: 0.4664 - accuracy: 0.8247 - val_loss: 0.2425 - val_accuracy: 0.9625\n",
      "Epoch 130/150\n",
      "41/41 [==============================] - 33s 803ms/step - loss: 0.4411 - accuracy: 0.8186 - val_loss: 0.2674 - val_accuracy: 0.9000\n",
      "Epoch 131/150\n",
      "41/41 [==============================] - 30s 745ms/step - loss: 0.4714 - accuracy: 0.8308 - val_loss: 0.3005 - val_accuracy: 0.9125\n",
      "Epoch 132/150\n",
      "41/41 [==============================] - 31s 749ms/step - loss: 0.4387 - accuracy: 0.8354 - val_loss: 0.2955 - val_accuracy: 0.9000\n",
      "Epoch 133/150\n",
      "41/41 [==============================] - 31s 747ms/step - loss: 0.4523 - accuracy: 0.8354 - val_loss: 0.2234 - val_accuracy: 0.9500\n",
      "Epoch 134/150\n",
      "41/41 [==============================] - 31s 748ms/step - loss: 0.4193 - accuracy: 0.8415 - val_loss: 0.2641 - val_accuracy: 0.9875\n",
      "Epoch 135/150\n",
      "41/41 [==============================] - 30s 742ms/step - loss: 0.3907 - accuracy: 0.8521 - val_loss: 0.2764 - val_accuracy: 0.9125\n",
      "Epoch 136/150\n",
      "41/41 [==============================] - 33s 797ms/step - loss: 0.4398 - accuracy: 0.8460 - val_loss: 0.2820 - val_accuracy: 0.8875\n",
      "Epoch 137/150\n",
      "41/41 [==============================] - 31s 749ms/step - loss: 0.3707 - accuracy: 0.8689 - val_loss: 0.2232 - val_accuracy: 0.9375\n",
      "Epoch 138/150\n",
      "41/41 [==============================] - 31s 747ms/step - loss: 0.4220 - accuracy: 0.8430 - val_loss: 0.2773 - val_accuracy: 0.9125\n",
      "Epoch 139/150\n",
      "41/41 [==============================] - 30s 744ms/step - loss: 0.4917 - accuracy: 0.8079 - val_loss: 0.2738 - val_accuracy: 0.9375\n",
      "Epoch 140/150\n",
      "41/41 [==============================] - 30s 743ms/step - loss: 0.4242 - accuracy: 0.8293 - val_loss: 0.3469 - val_accuracy: 0.8875\n",
      "Epoch 141/150\n",
      "41/41 [==============================] - 33s 804ms/step - loss: 0.5490 - accuracy: 0.7988 - val_loss: 0.3213 - val_accuracy: 0.9250\n",
      "Epoch 142/150\n",
      "41/41 [==============================] - 30s 744ms/step - loss: 0.4101 - accuracy: 0.8598 - val_loss: 0.3188 - val_accuracy: 0.9125\n",
      "Epoch 143/150\n",
      "41/41 [==============================] - 31s 749ms/step - loss: 0.4445 - accuracy: 0.8216 - val_loss: 0.2079 - val_accuracy: 0.9500\n",
      "Epoch 144/150\n",
      "41/41 [==============================] - 31s 748ms/step - loss: 0.4295 - accuracy: 0.8445 - val_loss: 0.2155 - val_accuracy: 0.9625\n",
      "Epoch 145/150\n",
      "41/41 [==============================] - 31s 747ms/step - loss: 0.3560 - accuracy: 0.8674 - val_loss: 0.2710 - val_accuracy: 0.9375\n",
      "Epoch 146/150\n",
      "41/41 [==============================] - 33s 799ms/step - loss: 0.3962 - accuracy: 0.8628 - val_loss: 0.2113 - val_accuracy: 0.9375\n",
      "Epoch 147/150\n",
      "41/41 [==============================] - 31s 747ms/step - loss: 0.3926 - accuracy: 0.8598 - val_loss: 0.2372 - val_accuracy: 0.9250\n",
      "Epoch 148/150\n",
      "41/41 [==============================] - 31s 751ms/step - loss: 0.3868 - accuracy: 0.8491 - val_loss: 0.1516 - val_accuracy: 0.9875\n",
      "Epoch 149/150\n",
      "41/41 [==============================] - 30s 744ms/step - loss: 0.3573 - accuracy: 0.8628 - val_loss: 0.2385 - val_accuracy: 0.9375\n",
      "Epoch 150/150\n",
      "41/41 [==============================] - 31s 750ms/step - loss: 0.3779 - accuracy: 0.8674 - val_loss: 0.2180 - val_accuracy: 0.9375\n"
     ]
    }
   ],
   "source": [
    "history = model.fit(\n",
    "    train_data,\n",
    "    validation_data=validation_data,\n",
    "    epochs=150\n",
    ")"
   ]
  },
  {
   "cell_type": "code",
   "execution_count": 27,
   "metadata": {
    "colab": {
     "base_uri": "https://localhost:8080/",
     "height": 564
    },
    "id": "oyYx-n-VGZfc",
    "outputId": "a8532d71-cdcb-4e1d-bdfd-0f8a23427f00"
   },
   "outputs": [
    {
     "data": {
      "image/png": "[encoded data removed]",
      "text/plain": [
       "<Figure size 1200x600 with 1 Axes>"
      ]
     },
     "metadata": {},
     "output_type": "display_data"
    }
   ],
   "source": [
    "import matplotlib.pyplot as plt\n",
    "plt.figure(figsize=(12, 6))\n",
    "plt.subplot(1, 2, 1)\n",
    "plt.plot(history.history['accuracy'])\n",
    "plt.plot(history.history['val_accuracy'])\n",
    "plt.title('Model Accuracy')\n",
    "plt.ylabel('Accuracy')\n",
    "plt.xlabel('Epoch')\n",
    "plt.legend(['Train', 'Validation'], loc='upper left')\n",
    "plt.show()"
   ]
  },
  {
   "cell_type": "code",
   "execution_count": 28,
   "metadata": {
    "colab": {
     "base_uri": "https://localhost:8080/",
     "height": 564
    },
    "id": "wH5JfgMAGlog",
    "outputId": "e490f232-c5c4-4067-9015-b4d97a9de16e"
   },
   "outputs": [
    {
     "data": {
      "image/png": "[encoded data removed]",
      "text/plain": [
       "<Figure size 1200x600 with 1 Axes>"
      ]
     },
     "metadata": {},
     "output_type": "display_data"
    }
   ],
   "source": [
    "plt.figure(figsize=(12, 6))\n",
    "plt.subplot(1, 2, 2)\n",
    "plt.plot(history.history['loss'])\n",
    "plt.plot(history.history['val_loss'])\n",
    "plt.title('Model Loss')\n",
    "plt.ylabel('Loss')\n",
    "plt.xlabel('Epoch')\n",
    "plt.legend(['Train', 'Validation'], loc='upper left')\n",
    "plt.show()"
   ]
  },
  {
   "cell_type": "code",
   "execution_count": 22,
   "metadata": {
    "colab": {
     "base_uri": "https://localhost:8080/"
    },
    "id": "DFRZNo9xw_3B",
    "outputId": "6d0e3411-dff8-44c8-c7d1-9e68a401a12d"
   },
   "outputs": [
    {
     "name": "stderr",
     "output_type": "stream",
     "text": [
      "/usr/local/lib/python3.10/dist-packages/keras/src/engine/training.py:3103: UserWarning: You are saving your model as an HDF5 file via `model.save()`. This file format is considered legacy. We recommend using instead the native Keras format, e.g. `model.save('my_model.keras')`.\n",
      "  saving_api.save_model(\n"
     ]
    },
    {
     "name": "stdout",
     "output_type": "stream",
     "text": [
      "Model Saved!\n"
     ]
    }
   ],
   "source": [
    "model.save('sentimen.h5')\n",
    "print('Model Saved!')"
   ]
  },
  {
   "cell_type": "code",
   "execution_count": 29,
   "metadata": {
    "colab": {
     "base_uri": "https://localhost:8080/"
    },
    "id": "WZo7mzVYHX6W",
    "outputId": "582da716-5488-405f-f724-bbbf6563ddfe"
   },
   "outputs": [
    {
     "name": "stdout",
     "output_type": "stream",
     "text": [
      "Mounted at /content/drive\n"
     ]
    }
   ],
   "source": [
    "from google.colab import drive\n",
    "drive.mount('/content/drive')\n",
    "\n",
    "!cp sentimen.h5 /content/drive/MyDrive"
   ]
  },
  {
   "cell_type": "code",
   "execution_count": 30,
   "metadata": {
    "id": "zp633bQRH_zW"
   },
   "outputs": [],
   "source": [
    "model = tf.keras.models.load_model('sentimen.h5')"
   ]
  },
  {
   "cell_type": "code",
   "execution_count": 31,
   "metadata": {
    "colab": {
     "base_uri": "https://localhost:8080/"
    },
    "id": "BTnYQoNCIOFP",
    "outputId": "bb5e0d46-4755-4615-caf2-b57f872fb6f5"
   },
   "outputs": [
    {
     "name": "stdout",
     "output_type": "stream",
     "text": [
      "Model: \"model\"\n",
      "__________________________________________________________________________________________________\n",
      " Layer (type)                Output Shape                 Param #   Connected to                  \n",
      "==================================================================================================\n",
      " input_ids (InputLayer)      [(None, 512)]                0         []                            \n",
      "                                                                                                  \n",
      " attention_mask (InputLayer  [(None, 512)]                0         []                            \n",
      " )                                                                                                \n",
      "                                                                                                  \n",
      " bert (TFBertMainLayer)      TFBaseModelOutputWithPooli   1244413   ['input_ids[0][0]',           \n",
      "                             ngAndCrossAttentions(last_   44         'attention_mask[0][0]']      \n",
      "                             hidden_state=(None, 512, 7                                           \n",
      "                             68),                                                                 \n",
      "                              pooler_output=(None, 768)                                           \n",
      "                             , past_key_values=None, hi                                           \n",
      "                             dden_states=None, attentio                                           \n",
      "                             ns=None, cross_attentions=                                           \n",
      "                             None)                                                                \n",
      "                                                                                                  \n",
      " dense (Dense)               (None, 1024)                 787456    ['bert[0][1]']                \n",
      "                                                                                                  \n",
      " outputs (Dense)             (None, 5)                    5125      ['dense[0][0]']               \n",
      "                                                                                                  \n",
      "==================================================================================================\n",
      "Total params: 125233925 (477.73 MB)\n",
      "Trainable params: 792581 (3.02 MB)\n",
      "Non-trainable params: 124441344 (474.71 MB)\n",
      "__________________________________________________________________________________________________\n"
     ]
    }
   ],
   "source": [
    "model.summary()"
   ]
  },
  {
   "cell_type": "code",
   "execution_count": 32,
   "metadata": {
    "id": "KXFTWFeHIRyS"
   },
   "outputs": [],
   "source": [
    "def prep_pred(text):\n",
    "  tokenized_text = tokenizer.encode_plus(\n",
    "            text,\n",
    "            max_length=512,\n",
    "            truncation=True,\n",
    "            padding='max_length',\n",
    "            add_special_tokens=True,\n",
    "            return_tensors='tf',\n",
    "        )\n",
    "  return {\n",
    "      'input_ids': tf.cast(tokenized_text['input_ids'], tf.float64),\n",
    "      'attention_mask': tf.cast(tokenized_text['attention_mask'], tf.float64)\n",
    "  }"
   ]
  },
  {
   "cell_type": "code",
   "execution_count": 40,
   "metadata": {
    "colab": {
     "base_uri": "https://localhost:8080/"
    },
    "id": "ZZqZWRpNJEOx",
    "outputId": "224b307a-eb9e-499b-f491-b68c42ba7f6c"
   },
   "outputs": [
    {
     "name": "stdout",
     "output_type": "stream",
     "text": [
      "1/1 [==============================] - 0s 111ms/step\n",
      "1/1 [==============================] - 0s 126ms/step\n"
     ]
    },
    {
     "data": {
      "text/plain": [
       "(array([0.00117872, 0.04172123, 0.00609926, 0.17088224, 0.7801185 ],\n",
       "       dtype=float32),\n",
       " array([2.1093246e-02, 9.7823125e-01, 9.3588551e-06, 6.2885013e-04,\n",
       "        3.7215148e-05], dtype=float32))"
      ]
     },
     "execution_count": 40,
     "metadata": {},
     "output_type": "execute_result"
    }
   ],
   "source": [
    "text1 = \"Tempatnya sangat bagus, sejuk, suasananya indah\"\n",
    "text2 = \"Tempatnya sangat buruk, bangunan rusak, saya tidak rekomendasikan\"\n",
    "res1 = model.predict(prep_pred(text1))\n",
    "res2 = model.predict(prep_pred(text2))\n",
    "res1[0], res2[0]"
   ]
  },
  {
   "cell_type": "code",
   "execution_count": 42,
   "metadata": {
    "colab": {
     "base_uri": "https://localhost:8080/"
    },
    "id": "yQ8goqe9JsxZ",
    "outputId": "c3c2c59e-eeb6-4a66-decf-6288f2a6d8eb"
   },
   "outputs": [
    {
     "name": "stdout",
     "output_type": "stream",
     "text": [
      "Text: Tempatnya sangat bagus, sejuk, suasananya indah\n",
      "Prediksi Rating: 5 bintang\n",
      "\n",
      "Text: Tempatnya sangat buruk, bangunan rusak, saya tidak rekomendasikan\n",
      "Prediksi Rating: 2 bintang\n",
      "\n"
     ]
    }
   ],
   "source": [
    "print(f\"Text: {text1}\\nPrediksi Rating: {np.argmax(res1[0]) + 1} bintang\\n\")\n",
    "print(f\"Text: {text2}\\nPrediksi Rating: {np.argmax(res2[0]) + 1} bintang\\n\")"
   ]
  },
  {
   "cell_type": "code",
   "execution_count": null,
   "metadata": {
    "id": "1VqcDfL9KgVG"
   },
   "outputs": [],
   "source": []
  }
 ],
 "metadata": {
  "accelerator": "GPU",
  "colab": {
   "gpuType": "T4",
   "provenance": []
  },
  "kernelspec": {
   "display_name": "Python 3 (ipykernel)",
   "language": "python",
   "name": "python3"
  },
  "language_info": {
   "codemirror_mode": {
    "name": "ipython",
    "version": 3
   },
   "file_extension": ".py",
   "mimetype": "text/x-python",
   "name": "python",
   "nbconvert_exporter": "python",
   "pygments_lexer": "ipython3",
   "version": "3.9.19"
  },
  "widgets": {
   "application/vnd.jupyter.widget-state+json": {
    "010e67b7bf37472a8b41256028589522": {
     "model_module": "@jupyter-widgets/base",
     "model_module_version": "1.2.0",
     "model_name": "LayoutModel",
     "state": {
      "_model_module": "@jupyter-widgets/base",
      "_model_module_version": "1.2.0",
      "_model_name": "LayoutModel",
      "_view_count": null,
      "_view_module": "@jupyter-widgets/base",
      "_view_module_version": "1.2.0",
      "_view_name": "LayoutView",
      "align_content": null,
      "align_items": null,
      "align_self": null,
      "border": null,
      "bottom": null,
      "display": null,
      "flex": null,
      "flex_flow": null,
      "grid_area": null,
      "grid_auto_columns": null,
      "grid_auto_flow": null,
      "grid_auto_rows": null,
      "grid_column": null,
      "grid_gap": null,
      "grid_row": null,
      "grid_template_areas": null,
      "grid_template_columns": null,
      "grid_template_rows": null,
      "height": null,
      "justify_content": null,
      "justify_items": null,
      "left": null,
      "margin": null,
      "max_height": null,
      "max_width": null,
      "min_height": null,
      "min_width": null,
      "object_fit": null,
      "object_position": null,
      "order": null,
      "overflow": null,
      "overflow_x": null,
      "overflow_y": null,
      "padding": null,
      "right": null,
      "top": null,
      "visibility": null,
      "width": null
     }
    },
    "03d1a2f1d8b94b7d9072811f6d8f5b5f": {
     "model_module": "@jupyter-widgets/base",
     "model_module_version": "1.2.0",
     "model_name": "LayoutModel",
     "state": {
      "_model_module": "@jupyter-widgets/base",
      "_model_module_version": "1.2.0",
      "_model_name": "LayoutModel",
      "_view_count": null,
      "_view_module": "@jupyter-widgets/base",
      "_view_module_version": "1.2.0",
      "_view_name": "LayoutView",
      "align_content": null,
      "align_items": null,
      "align_self": null,
      "border": null,
      "bottom": null,
      "display": null,
      "flex": null,
      "flex_flow": null,
      "grid_area": null,
      "grid_auto_columns": null,
      "grid_auto_flow": null,
      "grid_auto_rows": null,
      "grid_column": null,
      "grid_gap": null,
      "grid_row": null,
      "grid_template_areas": null,
      "grid_template_columns": null,
      "grid_template_rows": null,
      "height": null,
      "justify_content": null,
      "justify_items": null,
      "left": null,
      "margin": null,
      "max_height": null,
      "max_width": null,
      "min_height": null,
      "min_width": null,
      "object_fit": null,
      "object_position": null,
      "order": null,
      "overflow": null,
      "overflow_x": null,
      "overflow_y": null,
      "padding": null,
      "right": null,
      "top": null,
      "visibility": null,
      "width": null
     }
    },
    "0808fbfbf1ff4a61831db7e5c101f9c5": {
     "model_module": "@jupyter-widgets/base",
     "model_module_version": "1.2.0",
     "model_name": "LayoutModel",
     "state": {
      "_model_module": "@jupyter-widgets/base",
      "_model_module_version": "1.2.0",
      "_model_name": "LayoutModel",
      "_view_count": null,
      "_view_module": "@jupyter-widgets/base",
      "_view_module_version": "1.2.0",
      "_view_name": "LayoutView",
      "align_content": null,
      "align_items": null,
      "align_self": null,
      "border": null,
      "bottom": null,
      "display": null,
      "flex": null,
      "flex_flow": null,
      "grid_area": null,
      "grid_auto_columns": null,
      "grid_auto_flow": null,
      "grid_auto_rows": null,
      "grid_column": null,
      "grid_gap": null,
      "grid_row": null,
      "grid_template_areas": null,
      "grid_template_columns": null,
      "grid_template_rows": null,
      "height": null,
      "justify_content": null,
      "justify_items": null,
      "left": null,
      "margin": null,
      "max_height": null,
      "max_width": null,
      "min_height": null,
      "min_width": null,
      "object_fit": null,
      "object_position": null,
      "order": null,
      "overflow": null,
      "overflow_x": null,
      "overflow_y": null,
      "padding": null,
      "right": null,
      "top": null,
      "visibility": null,
      "width": null
     }
    },
    "08fc7c24a1944e20ae466c48e2c1c86e": {
     "model_module": "@jupyter-widgets/base",
     "model_module_version": "1.2.0",
     "model_name": "LayoutModel",
     "state": {
      "_model_module": "@jupyter-widgets/base",
      "_model_module_version": "1.2.0",
      "_model_name": "LayoutModel",
      "_view_count": null,
      "_view_module": "@jupyter-widgets/base",
      "_view_module_version": "1.2.0",
      "_view_name": "LayoutView",
      "align_content": null,
      "align_items": null,
      "align_self": null,
      "border": null,
      "bottom": null,
      "display": null,
      "flex": null,
      "flex_flow": null,
      "grid_area": null,
      "grid_auto_columns": null,
      "grid_auto_flow": null,
      "grid_auto_rows": null,
      "grid_column": null,
      "grid_gap": null,
      "grid_row": null,
      "grid_template_areas": null,
      "grid_template_columns": null,
      "grid_template_rows": null,
      "height": null,
      "justify_content": null,
      "justify_items": null,
      "left": null,
      "margin": null,
      "max_height": null,
      "max_width": null,
      "min_height": null,
      "min_width": null,
      "object_fit": null,
      "object_position": null,
      "order": null,
      "overflow": null,
      "overflow_x": null,
      "overflow_y": null,
      "padding": null,
      "right": null,
      "top": null,
      "visibility": null,
      "width": null
     }
    },
    "0bb6d10f3954466a811dd0ce583c626d": {
     "model_module": "@jupyter-widgets/controls",
     "model_module_version": "1.5.0",
     "model_name": "HBoxModel",
     "state": {
      "_dom_classes": [],
      "_model_module": "@jupyter-widgets/controls",
      "_model_module_version": "1.5.0",
      "_model_name": "HBoxModel",
      "_view_count": null,
      "_view_module": "@jupyter-widgets/controls",
      "_view_module_version": "1.5.0",
      "_view_name": "HBoxView",
      "box_style": "",
      "children": [
       "IPY_MODEL_f8bc4a43f7c44974bc1eff517f170ef5",
       "IPY_MODEL_5d0ba8f318ac41ef8b65728d00e4b01f",
       "IPY_MODEL_c7fbeeeb9c7d4b86a6c39b4182a03ee9"
      ],
      "layout": "IPY_MODEL_280cc1c39b2f4ac6b586d1f79e2cb4c2"
     }
    },
    "0de8929df9e24f9ea3cf5e87e7ae61fa": {
     "model_module": "@jupyter-widgets/controls",
     "model_module_version": "1.5.0",
     "model_name": "FloatProgressModel",
     "state": {
      "_dom_classes": [],
      "_model_module": "@jupyter-widgets/controls",
      "_model_module_version": "1.5.0",
      "_model_name": "FloatProgressModel",
      "_view_count": null,
      "_view_module": "@jupyter-widgets/controls",
      "_view_module_version": "1.5.0",
      "_view_name": "ProgressView",
      "bar_style": "success",
      "description": "",
      "description_tooltip": null,
      "layout": "IPY_MODEL_3fa90ca11fea40628a8cc99c1222fea0",
      "max": 1534,
      "min": 0,
      "orientation": "horizontal",
      "style": "IPY_MODEL_69213f7f87394f6281b63f53d6ea13db",
      "value": 1534
     }
    },
    "14d6865b753a4875ba8640c22000aa86": {
     "model_module": "@jupyter-widgets/base",
     "model_module_version": "1.2.0",
     "model_name": "LayoutModel",
     "state": {
      "_model_module": "@jupyter-widgets/base",
      "_model_module_version": "1.2.0",
      "_model_name": "LayoutModel",
      "_view_count": null,
      "_view_module": "@jupyter-widgets/base",
      "_view_module_version": "1.2.0",
      "_view_name": "LayoutView",
      "align_content": null,
      "align_items": null,
      "align_self": null,
      "border": null,
      "bottom": null,
      "display": null,
      "flex": null,
      "flex_flow": null,
      "grid_area": null,
      "grid_auto_columns": null,
      "grid_auto_flow": null,
      "grid_auto_rows": null,
      "grid_column": null,
      "grid_gap": null,
      "grid_row": null,
      "grid_template_areas": null,
      "grid_template_columns": null,
      "grid_template_rows": null,
      "height": null,
      "justify_content": null,
      "justify_items": null,
      "left": null,
      "margin": null,
      "max_height": null,
      "max_width": null,
      "min_height": null,
      "min_width": null,
      "object_fit": null,
      "object_position": null,
      "order": null,
      "overflow": null,
      "overflow_x": null,
      "overflow_y": null,
      "padding": null,
      "right": null,
      "top": null,
      "visibility": null,
      "width": null
     }
    },
    "1bea79805ef747b79488dbe13ef285e7": {
     "model_module": "@jupyter-widgets/controls",
     "model_module_version": "1.5.0",
     "model_name": "ProgressStyleModel",
     "state": {
      "_model_module": "@jupyter-widgets/controls",
      "_model_module_version": "1.5.0",
      "_model_name": "ProgressStyleModel",
      "_view_count": null,
      "_view_module": "@jupyter-widgets/base",
      "_view_module_version": "1.2.0",
      "_view_name": "StyleView",
      "bar_color": null,
      "description_width": ""
     }
    },
    "1d7219c536d2474bb8664ce7f821a039": {
     "model_module": "@jupyter-widgets/controls",
     "model_module_version": "1.5.0",
     "model_name": "DescriptionStyleModel",
     "state": {
      "_model_module": "@jupyter-widgets/controls",
      "_model_module_version": "1.5.0",
      "_model_name": "DescriptionStyleModel",
      "_view_count": null,
      "_view_module": "@jupyter-widgets/base",
      "_view_module_version": "1.2.0",
      "_view_name": "StyleView",
      "description_width": ""
     }
    },
    "280cc1c39b2f4ac6b586d1f79e2cb4c2": {
     "model_module": "@jupyter-widgets/base",
     "model_module_version": "1.2.0",
     "model_name": "LayoutModel",
     "state": {
      "_model_module": "@jupyter-widgets/base",
      "_model_module_version": "1.2.0",
      "_model_name": "LayoutModel",
      "_view_count": null,
      "_view_module": "@jupyter-widgets/base",
      "_view_module_version": "1.2.0",
      "_view_name": "LayoutView",
      "align_content": null,
      "align_items": null,
      "align_self": null,
      "border": null,
      "bottom": null,
      "display": null,
      "flex": null,
      "flex_flow": null,
      "grid_area": null,
      "grid_auto_columns": null,
      "grid_auto_flow": null,
      "grid_auto_rows": null,
      "grid_column": null,
      "grid_gap": null,
      "grid_row": null,
      "grid_template_areas": null,
      "grid_template_columns": null,
      "grid_template_rows": null,
      "height": null,
      "justify_content": null,
      "justify_items": null,
      "left": null,
      "margin": null,
      "max_height": null,
      "max_width": null,
      "min_height": null,
      "min_width": null,
      "object_fit": null,
      "object_position": null,
      "order": null,
      "overflow": null,
      "overflow_x": null,
      "overflow_y": null,
      "padding": null,
      "right": null,
      "top": null,
      "visibility": null,
      "width": null
     }
    },
    "3301be33ba014ae5b1f15c19e0b8c1a0": {
     "model_module": "@jupyter-widgets/base",
     "model_module_version": "1.2.0",
     "model_name": "LayoutModel",
     "state": {
      "_model_module": "@jupyter-widgets/base",
      "_model_module_version": "1.2.0",
      "_model_name": "LayoutModel",
      "_view_count": null,
      "_view_module": "@jupyter-widgets/base",
      "_view_module_version": "1.2.0",
      "_view_name": "LayoutView",
      "align_content": null,
      "align_items": null,
      "align_self": null,
      "border": null,
      "bottom": null,
      "display": null,
      "flex": null,
      "flex_flow": null,
      "grid_area": null,
      "grid_auto_columns": null,
      "grid_auto_flow": null,
      "grid_auto_rows": null,
      "grid_column": null,
      "grid_gap": null,
      "grid_row": null,
      "grid_template_areas": null,
      "grid_template_columns": null,
      "grid_template_rows": null,
      "height": null,
      "justify_content": null,
      "justify_items": null,
      "left": null,
      "margin": null,
      "max_height": null,
      "max_width": null,
      "min_height": null,
      "min_width": null,
      "object_fit": null,
      "object_position": null,
      "order": null,
      "overflow": null,
      "overflow_x": null,
      "overflow_y": null,
      "padding": null,
      "right": null,
      "top": null,
      "visibility": null,
      "width": null
     }
    },
    "364a8a97554340948783735137e8d704": {
     "model_module": "@jupyter-widgets/base",
     "model_module_version": "1.2.0",
     "model_name": "LayoutModel",
     "state": {
      "_model_module": "@jupyter-widgets/base",
      "_model_module_version": "1.2.0",
      "_model_name": "LayoutModel",
      "_view_count": null,
      "_view_module": "@jupyter-widgets/base",
      "_view_module_version": "1.2.0",
      "_view_name": "LayoutView",
      "align_content": null,
      "align_items": null,
      "align_self": null,
      "border": null,
      "bottom": null,
      "display": null,
      "flex": null,
      "flex_flow": null,
      "grid_area": null,
      "grid_auto_columns": null,
      "grid_auto_flow": null,
      "grid_auto_rows": null,
      "grid_column": null,
      "grid_gap": null,
      "grid_row": null,
      "grid_template_areas": null,
      "grid_template_columns": null,
      "grid_template_rows": null,
      "height": null,
      "justify_content": null,
      "justify_items": null,
      "left": null,
      "margin": null,
      "max_height": null,
      "max_width": null,
      "min_height": null,
      "min_width": null,
      "object_fit": null,
      "object_position": null,
      "order": null,
      "overflow": null,
      "overflow_x": null,
      "overflow_y": null,
      "padding": null,
      "right": null,
      "top": null,
      "visibility": null,
      "width": null
     }
    },
    "3823f306f8404d1bb20349878f59d1fb": {
     "model_module": "@jupyter-widgets/base",
     "model_module_version": "1.2.0",
     "model_name": "LayoutModel",
     "state": {
      "_model_module": "@jupyter-widgets/base",
      "_model_module_version": "1.2.0",
      "_model_name": "LayoutModel",
      "_view_count": null,
      "_view_module": "@jupyter-widgets/base",
      "_view_module_version": "1.2.0",
      "_view_name": "LayoutView",
      "align_content": null,
      "align_items": null,
      "align_self": null,
      "border": null,
      "bottom": null,
      "display": null,
      "flex": null,
      "flex_flow": null,
      "grid_area": null,
      "grid_auto_columns": null,
      "grid_auto_flow": null,
      "grid_auto_rows": null,
      "grid_column": null,
      "grid_gap": null,
      "grid_row": null,
      "grid_template_areas": null,
      "grid_template_columns": null,
      "grid_template_rows": null,
      "height": null,
      "justify_content": null,
      "justify_items": null,
      "left": null,
      "margin": null,
      "max_height": null,
      "max_width": null,
      "min_height": null,
      "min_width": null,
      "object_fit": null,
      "object_position": null,
      "order": null,
      "overflow": null,
      "overflow_x": null,
      "overflow_y": null,
      "padding": null,
      "right": null,
      "top": null,
      "visibility": null,
      "width": null
     }
    },
    "396d7363e6e54c9194d22e67d0e09d51": {
     "model_module": "@jupyter-widgets/base",
     "model_module_version": "1.2.0",
     "model_name": "LayoutModel",
     "state": {
      "_model_module": "@jupyter-widgets/base",
      "_model_module_version": "1.2.0",
      "_model_name": "LayoutModel",
      "_view_count": null,
      "_view_module": "@jupyter-widgets/base",
      "_view_module_version": "1.2.0",
      "_view_name": "LayoutView",
      "align_content": null,
      "align_items": null,
      "align_self": null,
      "border": null,
      "bottom": null,
      "display": null,
      "flex": null,
      "flex_flow": null,
      "grid_area": null,
      "grid_auto_columns": null,
      "grid_auto_flow": null,
      "grid_auto_rows": null,
      "grid_column": null,
      "grid_gap": null,
      "grid_row": null,
      "grid_template_areas": null,
      "grid_template_columns": null,
      "grid_template_rows": null,
      "height": null,
      "justify_content": null,
      "justify_items": null,
      "left": null,
      "margin": null,
      "max_height": null,
      "max_width": null,
      "min_height": null,
      "min_width": null,
      "object_fit": null,
      "object_position": null,
      "order": null,
      "overflow": null,
      "overflow_x": null,
      "overflow_y": null,
      "padding": null,
      "right": null,
      "top": null,
      "visibility": null,
      "width": null
     }
    },
    "3aa5a1b598cf4569a102c88befa54e56": {
     "model_module": "@jupyter-widgets/controls",
     "model_module_version": "1.5.0",
     "model_name": "HTMLModel",
     "state": {
      "_dom_classes": [],
      "_model_module": "@jupyter-widgets/controls",
      "_model_module_version": "1.5.0",
      "_model_name": "HTMLModel",
      "_view_count": null,
      "_view_module": "@jupyter-widgets/controls",
      "_view_module_version": "1.5.0",
      "_view_name": "HTMLView",
      "description": "",
      "description_tooltip": null,
      "layout": "IPY_MODEL_03d1a2f1d8b94b7d9072811f6d8f5b5f",
      "placeholder": "​",
      "style": "IPY_MODEL_1d7219c536d2474bb8664ce7f821a039",
      "value": " 229k/229k [00:00&lt;00:00, 12.2MB/s]"
     }
    },
    "3bcb70f0d08e4c5e911c0efae8d37fa1": {
     "model_module": "@jupyter-widgets/base",
     "model_module_version": "1.2.0",
     "model_name": "LayoutModel",
     "state": {
      "_model_module": "@jupyter-widgets/base",
      "_model_module_version": "1.2.0",
      "_model_name": "LayoutModel",
      "_view_count": null,
      "_view_module": "@jupyter-widgets/base",
      "_view_module_version": "1.2.0",
      "_view_name": "LayoutView",
      "align_content": null,
      "align_items": null,
      "align_self": null,
      "border": null,
      "bottom": null,
      "display": null,
      "flex": null,
      "flex_flow": null,
      "grid_area": null,
      "grid_auto_columns": null,
      "grid_auto_flow": null,
      "grid_auto_rows": null,
      "grid_column": null,
      "grid_gap": null,
      "grid_row": null,
      "grid_template_areas": null,
      "grid_template_columns": null,
      "grid_template_rows": null,
      "height": null,
      "justify_content": null,
      "justify_items": null,
      "left": null,
      "margin": null,
      "max_height": null,
      "max_width": null,
      "min_height": null,
      "min_width": null,
      "object_fit": null,
      "object_position": null,
      "order": null,
      "overflow": null,
      "overflow_x": null,
      "overflow_y": null,
      "padding": null,
      "right": null,
      "top": null,
      "visibility": null,
      "width": null
     }
    },
    "3fa90ca11fea40628a8cc99c1222fea0": {
     "model_module": "@jupyter-widgets/base",
     "model_module_version": "1.2.0",
     "model_name": "LayoutModel",
     "state": {
      "_model_module": "@jupyter-widgets/base",
      "_model_module_version": "1.2.0",
      "_model_name": "LayoutModel",
      "_view_count": null,
      "_view_module": "@jupyter-widgets/base",
      "_view_module_version": "1.2.0",
      "_view_name": "LayoutView",
      "align_content": null,
      "align_items": null,
      "align_self": null,
      "border": null,
      "bottom": null,
      "display": null,
      "flex": null,
      "flex_flow": null,
      "grid_area": null,
      "grid_auto_columns": null,
      "grid_auto_flow": null,
      "grid_auto_rows": null,
      "grid_column": null,
      "grid_gap": null,
      "grid_row": null,
      "grid_template_areas": null,
      "grid_template_columns": null,
      "grid_template_rows": null,
      "height": null,
      "justify_content": null,
      "justify_items": null,
      "left": null,
      "margin": null,
      "max_height": null,
      "max_width": null,
      "min_height": null,
      "min_width": null,
      "object_fit": null,
      "object_position": null,
      "order": null,
      "overflow": null,
      "overflow_x": null,
      "overflow_y": null,
      "padding": null,
      "right": null,
      "top": null,
      "visibility": null,
      "width": null
     }
    },
    "3fdfe765b0dd4a6e83ab020f0911dfde": {
     "model_module": "@jupyter-widgets/controls",
     "model_module_version": "1.5.0",
     "model_name": "HTMLModel",
     "state": {
      "_dom_classes": [],
      "_model_module": "@jupyter-widgets/controls",
      "_model_module_version": "1.5.0",
      "_model_name": "HTMLModel",
      "_view_count": null,
      "_view_module": "@jupyter-widgets/controls",
      "_view_module_version": "1.5.0",
      "_view_name": "HTMLView",
      "description": "",
      "description_tooltip": null,
      "layout": "IPY_MODEL_b7e20e58f99c4ad5b4be63cab948cf63",
      "placeholder": "​",
      "style": "IPY_MODEL_b31487d73ff84bbcb13ed856cb4a14f5",
      "value": " 656M/656M [00:02&lt;00:00, 334MB/s]"
     }
    },
    "44a1cbb918e4439896b106b504250c02": {
     "model_module": "@jupyter-widgets/controls",
     "model_module_version": "1.5.0",
     "model_name": "HBoxModel",
     "state": {
      "_dom_classes": [],
      "_model_module": "@jupyter-widgets/controls",
      "_model_module_version": "1.5.0",
      "_model_name": "HBoxModel",
      "_view_count": null,
      "_view_module": "@jupyter-widgets/controls",
      "_view_module_version": "1.5.0",
      "_view_name": "HBoxView",
      "box_style": "",
      "children": [
       "IPY_MODEL_d0d5e287dadf4e1185ed9c698af9714b",
       "IPY_MODEL_0de8929df9e24f9ea3cf5e87e7ae61fa",
       "IPY_MODEL_49a13796fce648f99e5b4ce9a0a3ec21"
      ],
      "layout": "IPY_MODEL_6b96c91cdbea422397706a76fcea6189"
     }
    },
    "49a13796fce648f99e5b4ce9a0a3ec21": {
     "model_module": "@jupyter-widgets/controls",
     "model_module_version": "1.5.0",
     "model_name": "HTMLModel",
     "state": {
      "_dom_classes": [],
      "_model_module": "@jupyter-widgets/controls",
      "_model_module_version": "1.5.0",
      "_model_name": "HTMLModel",
      "_view_count": null,
      "_view_module": "@jupyter-widgets/controls",
      "_view_module_version": "1.5.0",
      "_view_name": "HTMLView",
      "description": "",
      "description_tooltip": null,
      "layout": "IPY_MODEL_364a8a97554340948783735137e8d704",
      "placeholder": "​",
      "style": "IPY_MODEL_6e0f4fc2d165460ba82ea156dbd4fc4b",
      "value": " 1.53k/1.53k [00:00&lt;00:00, 128kB/s]"
     }
    },
    "5d0ba8f318ac41ef8b65728d00e4b01f": {
     "model_module": "@jupyter-widgets/controls",
     "model_module_version": "1.5.0",
     "model_name": "FloatProgressModel",
     "state": {
      "_dom_classes": [],
      "_model_module": "@jupyter-widgets/controls",
      "_model_module_version": "1.5.0",
      "_model_name": "FloatProgressModel",
      "_view_count": null,
      "_view_module": "@jupyter-widgets/controls",
      "_view_module_version": "1.5.0",
      "_view_name": "ProgressView",
      "bar_style": "success",
      "description": "",
      "description_tooltip": null,
      "layout": "IPY_MODEL_14d6865b753a4875ba8640c22000aa86",
      "max": 112,
      "min": 0,
      "orientation": "horizontal",
      "style": "IPY_MODEL_caebc48bfc854e3cb3c5b5dca8252adf",
      "value": 112
     }
    },
    "626ed47a3a1a4491880be60f249c60b0": {
     "model_module": "@jupyter-widgets/controls",
     "model_module_version": "1.5.0",
     "model_name": "HTMLModel",
     "state": {
      "_dom_classes": [],
      "_model_module": "@jupyter-widgets/controls",
      "_model_module_version": "1.5.0",
      "_model_name": "HTMLModel",
      "_view_count": null,
      "_view_module": "@jupyter-widgets/controls",
      "_view_module_version": "1.5.0",
      "_view_name": "HTMLView",
      "description": "",
      "description_tooltip": null,
      "layout": "IPY_MODEL_fb73d81f6dc746ae9fa94055ce6c48bc",
      "placeholder": "​",
      "style": "IPY_MODEL_63ec7b3998be42d7991bd937501e1ef5",
      "value": "tf_model.h5: 100%"
     }
    },
    "63ec7b3998be42d7991bd937501e1ef5": {
     "model_module": "@jupyter-widgets/controls",
     "model_module_version": "1.5.0",
     "model_name": "DescriptionStyleModel",
     "state": {
      "_model_module": "@jupyter-widgets/controls",
      "_model_module_version": "1.5.0",
      "_model_name": "DescriptionStyleModel",
      "_view_count": null,
      "_view_module": "@jupyter-widgets/base",
      "_view_module_version": "1.2.0",
      "_view_name": "StyleView",
      "description_width": ""
     }
    },
    "63f19636813a4a2a8ab6c7c1c8f209dc": {
     "model_module": "@jupyter-widgets/controls",
     "model_module_version": "1.5.0",
     "model_name": "DescriptionStyleModel",
     "state": {
      "_model_module": "@jupyter-widgets/controls",
      "_model_module_version": "1.5.0",
      "_model_name": "DescriptionStyleModel",
      "_view_count": null,
      "_view_module": "@jupyter-widgets/base",
      "_view_module_version": "1.2.0",
      "_view_name": "StyleView",
      "description_width": ""
     }
    },
    "69213f7f87394f6281b63f53d6ea13db": {
     "model_module": "@jupyter-widgets/controls",
     "model_module_version": "1.5.0",
     "model_name": "ProgressStyleModel",
     "state": {
      "_model_module": "@jupyter-widgets/controls",
      "_model_module_version": "1.5.0",
      "_model_name": "ProgressStyleModel",
      "_view_count": null,
      "_view_module": "@jupyter-widgets/base",
      "_view_module_version": "1.2.0",
      "_view_name": "StyleView",
      "bar_color": null,
      "description_width": ""
     }
    },
    "6b96c91cdbea422397706a76fcea6189": {
     "model_module": "@jupyter-widgets/base",
     "model_module_version": "1.2.0",
     "model_name": "LayoutModel",
     "state": {
      "_model_module": "@jupyter-widgets/base",
      "_model_module_version": "1.2.0",
      "_model_name": "LayoutModel",
      "_view_count": null,
      "_view_module": "@jupyter-widgets/base",
      "_view_module_version": "1.2.0",
      "_view_name": "LayoutView",
      "align_content": null,
      "align_items": null,
      "align_self": null,
      "border": null,
      "bottom": null,
      "display": null,
      "flex": null,
      "flex_flow": null,
      "grid_area": null,
      "grid_auto_columns": null,
      "grid_auto_flow": null,
      "grid_auto_rows": null,
      "grid_column": null,
      "grid_gap": null,
      "grid_row": null,
      "grid_template_areas": null,
      "grid_template_columns": null,
      "grid_template_rows": null,
      "height": null,
      "justify_content": null,
      "justify_items": null,
      "left": null,
      "margin": null,
      "max_height": null,
      "max_width": null,
      "min_height": null,
      "min_width": null,
      "object_fit": null,
      "object_position": null,
      "order": null,
      "overflow": null,
      "overflow_x": null,
      "overflow_y": null,
      "padding": null,
      "right": null,
      "top": null,
      "visibility": null,
      "width": null
     }
    },
    "6e0f4fc2d165460ba82ea156dbd4fc4b": {
     "model_module": "@jupyter-widgets/controls",
     "model_module_version": "1.5.0",
     "model_name": "DescriptionStyleModel",
     "state": {
      "_model_module": "@jupyter-widgets/controls",
      "_model_module_version": "1.5.0",
      "_model_name": "DescriptionStyleModel",
      "_view_count": null,
      "_view_module": "@jupyter-widgets/base",
      "_view_module_version": "1.2.0",
      "_view_name": "StyleView",
      "description_width": ""
     }
    },
    "70c278ef33624377a39e7134610b48dd": {
     "model_module": "@jupyter-widgets/controls",
     "model_module_version": "1.5.0",
     "model_name": "HTMLModel",
     "state": {
      "_dom_classes": [],
      "_model_module": "@jupyter-widgets/controls",
      "_model_module_version": "1.5.0",
      "_model_name": "HTMLModel",
      "_view_count": null,
      "_view_module": "@jupyter-widgets/controls",
      "_view_module_version": "1.5.0",
      "_view_name": "HTMLView",
      "description": "",
      "description_tooltip": null,
      "layout": "IPY_MODEL_da47f9673bfa47fc93b2efe67076b471",
      "placeholder": "​",
      "style": "IPY_MODEL_963fe09926ec476db275f69ee591993b",
      "value": "vocab.txt: 100%"
     }
    },
    "787bf0ccae784475949a38e2b1eeb160": {
     "model_module": "@jupyter-widgets/controls",
     "model_module_version": "1.5.0",
     "model_name": "ProgressStyleModel",
     "state": {
      "_model_module": "@jupyter-widgets/controls",
      "_model_module_version": "1.5.0",
      "_model_name": "ProgressStyleModel",
      "_view_count": null,
      "_view_module": "@jupyter-widgets/base",
      "_view_module_version": "1.2.0",
      "_view_name": "StyleView",
      "bar_color": null,
      "description_width": ""
     }
    },
    "7954a50f1e8546d181143cb3d8290a7b": {
     "model_module": "@jupyter-widgets/controls",
     "model_module_version": "1.5.0",
     "model_name": "DescriptionStyleModel",
     "state": {
      "_model_module": "@jupyter-widgets/controls",
      "_model_module_version": "1.5.0",
      "_model_name": "DescriptionStyleModel",
      "_view_count": null,
      "_view_module": "@jupyter-widgets/base",
      "_view_module_version": "1.2.0",
      "_view_name": "StyleView",
      "description_width": ""
     }
    },
    "7a38e652dccb461981faa0dc7aab00fd": {
     "model_module": "@jupyter-widgets/base",
     "model_module_version": "1.2.0",
     "model_name": "LayoutModel",
     "state": {
      "_model_module": "@jupyter-widgets/base",
      "_model_module_version": "1.2.0",
      "_model_name": "LayoutModel",
      "_view_count": null,
      "_view_module": "@jupyter-widgets/base",
      "_view_module_version": "1.2.0",
      "_view_name": "LayoutView",
      "align_content": null,
      "align_items": null,
      "align_self": null,
      "border": null,
      "bottom": null,
      "display": null,
      "flex": null,
      "flex_flow": null,
      "grid_area": null,
      "grid_auto_columns": null,
      "grid_auto_flow": null,
      "grid_auto_rows": null,
      "grid_column": null,
      "grid_gap": null,
      "grid_row": null,
      "grid_template_areas": null,
      "grid_template_columns": null,
      "grid_template_rows": null,
      "height": null,
      "justify_content": null,
      "justify_items": null,
      "left": null,
      "margin": null,
      "max_height": null,
      "max_width": null,
      "min_height": null,
      "min_width": null,
      "object_fit": null,
      "object_position": null,
      "order": null,
      "overflow": null,
      "overflow_x": null,
      "overflow_y": null,
      "padding": null,
      "right": null,
      "top": null,
      "visibility": null,
      "width": null
     }
    },
    "86b340cef97d4b718a6bcfe672b53a3c": {
     "model_module": "@jupyter-widgets/controls",
     "model_module_version": "1.5.0",
     "model_name": "HBoxModel",
     "state": {
      "_dom_classes": [],
      "_model_module": "@jupyter-widgets/controls",
      "_model_module_version": "1.5.0",
      "_model_name": "HBoxModel",
      "_view_count": null,
      "_view_module": "@jupyter-widgets/controls",
      "_view_module_version": "1.5.0",
      "_view_name": "HBoxView",
      "box_style": "",
      "children": [
       "IPY_MODEL_626ed47a3a1a4491880be60f249c60b0",
       "IPY_MODEL_f10cc8d584954828bf9417d97f369ec4",
       "IPY_MODEL_3fdfe765b0dd4a6e83ab020f0911dfde"
      ],
      "layout": "IPY_MODEL_3301be33ba014ae5b1f15c19e0b8c1a0"
     }
    },
    "8db848cf5fbe4e749d52eaa80de5b22f": {
     "model_module": "@jupyter-widgets/base",
     "model_module_version": "1.2.0",
     "model_name": "LayoutModel",
     "state": {
      "_model_module": "@jupyter-widgets/base",
      "_model_module_version": "1.2.0",
      "_model_name": "LayoutModel",
      "_view_count": null,
      "_view_module": "@jupyter-widgets/base",
      "_view_module_version": "1.2.0",
      "_view_name": "LayoutView",
      "align_content": null,
      "align_items": null,
      "align_self": null,
      "border": null,
      "bottom": null,
      "display": null,
      "flex": null,
      "flex_flow": null,
      "grid_area": null,
      "grid_auto_columns": null,
      "grid_auto_flow": null,
      "grid_auto_rows": null,
      "grid_column": null,
      "grid_gap": null,
      "grid_row": null,
      "grid_template_areas": null,
      "grid_template_columns": null,
      "grid_template_rows": null,
      "height": null,
      "justify_content": null,
      "justify_items": null,
      "left": null,
      "margin": null,
      "max_height": null,
      "max_width": null,
      "min_height": null,
      "min_width": null,
      "object_fit": null,
      "object_position": null,
      "order": null,
      "overflow": null,
      "overflow_x": null,
      "overflow_y": null,
      "padding": null,
      "right": null,
      "top": null,
      "visibility": null,
      "width": null
     }
    },
    "9478a099bc674eee980c0e886240f096": {
     "model_module": "@jupyter-widgets/base",
     "model_module_version": "1.2.0",
     "model_name": "LayoutModel",
     "state": {
      "_model_module": "@jupyter-widgets/base",
      "_model_module_version": "1.2.0",
      "_model_name": "LayoutModel",
      "_view_count": null,
      "_view_module": "@jupyter-widgets/base",
      "_view_module_version": "1.2.0",
      "_view_name": "LayoutView",
      "align_content": null,
      "align_items": null,
      "align_self": null,
      "border": null,
      "bottom": null,
      "display": null,
      "flex": null,
      "flex_flow": null,
      "grid_area": null,
      "grid_auto_columns": null,
      "grid_auto_flow": null,
      "grid_auto_rows": null,
      "grid_column": null,
      "grid_gap": null,
      "grid_row": null,
      "grid_template_areas": null,
      "grid_template_columns": null,
      "grid_template_rows": null,
      "height": null,
      "justify_content": null,
      "justify_items": null,
      "left": null,
      "margin": null,
      "max_height": null,
      "max_width": null,
      "min_height": null,
      "min_width": null,
      "object_fit": null,
      "object_position": null,
      "order": null,
      "overflow": null,
      "overflow_x": null,
      "overflow_y": null,
      "padding": null,
      "right": null,
      "top": null,
      "visibility": null,
      "width": null
     }
    },
    "963fe09926ec476db275f69ee591993b": {
     "model_module": "@jupyter-widgets/controls",
     "model_module_version": "1.5.0",
     "model_name": "DescriptionStyleModel",
     "state": {
      "_model_module": "@jupyter-widgets/controls",
      "_model_module_version": "1.5.0",
      "_model_name": "DescriptionStyleModel",
      "_view_count": null,
      "_view_module": "@jupyter-widgets/base",
      "_view_module_version": "1.2.0",
      "_view_name": "StyleView",
      "description_width": ""
     }
    },
    "9ad3b5c84fcc444f8ff3d2a09dc77804": {
     "model_module": "@jupyter-widgets/base",
     "model_module_version": "1.2.0",
     "model_name": "LayoutModel",
     "state": {
      "_model_module": "@jupyter-widgets/base",
      "_model_module_version": "1.2.0",
      "_model_name": "LayoutModel",
      "_view_count": null,
      "_view_module": "@jupyter-widgets/base",
      "_view_module_version": "1.2.0",
      "_view_name": "LayoutView",
      "align_content": null,
      "align_items": null,
      "align_self": null,
      "border": null,
      "bottom": null,
      "display": null,
      "flex": null,
      "flex_flow": null,
      "grid_area": null,
      "grid_auto_columns": null,
      "grid_auto_flow": null,
      "grid_auto_rows": null,
      "grid_column": null,
      "grid_gap": null,
      "grid_row": null,
      "grid_template_areas": null,
      "grid_template_columns": null,
      "grid_template_rows": null,
      "height": null,
      "justify_content": null,
      "justify_items": null,
      "left": null,
      "margin": null,
      "max_height": null,
      "max_width": null,
      "min_height": null,
      "min_width": null,
      "object_fit": null,
      "object_position": null,
      "order": null,
      "overflow": null,
      "overflow_x": null,
      "overflow_y": null,
      "padding": null,
      "right": null,
      "top": null,
      "visibility": null,
      "width": null
     }
    },
    "ad4ae4f207b84d49a4c6e0916ec877ea": {
     "model_module": "@jupyter-widgets/controls",
     "model_module_version": "1.5.0",
     "model_name": "HTMLModel",
     "state": {
      "_dom_classes": [],
      "_model_module": "@jupyter-widgets/controls",
      "_model_module_version": "1.5.0",
      "_model_name": "HTMLModel",
      "_view_count": null,
      "_view_module": "@jupyter-widgets/controls",
      "_view_module_version": "1.5.0",
      "_view_name": "HTMLView",
      "description": "",
      "description_tooltip": null,
      "layout": "IPY_MODEL_396d7363e6e54c9194d22e67d0e09d51",
      "placeholder": "​",
      "style": "IPY_MODEL_7954a50f1e8546d181143cb3d8290a7b",
      "value": "tokenizer_config.json: 100%"
     }
    },
    "b2d3e3ecfaa041c9ae0e4a024dbe31b6": {
     "model_module": "@jupyter-widgets/controls",
     "model_module_version": "1.5.0",
     "model_name": "FloatProgressModel",
     "state": {
      "_dom_classes": [],
      "_model_module": "@jupyter-widgets/controls",
      "_model_module_version": "1.5.0",
      "_model_name": "FloatProgressModel",
      "_view_count": null,
      "_view_module": "@jupyter-widgets/controls",
      "_view_module_version": "1.5.0",
      "_view_name": "ProgressView",
      "bar_style": "success",
      "description": "",
      "description_tooltip": null,
      "layout": "IPY_MODEL_08fc7c24a1944e20ae466c48e2c1c86e",
      "max": 229167,
      "min": 0,
      "orientation": "horizontal",
      "style": "IPY_MODEL_e888caf1bd624df2b8dffde2e3c6bedf",
      "value": 229167
     }
    },
    "b31487d73ff84bbcb13ed856cb4a14f5": {
     "model_module": "@jupyter-widgets/controls",
     "model_module_version": "1.5.0",
     "model_name": "DescriptionStyleModel",
     "state": {
      "_model_module": "@jupyter-widgets/controls",
      "_model_module_version": "1.5.0",
      "_model_name": "DescriptionStyleModel",
      "_view_count": null,
      "_view_module": "@jupyter-widgets/base",
      "_view_module_version": "1.2.0",
      "_view_name": "StyleView",
      "description_width": ""
     }
    },
    "b36d2ed14c58470fbf51ba27388f1657": {
     "model_module": "@jupyter-widgets/controls",
     "model_module_version": "1.5.0",
     "model_name": "HBoxModel",
     "state": {
      "_dom_classes": [],
      "_model_module": "@jupyter-widgets/controls",
      "_model_module_version": "1.5.0",
      "_model_name": "HBoxModel",
      "_view_count": null,
      "_view_module": "@jupyter-widgets/controls",
      "_view_module_version": "1.5.0",
      "_view_name": "HBoxView",
      "box_style": "",
      "children": [
       "IPY_MODEL_70c278ef33624377a39e7134610b48dd",
       "IPY_MODEL_b2d3e3ecfaa041c9ae0e4a024dbe31b6",
       "IPY_MODEL_3aa5a1b598cf4569a102c88befa54e56"
      ],
      "layout": "IPY_MODEL_9478a099bc674eee980c0e886240f096"
     }
    },
    "b7e20e58f99c4ad5b4be63cab948cf63": {
     "model_module": "@jupyter-widgets/base",
     "model_module_version": "1.2.0",
     "model_name": "LayoutModel",
     "state": {
      "_model_module": "@jupyter-widgets/base",
      "_model_module_version": "1.2.0",
      "_model_name": "LayoutModel",
      "_view_count": null,
      "_view_module": "@jupyter-widgets/base",
      "_view_module_version": "1.2.0",
      "_view_name": "LayoutView",
      "align_content": null,
      "align_items": null,
      "align_self": null,
      "border": null,
      "bottom": null,
      "display": null,
      "flex": null,
      "flex_flow": null,
      "grid_area": null,
      "grid_auto_columns": null,
      "grid_auto_flow": null,
      "grid_auto_rows": null,
      "grid_column": null,
      "grid_gap": null,
      "grid_row": null,
      "grid_template_areas": null,
      "grid_template_columns": null,
      "grid_template_rows": null,
      "height": null,
      "justify_content": null,
      "justify_items": null,
      "left": null,
      "margin": null,
      "max_height": null,
      "max_width": null,
      "min_height": null,
      "min_width": null,
      "object_fit": null,
      "object_position": null,
      "order": null,
      "overflow": null,
      "overflow_x": null,
      "overflow_y": null,
      "padding": null,
      "right": null,
      "top": null,
      "visibility": null,
      "width": null
     }
    },
    "bd904a06ff764888a74db15434135a68": {
     "model_module": "@jupyter-widgets/controls",
     "model_module_version": "1.5.0",
     "model_name": "HTMLModel",
     "state": {
      "_dom_classes": [],
      "_model_module": "@jupyter-widgets/controls",
      "_model_module_version": "1.5.0",
      "_model_name": "HTMLModel",
      "_view_count": null,
      "_view_module": "@jupyter-widgets/controls",
      "_view_module_version": "1.5.0",
      "_view_name": "HTMLView",
      "description": "",
      "description_tooltip": null,
      "layout": "IPY_MODEL_3bcb70f0d08e4c5e911c0efae8d37fa1",
      "placeholder": "​",
      "style": "IPY_MODEL_fe5748c354f84b30835dec2846cbceab",
      "value": " 2.00/2.00 [00:00&lt;00:00, 144B/s]"
     }
    },
    "c33944b445e84fb6b6b6feeeb7d448c4": {
     "model_module": "@jupyter-widgets/controls",
     "model_module_version": "1.5.0",
     "model_name": "HBoxModel",
     "state": {
      "_dom_classes": [],
      "_model_module": "@jupyter-widgets/controls",
      "_model_module_version": "1.5.0",
      "_model_name": "HBoxModel",
      "_view_count": null,
      "_view_module": "@jupyter-widgets/controls",
      "_view_module_version": "1.5.0",
      "_view_name": "HBoxView",
      "box_style": "",
      "children": [
       "IPY_MODEL_ad4ae4f207b84d49a4c6e0916ec877ea",
       "IPY_MODEL_fa94c53e3eb64dbe8c299f13aaf9cd4e",
       "IPY_MODEL_bd904a06ff764888a74db15434135a68"
      ],
      "layout": "IPY_MODEL_9ad3b5c84fcc444f8ff3d2a09dc77804"
     }
    },
    "c4669c427bc3469d8952b211517548d0": {
     "model_module": "@jupyter-widgets/controls",
     "model_module_version": "1.5.0",
     "model_name": "DescriptionStyleModel",
     "state": {
      "_model_module": "@jupyter-widgets/controls",
      "_model_module_version": "1.5.0",
      "_model_name": "DescriptionStyleModel",
      "_view_count": null,
      "_view_module": "@jupyter-widgets/base",
      "_view_module_version": "1.2.0",
      "_view_name": "StyleView",
      "description_width": ""
     }
    },
    "c7fbeeeb9c7d4b86a6c39b4182a03ee9": {
     "model_module": "@jupyter-widgets/controls",
     "model_module_version": "1.5.0",
     "model_name": "HTMLModel",
     "state": {
      "_dom_classes": [],
      "_model_module": "@jupyter-widgets/controls",
      "_model_module_version": "1.5.0",
      "_model_name": "HTMLModel",
      "_view_count": null,
      "_view_module": "@jupyter-widgets/controls",
      "_view_module_version": "1.5.0",
      "_view_name": "HTMLView",
      "description": "",
      "description_tooltip": null,
      "layout": "IPY_MODEL_3823f306f8404d1bb20349878f59d1fb",
      "placeholder": "​",
      "style": "IPY_MODEL_c4669c427bc3469d8952b211517548d0",
      "value": " 112/112 [00:00&lt;00:00, 8.43kB/s]"
     }
    },
    "caebc48bfc854e3cb3c5b5dca8252adf": {
     "model_module": "@jupyter-widgets/controls",
     "model_module_version": "1.5.0",
     "model_name": "ProgressStyleModel",
     "state": {
      "_model_module": "@jupyter-widgets/controls",
      "_model_module_version": "1.5.0",
      "_model_name": "ProgressStyleModel",
      "_view_count": null,
      "_view_module": "@jupyter-widgets/base",
      "_view_module_version": "1.2.0",
      "_view_name": "StyleView",
      "bar_color": null,
      "description_width": ""
     }
    },
    "d0d5e287dadf4e1185ed9c698af9714b": {
     "model_module": "@jupyter-widgets/controls",
     "model_module_version": "1.5.0",
     "model_name": "HTMLModel",
     "state": {
      "_dom_classes": [],
      "_model_module": "@jupyter-widgets/controls",
      "_model_module_version": "1.5.0",
      "_model_name": "HTMLModel",
      "_view_count": null,
      "_view_module": "@jupyter-widgets/controls",
      "_view_module_version": "1.5.0",
      "_view_name": "HTMLView",
      "description": "",
      "description_tooltip": null,
      "layout": "IPY_MODEL_0808fbfbf1ff4a61831db7e5c101f9c5",
      "placeholder": "​",
      "style": "IPY_MODEL_ed074e819b0b4dfeb22fa345ae0accc1",
      "value": "config.json: 100%"
     }
    },
    "da47f9673bfa47fc93b2efe67076b471": {
     "model_module": "@jupyter-widgets/base",
     "model_module_version": "1.2.0",
     "model_name": "LayoutModel",
     "state": {
      "_model_module": "@jupyter-widgets/base",
      "_model_module_version": "1.2.0",
      "_model_name": "LayoutModel",
      "_view_count": null,
      "_view_module": "@jupyter-widgets/base",
      "_view_module_version": "1.2.0",
      "_view_name": "LayoutView",
      "align_content": null,
      "align_items": null,
      "align_self": null,
      "border": null,
      "bottom": null,
      "display": null,
      "flex": null,
      "flex_flow": null,
      "grid_area": null,
      "grid_auto_columns": null,
      "grid_auto_flow": null,
      "grid_auto_rows": null,
      "grid_column": null,
      "grid_gap": null,
      "grid_row": null,
      "grid_template_areas": null,
      "grid_template_columns": null,
      "grid_template_rows": null,
      "height": null,
      "justify_content": null,
      "justify_items": null,
      "left": null,
      "margin": null,
      "max_height": null,
      "max_width": null,
      "min_height": null,
      "min_width": null,
      "object_fit": null,
      "object_position": null,
      "order": null,
      "overflow": null,
      "overflow_x": null,
      "overflow_y": null,
      "padding": null,
      "right": null,
      "top": null,
      "visibility": null,
      "width": null
     }
    },
    "e888caf1bd624df2b8dffde2e3c6bedf": {
     "model_module": "@jupyter-widgets/controls",
     "model_module_version": "1.5.0",
     "model_name": "ProgressStyleModel",
     "state": {
      "_model_module": "@jupyter-widgets/controls",
      "_model_module_version": "1.5.0",
      "_model_name": "ProgressStyleModel",
      "_view_count": null,
      "_view_module": "@jupyter-widgets/base",
      "_view_module_version": "1.2.0",
      "_view_name": "StyleView",
      "bar_color": null,
      "description_width": ""
     }
    },
    "ed074e819b0b4dfeb22fa345ae0accc1": {
     "model_module": "@jupyter-widgets/controls",
     "model_module_version": "1.5.0",
     "model_name": "DescriptionStyleModel",
     "state": {
      "_model_module": "@jupyter-widgets/controls",
      "_model_module_version": "1.5.0",
      "_model_name": "DescriptionStyleModel",
      "_view_count": null,
      "_view_module": "@jupyter-widgets/base",
      "_view_module_version": "1.2.0",
      "_view_name": "StyleView",
      "description_width": ""
     }
    },
    "f10cc8d584954828bf9417d97f369ec4": {
     "model_module": "@jupyter-widgets/controls",
     "model_module_version": "1.5.0",
     "model_name": "FloatProgressModel",
     "state": {
      "_dom_classes": [],
      "_model_module": "@jupyter-widgets/controls",
      "_model_module_version": "1.5.0",
      "_model_name": "FloatProgressModel",
      "_view_count": null,
      "_view_module": "@jupyter-widgets/controls",
      "_view_module_version": "1.5.0",
      "_view_name": "ProgressView",
      "bar_style": "success",
      "description": "",
      "description_tooltip": null,
      "layout": "IPY_MODEL_7a38e652dccb461981faa0dc7aab00fd",
      "max": 655812184,
      "min": 0,
      "orientation": "horizontal",
      "style": "IPY_MODEL_787bf0ccae784475949a38e2b1eeb160",
      "value": 655812184
     }
    },
    "f8bc4a43f7c44974bc1eff517f170ef5": {
     "model_module": "@jupyter-widgets/controls",
     "model_module_version": "1.5.0",
     "model_name": "HTMLModel",
     "state": {
      "_dom_classes": [],
      "_model_module": "@jupyter-widgets/controls",
      "_model_module_version": "1.5.0",
      "_model_name": "HTMLModel",
      "_view_count": null,
      "_view_module": "@jupyter-widgets/controls",
      "_view_module_version": "1.5.0",
      "_view_name": "HTMLView",
      "description": "",
      "description_tooltip": null,
      "layout": "IPY_MODEL_010e67b7bf37472a8b41256028589522",
      "placeholder": "​",
      "style": "IPY_MODEL_63f19636813a4a2a8ab6c7c1c8f209dc",
      "value": "special_tokens_map.json: 100%"
     }
    },
    "fa94c53e3eb64dbe8c299f13aaf9cd4e": {
     "model_module": "@jupyter-widgets/controls",
     "model_module_version": "1.5.0",
     "model_name": "FloatProgressModel",
     "state": {
      "_dom_classes": [],
      "_model_module": "@jupyter-widgets/controls",
      "_model_module_version": "1.5.0",
      "_model_name": "FloatProgressModel",
      "_view_count": null,
      "_view_module": "@jupyter-widgets/controls",
      "_view_module_version": "1.5.0",
      "_view_name": "ProgressView",
      "bar_style": "success",
      "description": "",
      "description_tooltip": null,
      "layout": "IPY_MODEL_8db848cf5fbe4e749d52eaa80de5b22f",
      "max": 2,
      "min": 0,
      "orientation": "horizontal",
      "style": "IPY_MODEL_1bea79805ef747b79488dbe13ef285e7",
      "value": 2
     }
    },
    "fb73d81f6dc746ae9fa94055ce6c48bc": {
     "model_module": "@jupyter-widgets/base",
     "model_module_version": "1.2.0",
     "model_name": "LayoutModel",
     "state": {
      "_model_module": "@jupyter-widgets/base",
      "_model_module_version": "1.2.0",
      "_model_name": "LayoutModel",
      "_view_count": null,
      "_view_module": "@jupyter-widgets/base",
      "_view_module_version": "1.2.0",
      "_view_name": "LayoutView",
      "align_content": null,
      "align_items": null,
      "align_self": null,
      "border": null,
      "bottom": null,
      "display": null,
      "flex": null,
      "flex_flow": null,
      "grid_area": null,
      "grid_auto_columns": null,
      "grid_auto_flow": null,
      "grid_auto_rows": null,
      "grid_column": null,
      "grid_gap": null,
      "grid_row": null,
      "grid_template_areas": null,
      "grid_template_columns": null,
      "grid_template_rows": null,
      "height": null,
      "justify_content": null,
      "justify_items": null,
      "left": null,
      "margin": null,
      "max_height": null,
      "max_width": null,
      "min_height": null,
      "min_width": null,
      "object_fit": null,
      "object_position": null,
      "order": null,
      "overflow": null,
      "overflow_x": null,
      "overflow_y": null,
      "padding": null,
      "right": null,
      "top": null,
      "visibility": null,
      "width": null
     }
    },
    "fe5748c354f84b30835dec2846cbceab": {
     "model_module": "@jupyter-widgets/controls",
     "model_module_version": "1.5.0",
     "model_name": "DescriptionStyleModel",
     "state": {
      "_model_module": "@jupyter-widgets/controls",
      "_model_module_version": "1.5.0",
      "_model_name": "DescriptionStyleModel",
      "_view_count": null,
      "_view_module": "@jupyter-widgets/base",
      "_view_module_version": "1.2.0",
      "_view_name": "StyleView",
      "description_width": ""
     }
    }
   }
  }
 },
 "nbformat": 4,
 "nbformat_minor": 4
}
