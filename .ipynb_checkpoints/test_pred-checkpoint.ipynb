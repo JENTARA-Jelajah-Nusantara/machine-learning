{
 "cells": [
  {
   "cell_type": "code",
   "execution_count": 4,
   "id": "d89ba52b-2075-4988-82f6-114ceaf6f00e",
   "metadata": {},
   "outputs": [],
   "source": [
    "from transformers import TFBertModel, BertTokenizer\n",
    "# from transformers import BertTokenizer\n",
    "import tensorflow as tf\n",
    "import numpy as np"
   ]
  },
  {
   "cell_type": "code",
   "execution_count": 8,
   "id": "26273ce4-c512-4e63-993d-f9b050cb914e",
   "metadata": {},
   "outputs": [
    {
     "data": {
      "text/plain": [
       "<tensorflow.python.saved_model.load.Loader._recreate_base_user_object.<locals>._UserObject at 0x7bce091e5430>"
      ]
     },
     "execution_count": 8,
     "metadata": {},
     "output_type": "execute_result"
    }
   ],
   "source": [
    "model = tf.keras.models.load_model('/home/alridho/Coding/jentara/sentimen.h5')"
   ]
  },
  {
   "cell_type": "code",
   "execution_count": 17,
   "id": "b89c378b-7312-4437-872b-d5b8870715b3",
   "metadata": {},
   "outputs": [],
   "source": [
    "from Sastrawi.StopWordRemover.StopWordRemoverFactory import StopWordRemoverFactory\n",
    "import re\n",
    "import string\n",
    "\n",
    "factory = StopWordRemoverFactory()\n",
    "stopword_remover = factory.create_stop_word_remover()\n",
    "stopwords = set(factory.get_stop_words())\n",
    "\n",
    "checkpoint = \"indobenchmark/indobert-base-p2\"\n",
    "\n",
    "tokenizer = BertTokenizer.from_pretrained(checkpoint)\n",
    "\n",
    "\n",
    "def prep_pred(text):\n",
    "    text = text.replace('\\n', ' ')\n",
    "    text = re.sub(f'[{re.escape(string.punctuation)}]', '', text)\n",
    "    text = text.lower()\n",
    "    text = re.sub(r'\\s+', ' ', text).strip()\n",
    "    words = text.split()\n",
    "    words = [word for word in words if word not in stopwords]\n",
    "    text = ' '.join(words)\n",
    "    tokenized_text = tokenizer.encode_plus(\n",
    "        text,\n",
    "        max_length=512,\n",
    "        truncation=True,\n",
    "        padding='max_length',\n",
    "        add_special_tokens=True,\n",
    "        return_tensors='tf',\n",
    "    )\n",
    "    return {\n",
    "        'input_ids': tf.cast(tokenized_text['input_ids'], tf.float64),\n",
    "        'attention_mask': tf.cast(tokenized_text['attention_mask'], tf.float64)\n",
    "    }\n",
    "\n",
    "\n",
    "def print_pred(text):\n",
    "    res = prep_pred(text)\n",
    "    res = model.predict(res)\n",
    "    res = np.argmax(res[0]) + 1\n",
    "    return print(f\"Review: {text}\\nPred: {res} bintang\")"
   ]
  },
  {
   "cell_type": "code",
   "execution_count": 18,
   "id": "f457956d-2881-4969-842c-281de742b8b5",
   "metadata": {},
   "outputs": [
    {
     "ename": "AttributeError",
     "evalue": "'_UserObject' object has no attribute 'predict'",
     "output_type": "error",
     "traceback": [
      "\u001b[0;31m---------------------------------------------------------------------------\u001b[0m",
      "\u001b[0;31mAttributeError\u001b[0m                            Traceback (most recent call last)",
      "Cell \u001b[0;32mIn[18], line 4\u001b[0m\n\u001b[1;32m      1\u001b[0m text1 \u001b[38;5;241m=\u001b[39m \u001b[38;5;124m\"\u001b[39m\u001b[38;5;124mTempatnya sangat bagus, sejuk, suasananya indah\u001b[39m\u001b[38;5;124m\"\u001b[39m\n\u001b[1;32m      2\u001b[0m text2 \u001b[38;5;241m=\u001b[39m \u001b[38;5;124m\"\u001b[39m\u001b[38;5;124mTempatnya sangat buruk, bangunan rusak, saya tidak rekomendasikan\u001b[39m\u001b[38;5;124m\"\u001b[39m\n\u001b[0;32m----> 4\u001b[0m \u001b[43mprint_pred\u001b[49m\u001b[43m(\u001b[49m\u001b[43mtext1\u001b[49m\u001b[43m)\u001b[49m\n",
      "Cell \u001b[0;32mIn[17], line 38\u001b[0m, in \u001b[0;36mprint_pred\u001b[0;34m(text)\u001b[0m\n\u001b[1;32m     36\u001b[0m \u001b[38;5;28;01mdef\u001b[39;00m \u001b[38;5;21mprint_pred\u001b[39m(text):\n\u001b[1;32m     37\u001b[0m     res \u001b[38;5;241m=\u001b[39m prep_pred(text)\n\u001b[0;32m---> 38\u001b[0m     res \u001b[38;5;241m=\u001b[39m \u001b[43mmodel\u001b[49m\u001b[38;5;241;43m.\u001b[39;49m\u001b[43mpredict\u001b[49m(res)\n\u001b[1;32m     39\u001b[0m     res \u001b[38;5;241m=\u001b[39m np\u001b[38;5;241m.\u001b[39margmax(res[\u001b[38;5;241m0\u001b[39m]) \u001b[38;5;241m+\u001b[39m \u001b[38;5;241m1\u001b[39m\n\u001b[1;32m     40\u001b[0m     \u001b[38;5;28;01mreturn\u001b[39;00m \u001b[38;5;28mprint\u001b[39m(\u001b[38;5;124mf\u001b[39m\u001b[38;5;124m\"\u001b[39m\u001b[38;5;124mReview: \u001b[39m\u001b[38;5;132;01m{\u001b[39;00mtext\u001b[38;5;132;01m}\u001b[39;00m\u001b[38;5;130;01m\\n\u001b[39;00m\u001b[38;5;124mPred: \u001b[39m\u001b[38;5;132;01m{\u001b[39;00mres\u001b[38;5;132;01m}\u001b[39;00m\u001b[38;5;124m bintang\u001b[39m\u001b[38;5;124m\"\u001b[39m)\n",
      "\u001b[0;31mAttributeError\u001b[0m: '_UserObject' object has no attribute 'predict'"
     ]
    }
   ],
   "source": [
    "text1 = \"Tempatnya sangat bagus, sejuk, suasananya indah\"\n",
    "text2 = \"Tempatnya sangat buruk, bangunan rusak, saya tidak rekomendasikan\"\n",
    "\n",
    "print_pred(text1)"
   ]
  },
  {
   "cell_type": "code",
   "execution_count": 16,
   "id": "cb1bb243-eb7c-461c-a9f9-ddce666766d7",
   "metadata": {},
   "outputs": [
    {
     "name": "stdout",
     "output_type": "stream",
     "text": [
      "1/1 [==============================] - 1s 1s/step\n",
      "Review: Tempatnya sangat buruk, bangunan rusak, saya tidak rekomendasikan\n",
      "Pred: 2 bintang\n"
     ]
    }
   ],
   "source": [
    "print_pred(text2)"
   ]
  },
  {
   "cell_type": "code",
   "execution_count": 18,
   "id": "7c8bc5b3-445f-47f0-88cb-74702ac98b20",
   "metadata": {},
   "outputs": [],
   "source": [
    "text3 = \"Ancol Taman Impian mempunyai pantai yang indah yang merupakan destinasi wisata pantai dalam kota Jakarta. Pengunjung kawasan Ancol dapat menikmati suasana segar di area Pantai Lagoon, Festival, Indah, Beach Pool dan Carnaval, serta Danau Impian, sepanjang kurang lebih 6,5 km. Wisata pantai ini semakin sempurna dengan adanya promenade hampir di sepanjang pantai serta fasilitas kuliner yang lengkap, antara lain: Jimbaran Resto, Le Bridge, Starbucks, Segarra, Talaga Sampireun dan lain-lain. Hal tersebut menjadikan wisata pantai Ancol ini lebih menarik untuk dikunjungi.Rekreasi di Ancol Taman Impian semakin menyenangkan dengan kehadiran Kereta Wisata Sato-Sato. Transportasi massal ini selain bisa mengantarkan wisatawan ke berbagai destinasi seperti Dunia Fantasi, Ocean Dream Samudra, Allianz Ecopark, dan yang lainnya, juga bisa menjadi wahana rekreasi sambil menikmati pemandangan sepanjang Ancol. Jalur keretanya membentang sepanjang 3,6 kilometer, dari Gerbang Timur hingga Pantai Bende, dan dilanjut lagi hingga Ocean Dream Samudra, lalu ke Dunia Fantasi. Kereta Sato-sato akan beroperasi mulai pukul 08.00-18.00 WIB. Ada tiga rangkaian kereta yang bisa mengangkut penumpang hingga  400 orang. Wahana kereta tersebut juga ramah bagi difable atau orang berkebutuhan khusus. Di salah satu gerbongnya dapat dikhususkan bagi warga difable. Semua wisatawan tetap bisa menikmati wahana ini tanpa bayar.\""
   ]
  },
  {
   "cell_type": "code",
   "execution_count": 19,
   "id": "3e6bec9b-4f3b-4218-a57a-b5722efa370e",
   "metadata": {},
   "outputs": [
    {
     "name": "stdout",
     "output_type": "stream",
     "text": [
      "1/1 [==============================] - 2s 2s/step\n",
      "Review: Ancol Taman Impian mempunyai pantai yang indah yang merupakan destinasi wisata pantai dalam kota Jakarta. Pengunjung kawasan Ancol dapat menikmati suasana segar di area Pantai Lagoon, Festival, Indah, Beach Pool dan Carnaval, serta Danau Impian, sepanjang kurang lebih 6,5 km. Wisata pantai ini semakin sempurna dengan adanya promenade hampir di sepanjang pantai serta fasilitas kuliner yang lengkap, antara lain: Jimbaran Resto, Le Bridge, Starbucks, Segarra, Talaga Sampireun dan lain-lain. Hal tersebut menjadikan wisata pantai Ancol ini lebih menarik untuk dikunjungi.Rekreasi di Ancol Taman Impian semakin menyenangkan dengan kehadiran Kereta Wisata Sato-Sato. Transportasi massal ini selain bisa mengantarkan wisatawan ke berbagai destinasi seperti Dunia Fantasi, Ocean Dream Samudra, Allianz Ecopark, dan yang lainnya, juga bisa menjadi wahana rekreasi sambil menikmati pemandangan sepanjang Ancol. Jalur keretanya membentang sepanjang 3,6 kilometer, dari Gerbang Timur hingga Pantai Bende, dan dilanjut lagi hingga Ocean Dream Samudra, lalu ke Dunia Fantasi. Kereta Sato-sato akan beroperasi mulai pukul 08.00-18.00 WIB. Ada tiga rangkaian kereta yang bisa mengangkut penumpang hingga  400 orang. Wahana kereta tersebut juga ramah bagi difable atau orang berkebutuhan khusus. Di salah satu gerbongnya dapat dikhususkan bagi warga difable. Semua wisatawan tetap bisa menikmati wahana ini tanpa bayar.\n",
      "Pred: 5 bintang\n"
     ]
    }
   ],
   "source": [
    "print_pred(text3)"
   ]
  },
  {
   "cell_type": "code",
   "execution_count": 20,
   "id": "f98534b7-79ec-46f2-8520-c249f6ee587c",
   "metadata": {},
   "outputs": [
    {
     "name": "stdout",
     "output_type": "stream",
     "text": [
      "1/1 [==============================] - 2s 2s/step\n",
      "Review: semakin buruk, mobil ga bisa keliling didalam lagi.. alesan macet 🤣.. sumpah nyesel ke ancol lagi.. bey ancol ga akan saya rekomendasikan sebagai rekreasi untuk keluarga lagi seperti taman mini yg udah ga nyaman lagi.. kebijakan pemprov yg sangat blunder dan ngaco.. sebelum bikin kebijakan silahkan coba dulu.. panas bgt coy.. kalo ujan badai juga bakal kuyup fasilitas 0 besar.\n",
      "Pred: 2 bintang\n"
     ]
    }
   ],
   "source": [
    "text4 = \"semakin buruk, mobil ga bisa keliling didalam lagi.. alesan macet 🤣.. sumpah nyesel ke ancol lagi.. bey ancol ga akan saya rekomendasikan sebagai rekreasi untuk keluarga lagi seperti taman mini yg udah ga nyaman lagi.. kebijakan pemprov yg sangat blunder dan ngaco.. sebelum bikin kebijakan silahkan coba dulu.. panas bgt coy.. kalo ujan badai juga bakal kuyup fasilitas 0 besar.\"\n",
    "print_pred(text4)"
   ]
  },
  {
   "cell_type": "code",
   "execution_count": null,
   "id": "d5e9226c-9f48-45f8-8ad5-c6a12756009f",
   "metadata": {},
   "outputs": [],
   "source": []
  }
 ],
 "metadata": {
  "kernelspec": {
   "display_name": "Python 3 (ipykernel)",
   "language": "python",
   "name": "python3"
  },
  "language_info": {
   "codemirror_mode": {
    "name": "ipython",
    "version": 3
   },
   "file_extension": ".py",
   "mimetype": "text/x-python",
   "name": "python",
   "nbconvert_exporter": "python",
   "pygments_lexer": "ipython3",
   "version": "3.8.19"
  }
 },
 "nbformat": 4,
 "nbformat_minor": 5
}
