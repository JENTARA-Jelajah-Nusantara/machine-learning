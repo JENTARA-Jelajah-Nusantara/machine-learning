{
 "cells": [
  {
   "cell_type": "code",
   "execution_count": 31,
   "id": "ceba6953-f96b-4ac9-9d99-6be1787462ab",
   "metadata": {},
   "outputs": [],
   "source": [
    "import pandas as pd\n",
    "from sklearn.utils import resample"
   ]
  },
  {
   "cell_type": "code",
   "execution_count": 32,
   "id": "1ae67d8d-2abd-4891-a356-2d1434c4dfb6",
   "metadata": {},
   "outputs": [],
   "source": [
    "df = pd.read_csv(\"cleaned_data.csv\")"
   ]
  },
  {
   "cell_type": "code",
   "execution_count": 33,
   "id": "d1a0f2e1-4028-4ca1-ad67-68db5123e06e",
   "metadata": {},
   "outputs": [],
   "source": [
    "rating = df['Rating']"
   ]
  },
  {
   "cell_type": "code",
   "execution_count": 34,
   "id": "2df77c9a-cbaf-44be-ab6c-0a5d95302190",
   "metadata": {},
   "outputs": [
    {
     "data": {
      "text/plain": [
       "<Axes: ylabel='count'>"
      ]
     },
     "execution_count": 34,
     "metadata": {},
     "output_type": "execute_result"
    },
    {
     "data": {
      "image/png": "[encoded data removed]",
      "text/plain": [
       "<Figure size 640x480 with 1 Axes>"
      ]
     },
     "metadata": {},
     "output_type": "display_data"
    }
   ],
   "source": [
    "rating.value_counts().plot.pie(autopct=\"%.2f\")"
   ]
  },
  {
   "cell_type": "code",
   "execution_count": 35,
   "id": "ec8cad1b-b474-404e-b186-62c3a61c6c61",
   "metadata": {},
   "outputs": [
    {
     "data": {
      "text/plain": [
       "Rating\n",
       "5    4554\n",
       "4    1751\n",
       "3     618\n",
       "1     158\n",
       "2     128\n",
       "Name: count, dtype: int64"
      ]
     },
     "execution_count": 35,
     "metadata": {},
     "output_type": "execute_result"
    }
   ],
   "source": [
    "rating.value_counts()"
   ]
  },
  {
   "cell_type": "code",
   "execution_count": 36,
   "id": "6d7d0a7b-f33b-417c-bab0-a7e15ee5b601",
   "metadata": {},
   "outputs": [],
   "source": [
    "df_1 = df[df['Rating'] == 1]\n",
    "df_2 = df[df['Rating'] == 2]\n",
    "df_3 = df[df['Rating'] == 3]\n",
    "df_4 = df[df['Rating'] == 4]\n",
    "df_5 = df[df['Rating'] == 5]"
   ]
  },
  {
   "cell_type": "code",
   "execution_count": 37,
   "id": "9610d286-b95c-4bb9-b759-e125e3aaa0e9",
   "metadata": {},
   "outputs": [
    {
     "data": {
      "text/plain": [
       "Rating\n",
       "2    128\n",
       "Name: count, dtype: int64"
      ]
     },
     "execution_count": 37,
     "metadata": {},
     "output_type": "execute_result"
    }
   ],
   "source": [
    "df_2['Rating'].value_counts()"
   ]
  },
  {
   "cell_type": "code",
   "execution_count": 38,
   "id": "ec3b6d8a-d96c-4b09-956d-a3646e45c8df",
   "metadata": {},
   "outputs": [
    {
     "data": {
      "text/plain": [
       "158"
      ]
     },
     "execution_count": 38,
     "metadata": {},
     "output_type": "execute_result"
    }
   ],
   "source": [
    "reduce_size_to = len(df_1)\n",
    "reduce_size_to"
   ]
  },
  {
   "cell_type": "code",
   "execution_count": 39,
   "id": "5dd5f57c-a408-44af-acfd-6c7805d316d5",
   "metadata": {},
   "outputs": [],
   "source": [
    "df_1_downsampled = resample(df_1, replace=False, n_samples=reduce_size_to, random_state=42)\n",
    "df_3_downsampled = resample(df_3, replace=False, n_samples=reduce_size_to, random_state=42)\n",
    "df_4_downsampled = resample(df_4, replace=False, n_samples=reduce_size_to, random_state=42)\n",
    "df_5_downsampled = resample(df_5, replace=False, n_samples=reduce_size_to, random_state=42)"
   ]
  },
  {
   "cell_type": "code",
   "execution_count": 40,
   "id": "bdc46e4e-08fb-43d3-86eb-831b2d2d91f6",
   "metadata": {},
   "outputs": [],
   "source": [
    "df_balanced = pd.concat([df_1_downsampled, df_2, df_3_downsampled, df_4_downsampled, df_5_downsampled])"
   ]
  },
  {
   "cell_type": "code",
   "execution_count": 41,
   "id": "a50a56a6-660a-4fdb-b047-669a5c716f1f",
   "metadata": {},
   "outputs": [],
   "source": [
    "df_balanced = df_balanced.sample(frac=1, random_state=42)"
   ]
  },
  {
   "cell_type": "code",
   "execution_count": 43,
   "id": "4c733ab8-fd91-4d1d-935b-aeb0eb274ffd",
   "metadata": {},
   "outputs": [
    {
     "data": {
      "text/html": [
       "<div>\n",
       "<style scoped>\n",
       "    .dataframe tbody tr th:only-of-type {\n",
       "        vertical-align: middle;\n",
       "    }\n",
       "\n",
       "    .dataframe tbody tr th {\n",
       "        vertical-align: top;\n",
       "    }\n",
       "\n",
       "    .dataframe thead th {\n",
       "        text-align: right;\n",
       "    }\n",
       "</style>\n",
       "<table border=\"1\" class=\"dataframe\">\n",
       "  <thead>\n",
       "    <tr style=\"text-align: right;\">\n",
       "      <th></th>\n",
       "      <th>Rating</th>\n",
       "      <th>Review</th>\n",
       "    </tr>\n",
       "  </thead>\n",
       "  <tbody>\n",
       "    <tr>\n",
       "      <th>6659</th>\n",
       "      <td>3</td>\n",
       "      <td>Kampoeng batik yg didekor sedemikian kreatif. ...</td>\n",
       "    </tr>\n",
       "    <tr>\n",
       "      <th>2043</th>\n",
       "      <td>3</td>\n",
       "      <td>Tempat nya sejuk dan asri.  Sayangnya kenyaman...</td>\n",
       "    </tr>\n",
       "    <tr>\n",
       "      <th>5400</th>\n",
       "      <td>1</td>\n",
       "      <td>Sumpah ini kecewa bangettt😭 airnya jorok, ada ...</td>\n",
       "    </tr>\n",
       "    <tr>\n",
       "      <th>3776</th>\n",
       "      <td>4</td>\n",
       "      <td>Salah satu pantai yang masih memasang tarif te...</td>\n",
       "    </tr>\n",
       "    <tr>\n",
       "      <th>4202</th>\n",
       "      <td>1</td>\n",
       "      <td>Sudah lama tutup\\nSekarang dikelola penduduk s...</td>\n",
       "    </tr>\n",
       "  </tbody>\n",
       "</table>\n",
       "</div>"
      ],
      "text/plain": [
       "      Rating                                             Review\n",
       "6659       3  Kampoeng batik yg didekor sedemikian kreatif. ...\n",
       "2043       3  Tempat nya sejuk dan asri.  Sayangnya kenyaman...\n",
       "5400       1  Sumpah ini kecewa bangettt😭 airnya jorok, ada ...\n",
       "3776       4  Salah satu pantai yang masih memasang tarif te...\n",
       "4202       1  Sudah lama tutup\\nSekarang dikelola penduduk s..."
      ]
     },
     "execution_count": 43,
     "metadata": {},
     "output_type": "execute_result"
    }
   ],
   "source": [
    "df_balanced.head()"
   ]
  },
  {
   "cell_type": "code",
   "execution_count": 45,
   "id": "0aaf22ee-2a53-42ba-8ace-770d94f29828",
   "metadata": {},
   "outputs": [
    {
     "data": {
      "text/html": [
       "<div>\n",
       "<style scoped>\n",
       "    .dataframe tbody tr th:only-of-type {\n",
       "        vertical-align: middle;\n",
       "    }\n",
       "\n",
       "    .dataframe tbody tr th {\n",
       "        vertical-align: top;\n",
       "    }\n",
       "\n",
       "    .dataframe thead th {\n",
       "        text-align: right;\n",
       "    }\n",
       "</style>\n",
       "<table border=\"1\" class=\"dataframe\">\n",
       "  <thead>\n",
       "    <tr style=\"text-align: right;\">\n",
       "      <th></th>\n",
       "      <th>Rating</th>\n",
       "      <th>Review</th>\n",
       "    </tr>\n",
       "  </thead>\n",
       "  <tbody>\n",
       "    <tr>\n",
       "      <th>0</th>\n",
       "      <td>3</td>\n",
       "      <td>Kampoeng batik yg didekor sedemikian kreatif. ...</td>\n",
       "    </tr>\n",
       "    <tr>\n",
       "      <th>1</th>\n",
       "      <td>3</td>\n",
       "      <td>Tempat nya sejuk dan asri.  Sayangnya kenyaman...</td>\n",
       "    </tr>\n",
       "    <tr>\n",
       "      <th>2</th>\n",
       "      <td>1</td>\n",
       "      <td>Sumpah ini kecewa bangettt😭 airnya jorok, ada ...</td>\n",
       "    </tr>\n",
       "    <tr>\n",
       "      <th>3</th>\n",
       "      <td>4</td>\n",
       "      <td>Salah satu pantai yang masih memasang tarif te...</td>\n",
       "    </tr>\n",
       "    <tr>\n",
       "      <th>4</th>\n",
       "      <td>1</td>\n",
       "      <td>Sudah lama tutup\\nSekarang dikelola penduduk s...</td>\n",
       "    </tr>\n",
       "  </tbody>\n",
       "</table>\n",
       "</div>"
      ],
      "text/plain": [
       "   Rating                                             Review\n",
       "0       3  Kampoeng batik yg didekor sedemikian kreatif. ...\n",
       "1       3  Tempat nya sejuk dan asri.  Sayangnya kenyaman...\n",
       "2       1  Sumpah ini kecewa bangettt😭 airnya jorok, ada ...\n",
       "3       4  Salah satu pantai yang masih memasang tarif te...\n",
       "4       1  Sudah lama tutup\\nSekarang dikelola penduduk s..."
      ]
     },
     "execution_count": 45,
     "metadata": {},
     "output_type": "execute_result"
    }
   ],
   "source": [
    "df_balanced = df_balanced.reset_index(drop=True)\n",
    "df_balanced.head()"
   ]
  },
  {
   "cell_type": "code",
   "execution_count": 49,
   "id": "bb7503b5-9593-4c23-8794-bd2260eaba04",
   "metadata": {},
   "outputs": [
    {
     "data": {
      "text/plain": [
       "(Rating\n",
       " 3    158\n",
       " 1    158\n",
       " 4    158\n",
       " 5    158\n",
       " 2    128\n",
       " Name: count, dtype: int64,\n",
       " 760)"
      ]
     },
     "execution_count": 49,
     "metadata": {},
     "output_type": "execute_result"
    }
   ],
   "source": [
    "df_balanced[\"Rating\"].value_counts(), df_balanced[\"Rating\"].value_counts().sum()"
   ]
  },
  {
   "cell_type": "code",
   "execution_count": 50,
   "id": "62ba9789-0eb1-4178-a528-b07eeea3d999",
   "metadata": {},
   "outputs": [
    {
     "data": {
      "text/plain": [
       "<Axes: ylabel='count'>"
      ]
     },
     "execution_count": 50,
     "metadata": {},
     "output_type": "execute_result"
    },
    {
     "data": {
      "image/png": "[encoded data removed]",
      "text/plain": [
       "<Figure size 640x480 with 1 Axes>"
      ]
     },
     "metadata": {},
     "output_type": "display_data"
    }
   ],
   "source": [
    "df_balanced[\"Rating\"].value_counts().plot.pie(autopct=\"%.2f\")"
   ]
  },
  {
   "cell_type": "code",
   "execution_count": null,
   "id": "de0e67af-8eea-468b-b183-573444abd391",
   "metadata": {},
   "outputs": [],
   "source": []
  }
 ],
 "metadata": {
  "kernelspec": {
   "display_name": "Python 3 (ipykernel)",
   "language": "python",
   "name": "python3"
  },
  "language_info": {
   "codemirror_mode": {
    "name": "ipython",
    "version": 3
   },
   "file_extension": ".py",
   "mimetype": "text/x-python",
   "name": "python",
   "nbconvert_exporter": "python",
   "pygments_lexer": "ipython3",
   "version": "3.9.19"
  }
 },
 "nbformat": 4,
 "nbformat_minor": 5
}
