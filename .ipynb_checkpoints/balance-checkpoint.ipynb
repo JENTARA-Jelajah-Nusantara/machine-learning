{
 "cells": [
  {
   "cell_type": "code",
   "execution_count": 1,
   "id": "ceba6953-f96b-4ac9-9d99-6be1787462ab",
   "metadata": {},
   "outputs": [],
   "source": [
    "import pandas as pd\n",
    "from sklearn.utils import resample"
   ]
  },
  {
   "cell_type": "code",
   "execution_count": 2,
   "id": "1ae67d8d-2abd-4891-a356-2d1434c4dfb6",
   "metadata": {},
   "outputs": [],
   "source": [
    "df = pd.read_csv(\"dataset/cleaned_data.csv\")\n",
    "df.dropna(subset=['Review'], inplace=True)\n",
    "df.drop(df[df['Review'].apply(lambda x: len(str(x).split()) < 6)].index, inplace=True)"
   ]
  },
  {
   "cell_type": "code",
   "execution_count": 3,
   "id": "d1a0f2e1-4028-4ca1-ad67-68db5123e06e",
   "metadata": {},
   "outputs": [],
   "source": [
    "rating = df['Rating']"
   ]
  },
  {
   "cell_type": "code",
   "execution_count": 4,
   "id": "2df77c9a-cbaf-44be-ab6c-0a5d95302190",
   "metadata": {},
   "outputs": [
    {
     "data": {
      "text/plain": [
       "<Axes: ylabel='count'>"
      ]
     },
     "execution_count": 4,
     "metadata": {},
     "output_type": "execute_result"
    },
    {
     "data": {
      "image/png": "[encoded data removed]",
      "text/plain": [
       "<Figure size 640x480 with 1 Axes>"
      ]
     },
     "metadata": {},
     "output_type": "display_data"
    }
   ],
   "source": [
    "rating.value_counts().plot.pie(autopct=\"%.2f\")"
   ]
  },
  {
   "cell_type": "code",
   "execution_count": 5,
   "id": "ec8cad1b-b474-404e-b186-62c3a61c6c61",
   "metadata": {},
   "outputs": [
    {
     "data": {
      "text/plain": [
       "Rating\n",
       "5    4135\n",
       "4    1667\n",
       "3     590\n",
       "1     142\n",
       "2     119\n",
       "Name: count, dtype: int64"
      ]
     },
     "execution_count": 5,
     "metadata": {},
     "output_type": "execute_result"
    }
   ],
   "source": [
    "rating.value_counts()"
   ]
  },
  {
   "cell_type": "code",
   "execution_count": 6,
   "id": "6d7d0a7b-f33b-417c-bab0-a7e15ee5b601",
   "metadata": {},
   "outputs": [],
   "source": [
    "df_1 = df[df['Rating'] == 1]\n",
    "df_2 = df[df['Rating'] == 2]\n",
    "df_3 = df[df['Rating'] == 3]\n",
    "df_4 = df[df['Rating'] == 4]\n",
    "df_5 = df[df['Rating'] == 5]"
   ]
  },
  {
   "cell_type": "code",
   "execution_count": 7,
   "id": "9610d286-b95c-4bb9-b759-e125e3aaa0e9",
   "metadata": {},
   "outputs": [
    {
     "data": {
      "text/plain": [
       "Rating\n",
       "2    119\n",
       "Name: count, dtype: int64"
      ]
     },
     "execution_count": 7,
     "metadata": {},
     "output_type": "execute_result"
    }
   ],
   "source": [
    "df_2['Rating'].value_counts()"
   ]
  },
  {
   "cell_type": "code",
   "execution_count": 8,
   "id": "ec3b6d8a-d96c-4b09-956d-a3646e45c8df",
   "metadata": {},
   "outputs": [
    {
     "data": {
      "text/plain": [
       "160"
      ]
     },
     "execution_count": 8,
     "metadata": {},
     "output_type": "execute_result"
    }
   ],
   "source": [
    "reduce_size_to = 160\n",
    "reduce_size_to"
   ]
  },
  {
   "cell_type": "code",
   "execution_count": 9,
   "id": "5dd5f57c-a408-44af-acfd-6c7805d316d5",
   "metadata": {},
   "outputs": [],
   "source": [
    "df_3_downsampled = resample(df_3, replace=False, n_samples=reduce_size_to, random_state=42)\n",
    "df_4_downsampled = resample(df_4, replace=False, n_samples=reduce_size_to, random_state=42)\n",
    "df_5_downsampled = resample(df_5, replace=False, n_samples=reduce_size_to, random_state=42)"
   ]
  },
  {
   "cell_type": "code",
   "execution_count": 10,
   "id": "bdc46e4e-08fb-43d3-86eb-831b2d2d91f6",
   "metadata": {},
   "outputs": [],
   "source": [
    "df_balanced = pd.concat([df_1, df_2, df_3_downsampled, df_4_downsampled, df_5_downsampled])"
   ]
  },
  {
   "cell_type": "code",
   "execution_count": 11,
   "id": "a50a56a6-660a-4fdb-b047-669a5c716f1f",
   "metadata": {},
   "outputs": [],
   "source": [
    "df_balanced = df_balanced.sample(frac=1, random_state=42)"
   ]
  },
  {
   "cell_type": "code",
   "execution_count": 12,
   "id": "4c733ab8-fd91-4d1d-935b-aeb0eb274ffd",
   "metadata": {},
   "outputs": [
    {
     "data": {
      "text/html": [
       "<div>\n",
       "<style scoped>\n",
       "    .dataframe tbody tr th:only-of-type {\n",
       "        vertical-align: middle;\n",
       "    }\n",
       "\n",
       "    .dataframe tbody tr th {\n",
       "        vertical-align: top;\n",
       "    }\n",
       "\n",
       "    .dataframe thead th {\n",
       "        text-align: right;\n",
       "    }\n",
       "</style>\n",
       "<table border=\"1\" class=\"dataframe\">\n",
       "  <thead>\n",
       "    <tr style=\"text-align: right;\">\n",
       "      <th></th>\n",
       "      <th>Rating</th>\n",
       "      <th>Review</th>\n",
       "    </tr>\n",
       "  </thead>\n",
       "  <tbody>\n",
       "    <tr>\n",
       "      <th>5840</th>\n",
       "      <td>1</td>\n",
       "      <td>Mall terpanas, padahal mall besar tapi panas b...</td>\n",
       "    </tr>\n",
       "    <tr>\n",
       "      <th>3488</th>\n",
       "      <td>2</td>\n",
       "      <td>Tempatnya sudah tidak terawat, sayang sekali. ...</td>\n",
       "    </tr>\n",
       "    <tr>\n",
       "      <th>4881</th>\n",
       "      <td>3</td>\n",
       "      <td>Tempat yg nagus tapi sayang banyak sampah bers...</td>\n",
       "    </tr>\n",
       "    <tr>\n",
       "      <th>4883</th>\n",
       "      <td>5</td>\n",
       "      <td>Bingung malam nongkrong dimana di Padang? Apal...</td>\n",
       "    </tr>\n",
       "    <tr>\n",
       "      <th>6433</th>\n",
       "      <td>3</td>\n",
       "      <td>Lokasinya startegis.. Di pinggir laut, sayang ...</td>\n",
       "    </tr>\n",
       "  </tbody>\n",
       "</table>\n",
       "</div>"
      ],
      "text/plain": [
       "      Rating                                             Review\n",
       "5840       1  Mall terpanas, padahal mall besar tapi panas b...\n",
       "3488       2  Tempatnya sudah tidak terawat, sayang sekali. ...\n",
       "4881       3  Tempat yg nagus tapi sayang banyak sampah bers...\n",
       "4883       5  Bingung malam nongkrong dimana di Padang? Apal...\n",
       "6433       3  Lokasinya startegis.. Di pinggir laut, sayang ..."
      ]
     },
     "execution_count": 12,
     "metadata": {},
     "output_type": "execute_result"
    }
   ],
   "source": [
    "df_balanced.head()"
   ]
  },
  {
   "cell_type": "code",
   "execution_count": 13,
   "id": "0aaf22ee-2a53-42ba-8ace-770d94f29828",
   "metadata": {},
   "outputs": [
    {
     "data": {
      "text/html": [
       "<div>\n",
       "<style scoped>\n",
       "    .dataframe tbody tr th:only-of-type {\n",
       "        vertical-align: middle;\n",
       "    }\n",
       "\n",
       "    .dataframe tbody tr th {\n",
       "        vertical-align: top;\n",
       "    }\n",
       "\n",
       "    .dataframe thead th {\n",
       "        text-align: right;\n",
       "    }\n",
       "</style>\n",
       "<table border=\"1\" class=\"dataframe\">\n",
       "  <thead>\n",
       "    <tr style=\"text-align: right;\">\n",
       "      <th></th>\n",
       "      <th>Rating</th>\n",
       "      <th>Review</th>\n",
       "    </tr>\n",
       "  </thead>\n",
       "  <tbody>\n",
       "    <tr>\n",
       "      <th>0</th>\n",
       "      <td>1</td>\n",
       "      <td>Mall terpanas, padahal mall besar tapi panas b...</td>\n",
       "    </tr>\n",
       "    <tr>\n",
       "      <th>1</th>\n",
       "      <td>2</td>\n",
       "      <td>Tempatnya sudah tidak terawat, sayang sekali. ...</td>\n",
       "    </tr>\n",
       "    <tr>\n",
       "      <th>2</th>\n",
       "      <td>3</td>\n",
       "      <td>Tempat yg nagus tapi sayang banyak sampah bers...</td>\n",
       "    </tr>\n",
       "    <tr>\n",
       "      <th>3</th>\n",
       "      <td>5</td>\n",
       "      <td>Bingung malam nongkrong dimana di Padang? Apal...</td>\n",
       "    </tr>\n",
       "    <tr>\n",
       "      <th>4</th>\n",
       "      <td>3</td>\n",
       "      <td>Lokasinya startegis.. Di pinggir laut, sayang ...</td>\n",
       "    </tr>\n",
       "  </tbody>\n",
       "</table>\n",
       "</div>"
      ],
      "text/plain": [
       "   Rating                                             Review\n",
       "0       1  Mall terpanas, padahal mall besar tapi panas b...\n",
       "1       2  Tempatnya sudah tidak terawat, sayang sekali. ...\n",
       "2       3  Tempat yg nagus tapi sayang banyak sampah bers...\n",
       "3       5  Bingung malam nongkrong dimana di Padang? Apal...\n",
       "4       3  Lokasinya startegis.. Di pinggir laut, sayang ..."
      ]
     },
     "execution_count": 13,
     "metadata": {},
     "output_type": "execute_result"
    }
   ],
   "source": [
    "df_balanced = df_balanced.reset_index(drop=True)\n",
    "df_balanced.head()"
   ]
  },
  {
   "cell_type": "code",
   "execution_count": 14,
   "id": "bb7503b5-9593-4c23-8794-bd2260eaba04",
   "metadata": {},
   "outputs": [
    {
     "data": {
      "text/plain": [
       "(Rating\n",
       " 3    160\n",
       " 5    160\n",
       " 4    160\n",
       " 1    142\n",
       " 2    119\n",
       " Name: count, dtype: int64,\n",
       " 741)"
      ]
     },
     "execution_count": 14,
     "metadata": {},
     "output_type": "execute_result"
    }
   ],
   "source": [
    "df_balanced[\"Rating\"].value_counts(), df_balanced[\"Rating\"].value_counts().sum()"
   ]
  },
  {
   "cell_type": "code",
   "execution_count": 15,
   "id": "62ba9789-0eb1-4178-a528-b07eeea3d999",
   "metadata": {},
   "outputs": [
    {
     "data": {
      "text/plain": [
       "<Axes: ylabel='count'>"
      ]
     },
     "execution_count": 15,
     "metadata": {},
     "output_type": "execute_result"
    },
    {
     "data": {
      "image/png": "[encoded data removed]",
      "text/plain": [
       "<Figure size 640x480 with 1 Axes>"
      ]
     },
     "metadata": {},
     "output_type": "display_data"
    }
   ],
   "source": [
    "df_balanced[\"Rating\"].value_counts().plot.pie(autopct=\"%.2f\")"
   ]
  },
  {
   "cell_type": "code",
   "execution_count": 16,
   "id": "4566133a-adf9-48c9-ba99-012e41b1a4cc",
   "metadata": {},
   "outputs": [
    {
     "data": {
      "text/plain": [
       "(Rating\n",
       " 1    142\n",
       " 2    119\n",
       " 3    160\n",
       " 4    160\n",
       " 5    160\n",
       " Name: count, dtype: int64,\n",
       " 741)"
      ]
     },
     "execution_count": 16,
     "metadata": {},
     "output_type": "execute_result"
    }
   ],
   "source": [
    "df_balanced[\"Rating\"].value_counts().sort_index(), df_balanced[\"Rating\"].value_counts().sum()"
   ]
  },
  {
   "cell_type": "code",
   "execution_count": 17,
   "id": "f62a9567-32e8-4974-a399-80fd34c9b6ad",
   "metadata": {},
   "outputs": [
    {
     "data": {
      "text/plain": [
       "(     Rating                                             Review\n",
       " 328       3  Lumayan bagus utk pantai di dalam kota. Cuma k...\n",
       " 146       1  Semua tinggal monumen\\nPemProv tolong perhatik...\n",
       " 309       2  Di sekitar cottage lumayan asri suasananya, te...\n",
       " 52        4  Pertama ke Avros menu biasa saja tdk ada yg ch...\n",
       " 304       3  Ini yang ketiga kalinya kesini sejak tahun 201...\n",
       " 687       1  We visited here today with our children expect...\n",
       " 222       2  Bagi Pengendara Kendaraan yang Melintasi Jalur...\n",
       " 691       3  Untuk sekarang, mungkin ini alternatif tempat ...\n",
       " 579       5  Taman yang ada danau di tengah sebagai penarik...\n",
       " 16        1  Niatnya mau nyantai nyewa glamping, eh tau nya...,\n",
       " 'Tempatnya sudah tidak terawat, sayang sekali. Tapi masih bisa untuk duduk di gazebo di belakang patung biuku')"
      ]
     },
     "execution_count": 17,
     "metadata": {},
     "output_type": "execute_result"
    }
   ],
   "source": [
    "df_balanced.sample(10), df_balanced[\"Review\"][1]"
   ]
  },
  {
   "cell_type": "code",
   "execution_count": 18,
   "id": "89dfbf3f-b957-438e-ad32-347232d7a1cf",
   "metadata": {},
   "outputs": [],
   "source": [
    "df_balanced['Review'] = df_balanced['Review'].astype(str)"
   ]
  },
  {
   "cell_type": "code",
   "execution_count": 19,
   "id": "24be6062-65c4-4cde-a257-46c1fb8a2358",
   "metadata": {},
   "outputs": [],
   "source": [
    "import re\n",
    "\n",
    "def clean_text(text):\n",
    "    pattern = r'[^A-Za-z0-9\\s]'\n",
    "    clean_text = re.sub(pattern, '', text)\n",
    "    return clean_text\n",
    "\n",
    "df_balanced[\"Review\"] = df_balanced[\"Review\"].apply(clean_text)"
   ]
  },
  {
   "cell_type": "code",
   "execution_count": 20,
   "id": "6de23704-fab2-4a96-8734-48f95de5de09",
   "metadata": {},
   "outputs": [],
   "source": [
    "converted = pd.DataFrame(df_balanced)\n",
    "converted.to_csv('balanced_data.csv', index=False)"
   ]
  },
  {
   "cell_type": "code",
   "execution_count": 21,
   "id": "e394d5c2-c011-491f-bf88-e6de729f5455",
   "metadata": {},
   "outputs": [
    {
     "name": "stdout",
     "output_type": "stream",
     "text": [
      "<class 'pandas.core.frame.DataFrame'>\n",
      "RangeIndex: 741 entries, 0 to 740\n",
      "Data columns (total 2 columns):\n",
      " #   Column  Non-Null Count  Dtype \n",
      "---  ------  --------------  ----- \n",
      " 0   Rating  741 non-null    int64 \n",
      " 1   Review  741 non-null    object\n",
      "dtypes: int64(1), object(1)\n",
      "memory usage: 11.7+ KB\n"
     ]
    }
   ],
   "source": [
    "df_balanced.info()"
   ]
  },
  {
   "cell_type": "code",
   "execution_count": null,
   "id": "b1783026-6e62-4ad3-ae5e-dd10614bd63b",
   "metadata": {},
   "outputs": [],
   "source": []
  }
 ],
 "metadata": {
  "kernelspec": {
   "display_name": "Python 3 (ipykernel)",
   "language": "python",
   "name": "python3"
  },
  "language_info": {
   "codemirror_mode": {
    "name": "ipython",
    "version": 3
   },
   "file_extension": ".py",
   "mimetype": "text/x-python",
   "name": "python",
   "nbconvert_exporter": "python",
   "pygments_lexer": "ipython3",
   "version": "3.9.19"
  }
 },
 "nbformat": 4,
 "nbformat_minor": 5
}
