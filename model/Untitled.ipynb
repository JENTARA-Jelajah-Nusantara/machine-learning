{
 "cells": [
  {
   "cell_type": "code",
   "execution_count": 1,
   "id": "1628f794-0f3b-40da-9214-2cd9ba907995",
   "metadata": {},
   "outputs": [],
   "source": [
    "import pandas as pd"
   ]
  },
  {
   "cell_type": "code",
   "execution_count": 2,
   "id": "cc804635-7523-4bef-87f0-515910a40ff6",
   "metadata": {},
   "outputs": [],
   "source": [
    "df = pd.read_csv('filtered_cleaned_data.csv')"
   ]
  },
  {
   "cell_type": "code",
   "execution_count": 3,
   "id": "d7c57b57-e222-49e2-939a-30c13bebdc3a",
   "metadata": {},
   "outputs": [
    {
     "data": {
      "text/html": [
       "<div>\n",
       "<style scoped>\n",
       "    .dataframe tbody tr th:only-of-type {\n",
       "        vertical-align: middle;\n",
       "    }\n",
       "\n",
       "    .dataframe tbody tr th {\n",
       "        vertical-align: top;\n",
       "    }\n",
       "\n",
       "    .dataframe thead th {\n",
       "        text-align: right;\n",
       "    }\n",
       "</style>\n",
       "<table border=\"1\" class=\"dataframe\">\n",
       "  <thead>\n",
       "    <tr style=\"text-align: right;\">\n",
       "      <th></th>\n",
       "      <th>Rating</th>\n",
       "      <th>Review</th>\n",
       "    </tr>\n",
       "  </thead>\n",
       "  <tbody>\n",
       "    <tr>\n",
       "      <th>0</th>\n",
       "      <td>5</td>\n",
       "      <td>pantai buatan kuala langsa berada kawasan pesi...</td>\n",
       "    </tr>\n",
       "    <tr>\n",
       "      <th>1</th>\n",
       "      <td>4</td>\n",
       "      <td>main kesinicm warna airnya coklat</td>\n",
       "    </tr>\n",
       "    <tr>\n",
       "      <th>2</th>\n",
       "      <td>3</td>\n",
       "      <td>oke bagus kok</td>\n",
       "    </tr>\n",
       "    <tr>\n",
       "      <th>3</th>\n",
       "      <td>1</td>\n",
       "      <td>andai dikelola baik menjadi destinasi menarik ...</td>\n",
       "    </tr>\n",
       "    <tr>\n",
       "      <th>4</th>\n",
       "      <td>5</td>\n",
       "      <td>bukan pantai disini tuh area wisata hutan mang...</td>\n",
       "    </tr>\n",
       "  </tbody>\n",
       "</table>\n",
       "</div>"
      ],
      "text/plain": [
       "   Rating                                             Review\n",
       "0       5  pantai buatan kuala langsa berada kawasan pesi...\n",
       "1       4                  main kesinicm warna airnya coklat\n",
       "2       3                                      oke bagus kok\n",
       "3       1  andai dikelola baik menjadi destinasi menarik ...\n",
       "4       5  bukan pantai disini tuh area wisata hutan mang..."
      ]
     },
     "execution_count": 3,
     "metadata": {},
     "output_type": "execute_result"
    }
   ],
   "source": [
    "df.head()"
   ]
  },
  {
   "cell_type": "code",
   "execution_count": 4,
   "id": "22fb8b8f-e40a-41ef-83fe-dab7f6eca31b",
   "metadata": {},
   "outputs": [
    {
     "name": "stdout",
     "output_type": "stream",
     "text": [
      "<class 'pandas.core.frame.DataFrame'>\n",
      "RangeIndex: 34065 entries, 0 to 34064\n",
      "Data columns (total 2 columns):\n",
      " #   Column  Non-Null Count  Dtype \n",
      "---  ------  --------------  ----- \n",
      " 0   Rating  34065 non-null  int64 \n",
      " 1   Review  32684 non-null  object\n",
      "dtypes: int64(1), object(1)\n",
      "memory usage: 532.4+ KB\n"
     ]
    }
   ],
   "source": [
    "df.info()"
   ]
  },
  {
   "cell_type": "code",
   "execution_count": 10,
   "id": "9fc5cdfa-ea44-4437-a5a0-329643e3a71c",
   "metadata": {},
   "outputs": [
    {
     "name": "stdout",
     "output_type": "stream",
     "text": [
      "<class 'pandas.core.frame.DataFrame'>\n",
      "Index: 29349 entries, 0 to 34064\n",
      "Data columns (total 2 columns):\n",
      " #   Column  Non-Null Count  Dtype \n",
      "---  ------  --------------  ----- \n",
      " 0   Rating  29349 non-null  int64 \n",
      " 1   Review  29349 non-null  object\n",
      "dtypes: int64(1), object(1)\n",
      "memory usage: 687.9+ KB\n"
     ]
    }
   ],
   "source": [
    "df.dropna(subset=['Review'], inplace=True)\n",
    "df.drop(df[df['Review'].apply(lambda x: len(str(x).split()) < 6)].index, inplace=True)\n",
    "df.drop(df[df[\"Rating\"] == 0].index, inplace=True)\n",
    "df.info()"
   ]
  },
  {
   "cell_type": "code",
   "execution_count": 11,
   "id": "6ee8a4c7-66a8-43bd-991b-90edda049709",
   "metadata": {},
   "outputs": [
    {
     "data": {
      "text/plain": [
       "(<Axes: ylabel='count'>,\n",
       " Rating\n",
       " 5    18205\n",
       " 4     7395\n",
       " 3     2508\n",
       " 1      674\n",
       " 2      567\n",
       " Name: count, dtype: int64)"
      ]
     },
     "execution_count": 11,
     "metadata": {},
     "output_type": "execute_result"
    },
    {
     "data": {
      "image/png": "[encoded data removed]",
      "text/plain": [
       "<Figure size 640x480 with 1 Axes>"
      ]
     },
     "metadata": {},
     "output_type": "display_data"
    }
   ],
   "source": [
    "df['Rating'].value_counts().plot.pie(autopct=\"%.2f\"), df['Rating'].value_counts()"
   ]
  },
  {
   "cell_type": "code",
   "execution_count": 23,
   "id": "0f01ca56-e5f0-4e4f-9484-abc4791bd1af",
   "metadata": {},
   "outputs": [
    {
     "data": {
      "text/plain": [
       "(Rating\n",
       " 5    18205\n",
       " 4     7395\n",
       " 3     2508\n",
       " 1      674\n",
       " 2      567\n",
       " Name: count, dtype: int64,\n",
       "    Rating                                             Review\n",
       " 0       5  sangat asri kalau melihat sunset vibe diatas b...\n",
       " 1       4  dermaga pelabuhan tradisional dapatka pemandan...\n",
       " 2       5  merupakan tugu dibangun mengenang proklamasi k...\n",
       " 3       5  photogenic kalo singgah disini kalo foto tugu ...\n",
       " 4       5  one of the most respected figures for his grea...)"
      ]
     },
     "execution_count": 23,
     "metadata": {},
     "output_type": "execute_result"
    }
   ],
   "source": [
    "df['Rating'].value_counts(), df.head()"
   ]
  },
  {
   "cell_type": "code",
   "execution_count": 24,
   "id": "d238efe3-77e2-4d80-8563-b3a1ae1122f0",
   "metadata": {},
   "outputs": [
    {
     "name": "stdout",
     "output_type": "stream",
     "text": [
      "<class 'pandas.core.frame.DataFrame'>\n",
      "Index: 674 entries, 81 to 29302\n",
      "Data columns (total 2 columns):\n",
      " #   Column  Non-Null Count  Dtype \n",
      "---  ------  --------------  ----- \n",
      " 0   Rating  674 non-null    int64 \n",
      " 1   Review  674 non-null    object\n",
      "dtypes: int64(1), object(1)\n",
      "memory usage: 15.8+ KB\n"
     ]
    }
   ],
   "source": [
    "reduce_size_to = 567\n",
    "df_1 = df[df['Rating'] == 1]\n",
    "df_2 = df[df['Rating'] == 2]\n",
    "df_3 = df[df['Rating'] == 3]\n",
    "df_4 = df[df['Rating'] == 4]\n",
    "df_5 = df[df['Rating'] == 5]\n",
    "\n",
    "df_1.info()"
   ]
  },
  {
   "cell_type": "code",
   "execution_count": 27,
   "id": "1b36e9a4-b740-4c5c-a44c-41e375ad7a83",
   "metadata": {},
   "outputs": [],
   "source": [
    "from sklearn.utils import resample\n",
    "df_1_downsampled = resample(df_1, replace=False, n_samples=reduce_size_to, random_state=42)\n",
    "df_3_downsampled = resample(df_3, replace=False, n_samples=reduce_size_to, random_state=42)\n",
    "df_4_downsampled = resample(df_4, replace=False, n_samples=reduce_size_to, random_state=42)\n",
    "df_5_downsampled = resample(df_5, replace=False, n_samples=reduce_size_to, random_state=42)"
   ]
  },
  {
   "cell_type": "code",
   "execution_count": 28,
   "id": "c6159f74-dd83-4c9a-ad42-963ed8bbfb88",
   "metadata": {},
   "outputs": [],
   "source": [
    "df_balanced = pd.concat([df_1_downsampled, df_2, df_3_downsampled, df_4_downsampled, df_5_downsampled])"
   ]
  },
  {
   "cell_type": "code",
   "execution_count": 34,
   "id": "7532ada0-6934-47ab-b16f-02aabe8a1966",
   "metadata": {},
   "outputs": [
    {
     "data": {
      "text/plain": [
       "(       Rating                                             Review\n",
       " 26362       1  pedagang jagain dong pasangan muda mudinya aco...\n",
       " 12598       1  lokasi masuk loket wisata belok kiri mentok je...\n",
       " 26757       1  gila tempaynya kok buruk banget sekarang dulu ...\n",
       " 23685       1  tempat banjir masuk kedalam tetap bayar mulai ...\n",
       " 16298       1  gak asikjauh masuk jalanan gak bagus parkir la...,\n",
       " Rating\n",
       " 1    567\n",
       " 2    567\n",
       " 3    567\n",
       " 4    567\n",
       " 5    567\n",
       " Name: count, dtype: int64)"
      ]
     },
     "execution_count": 34,
     "metadata": {},
     "output_type": "execute_result"
    }
   ],
   "source": [
    "df_balanced.head(), df_balanced['Rating'].value_counts()"
   ]
  },
  {
   "cell_type": "code",
   "execution_count": null,
   "id": "941af34f-fa90-4db4-b6b0-508eeee93483",
   "metadata": {},
   "outputs": [],
   "source": []
  }
 ],
 "metadata": {
  "kernelspec": {
   "display_name": "Python 3 (ipykernel)",
   "language": "python",
   "name": "python3"
  },
  "language_info": {
   "codemirror_mode": {
    "name": "ipython",
    "version": 3
   },
   "file_extension": ".py",
   "mimetype": "text/x-python",
   "name": "python",
   "nbconvert_exporter": "python",
   "pygments_lexer": "ipython3",
   "version": "3.8.19"
  }
 },
 "nbformat": 4,
 "nbformat_minor": 5
}
