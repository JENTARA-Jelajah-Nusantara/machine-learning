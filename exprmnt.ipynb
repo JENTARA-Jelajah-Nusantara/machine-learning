{
 "cells": [
  {
   "cell_type": "code",
   "execution_count": 206,
   "metadata": {},
   "outputs": [],
   "source": [
    "import pandas as pd\n",
    "import numpy as np\n",
    "import tensorflow as tf\n",
    "from sklearn.model_selection import train_test_split\n",
    "from tensorflow.keras.preprocessing.text import Tokenizer\n",
    "from tensorflow.keras.preprocessing.sequence import pad_sequences\n",
    "from tensorflow.keras.layers import Dense, LSTM, Embedding\n",
    "from tensorflow.keras.models import Sequential"
   ]
  },
  {
   "cell_type": "code",
   "execution_count": 207,
   "metadata": {},
   "outputs": [
    {
     "data": {
      "text/html": [
       "<div>\n",
       "<style scoped>\n",
       "    .dataframe tbody tr th:only-of-type {\n",
       "        vertical-align: middle;\n",
       "    }\n",
       "\n",
       "    .dataframe tbody tr th {\n",
       "        vertical-align: top;\n",
       "    }\n",
       "\n",
       "    .dataframe thead th {\n",
       "        text-align: right;\n",
       "    }\n",
       "</style>\n",
       "<table border=\"1\" class=\"dataframe\">\n",
       "  <thead>\n",
       "    <tr style=\"text-align: right;\">\n",
       "      <th></th>\n",
       "      <th>Rating</th>\n",
       "      <th>Description</th>\n",
       "    </tr>\n",
       "  </thead>\n",
       "  <tbody>\n",
       "    <tr>\n",
       "      <th>0</th>\n",
       "      <td>5</td>\n",
       "      <td>Klenteng Ban Hin Kiong merupakan Klenteng tert...</td>\n",
       "    </tr>\n",
       "    <tr>\n",
       "      <th>1</th>\n",
       "      <td>5</td>\n",
       "      <td>Airnya sejuk. Tempatnya bebas plastik. Bagi ya...</td>\n",
       "    </tr>\n",
       "    <tr>\n",
       "      <th>2</th>\n",
       "      <td>5</td>\n",
       "      <td>Tiap minggu pasti kesini buat foto2 doang😁 kar...</td>\n",
       "    </tr>\n",
       "    <tr>\n",
       "      <th>3</th>\n",
       "      <td>5</td>\n",
       "      <td>Pernah kesana pergi liat bunker jepang, naik p...</td>\n",
       "    </tr>\n",
       "    <tr>\n",
       "      <th>4</th>\n",
       "      <td>5</td>\n",
       "      <td>Mengikuti Talkshow \" Menyingkap Pesona Wastra ...</td>\n",
       "    </tr>\n",
       "  </tbody>\n",
       "</table>\n",
       "</div>"
      ],
      "text/plain": [
       "   Rating                                        Description\n",
       "0       5  Klenteng Ban Hin Kiong merupakan Klenteng tert...\n",
       "1       5  Airnya sejuk. Tempatnya bebas plastik. Bagi ya...\n",
       "2       5  Tiap minggu pasti kesini buat foto2 doang😁 kar...\n",
       "3       5  Pernah kesana pergi liat bunker jepang, naik p...\n",
       "4       5  Mengikuti Talkshow \" Menyingkap Pesona Wastra ..."
      ]
     },
     "execution_count": 207,
     "metadata": {},
     "output_type": "execute_result"
    }
   ],
   "source": [
    "df = pd.read_csv(r'dataset\\balance.csv')\n",
    "df.head()"
   ]
  },
  {
   "cell_type": "code",
   "execution_count": 208,
   "metadata": {},
   "outputs": [
    {
     "name": "stdout",
     "output_type": "stream",
     "text": [
      "<class 'pandas.core.frame.DataFrame'>\n",
      "RangeIndex: 766 entries, 0 to 765\n",
      "Data columns (total 2 columns):\n",
      " #   Column       Non-Null Count  Dtype \n",
      "---  ------       --------------  ----- \n",
      " 0   Rating       766 non-null    int64 \n",
      " 1   Description  746 non-null    object\n",
      "dtypes: int64(1), object(1)\n",
      "memory usage: 12.1+ KB\n"
     ]
    }
   ],
   "source": [
    "df.info()"
   ]
  },
  {
   "cell_type": "code",
   "execution_count": 209,
   "metadata": {},
   "outputs": [
    {
     "data": {
      "text/plain": [
       "array([5, 4, 3, 2, 1], dtype=int64)"
      ]
     },
     "execution_count": 209,
     "metadata": {},
     "output_type": "execute_result"
    }
   ],
   "source": [
    "df['Rating'].unique()"
   ]
  },
  {
   "cell_type": "code",
   "execution_count": 210,
   "metadata": {},
   "outputs": [],
   "source": [
    "map_label = {1 : -1,\n",
    "             2 : -1,\n",
    "             3: 0,\n",
    "             4 : 1,\n",
    "             5 : 1}\n",
    "df['Rating'] = df['Rating'].map(map_label)"
   ]
  },
  {
   "cell_type": "code",
   "execution_count": 211,
   "metadata": {},
   "outputs": [
    {
     "data": {
      "text/plain": [
       "array([ 1,  0, -1], dtype=int64)"
      ]
     },
     "execution_count": 211,
     "metadata": {},
     "output_type": "execute_result"
    }
   ],
   "source": [
    "df['Rating'].unique()"
   ]
  },
  {
   "cell_type": "code",
   "execution_count": 212,
   "metadata": {},
   "outputs": [
    {
     "data": {
      "text/plain": [
       "Rating\n",
       " 1    320\n",
       "-1    286\n",
       " 0    160\n",
       "Name: count, dtype: int64"
      ]
     },
     "execution_count": 212,
     "metadata": {},
     "output_type": "execute_result"
    }
   ],
   "source": [
    "df['Rating'].value_counts()"
   ]
  },
  {
   "cell_type": "code",
   "execution_count": 213,
   "metadata": {},
   "outputs": [],
   "source": [
    "df['Description'] = df['Description'].astype(str)\n",
    "df['Description'] = df['Description'].str.lower()\n"
   ]
  },
  {
   "cell_type": "code",
   "execution_count": 214,
   "metadata": {},
   "outputs": [],
   "source": [
    "# memisahkan text dan label\n",
    "\n",
    "text = df['Description'].tolist()\n",
    "label = df['Rating'].tolist()"
   ]
  },
  {
   "cell_type": "code",
   "execution_count": 215,
   "metadata": {},
   "outputs": [],
   "source": [
    "# parameter\n",
    "vocab_size = 10000\n",
    "max_length = 200\n",
    "oov_tok = '<OOV>'\n",
    "num_classes = 3\n",
    "embedding_dim = 128\n",
    "padding_type = 'post'\n",
    "trunc_type = 'post'"
   ]
  },
  {
   "cell_type": "code",
   "execution_count": 216,
   "metadata": {},
   "outputs": [],
   "source": [
    "# tokenisasi\n",
    "tokenizer = Tokenizer(num_words=vocab_size, oov_token=oov_tok)\n",
    "tokenizer.fit_on_texts(text)\n",
    "word_index = tokenizer.word_index"
   ]
  },
  {
   "cell_type": "code",
   "execution_count": 217,
   "metadata": {},
   "outputs": [],
   "source": [
    "# ubah ke sequence\n",
    "sequence = tokenizer.texts_to_sequences(text)\n",
    "padded = pad_sequences(sequence, maxlen=max_length, padding=padding_type, truncating=trunc_type)"
   ]
  },
  {
   "cell_type": "code",
   "execution_count": 218,
   "metadata": {},
   "outputs": [],
   "source": [
    "# split train dan test nya\n",
    "X_train, X_test, y_train, y_test = train_test_split(padded, label, test_size=0.1, random_state=42)\n",
    "\n",
    "y_train = np.array(y_train)\n",
    "y_test = np.array(y_test)"
   ]
  },
  {
   "cell_type": "code",
   "execution_count": 219,
   "metadata": {},
   "outputs": [
    {
     "name": "stdout",
     "output_type": "stream",
     "text": [
      "X_train shape : (689, 200)\n",
      "X_test shape : (77, 200)\n",
      "y_train shape : (689,)\n",
      "y_test shape : (77,)\n"
     ]
    }
   ],
   "source": [
    "print(f'X_train shape : {X_train.shape}')\n",
    "print(f'X_test shape : {X_test.shape}')\n",
    "print(f'y_train shape : {y_train.shape}')\n",
    "print(f'y_test shape : {y_test.shape}')"
   ]
  },
  {
   "cell_type": "code",
   "execution_count": 220,
   "metadata": {},
   "outputs": [
    {
     "name": "stdout",
     "output_type": "stream",
     "text": [
      "Epoch 1/10\n",
      "22/22 - 5s - loss: nan - accuracy: 0.2134 - val_loss: nan - val_accuracy: 0.2338 - 5s/epoch - 223ms/step\n",
      "Epoch 2/10\n",
      "22/22 - 1s - loss: nan - accuracy: 0.2061 - val_loss: nan - val_accuracy: 0.2338 - 931ms/epoch - 42ms/step\n",
      "Epoch 3/10\n",
      "22/22 - 1s - loss: nan - accuracy: 0.2061 - val_loss: nan - val_accuracy: 0.2338 - 937ms/epoch - 43ms/step\n",
      "Epoch 4/10\n",
      "22/22 - 1s - loss: nan - accuracy: 0.2061 - val_loss: nan - val_accuracy: 0.2338 - 886ms/epoch - 40ms/step\n",
      "Epoch 5/10\n",
      "22/22 - 1s - loss: nan - accuracy: 0.2061 - val_loss: nan - val_accuracy: 0.2338 - 883ms/epoch - 40ms/step\n",
      "Epoch 6/10\n",
      "22/22 - 1s - loss: nan - accuracy: 0.2061 - val_loss: nan - val_accuracy: 0.2338 - 876ms/epoch - 40ms/step\n",
      "Epoch 7/10\n",
      "22/22 - 1s - loss: nan - accuracy: 0.2061 - val_loss: nan - val_accuracy: 0.2338 - 886ms/epoch - 40ms/step\n",
      "Epoch 8/10\n",
      "22/22 - 1s - loss: nan - accuracy: 0.2061 - val_loss: nan - val_accuracy: 0.2338 - 868ms/epoch - 39ms/step\n",
      "Epoch 9/10\n",
      "22/22 - 1s - loss: nan - accuracy: 0.2061 - val_loss: nan - val_accuracy: 0.2338 - 908ms/epoch - 41ms/step\n",
      "Epoch 10/10\n",
      "22/22 - 1s - loss: nan - accuracy: 0.2061 - val_loss: nan - val_accuracy: 0.2338 - 946ms/epoch - 43ms/step\n"
     ]
    },
    {
     "data": {
      "text/plain": [
       "<keras.callbacks.History at 0x14a71a577f0>"
      ]
     },
     "execution_count": 220,
     "metadata": {},
     "output_type": "execute_result"
    }
   ],
   "source": [
    "model = Sequential([\n",
    "    Embedding(vocab_size, embedding_dim, input_length=max_length),\n",
    "    LSTM(32, return_sequences=True),\n",
    "    LSTM(32),\n",
    "    Dense(24, activation='relu'),\n",
    "    Dense(3, activation='softmax')  # Menggunakan softmax untuk klasifikasi tiga kelas\n",
    "])\n",
    "\n",
    "\n",
    "\n",
    "model.compile(loss='sparse_categorical_crossentropy', optimizer='adam', metrics=['accuracy'])\n",
    "\n",
    "model.fit(X_train, y_train, epochs=10, validation_data=(X_test, y_test), verbose=2)"
   ]
  },
  {
   "cell_type": "code",
   "execution_count": null,
   "metadata": {},
   "outputs": [],
   "source": []
  }
 ],
 "metadata": {
  "kernelspec": {
   "display_name": "capstone",
   "language": "python",
   "name": "python3"
  },
  "language_info": {
   "codemirror_mode": {
    "name": "ipython",
    "version": 3
   },
   "file_extension": ".py",
   "mimetype": "text/x-python",
   "name": "python",
   "nbconvert_exporter": "python",
   "pygments_lexer": "ipython3",
   "version": "3.10.14"
  },
  "orig_nbformat": 4
 },
 "nbformat": 4,
 "nbformat_minor": 2
}
