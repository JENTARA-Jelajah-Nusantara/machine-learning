{
 "cells": [
  {
   "cell_type": "code",
   "execution_count": 370,
   "metadata": {},
   "outputs": [],
   "source": [
    "import pandas as pd\n",
    "import json\n",
    "import ast"
   ]
  },
  {
   "cell_type": "code",
   "execution_count": 371,
   "metadata": {},
   "outputs": [
    {
     "data": {
      "text/html": [
       "<div>\n",
       "<style scoped>\n",
       "    .dataframe tbody tr th:only-of-type {\n",
       "        vertical-align: middle;\n",
       "    }\n",
       "\n",
       "    .dataframe tbody tr th {\n",
       "        vertical-align: top;\n",
       "    }\n",
       "\n",
       "    .dataframe thead th {\n",
       "        text-align: right;\n",
       "    }\n",
       "</style>\n",
       "<table border=\"1\" class=\"dataframe\">\n",
       "  <thead>\n",
       "    <tr style=\"text-align: right;\">\n",
       "      <th></th>\n",
       "      <th>input_id</th>\n",
       "      <th>link</th>\n",
       "      <th>title</th>\n",
       "      <th>category</th>\n",
       "      <th>address</th>\n",
       "      <th>open_hours</th>\n",
       "      <th>popular_times</th>\n",
       "      <th>website</th>\n",
       "      <th>phone</th>\n",
       "      <th>plus_code</th>\n",
       "      <th>...</th>\n",
       "      <th>data_id</th>\n",
       "      <th>images</th>\n",
       "      <th>reservations</th>\n",
       "      <th>order_online</th>\n",
       "      <th>menu</th>\n",
       "      <th>owner</th>\n",
       "      <th>complete_address</th>\n",
       "      <th>about</th>\n",
       "      <th>user_reviews</th>\n",
       "      <th>emails</th>\n",
       "    </tr>\n",
       "  </thead>\n",
       "  <tbody>\n",
       "    <tr>\n",
       "      <th>0</th>\n",
       "      <td>41d799bc-125a-46db-879b-30f765dd9297</td>\n",
       "      <td>NaN</td>\n",
       "      <td>Monpera Beach</td>\n",
       "      <td>Tourist attraction</td>\n",
       "      <td>Jl. Jenderal Sudirman No.1, RT.11, Klandasan U...</td>\n",
       "      <td>{\"Friday\":[\"Open 24 hours\"],\"Monday\":[\"Open 24...</td>\n",
       "      <td>{\"Friday\":{\"0\":34,\"1\":22,\"10\":15,\"11\":14,\"12\":...</td>\n",
       "      <td>NaN</td>\n",
       "      <td>NaN</td>\n",
       "      <td>PRCC+3Q Klandasan Ulu, Balikpapan City, East K...</td>\n",
       "      <td>...</td>\n",
       "      <td>0x2df147378e8bf761:0x1611058c17e8c0c9</td>\n",
       "      <td>[{\"title\":\"All\",\"image\":\"https://lh5.googleuse...</td>\n",
       "      <td>NaN</td>\n",
       "      <td>NaN</td>\n",
       "      <td>{\"link\":\"\",\"source\":\"\"}</td>\n",
       "      <td>{\"id\":\"\",\"name\":\"Monpera Beach (Owner)\",\"link\"...</td>\n",
       "      <td>{\"borough\":\"Klandasan Ulu, Balikpapan Kota\",\"s...</td>\n",
       "      <td>[{\"id\":\"accessibility\",\"name\":\"Accessibility\",...</td>\n",
       "      <td>[{\"Name\":\"Kanjeng Lia\",\"ProfilePicture\":\"https...</td>\n",
       "      <td>NaN</td>\n",
       "    </tr>\n",
       "    <tr>\n",
       "      <th>1</th>\n",
       "      <td>41d799bc-125a-46db-879b-30f765dd9297</td>\n",
       "      <td>NaN</td>\n",
       "      <td>Melawai Beach</td>\n",
       "      <td>Tourist attraction</td>\n",
       "      <td>PRC6+F2P Melawai Beach, Jl. Pelabuhan Semayang...</td>\n",
       "      <td>{}</td>\n",
       "      <td>{}</td>\n",
       "      <td>NaN</td>\n",
       "      <td>NaN</td>\n",
       "      <td>NaN</td>\n",
       "      <td>...</td>\n",
       "      <td>0x2df1475b5204db5d:0xbd89f03e103910b3</td>\n",
       "      <td>[{\"title\":\"All\",\"image\":\"https://lh5.googleuse...</td>\n",
       "      <td>NaN</td>\n",
       "      <td>NaN</td>\n",
       "      <td>{\"link\":\"\",\"source\":\"\"}</td>\n",
       "      <td>{\"id\":\"\",\"name\":\"Melawai Beach (Owner)\",\"link\"...</td>\n",
       "      <td>{\"borough\":\"Prapatan, Balikpapan Kota\",\"street...</td>\n",
       "      <td>[{\"id\":\"accessibility\",\"name\":\"Accessibility\",...</td>\n",
       "      <td>[{\"Name\":\"Yohana Marpaung\",\"ProfilePicture\":\"h...</td>\n",
       "      <td>NaN</td>\n",
       "    </tr>\n",
       "    <tr>\n",
       "      <th>2</th>\n",
       "      <td>41d799bc-125a-46db-879b-30f765dd9297</td>\n",
       "      <td>NaN</td>\n",
       "      <td>Taman Bekapai</td>\n",
       "      <td>Park</td>\n",
       "      <td>Jl. Jenderal Sudirman No.86, RT.11/RW.Dokmm......</td>\n",
       "      <td>{\"Friday\":[\"Open 24 hours\"],\"Monday\":[\"Open 24...</td>\n",
       "      <td>{\"Friday\":{\"0\":26,\"1\":14,\"10\":21,\"11\":20,\"12\":...</td>\n",
       "      <td>NaN</td>\n",
       "      <td>NaN</td>\n",
       "      <td>PRFM+6H Damai, Balikpapan City, East Kalimantan</td>\n",
       "      <td>...</td>\n",
       "      <td>0x2df146dd670a79b5:0x4549831c58987caf</td>\n",
       "      <td>[{\"title\":\"All\",\"image\":\"https://lh5.googleuse...</td>\n",
       "      <td>NaN</td>\n",
       "      <td>NaN</td>\n",
       "      <td>{\"link\":\"\",\"source\":\"\"}</td>\n",
       "      <td>{\"id\":\"104855218368815216335\",\"name\":\"Taman Be...</td>\n",
       "      <td>{\"borough\":\"Damai, Balikpapan Kota\",\"street\":\"...</td>\n",
       "      <td>[{\"id\":\"amenities\",\"name\":\"Amenities\",\"options...</td>\n",
       "      <td>[{\"Name\":\"Merry Gabriella GM\",\"ProfilePicture\"...</td>\n",
       "      <td>NaN</td>\n",
       "    </tr>\n",
       "    <tr>\n",
       "      <th>3</th>\n",
       "      <td>41d799bc-125a-46db-879b-30f765dd9297</td>\n",
       "      <td>NaN</td>\n",
       "      <td>Kawasan Kampung Atas Air</td>\n",
       "      <td>Tourist attraction</td>\n",
       "      <td>Jl. Sepaku Laut, Marga Sari, Balikpapan Barat,...</td>\n",
       "      <td>{\"Friday\":[\"Open 24 hours\"],\"Monday\":[\"Open 24...</td>\n",
       "      <td>{\"Friday\":{\"0\":34,\"1\":19,\"10\":14,\"11\":13,\"12\":...</td>\n",
       "      <td>NaN</td>\n",
       "      <td>NaN</td>\n",
       "      <td>QR68+M6 Marga Sari, Balikpapan City, East Kali...</td>\n",
       "      <td>...</td>\n",
       "      <td>0x2df147eac4a457e5:0x6669531c49ad7083</td>\n",
       "      <td>[{\"title\":\"All\",\"image\":\"https://lh5.googleuse...</td>\n",
       "      <td>NaN</td>\n",
       "      <td>NaN</td>\n",
       "      <td>{\"link\":\"\",\"source\":\"\"}</td>\n",
       "      <td>{\"id\":\"112126339423361384854\",\"name\":\"Kawasan ...</td>\n",
       "      <td>{\"borough\":\"Marga Sari, Balikpapan Barat\",\"str...</td>\n",
       "      <td>[{\"id\":\"accessibility\",\"name\":\"Accessibility\",...</td>\n",
       "      <td>[{\"Name\":\"laela kamalina\",\"ProfilePicture\":\"ht...</td>\n",
       "      <td>NaN</td>\n",
       "    </tr>\n",
       "    <tr>\n",
       "      <th>4</th>\n",
       "      <td>41d799bc-125a-46db-879b-30f765dd9297</td>\n",
       "      <td>NaN</td>\n",
       "      <td>Pantai Auri Sepinggan</td>\n",
       "      <td>Tourist attraction</td>\n",
       "      <td>PWQ9+WF7 Pantai Auri Sepinggan, Sepinggan, Bal...</td>\n",
       "      <td>{}</td>\n",
       "      <td>{}</td>\n",
       "      <td>NaN</td>\n",
       "      <td>NaN</td>\n",
       "      <td>NaN</td>\n",
       "      <td>...</td>\n",
       "      <td>0x2df144487d3742e7:0xaa8aad6c06762781</td>\n",
       "      <td>[{\"title\":\"All\",\"image\":\"https://lh5.googleuse...</td>\n",
       "      <td>NaN</td>\n",
       "      <td>NaN</td>\n",
       "      <td>{\"link\":\"\",\"source\":\"\"}</td>\n",
       "      <td>{\"id\":\"\",\"name\":\"Pantai Auri Sepinggan (Owner)...</td>\n",
       "      <td>{\"borough\":\"Sepinggan, Balikpapan Selatan\",\"st...</td>\n",
       "      <td>[{\"id\":\"accessibility\",\"name\":\"Accessibility\",...</td>\n",
       "      <td>[{\"Name\":\"Gagas Catur Gunawan (Gega)\",\"Profile...</td>\n",
       "      <td>NaN</td>\n",
       "    </tr>\n",
       "  </tbody>\n",
       "</table>\n",
       "<p>5 rows × 32 columns</p>\n",
       "</div>"
      ],
      "text/plain": [
       "                               input_id  link                     title  \\\n",
       "0  41d799bc-125a-46db-879b-30f765dd9297   NaN             Monpera Beach   \n",
       "1  41d799bc-125a-46db-879b-30f765dd9297   NaN             Melawai Beach   \n",
       "2  41d799bc-125a-46db-879b-30f765dd9297   NaN             Taman Bekapai   \n",
       "3  41d799bc-125a-46db-879b-30f765dd9297   NaN  Kawasan Kampung Atas Air   \n",
       "4  41d799bc-125a-46db-879b-30f765dd9297   NaN     Pantai Auri Sepinggan   \n",
       "\n",
       "             category                                            address  \\\n",
       "0  Tourist attraction  Jl. Jenderal Sudirman No.1, RT.11, Klandasan U...   \n",
       "1  Tourist attraction  PRC6+F2P Melawai Beach, Jl. Pelabuhan Semayang...   \n",
       "2                Park  Jl. Jenderal Sudirman No.86, RT.11/RW.Dokmm......   \n",
       "3  Tourist attraction  Jl. Sepaku Laut, Marga Sari, Balikpapan Barat,...   \n",
       "4  Tourist attraction  PWQ9+WF7 Pantai Auri Sepinggan, Sepinggan, Bal...   \n",
       "\n",
       "                                          open_hours  \\\n",
       "0  {\"Friday\":[\"Open 24 hours\"],\"Monday\":[\"Open 24...   \n",
       "1                                                 {}   \n",
       "2  {\"Friday\":[\"Open 24 hours\"],\"Monday\":[\"Open 24...   \n",
       "3  {\"Friday\":[\"Open 24 hours\"],\"Monday\":[\"Open 24...   \n",
       "4                                                 {}   \n",
       "\n",
       "                                       popular_times website phone  \\\n",
       "0  {\"Friday\":{\"0\":34,\"1\":22,\"10\":15,\"11\":14,\"12\":...     NaN   NaN   \n",
       "1                                                 {}     NaN   NaN   \n",
       "2  {\"Friday\":{\"0\":26,\"1\":14,\"10\":21,\"11\":20,\"12\":...     NaN   NaN   \n",
       "3  {\"Friday\":{\"0\":34,\"1\":19,\"10\":14,\"11\":13,\"12\":...     NaN   NaN   \n",
       "4                                                 {}     NaN   NaN   \n",
       "\n",
       "                                           plus_code  ...  \\\n",
       "0  PRCC+3Q Klandasan Ulu, Balikpapan City, East K...  ...   \n",
       "1                                                NaN  ...   \n",
       "2    PRFM+6H Damai, Balikpapan City, East Kalimantan  ...   \n",
       "3  QR68+M6 Marga Sari, Balikpapan City, East Kali...  ...   \n",
       "4                                                NaN  ...   \n",
       "\n",
       "                                 data_id  \\\n",
       "0  0x2df147378e8bf761:0x1611058c17e8c0c9   \n",
       "1  0x2df1475b5204db5d:0xbd89f03e103910b3   \n",
       "2  0x2df146dd670a79b5:0x4549831c58987caf   \n",
       "3  0x2df147eac4a457e5:0x6669531c49ad7083   \n",
       "4  0x2df144487d3742e7:0xaa8aad6c06762781   \n",
       "\n",
       "                                              images reservations  \\\n",
       "0  [{\"title\":\"All\",\"image\":\"https://lh5.googleuse...          NaN   \n",
       "1  [{\"title\":\"All\",\"image\":\"https://lh5.googleuse...          NaN   \n",
       "2  [{\"title\":\"All\",\"image\":\"https://lh5.googleuse...          NaN   \n",
       "3  [{\"title\":\"All\",\"image\":\"https://lh5.googleuse...          NaN   \n",
       "4  [{\"title\":\"All\",\"image\":\"https://lh5.googleuse...          NaN   \n",
       "\n",
       "   order_online                     menu  \\\n",
       "0           NaN  {\"link\":\"\",\"source\":\"\"}   \n",
       "1           NaN  {\"link\":\"\",\"source\":\"\"}   \n",
       "2           NaN  {\"link\":\"\",\"source\":\"\"}   \n",
       "3           NaN  {\"link\":\"\",\"source\":\"\"}   \n",
       "4           NaN  {\"link\":\"\",\"source\":\"\"}   \n",
       "\n",
       "                                               owner  \\\n",
       "0  {\"id\":\"\",\"name\":\"Monpera Beach (Owner)\",\"link\"...   \n",
       "1  {\"id\":\"\",\"name\":\"Melawai Beach (Owner)\",\"link\"...   \n",
       "2  {\"id\":\"104855218368815216335\",\"name\":\"Taman Be...   \n",
       "3  {\"id\":\"112126339423361384854\",\"name\":\"Kawasan ...   \n",
       "4  {\"id\":\"\",\"name\":\"Pantai Auri Sepinggan (Owner)...   \n",
       "\n",
       "                                    complete_address  \\\n",
       "0  {\"borough\":\"Klandasan Ulu, Balikpapan Kota\",\"s...   \n",
       "1  {\"borough\":\"Prapatan, Balikpapan Kota\",\"street...   \n",
       "2  {\"borough\":\"Damai, Balikpapan Kota\",\"street\":\"...   \n",
       "3  {\"borough\":\"Marga Sari, Balikpapan Barat\",\"str...   \n",
       "4  {\"borough\":\"Sepinggan, Balikpapan Selatan\",\"st...   \n",
       "\n",
       "                                               about  \\\n",
       "0  [{\"id\":\"accessibility\",\"name\":\"Accessibility\",...   \n",
       "1  [{\"id\":\"accessibility\",\"name\":\"Accessibility\",...   \n",
       "2  [{\"id\":\"amenities\",\"name\":\"Amenities\",\"options...   \n",
       "3  [{\"id\":\"accessibility\",\"name\":\"Accessibility\",...   \n",
       "4  [{\"id\":\"accessibility\",\"name\":\"Accessibility\",...   \n",
       "\n",
       "                                        user_reviews emails  \n",
       "0  [{\"Name\":\"Kanjeng Lia\",\"ProfilePicture\":\"https...    NaN  \n",
       "1  [{\"Name\":\"Yohana Marpaung\",\"ProfilePicture\":\"h...    NaN  \n",
       "2  [{\"Name\":\"Merry Gabriella GM\",\"ProfilePicture\"...    NaN  \n",
       "3  [{\"Name\":\"laela kamalina\",\"ProfilePicture\":\"ht...    NaN  \n",
       "4  [{\"Name\":\"Gagas Catur Gunawan (Gega)\",\"Profile...    NaN  \n",
       "\n",
       "[5 rows x 32 columns]"
      ]
     },
     "execution_count": 371,
     "metadata": {},
     "output_type": "execute_result"
    }
   ],
   "source": [
    "df = pd.read_csv('dataset\\data-review-indo2.csv')\n",
    "df.head(5)"
   ]
  },
  {
   "cell_type": "code",
   "execution_count": 372,
   "metadata": {},
   "outputs": [
    {
     "data": {
      "text/plain": [
       "(267, 32)"
      ]
     },
     "execution_count": 372,
     "metadata": {},
     "output_type": "execute_result"
    }
   ],
   "source": [
    "df.shape"
   ]
  },
  {
   "cell_type": "code",
   "execution_count": 373,
   "metadata": {},
   "outputs": [
    {
     "data": {
      "text/plain": [
       "Index(['input_id', 'link', 'title', 'category', 'address', 'open_hours',\n",
       "       'popular_times', 'website', 'phone', 'plus_code', 'review_count',\n",
       "       'review_rating', 'reviews_per_rating', 'latitude', 'longitude', 'cid',\n",
       "       'status', 'descriptions', 'reviews_link', 'thumbnail', 'timezone',\n",
       "       'price_range', 'data_id', 'images', 'reservations', 'order_online',\n",
       "       'menu', 'owner', 'complete_address', 'about', 'user_reviews', 'emails'],\n",
       "      dtype='object')"
      ]
     },
     "execution_count": 373,
     "metadata": {},
     "output_type": "execute_result"
    }
   ],
   "source": [
    "df.columns"
   ]
  },
  {
   "cell_type": "code",
   "execution_count": 374,
   "metadata": {},
   "outputs": [
    {
     "data": {
      "text/plain": [
       "267"
      ]
     },
     "execution_count": 374,
     "metadata": {},
     "output_type": "execute_result"
    }
   ],
   "source": [
    "len(df['title'])"
   ]
  },
  {
   "cell_type": "code",
   "execution_count": 375,
   "metadata": {},
   "outputs": [
    {
     "data": {
      "text/plain": [
       "267"
      ]
     },
     "execution_count": 375,
     "metadata": {},
     "output_type": "execute_result"
    }
   ],
   "source": [
    "len(df['user_reviews'])"
   ]
  },
  {
   "cell_type": "code",
   "execution_count": 376,
   "metadata": {},
   "outputs": [],
   "source": [
    "def extract_descriptions(user_reviews):\n",
    "    try:\n",
    "        reviews = json.loads(user_reviews)\n",
    "        return [review[\"Description\"] for review in reviews]\n",
    "    except (json.JSONDecodeError, TypeError):\n",
    "        return []"
   ]
  },
  {
   "cell_type": "code",
   "execution_count": 377,
   "metadata": {},
   "outputs": [],
   "source": [
    "df['review'] = df['user_reviews'].apply(extract_descriptions)"
   ]
  },
  {
   "cell_type": "code",
   "execution_count": 378,
   "metadata": {},
   "outputs": [
    {
     "data": {
      "text/plain": [
       "['Pantai lepas ny lumayan kotor 🙏 wkt ksna sampah plastik dmn mn, entah gda pngrusny apa bgmn.\\nUntuk motor/mobil masukny 5rb. Hrg mknn standar, bakso/mie ayam 15rb. Org kbnykn nyebutny pantai monumen.',\n",
       " 'Monumen tempat healing murah dan mudah di tengah kota Balikpapan. Sepi di wikdey sore. Ikon kota yang sudah lama ada di Balikpapan. Sayang kebersihannya masih kurang terjaga dan penataan tamannya juga tidak indah, kurang terawat.',\n",
       " \"İt's really nice. Water is super warm. But there is a lot of trash including some broken glass when we went and lots of coral so walking with shoes is a good idea. Low tide is usually around afternoon it's a pretty  far walk from the shore to the water at that time. i was told early morning and evening around 4pm is usually high tide good for swimming closer to the shore.  Non the less we had a good time at beach. Good idea to bring sun lotion!!!!!\",\n",
       " 'Wisata pantai yg bagus berada di tengah kota, Banyak spot foto. Jajanan. Murah meriah',\n",
       " 'Wisata pantai yang sangat indah, dengan tarif yang lumayan murah, banyak spot fotonya, ada kafe Hitam Manis juga, namun minusnya bagian monumen yang kolam-kolam, sangat banyak sekali sampah botol, tolong untuk lebih menjaga kebersihan lingkungan pantainya, agar terawat',\n",
       " \"Taman yang komplit. Ada taman, pantai, penjual makanan minuman, area main anak seperti pasar malam juga ada.\\nBeberapa fasilitas kurang terawat, seperti mushola kecil ini, karena pas sebelahan dengan toilet lumayan bau, kurang nyaman bgt ibadah di situ :'\\nMasuk cukup bayar parkir motor 2000, mobil 5000\",\n",
       " 'Tiket masuk murah untuk motor 3 ribu rupiah\\nuntuk mobil 7-10ribu rupiah . Untuk toilet mending gunakan yg di samping gedung serbaguna tni, karena lebih bersih dan airnya melimpah.',\n",
       " 'Tempatnya lumayan bersih dan nyaman, tidak terlalu ramai pengunjung jadi bisa bebas bermain dan berfoto.']"
      ]
     },
     "execution_count": 378,
     "metadata": {},
     "output_type": "execute_result"
    }
   ],
   "source": [
    "df['review'][0]"
   ]
  },
  {
   "cell_type": "code",
   "execution_count": 379,
   "metadata": {},
   "outputs": [],
   "source": [
    "df['review'] = df['review'].astype('str')\n",
    "\n",
    "df['review'] = df['review'].str.replace('[', '')\n",
    "df['review'] = df['review'].str.replace('\\\\n', '')\n",
    "df['review'] = df['review'].str.replace(\"'\", '')\n",
    "df['review'] = df['review'].str.replace(']', '')"
   ]
  },
  {
   "cell_type": "code",
   "execution_count": 380,
   "metadata": {},
   "outputs": [
    {
     "data": {
      "text/plain": [
       "'Pantai lepas ny lumayan kotor 🙏 wkt ksna sampah plastik dmn mn, entah gda pngrusny apa bgmn.Untuk motor/mobil masukny 5rb. Hrg mknn standar, bakso/mie ayam 15rb. Org kbnykn nyebutny pantai monumen., Monumen tempat healing murah dan mudah di tengah kota Balikpapan. Sepi di wikdey sore. Ikon kota yang sudah lama ada di Balikpapan. Sayang kebersihannya masih kurang terjaga dan penataan tamannya juga tidak indah, kurang terawat., \"İts really nice. Water is super warm. But there is a lot of trash including some broken glass when we went and lots of coral so walking with shoes is a good idea. Low tide is usually around afternoon its a pretty  far walk from the shore to the water at that time. i was told early morning and evening around 4pm is usually high tide good for swimming closer to the shore.  Non the less we had a good time at beach. Good idea to bring sun lotion!!!!!\", Wisata pantai yg bagus berada di tengah kota, Banyak spot foto. Jajanan. Murah meriah, Wisata pantai yang sangat indah, dengan tarif yang lumayan murah, banyak spot fotonya, ada kafe Hitam Manis juga, namun minusnya bagian monumen yang kolam-kolam, sangat banyak sekali sampah botol, tolong untuk lebih menjaga kebersihan lingkungan pantainya, agar terawat, \"Taman yang komplit. Ada taman, pantai, penjual makanan minuman, area main anak seperti pasar malam juga ada.Beberapa fasilitas kurang terawat, seperti mushola kecil ini, karena pas sebelahan dengan toilet lumayan bau, kurang nyaman bgt ibadah di situ :Masuk cukup bayar parkir motor 2000, mobil 5000\", Tiket masuk murah untuk motor 3 ribu rupiahuntuk mobil 7-10ribu rupiah . Untuk toilet mending gunakan yg di samping gedung serbaguna tni, karena lebih bersih dan airnya melimpah., Tempatnya lumayan bersih dan nyaman, tidak terlalu ramai pengunjung jadi bisa bebas bermain dan berfoto.'"
      ]
     },
     "execution_count": 380,
     "metadata": {},
     "output_type": "execute_result"
    }
   ],
   "source": [
    "df['review'][0]"
   ]
  },
  {
   "cell_type": "code",
   "execution_count": 381,
   "metadata": {},
   "outputs": [
    {
     "data": {
      "text/plain": [
       "Index(['input_id', 'link', 'title', 'category', 'address', 'open_hours',\n",
       "       'popular_times', 'website', 'phone', 'plus_code', 'review_count',\n",
       "       'review_rating', 'reviews_per_rating', 'latitude', 'longitude', 'cid',\n",
       "       'status', 'descriptions', 'reviews_link', 'thumbnail', 'timezone',\n",
       "       'price_range', 'data_id', 'images', 'reservations', 'order_online',\n",
       "       'menu', 'owner', 'complete_address', 'about', 'user_reviews', 'emails',\n",
       "       'review'],\n",
       "      dtype='object')"
      ]
     },
     "execution_count": 381,
     "metadata": {},
     "output_type": "execute_result"
    }
   ],
   "source": [
    "df.columns"
   ]
  },
  {
   "cell_type": "code",
   "execution_count": 382,
   "metadata": {},
   "outputs": [
    {
     "data": {
      "text/html": [
       "<div>\n",
       "<style scoped>\n",
       "    .dataframe tbody tr th:only-of-type {\n",
       "        vertical-align: middle;\n",
       "    }\n",
       "\n",
       "    .dataframe tbody tr th {\n",
       "        vertical-align: top;\n",
       "    }\n",
       "\n",
       "    .dataframe thead th {\n",
       "        text-align: right;\n",
       "    }\n",
       "</style>\n",
       "<table border=\"1\" class=\"dataframe\">\n",
       "  <thead>\n",
       "    <tr style=\"text-align: right;\">\n",
       "      <th></th>\n",
       "      <th>title</th>\n",
       "      <th>review</th>\n",
       "    </tr>\n",
       "  </thead>\n",
       "  <tbody>\n",
       "    <tr>\n",
       "      <th>0</th>\n",
       "      <td>Monpera Beach</td>\n",
       "      <td>Pantai lepas ny lumayan kotor 🙏 wkt ksna sampa...</td>\n",
       "    </tr>\n",
       "    <tr>\n",
       "      <th>1</th>\n",
       "      <td>Melawai Beach</td>\n",
       "      <td>Lokasinya sekitar 20-30 menit dari bandara.Pan...</td>\n",
       "    </tr>\n",
       "    <tr>\n",
       "      <th>2</th>\n",
       "      <td>Taman Bekapai</td>\n",
       "      <td>Semoga tetap terjaga kebersihannya. Lokasi tam...</td>\n",
       "    </tr>\n",
       "    <tr>\n",
       "      <th>3</th>\n",
       "      <td>Kawasan Kampung Atas Air</td>\n",
       "      <td>Tempat ini cocok sekali untuk foto foto! Sanga...</td>\n",
       "    </tr>\n",
       "    <tr>\n",
       "      <th>4</th>\n",
       "      <td>Pantai Auri Sepinggan</td>\n",
       "      <td>Nyaman untuk menyendiriAda beberapa gazebo yan...</td>\n",
       "    </tr>\n",
       "  </tbody>\n",
       "</table>\n",
       "</div>"
      ],
      "text/plain": [
       "                      title                                             review\n",
       "0             Monpera Beach  Pantai lepas ny lumayan kotor 🙏 wkt ksna sampa...\n",
       "1             Melawai Beach  Lokasinya sekitar 20-30 menit dari bandara.Pan...\n",
       "2             Taman Bekapai  Semoga tetap terjaga kebersihannya. Lokasi tam...\n",
       "3  Kawasan Kampung Atas Air  Tempat ini cocok sekali untuk foto foto! Sanga...\n",
       "4     Pantai Auri Sepinggan  Nyaman untuk menyendiriAda beberapa gazebo yan..."
      ]
     },
     "execution_count": 382,
     "metadata": {},
     "output_type": "execute_result"
    }
   ],
   "source": [
    "df_clean = df[['title', 'review']]\n",
    "df_clean.head()"
   ]
  }
 ],
 "metadata": {
  "kernelspec": {
   "display_name": "notebook",
   "language": "python",
   "name": "python3"
  },
  "language_info": {
   "codemirror_mode": {
    "name": "ipython",
    "version": 3
   },
   "file_extension": ".py",
   "mimetype": "text/x-python",
   "name": "python",
   "nbconvert_exporter": "python",
   "pygments_lexer": "ipython3",
   "version": "3.10.13"
  },
  "orig_nbformat": 4
 },
 "nbformat": 4,
 "nbformat_minor": 2
}
