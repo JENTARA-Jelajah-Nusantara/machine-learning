{
 "cells": [
  {
   "cell_type": "markdown",
   "metadata": {},
   "source": [
    "# Preprocessing data"
   ]
  },
  {
   "cell_type": "code",
   "execution_count": 105,
   "metadata": {},
   "outputs": [],
   "source": [
    "import pandas as pd\n",
    "import json\n",
    "from sklearn.utils import resample\n",
    "import matplotlib.pyplot as plt"
   ]
  },
  {
   "cell_type": "code",
   "execution_count": 106,
   "metadata": {},
   "outputs": [
    {
     "data": {
      "text/plain": [
       "(954, 32)"
      ]
     },
     "execution_count": 106,
     "metadata": {},
     "output_type": "execute_result"
    }
   ],
   "source": [
    "df = pd.read_csv('dataset\\data-review-final.csv')\n",
    "df.shape"
   ]
  },
  {
   "cell_type": "code",
   "execution_count": 107,
   "metadata": {},
   "outputs": [
    {
     "name": "stdout",
     "output_type": "stream",
     "text": [
      "<class 'pandas.core.frame.DataFrame'>\n",
      "RangeIndex: 954 entries, 0 to 953\n",
      "Data columns (total 32 columns):\n",
      " #   Column              Non-Null Count  Dtype  \n",
      "---  ------              --------------  -----  \n",
      " 0   input_id            954 non-null    object \n",
      " 1   link                0 non-null      float64\n",
      " 2   title               954 non-null    object \n",
      " 3   category            953 non-null    object \n",
      " 4   address             954 non-null    object \n",
      " 5   open_hours          954 non-null    object \n",
      " 6   popular_times       954 non-null    object \n",
      " 7   website             173 non-null    object \n",
      " 8   phone               319 non-null    object \n",
      " 9   plus_code           501 non-null    object \n",
      " 10  review_count        954 non-null    int64  \n",
      " 11  review_rating       954 non-null    float64\n",
      " 12  reviews_per_rating  954 non-null    object \n",
      " 13  latitude            954 non-null    float64\n",
      " 14  longitude           954 non-null    float64\n",
      " 15  cid                 954 non-null    uint64 \n",
      " 16  status              717 non-null    object \n",
      " 17  descriptions        264 non-null    object \n",
      " 18  reviews_link        937 non-null    object \n",
      " 19  thumbnail           952 non-null    object \n",
      " 20  timezone            952 non-null    object \n",
      " 21  price_range         5 non-null      object \n",
      " 22  data_id             954 non-null    object \n",
      " 23  images              954 non-null    object \n",
      " 24  reservations        0 non-null      float64\n",
      " 25  order_online        14 non-null     object \n",
      " 26  menu                954 non-null    object \n",
      " 27  owner               954 non-null    object \n",
      " 28  complete_address    954 non-null    object \n",
      " 29  about               909 non-null    object \n",
      " 30  user_reviews        936 non-null    object \n",
      " 31  emails              0 non-null      float64\n",
      "dtypes: float64(6), int64(1), object(24), uint64(1)\n",
      "memory usage: 238.6+ KB\n"
     ]
    }
   ],
   "source": [
    "df.info()"
   ]
  },
  {
   "cell_type": "code",
   "execution_count": 108,
   "metadata": {},
   "outputs": [
    {
     "data": {
      "text/html": [
       "<div>\n",
       "<style scoped>\n",
       "    .dataframe tbody tr th:only-of-type {\n",
       "        vertical-align: middle;\n",
       "    }\n",
       "\n",
       "    .dataframe tbody tr th {\n",
       "        vertical-align: top;\n",
       "    }\n",
       "\n",
       "    .dataframe thead th {\n",
       "        text-align: right;\n",
       "    }\n",
       "</style>\n",
       "<table border=\"1\" class=\"dataframe\">\n",
       "  <thead>\n",
       "    <tr style=\"text-align: right;\">\n",
       "      <th></th>\n",
       "      <th>input_id</th>\n",
       "      <th>link</th>\n",
       "      <th>title</th>\n",
       "      <th>category</th>\n",
       "      <th>address</th>\n",
       "      <th>open_hours</th>\n",
       "      <th>popular_times</th>\n",
       "      <th>website</th>\n",
       "      <th>phone</th>\n",
       "      <th>plus_code</th>\n",
       "      <th>...</th>\n",
       "      <th>data_id</th>\n",
       "      <th>images</th>\n",
       "      <th>reservations</th>\n",
       "      <th>order_online</th>\n",
       "      <th>menu</th>\n",
       "      <th>owner</th>\n",
       "      <th>complete_address</th>\n",
       "      <th>about</th>\n",
       "      <th>user_reviews</th>\n",
       "      <th>emails</th>\n",
       "    </tr>\n",
       "  </thead>\n",
       "  <tbody>\n",
       "    <tr>\n",
       "      <th>0</th>\n",
       "      <td>0fff97bc-cece-4edd-ab0d-b4ad6eb62860</td>\n",
       "      <td>NaN</td>\n",
       "      <td>Vihara Dhamma Sundara</td>\n",
       "      <td>Buddhist temple</td>\n",
       "      <td>Jl. Ir. Juanda No.223B, Pucangsawit, Jebres, S...</td>\n",
       "      <td>{\"Friday\":[\"9.00 am–5.00 pm\"],\"Monday\":[\"9.00 ...</td>\n",
       "      <td>{}</td>\n",
       "      <td>NaN</td>\n",
       "      <td>(0271) 643749</td>\n",
       "      <td>CRJX+3G Pucangsawit, Surakarta City, Central Java</td>\n",
       "      <td>...</td>\n",
       "      <td>0x2e7a16582f12c515:0x16fa374ebaeeeecd</td>\n",
       "      <td>[{\"title\":\"All\",\"image\":\"https://lh5.googleuse...</td>\n",
       "      <td>NaN</td>\n",
       "      <td>NaN</td>\n",
       "      <td>{\"link\":\"\",\"source\":\"\"}</td>\n",
       "      <td>{\"id\":\"111828298465089363475\",\"name\":\"Vihara D...</td>\n",
       "      <td>{\"borough\":\"Pucangsawit, Jebres\",\"street\":\"Jl....</td>\n",
       "      <td>[{\"id\":\"accessibility\",\"name\":\"Accessibility\",...</td>\n",
       "      <td>[{\"Name\":\"Mettaxiumei\",\"ProfilePicture\":\"https...</td>\n",
       "      <td>NaN</td>\n",
       "    </tr>\n",
       "    <tr>\n",
       "      <th>1</th>\n",
       "      <td>0fff97bc-cece-4edd-ab0d-b4ad6eb62860</td>\n",
       "      <td>NaN</td>\n",
       "      <td>Tirtonadi Park</td>\n",
       "      <td>Park</td>\n",
       "      <td>Jl. A. Yani, Gilingan, Banjarsari, Surakarta C...</td>\n",
       "      <td>{\"Friday\":[\"Open 24 hours\"],\"Monday\":[\"Open 24...</td>\n",
       "      <td>{\"Friday\":{\"0\":33,\"1\":20,\"10\":5,\"11\":5,\"12\":6,...</td>\n",
       "      <td>NaN</td>\n",
       "      <td>NaN</td>\n",
       "      <td>CRXC+95 Gilingan, Surakarta City, Central Java</td>\n",
       "      <td>...</td>\n",
       "      <td>0x2e7a1697336d25e1:0x9e965d10ffb23cc2</td>\n",
       "      <td>[{\"title\":\"All\",\"image\":\"https://lh5.googleuse...</td>\n",
       "      <td>NaN</td>\n",
       "      <td>NaN</td>\n",
       "      <td>{\"link\":\"\",\"source\":\"\"}</td>\n",
       "      <td>{\"id\":\"104418315103655540738\",\"name\":\"Tirtonad...</td>\n",
       "      <td>{\"borough\":\"Gilingan, Banjarsari\",\"street\":\"Jl...</td>\n",
       "      <td>[{\"id\":\"accessibility\",\"name\":\"Accessibility\",...</td>\n",
       "      <td>[{\"Name\":\"M Bad.\",\"ProfilePicture\":\"https://lh...</td>\n",
       "      <td>NaN</td>\n",
       "    </tr>\n",
       "    <tr>\n",
       "      <th>2</th>\n",
       "      <td>0fff97bc-cece-4edd-ab0d-b4ad6eb62860</td>\n",
       "      <td>NaN</td>\n",
       "      <td>Ngarsopuro Night Market</td>\n",
       "      <td>Night market</td>\n",
       "      <td>Jl. Diponegoro, Keprabon, Banjarsari, Surakart...</td>\n",
       "      <td>{\"Friday\":[\"5.00–11.00 pm\"],\"Monday\":[\"Closed\"...</td>\n",
       "      <td>{}</td>\n",
       "      <td>NaN</td>\n",
       "      <td>0838-1943-4232</td>\n",
       "      <td>CRJC+GW Keprabon, Surakarta City, Central Java</td>\n",
       "      <td>...</td>\n",
       "      <td>0x2e7a166287cccb57:0xbba4b465bfa08dcc</td>\n",
       "      <td>[{\"title\":\"All\",\"image\":\"https://lh5.googleuse...</td>\n",
       "      <td>NaN</td>\n",
       "      <td>NaN</td>\n",
       "      <td>{\"link\":\"\",\"source\":\"\"}</td>\n",
       "      <td>{\"id\":\"109298893982878160837\",\"name\":\"Ngarsopu...</td>\n",
       "      <td>{\"borough\":\"Keprabon, Banjarsari\",\"street\":\"Jl...</td>\n",
       "      <td>[{\"id\":\"service_options\",\"name\":\"Service optio...</td>\n",
       "      <td>[{\"Name\":\"Putra Satria\",\"ProfilePicture\":\"http...</td>\n",
       "      <td>NaN</td>\n",
       "    </tr>\n",
       "    <tr>\n",
       "      <th>3</th>\n",
       "      <td>0fff97bc-cece-4edd-ab0d-b4ad6eb62860</td>\n",
       "      <td>NaN</td>\n",
       "      <td>Sriwedari Park</td>\n",
       "      <td>Park</td>\n",
       "      <td>Slamet Riyadi St No.275, Sriwedari, Laweyan, S...</td>\n",
       "      <td>{\"Friday\":[\"Open 24 hours\"],\"Monday\":[\"Open 24...</td>\n",
       "      <td>{\"Friday\":{\"0\":5,\"1\":2,\"10\":9,\"11\":10,\"12\":10,...</td>\n",
       "      <td>NaN</td>\n",
       "      <td>NaN</td>\n",
       "      <td>CRJ7+H5 Sriwedari, Surakarta City, Central Java</td>\n",
       "      <td>...</td>\n",
       "      <td>0x2e7a1680a93d3af1:0x7e1dfa994e59efcf</td>\n",
       "      <td>[{\"title\":\"All\",\"image\":\"https://lh5.googleuse...</td>\n",
       "      <td>NaN</td>\n",
       "      <td>NaN</td>\n",
       "      <td>{\"link\":\"\",\"source\":\"\"}</td>\n",
       "      <td>{\"id\":\"\",\"name\":\"Sriwedari Park (Owner)\",\"link...</td>\n",
       "      <td>{\"borough\":\"Sriwedari, Laweyan\",\"street\":\"Slam...</td>\n",
       "      <td>[{\"id\":\"accessibility\",\"name\":\"Accessibility\",...</td>\n",
       "      <td>[{\"Name\":\"Desy Natalia\",\"ProfilePicture\":\"http...</td>\n",
       "      <td>NaN</td>\n",
       "    </tr>\n",
       "    <tr>\n",
       "      <th>4</th>\n",
       "      <td>0fff97bc-cece-4edd-ab0d-b4ad6eb62860</td>\n",
       "      <td>NaN</td>\n",
       "      <td>Monument 45 Banjarsari Park</td>\n",
       "      <td>Memorial park</td>\n",
       "      <td>CRQG+RHP Monument 45 Banjarsari Park, Setabela...</td>\n",
       "      <td>{\"Friday\":[\"Open 24 hours\"],\"Monday\":[\"Open 24...</td>\n",
       "      <td>{\"Friday\":{\"0\":12,\"1\":8,\"10\":64,\"11\":55,\"12\":4...</td>\n",
       "      <td>http://surakarta.go.id/</td>\n",
       "      <td>NaN</td>\n",
       "      <td>NaN</td>\n",
       "      <td>...</td>\n",
       "      <td>0x2e7a168c33aa2a01:0x3c93de4d15b801f9</td>\n",
       "      <td>[{\"title\":\"All\",\"image\":\"https://lh5.googleuse...</td>\n",
       "      <td>NaN</td>\n",
       "      <td>NaN</td>\n",
       "      <td>{\"link\":\"\",\"source\":\"\"}</td>\n",
       "      <td>{\"id\":\"\",\"name\":\"Monument 45 Banjarsari Park (...</td>\n",
       "      <td>{\"borough\":\"Setabelan, Banjarsari\",\"street\":\"C...</td>\n",
       "      <td>[{\"id\":\"accessibility\",\"name\":\"Accessibility\",...</td>\n",
       "      <td>[{\"Name\":\"Marsepti Ndaruwati\",\"ProfilePicture\"...</td>\n",
       "      <td>NaN</td>\n",
       "    </tr>\n",
       "  </tbody>\n",
       "</table>\n",
       "<p>5 rows × 32 columns</p>\n",
       "</div>"
      ],
      "text/plain": [
       "                               input_id  link                        title  \\\n",
       "0  0fff97bc-cece-4edd-ab0d-b4ad6eb62860   NaN        Vihara Dhamma Sundara   \n",
       "1  0fff97bc-cece-4edd-ab0d-b4ad6eb62860   NaN               Tirtonadi Park   \n",
       "2  0fff97bc-cece-4edd-ab0d-b4ad6eb62860   NaN      Ngarsopuro Night Market   \n",
       "3  0fff97bc-cece-4edd-ab0d-b4ad6eb62860   NaN               Sriwedari Park   \n",
       "4  0fff97bc-cece-4edd-ab0d-b4ad6eb62860   NaN  Monument 45 Banjarsari Park   \n",
       "\n",
       "          category                                            address  \\\n",
       "0  Buddhist temple  Jl. Ir. Juanda No.223B, Pucangsawit, Jebres, S...   \n",
       "1             Park  Jl. A. Yani, Gilingan, Banjarsari, Surakarta C...   \n",
       "2     Night market  Jl. Diponegoro, Keprabon, Banjarsari, Surakart...   \n",
       "3             Park  Slamet Riyadi St No.275, Sriwedari, Laweyan, S...   \n",
       "4    Memorial park  CRQG+RHP Monument 45 Banjarsari Park, Setabela...   \n",
       "\n",
       "                                          open_hours  \\\n",
       "0  {\"Friday\":[\"9.00 am–5.00 pm\"],\"Monday\":[\"9.00 ...   \n",
       "1  {\"Friday\":[\"Open 24 hours\"],\"Monday\":[\"Open 24...   \n",
       "2  {\"Friday\":[\"5.00–11.00 pm\"],\"Monday\":[\"Closed\"...   \n",
       "3  {\"Friday\":[\"Open 24 hours\"],\"Monday\":[\"Open 24...   \n",
       "4  {\"Friday\":[\"Open 24 hours\"],\"Monday\":[\"Open 24...   \n",
       "\n",
       "                                       popular_times                  website  \\\n",
       "0                                                 {}                      NaN   \n",
       "1  {\"Friday\":{\"0\":33,\"1\":20,\"10\":5,\"11\":5,\"12\":6,...                      NaN   \n",
       "2                                                 {}                      NaN   \n",
       "3  {\"Friday\":{\"0\":5,\"1\":2,\"10\":9,\"11\":10,\"12\":10,...                      NaN   \n",
       "4  {\"Friday\":{\"0\":12,\"1\":8,\"10\":64,\"11\":55,\"12\":4...  http://surakarta.go.id/   \n",
       "\n",
       "            phone                                          plus_code  ...  \\\n",
       "0   (0271) 643749  CRJX+3G Pucangsawit, Surakarta City, Central Java  ...   \n",
       "1             NaN     CRXC+95 Gilingan, Surakarta City, Central Java  ...   \n",
       "2  0838-1943-4232     CRJC+GW Keprabon, Surakarta City, Central Java  ...   \n",
       "3             NaN    CRJ7+H5 Sriwedari, Surakarta City, Central Java  ...   \n",
       "4             NaN                                                NaN  ...   \n",
       "\n",
       "                                 data_id  \\\n",
       "0  0x2e7a16582f12c515:0x16fa374ebaeeeecd   \n",
       "1  0x2e7a1697336d25e1:0x9e965d10ffb23cc2   \n",
       "2  0x2e7a166287cccb57:0xbba4b465bfa08dcc   \n",
       "3  0x2e7a1680a93d3af1:0x7e1dfa994e59efcf   \n",
       "4  0x2e7a168c33aa2a01:0x3c93de4d15b801f9   \n",
       "\n",
       "                                              images reservations  \\\n",
       "0  [{\"title\":\"All\",\"image\":\"https://lh5.googleuse...          NaN   \n",
       "1  [{\"title\":\"All\",\"image\":\"https://lh5.googleuse...          NaN   \n",
       "2  [{\"title\":\"All\",\"image\":\"https://lh5.googleuse...          NaN   \n",
       "3  [{\"title\":\"All\",\"image\":\"https://lh5.googleuse...          NaN   \n",
       "4  [{\"title\":\"All\",\"image\":\"https://lh5.googleuse...          NaN   \n",
       "\n",
       "   order_online                     menu  \\\n",
       "0           NaN  {\"link\":\"\",\"source\":\"\"}   \n",
       "1           NaN  {\"link\":\"\",\"source\":\"\"}   \n",
       "2           NaN  {\"link\":\"\",\"source\":\"\"}   \n",
       "3           NaN  {\"link\":\"\",\"source\":\"\"}   \n",
       "4           NaN  {\"link\":\"\",\"source\":\"\"}   \n",
       "\n",
       "                                               owner  \\\n",
       "0  {\"id\":\"111828298465089363475\",\"name\":\"Vihara D...   \n",
       "1  {\"id\":\"104418315103655540738\",\"name\":\"Tirtonad...   \n",
       "2  {\"id\":\"109298893982878160837\",\"name\":\"Ngarsopu...   \n",
       "3  {\"id\":\"\",\"name\":\"Sriwedari Park (Owner)\",\"link...   \n",
       "4  {\"id\":\"\",\"name\":\"Monument 45 Banjarsari Park (...   \n",
       "\n",
       "                                    complete_address  \\\n",
       "0  {\"borough\":\"Pucangsawit, Jebres\",\"street\":\"Jl....   \n",
       "1  {\"borough\":\"Gilingan, Banjarsari\",\"street\":\"Jl...   \n",
       "2  {\"borough\":\"Keprabon, Banjarsari\",\"street\":\"Jl...   \n",
       "3  {\"borough\":\"Sriwedari, Laweyan\",\"street\":\"Slam...   \n",
       "4  {\"borough\":\"Setabelan, Banjarsari\",\"street\":\"C...   \n",
       "\n",
       "                                               about  \\\n",
       "0  [{\"id\":\"accessibility\",\"name\":\"Accessibility\",...   \n",
       "1  [{\"id\":\"accessibility\",\"name\":\"Accessibility\",...   \n",
       "2  [{\"id\":\"service_options\",\"name\":\"Service optio...   \n",
       "3  [{\"id\":\"accessibility\",\"name\":\"Accessibility\",...   \n",
       "4  [{\"id\":\"accessibility\",\"name\":\"Accessibility\",...   \n",
       "\n",
       "                                        user_reviews emails  \n",
       "0  [{\"Name\":\"Mettaxiumei\",\"ProfilePicture\":\"https...    NaN  \n",
       "1  [{\"Name\":\"M Bad.\",\"ProfilePicture\":\"https://lh...    NaN  \n",
       "2  [{\"Name\":\"Putra Satria\",\"ProfilePicture\":\"http...    NaN  \n",
       "3  [{\"Name\":\"Desy Natalia\",\"ProfilePicture\":\"http...    NaN  \n",
       "4  [{\"Name\":\"Marsepti Ndaruwati\",\"ProfilePicture\"...    NaN  \n",
       "\n",
       "[5 rows x 32 columns]"
      ]
     },
     "execution_count": 108,
     "metadata": {},
     "output_type": "execute_result"
    }
   ],
   "source": [
    "df.head()"
   ]
  },
  {
   "cell_type": "code",
   "execution_count": 109,
   "metadata": {},
   "outputs": [
    {
     "data": {
      "text/html": [
       "<div>\n",
       "<style scoped>\n",
       "    .dataframe tbody tr th:only-of-type {\n",
       "        vertical-align: middle;\n",
       "    }\n",
       "\n",
       "    .dataframe tbody tr th {\n",
       "        vertical-align: top;\n",
       "    }\n",
       "\n",
       "    .dataframe thead th {\n",
       "        text-align: right;\n",
       "    }\n",
       "</style>\n",
       "<table border=\"1\" class=\"dataframe\">\n",
       "  <thead>\n",
       "    <tr style=\"text-align: right;\">\n",
       "      <th></th>\n",
       "      <th>title</th>\n",
       "      <th>user_reviews</th>\n",
       "    </tr>\n",
       "  </thead>\n",
       "  <tbody>\n",
       "    <tr>\n",
       "      <th>0</th>\n",
       "      <td>Vihara Dhamma Sundara</td>\n",
       "      <td>[{\"Name\":\"Mettaxiumei\",\"ProfilePicture\":\"https...</td>\n",
       "    </tr>\n",
       "    <tr>\n",
       "      <th>1</th>\n",
       "      <td>Tirtonadi Park</td>\n",
       "      <td>[{\"Name\":\"M Bad.\",\"ProfilePicture\":\"https://lh...</td>\n",
       "    </tr>\n",
       "    <tr>\n",
       "      <th>2</th>\n",
       "      <td>Ngarsopuro Night Market</td>\n",
       "      <td>[{\"Name\":\"Putra Satria\",\"ProfilePicture\":\"http...</td>\n",
       "    </tr>\n",
       "    <tr>\n",
       "      <th>3</th>\n",
       "      <td>Sriwedari Park</td>\n",
       "      <td>[{\"Name\":\"Desy Natalia\",\"ProfilePicture\":\"http...</td>\n",
       "    </tr>\n",
       "    <tr>\n",
       "      <th>4</th>\n",
       "      <td>Monument 45 Banjarsari Park</td>\n",
       "      <td>[{\"Name\":\"Marsepti Ndaruwati\",\"ProfilePicture\"...</td>\n",
       "    </tr>\n",
       "  </tbody>\n",
       "</table>\n",
       "</div>"
      ],
      "text/plain": [
       "                         title  \\\n",
       "0        Vihara Dhamma Sundara   \n",
       "1               Tirtonadi Park   \n",
       "2      Ngarsopuro Night Market   \n",
       "3               Sriwedari Park   \n",
       "4  Monument 45 Banjarsari Park   \n",
       "\n",
       "                                        user_reviews  \n",
       "0  [{\"Name\":\"Mettaxiumei\",\"ProfilePicture\":\"https...  \n",
       "1  [{\"Name\":\"M Bad.\",\"ProfilePicture\":\"https://lh...  \n",
       "2  [{\"Name\":\"Putra Satria\",\"ProfilePicture\":\"http...  \n",
       "3  [{\"Name\":\"Desy Natalia\",\"ProfilePicture\":\"http...  \n",
       "4  [{\"Name\":\"Marsepti Ndaruwati\",\"ProfilePicture\"...  "
      ]
     },
     "execution_count": 109,
     "metadata": {},
     "output_type": "execute_result"
    }
   ],
   "source": [
    "col = ['title','user_reviews']\n",
    "for i in df.columns:\n",
    "    if i not in col:\n",
    "        df.drop(i, inplace=True, axis=1)\n",
    "\n",
    "df.head()"
   ]
  },
  {
   "cell_type": "code",
   "execution_count": 110,
   "metadata": {},
   "outputs": [
    {
     "name": "stdout",
     "output_type": "stream",
     "text": [
      "<class 'pandas.core.frame.DataFrame'>\n",
      "RangeIndex: 7209 entries, 0 to 7208\n",
      "Data columns (total 2 columns):\n",
      " #   Column       Non-Null Count  Dtype \n",
      "---  ------       --------------  ----- \n",
      " 0   Rating       7209 non-null   int64 \n",
      " 1   Description  7209 non-null   object\n",
      "dtypes: int64(1), object(1)\n",
      "memory usage: 112.8+ KB\n"
     ]
    }
   ],
   "source": [
    "# ekstrak rating dan desksripsi dari user_reviews\n",
    "\n",
    "rating = []\n",
    "description = []\n",
    "\n",
    "for i in df['user_reviews']:\n",
    "    if isinstance(i,str):\n",
    "        reviews = json.loads(i)\n",
    "        for review in reviews:\n",
    "            rating.append(review['Rating'])\n",
    "            description.append(review['Description'])\n",
    "\n",
    "df_clean = pd.DataFrame({'Rating' : rating, 'Description' : description})\n",
    "df_clean.info()\n",
    "            "
   ]
  },
  {
   "cell_type": "code",
   "execution_count": 111,
   "metadata": {},
   "outputs": [],
   "source": [
    "# df_clean.to_csv('dataset/clean_review.csv', index=False)"
   ]
  },
  {
   "cell_type": "markdown",
   "metadata": {},
   "source": [
    "# EDA"
   ]
  },
  {
   "cell_type": "code",
   "execution_count": 112,
   "metadata": {},
   "outputs": [
    {
     "data": {
      "text/html": [
       "<div>\n",
       "<style scoped>\n",
       "    .dataframe tbody tr th:only-of-type {\n",
       "        vertical-align: middle;\n",
       "    }\n",
       "\n",
       "    .dataframe tbody tr th {\n",
       "        vertical-align: top;\n",
       "    }\n",
       "\n",
       "    .dataframe thead th {\n",
       "        text-align: right;\n",
       "    }\n",
       "</style>\n",
       "<table border=\"1\" class=\"dataframe\">\n",
       "  <thead>\n",
       "    <tr style=\"text-align: right;\">\n",
       "      <th></th>\n",
       "      <th>Rating</th>\n",
       "      <th>Description</th>\n",
       "    </tr>\n",
       "  </thead>\n",
       "  <tbody>\n",
       "    <tr>\n",
       "      <th>0</th>\n",
       "      <td>5</td>\n",
       "      <td>Ikut Kathina di Vihara Dhamma sundara^^\\n\\nVih...</td>\n",
       "    </tr>\n",
       "    <tr>\n",
       "      <th>1</th>\n",
       "      <td>5</td>\n",
       "      <td>Tempatnya nampak sepi walaupun akan ada acara,...</td>\n",
       "    </tr>\n",
       "    <tr>\n",
       "      <th>2</th>\n",
       "      <td>5</td>\n",
       "      <td>Tempatnya bagus dan rapih. Namun saat ke sana ...</td>\n",
       "    </tr>\n",
       "    <tr>\n",
       "      <th>3</th>\n",
       "      <td>5</td>\n",
       "      <td>Ini Rumah ibadah untuk Umat Budha, Tapi diperb...</td>\n",
       "    </tr>\n",
       "    <tr>\n",
       "      <th>4</th>\n",
       "      <td>3</td>\n",
       "      <td>Untuk ibadah ckp kecil tp tempat luas..\\nKesin...</td>\n",
       "    </tr>\n",
       "  </tbody>\n",
       "</table>\n",
       "</div>"
      ],
      "text/plain": [
       "   Rating                                        Description\n",
       "0       5  Ikut Kathina di Vihara Dhamma sundara^^\\n\\nVih...\n",
       "1       5  Tempatnya nampak sepi walaupun akan ada acara,...\n",
       "2       5  Tempatnya bagus dan rapih. Namun saat ke sana ...\n",
       "3       5  Ini Rumah ibadah untuk Umat Budha, Tapi diperb...\n",
       "4       3  Untuk ibadah ckp kecil tp tempat luas..\\nKesin..."
      ]
     },
     "execution_count": 112,
     "metadata": {},
     "output_type": "execute_result"
    }
   ],
   "source": [
    "df_clean.head()"
   ]
  },
  {
   "cell_type": "code",
   "execution_count": 113,
   "metadata": {},
   "outputs": [
    {
     "data": {
      "text/plain": [
       "Rating\n",
       "5    4554\n",
       "4    1751\n",
       "3     618\n",
       "1     158\n",
       "2     128\n",
       "Name: count, dtype: int64"
      ]
     },
     "execution_count": 113,
     "metadata": {},
     "output_type": "execute_result"
    }
   ],
   "source": [
    "df_clean['Rating'].value_counts()"
   ]
  },
  {
   "cell_type": "code",
   "execution_count": 114,
   "metadata": {},
   "outputs": [
    {
     "data": {
      "image/png": "[encoded data removed]",
      "text/plain": [
       "<Figure size 640x480 with 1 Axes>"
      ]
     },
     "metadata": {},
     "output_type": "display_data"
    }
   ],
   "source": [
    "labels = df_clean['Rating'].value_counts().index\n",
    "plt.pie(df_clean['Rating'].value_counts(), labels=labels)\n",
    "plt.show()\n"
   ]
  },
  {
   "cell_type": "markdown",
   "metadata": {},
   "source": [
    "data tidak seimbang, maka lakukan resampling dengan downsampling"
   ]
  },
  {
   "cell_type": "code",
   "execution_count": 115,
   "metadata": {},
   "outputs": [],
   "source": [
    "# resampling dengan downsampling\n",
    "df_5 = df_clean[df_clean['Rating'] == 5]\n",
    "df_4 = df_clean[df_clean['Rating'] == 4]\n",
    "df_3 = df_clean[df_clean['Rating'] == 3]\n",
    "df_2 = df_clean[df_clean['Rating'] == 2]\n",
    "df_1 = df_clean[df_clean['Rating'] == 1]"
   ]
  },
  {
   "cell_type": "code",
   "execution_count": 116,
   "metadata": {},
   "outputs": [],
   "source": [
    "#Menentukan ukuran sampling\n",
    "\n",
    "reduce_sample = 160"
   ]
  },
  {
   "cell_type": "code",
   "execution_count": 117,
   "metadata": {},
   "outputs": [],
   "source": [
    "# Melakukan downsampling pada kelas mayoritas\n",
    "df_5_downsampled = resample(df_5, replace=False, n_samples=reduce_sample, random_state=123)\n",
    "df_4_downsampled = resample(df_4, replace=False, n_samples=reduce_sample, random_state=123)\n",
    "df_3_downsampled = resample(df_3, replace=False, n_samples=reduce_sample, random_state=123)"
   ]
  },
  {
   "cell_type": "code",
   "execution_count": 118,
   "metadata": {},
   "outputs": [],
   "source": [
    "df_balance = pd.concat([df_5_downsampled, df_4_downsampled, df_3_downsampled, df_2, df_1])"
   ]
  },
  {
   "cell_type": "code",
   "execution_count": 119,
   "metadata": {},
   "outputs": [
    {
     "data": {
      "text/html": [
       "<div>\n",
       "<style scoped>\n",
       "    .dataframe tbody tr th:only-of-type {\n",
       "        vertical-align: middle;\n",
       "    }\n",
       "\n",
       "    .dataframe tbody tr th {\n",
       "        vertical-align: top;\n",
       "    }\n",
       "\n",
       "    .dataframe thead th {\n",
       "        text-align: right;\n",
       "    }\n",
       "</style>\n",
       "<table border=\"1\" class=\"dataframe\">\n",
       "  <thead>\n",
       "    <tr style=\"text-align: right;\">\n",
       "      <th></th>\n",
       "      <th>Rating</th>\n",
       "      <th>Description</th>\n",
       "    </tr>\n",
       "  </thead>\n",
       "  <tbody>\n",
       "    <tr>\n",
       "      <th>5948</th>\n",
       "      <td>5</td>\n",
       "      <td>Klenteng Ban Hin Kiong merupakan Klenteng tert...</td>\n",
       "    </tr>\n",
       "    <tr>\n",
       "      <th>4955</th>\n",
       "      <td>5</td>\n",
       "      <td>Airnya sejuk. Tempatnya bebas plastik. Bagi ya...</td>\n",
       "    </tr>\n",
       "    <tr>\n",
       "      <th>1671</th>\n",
       "      <td>5</td>\n",
       "      <td>Tiap minggu pasti kesini buat foto2 doang😁 kar...</td>\n",
       "    </tr>\n",
       "    <tr>\n",
       "      <th>3592</th>\n",
       "      <td>5</td>\n",
       "      <td>Pernah kesana pergi liat bunker jepang, naik p...</td>\n",
       "    </tr>\n",
       "    <tr>\n",
       "      <th>1163</th>\n",
       "      <td>5</td>\n",
       "      <td>Mengikuti Talkshow \" Menyingkap Pesona Wastra ...</td>\n",
       "    </tr>\n",
       "  </tbody>\n",
       "</table>\n",
       "</div>"
      ],
      "text/plain": [
       "      Rating                                        Description\n",
       "5948       5  Klenteng Ban Hin Kiong merupakan Klenteng tert...\n",
       "4955       5  Airnya sejuk. Tempatnya bebas plastik. Bagi ya...\n",
       "1671       5  Tiap minggu pasti kesini buat foto2 doang😁 kar...\n",
       "3592       5  Pernah kesana pergi liat bunker jepang, naik p...\n",
       "1163       5  Mengikuti Talkshow \" Menyingkap Pesona Wastra ..."
      ]
     },
     "execution_count": 119,
     "metadata": {},
     "output_type": "execute_result"
    }
   ],
   "source": [
    "df_balance.head()"
   ]
  },
  {
   "cell_type": "code",
   "execution_count": 120,
   "metadata": {},
   "outputs": [],
   "source": [
    "df_balance = df_balance.reset_index(drop=True)"
   ]
  },
  {
   "cell_type": "code",
   "execution_count": 121,
   "metadata": {},
   "outputs": [
    {
     "data": {
      "text/plain": [
       "Rating\n",
       "5    160\n",
       "4    160\n",
       "3    160\n",
       "1    158\n",
       "2    128\n",
       "Name: count, dtype: int64"
      ]
     },
     "execution_count": 121,
     "metadata": {},
     "output_type": "execute_result"
    }
   ],
   "source": [
    "df_balance['Rating'].value_counts()"
   ]
  },
  {
   "cell_type": "code",
   "execution_count": 122,
   "metadata": {},
   "outputs": [
    {
     "data": {
      "image/png": "[encoded data removed]",
      "text/plain": [
       "<Figure size 640x480 with 1 Axes>"
      ]
     },
     "metadata": {},
     "output_type": "display_data"
    }
   ],
   "source": [
    "plt.pie(df_balance['Rating'].value_counts(), \n",
    "        labels=df_balance['Rating'].value_counts().index, \n",
    "        autopct='%0.2f%%')\n",
    "plt.show()"
   ]
  },
  {
   "cell_type": "code",
   "execution_count": 123,
   "metadata": {},
   "outputs": [
    {
     "data": {
      "text/plain": [
       "Rating\n",
       "1    158\n",
       "2    128\n",
       "3    160\n",
       "4    160\n",
       "5    160\n",
       "Name: count, dtype: int64"
      ]
     },
     "execution_count": 123,
     "metadata": {},
     "output_type": "execute_result"
    }
   ],
   "source": [
    "df_balance['Rating'].value_counts().sort_index()"
   ]
  },
  {
   "cell_type": "code",
   "execution_count": 124,
   "metadata": {},
   "outputs": [
    {
     "data": {
      "text/html": [
       "<div>\n",
       "<style scoped>\n",
       "    .dataframe tbody tr th:only-of-type {\n",
       "        vertical-align: middle;\n",
       "    }\n",
       "\n",
       "    .dataframe tbody tr th {\n",
       "        vertical-align: top;\n",
       "    }\n",
       "\n",
       "    .dataframe thead th {\n",
       "        text-align: right;\n",
       "    }\n",
       "</style>\n",
       "<table border=\"1\" class=\"dataframe\">\n",
       "  <thead>\n",
       "    <tr style=\"text-align: right;\">\n",
       "      <th></th>\n",
       "      <th>Rating</th>\n",
       "      <th>Description</th>\n",
       "    </tr>\n",
       "  </thead>\n",
       "  <tbody>\n",
       "    <tr>\n",
       "      <th>0</th>\n",
       "      <td>5</td>\n",
       "      <td>Klenteng Ban Hin Kiong merupakan Klenteng tert...</td>\n",
       "    </tr>\n",
       "    <tr>\n",
       "      <th>1</th>\n",
       "      <td>5</td>\n",
       "      <td>Airnya sejuk. Tempatnya bebas plastik. Bagi ya...</td>\n",
       "    </tr>\n",
       "    <tr>\n",
       "      <th>2</th>\n",
       "      <td>5</td>\n",
       "      <td>Tiap minggu pasti kesini buat foto2 doang😁 kar...</td>\n",
       "    </tr>\n",
       "    <tr>\n",
       "      <th>3</th>\n",
       "      <td>5</td>\n",
       "      <td>Pernah kesana pergi liat bunker jepang, naik p...</td>\n",
       "    </tr>\n",
       "    <tr>\n",
       "      <th>4</th>\n",
       "      <td>5</td>\n",
       "      <td>Mengikuti Talkshow \" Menyingkap Pesona Wastra ...</td>\n",
       "    </tr>\n",
       "  </tbody>\n",
       "</table>\n",
       "</div>"
      ],
      "text/plain": [
       "   Rating                                        Description\n",
       "0       5  Klenteng Ban Hin Kiong merupakan Klenteng tert...\n",
       "1       5  Airnya sejuk. Tempatnya bebas plastik. Bagi ya...\n",
       "2       5  Tiap minggu pasti kesini buat foto2 doang😁 kar...\n",
       "3       5  Pernah kesana pergi liat bunker jepang, naik p...\n",
       "4       5  Mengikuti Talkshow \" Menyingkap Pesona Wastra ..."
      ]
     },
     "execution_count": 124,
     "metadata": {},
     "output_type": "execute_result"
    }
   ],
   "source": [
    "df_balance.head()"
   ]
  },
  {
   "cell_type": "markdown",
   "metadata": {},
   "source": [
    "download file csv yang telah seimbang"
   ]
  },
  {
   "cell_type": "code",
   "execution_count": 126,
   "metadata": {},
   "outputs": [],
   "source": [
    "# df_balance = pd.DataFrame(df_balance)\n",
    "# df_balance.to_csv('dataset/balance.csv', index=False)"
   ]
  },
  {
   "cell_type": "code",
   "execution_count": 127,
   "metadata": {},
   "outputs": [
    {
     "data": {
      "text/html": [
       "<div>\n",
       "<style scoped>\n",
       "    .dataframe tbody tr th:only-of-type {\n",
       "        vertical-align: middle;\n",
       "    }\n",
       "\n",
       "    .dataframe tbody tr th {\n",
       "        vertical-align: top;\n",
       "    }\n",
       "\n",
       "    .dataframe thead th {\n",
       "        text-align: right;\n",
       "    }\n",
       "</style>\n",
       "<table border=\"1\" class=\"dataframe\">\n",
       "  <thead>\n",
       "    <tr style=\"text-align: right;\">\n",
       "      <th></th>\n",
       "      <th>Rating</th>\n",
       "      <th>Description</th>\n",
       "    </tr>\n",
       "  </thead>\n",
       "  <tbody>\n",
       "    <tr>\n",
       "      <th>0</th>\n",
       "      <td>5</td>\n",
       "      <td>Klenteng Ban Hin Kiong merupakan Klenteng tert...</td>\n",
       "    </tr>\n",
       "    <tr>\n",
       "      <th>1</th>\n",
       "      <td>5</td>\n",
       "      <td>Airnya sejuk. Tempatnya bebas plastik. Bagi ya...</td>\n",
       "    </tr>\n",
       "    <tr>\n",
       "      <th>2</th>\n",
       "      <td>5</td>\n",
       "      <td>Tiap minggu pasti kesini buat foto2 doang😁 kar...</td>\n",
       "    </tr>\n",
       "    <tr>\n",
       "      <th>3</th>\n",
       "      <td>5</td>\n",
       "      <td>Pernah kesana pergi liat bunker jepang, naik p...</td>\n",
       "    </tr>\n",
       "    <tr>\n",
       "      <th>4</th>\n",
       "      <td>5</td>\n",
       "      <td>Mengikuti Talkshow \" Menyingkap Pesona Wastra ...</td>\n",
       "    </tr>\n",
       "  </tbody>\n",
       "</table>\n",
       "</div>"
      ],
      "text/plain": [
       "   Rating                                        Description\n",
       "0       5  Klenteng Ban Hin Kiong merupakan Klenteng tert...\n",
       "1       5  Airnya sejuk. Tempatnya bebas plastik. Bagi ya...\n",
       "2       5  Tiap minggu pasti kesini buat foto2 doang😁 kar...\n",
       "3       5  Pernah kesana pergi liat bunker jepang, naik p...\n",
       "4       5  Mengikuti Talkshow \" Menyingkap Pesona Wastra ..."
      ]
     },
     "execution_count": 127,
     "metadata": {},
     "output_type": "execute_result"
    }
   ],
   "source": [
    "df_balance.head()"
   ]
  }
 ],
 "metadata": {
  "kernelspec": {
   "display_name": "notebook",
   "language": "python",
   "name": "python3"
  },
  "language_info": {
   "codemirror_mode": {
    "name": "ipython",
    "version": 3
   },
   "file_extension": ".py",
   "mimetype": "text/x-python",
   "name": "python",
   "nbconvert_exporter": "python",
   "pygments_lexer": "ipython3",
   "version": "3.10.14"
  },
  "orig_nbformat": 4
 },
 "nbformat": 4,
 "nbformat_minor": 2
}
