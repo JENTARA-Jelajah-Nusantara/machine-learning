{
 "cells": [
  {
   "cell_type": "code",
   "execution_count": 4,
   "id": "d89ba52b-2075-4988-82f6-114ceaf6f00e",
   "metadata": {},
   "outputs": [],
   "source": [
    "from transformers import TFBertModel, BertTokenizer\n",
    "import tensorflow as tf\n",
    "import numpy as np"
   ]
  },
  {
   "cell_type": "code",
   "execution_count": 3,
   "id": "26273ce4-c512-4e63-993d-f9b050cb914e",
   "metadata": {},
   "outputs": [
    {
     "name": "stderr",
     "output_type": "stream",
     "text": [
      "2024-06-12 08:36:19.811973: I tensorflow/compiler/xla/stream_executor/cuda/cuda_gpu_executor.cc:995] successful NUMA node read from SysFS had negative value (-1), but there must be at least one NUMA node, so returning NUMA node zero. See more at https://github.com/torvalds/linux/blob/v6.0/Documentation/ABI/testing/sysfs-bus-pci#L344-L355\n",
      "2024-06-12 08:36:19.820632: W tensorflow/core/common_runtime/gpu/gpu_device.cc:1960] Cannot dlopen some GPU libraries. Please make sure the missing libraries mentioned above are installed properly if you would like to use GPU. Follow the guide at https://www.tensorflow.org/install/gpu for how to download and setup the required libraries for your platform.\n",
      "Skipping registering GPU devices...\n"
     ]
    }
   ],
   "source": [
    "model = tf.keras.models.load_model('/home/alridho/Coding/jentara/sentimen.h5')"
   ]
  },
  {
   "cell_type": "code",
   "execution_count": 14,
   "id": "b89c378b-7312-4437-872b-d5b8870715b3",
   "metadata": {},
   "outputs": [],
   "source": [
    "from Sastrawi.StopWordRemover.StopWordRemoverFactory import StopWordRemoverFactory\n",
    "import re\n",
    "import string\n",
    "\n",
    "factory = StopWordRemoverFactory()\n",
    "stopword_remover = factory.create_stop_word_remover()\n",
    "stopwords = set(factory.get_stop_words())\n",
    "\n",
    "checkpoint = \"indobenchmark/indobert-base-p2\"\n",
    "\n",
    "tokenizer = BertTokenizer.from_pretrained(checkpoint)\n",
    "\n",
    "\n",
    "def prep_pred(text):\n",
    "    text = text.replace('\\n', ' ')\n",
    "    text = re.sub(f'[{re.escape(string.punctuation)}]', '', text)\n",
    "    text = text.lower()\n",
    "    text = re.sub(r'\\s+', ' ', text).strip()\n",
    "    words = text.split()\n",
    "    words = [word for word in words if word not in stopwords]\n",
    "    text = ' '.join(words)\n",
    "    tokenized_text = tokenizer.encode_plus(\n",
    "        text,\n",
    "        max_length=512,\n",
    "        truncation=True,\n",
    "        padding='max_length',\n",
    "        add_special_tokens=True,\n",
    "        return_tensors='tf',\n",
    "    )\n",
    "    return {\n",
    "        'input_ids': tf.cast(tokenized_text['input_ids'], tf.float64),\n",
    "        'attention_mask': tf.cast(tokenized_text['attention_mask'], tf.float64)\n",
    "    }\n",
    "\n",
    "\n",
    "def print_pred(text):\n",
    "    res = prep_pred(text)\n",
    "    res = model.predict(res)\n",
    "    res = np.argmax(res[0]) + 1\n",
    "    return print(f\"Review: {text}\\nPred: {res} bintang\")"
   ]
  },
  {
   "cell_type": "code",
   "execution_count": 15,
   "id": "f457956d-2881-4969-842c-281de742b8b5",
   "metadata": {},
   "outputs": [
    {
     "name": "stdout",
     "output_type": "stream",
     "text": [
      "1/1 [==============================] - 1s 1s/step\n",
      "Review: Tempatnya sangat bagus, sejuk, suasananya indah\n",
      "Pred: 5 bintang\n"
     ]
    }
   ],
   "source": [
    "text1 = \"Tempatnya sangat bagus, sejuk, suasananya indah\"\n",
    "text2 = \"Tempatnya sangat buruk, bangunan rusak, saya tidak rekomendasikan\"\n",
    "\n",
    "print_pred(text1)"
   ]
  },
  {
   "cell_type": "code",
   "execution_count": 16,
   "id": "cb1bb243-eb7c-461c-a9f9-ddce666766d7",
   "metadata": {},
   "outputs": [
    {
     "name": "stdout",
     "output_type": "stream",
     "text": [
      "1/1 [==============================] - 1s 1s/step\n",
      "Review: Tempatnya sangat buruk, bangunan rusak, saya tidak rekomendasikan\n",
      "Pred: 2 bintang\n"
     ]
    }
   ],
   "source": [
    "print_pred(text2)"
   ]
  },
  {
   "cell_type": "code",
   "execution_count": 18,
   "id": "7c8bc5b3-445f-47f0-88cb-74702ac98b20",
   "metadata": {},
   "outputs": [],
   "source": [
    "text3 = \"Ancol Taman Impian mempunyai pantai yang indah yang merupakan destinasi wisata pantai dalam kota Jakarta. Pengunjung kawasan Ancol dapat menikmati suasana segar di area Pantai Lagoon, Festival, Indah, Beach Pool dan Carnaval, serta Danau Impian, sepanjang kurang lebih 6,5 km. Wisata pantai ini semakin sempurna dengan adanya promenade hampir di sepanjang pantai serta fasilitas kuliner yang lengkap, antara lain: Jimbaran Resto, Le Bridge, Starbucks, Segarra, Talaga Sampireun dan lain-lain. Hal tersebut menjadikan wisata pantai Ancol ini lebih menarik untuk dikunjungi.Rekreasi di Ancol Taman Impian semakin menyenangkan dengan kehadiran Kereta Wisata Sato-Sato. Transportasi massal ini selain bisa mengantarkan wisatawan ke berbagai destinasi seperti Dunia Fantasi, Ocean Dream Samudra, Allianz Ecopark, dan yang lainnya, juga bisa menjadi wahana rekreasi sambil menikmati pemandangan sepanjang Ancol. Jalur keretanya membentang sepanjang 3,6 kilometer, dari Gerbang Timur hingga Pantai Bende, dan dilanjut lagi hingga Ocean Dream Samudra, lalu ke Dunia Fantasi. Kereta Sato-sato akan beroperasi mulai pukul 08.00-18.00 WIB. Ada tiga rangkaian kereta yang bisa mengangkut penumpang hingga  400 orang. Wahana kereta tersebut juga ramah bagi difable atau orang berkebutuhan khusus. Di salah satu gerbongnya dapat dikhususkan bagi warga difable. Semua wisatawan tetap bisa menikmati wahana ini tanpa bayar.\""
   ]
  },
  {
   "cell_type": "code",
   "execution_count": 19,
   "id": "3e6bec9b-4f3b-4218-a57a-b5722efa370e",
   "metadata": {},
   "outputs": [
    {
     "name": "stdout",
     "output_type": "stream",
     "text": [
      "1/1 [==============================] - 2s 2s/step\n",
      "Review: Ancol Taman Impian mempunyai pantai yang indah yang merupakan destinasi wisata pantai dalam kota Jakarta. Pengunjung kawasan Ancol dapat menikmati suasana segar di area Pantai Lagoon, Festival, Indah, Beach Pool dan Carnaval, serta Danau Impian, sepanjang kurang lebih 6,5 km. Wisata pantai ini semakin sempurna dengan adanya promenade hampir di sepanjang pantai serta fasilitas kuliner yang lengkap, antara lain: Jimbaran Resto, Le Bridge, Starbucks, Segarra, Talaga Sampireun dan lain-lain. Hal tersebut menjadikan wisata pantai Ancol ini lebih menarik untuk dikunjungi.Rekreasi di Ancol Taman Impian semakin menyenangkan dengan kehadiran Kereta Wisata Sato-Sato. Transportasi massal ini selain bisa mengantarkan wisatawan ke berbagai destinasi seperti Dunia Fantasi, Ocean Dream Samudra, Allianz Ecopark, dan yang lainnya, juga bisa menjadi wahana rekreasi sambil menikmati pemandangan sepanjang Ancol. Jalur keretanya membentang sepanjang 3,6 kilometer, dari Gerbang Timur hingga Pantai Bende, dan dilanjut lagi hingga Ocean Dream Samudra, lalu ke Dunia Fantasi. Kereta Sato-sato akan beroperasi mulai pukul 08.00-18.00 WIB. Ada tiga rangkaian kereta yang bisa mengangkut penumpang hingga  400 orang. Wahana kereta tersebut juga ramah bagi difable atau orang berkebutuhan khusus. Di salah satu gerbongnya dapat dikhususkan bagi warga difable. Semua wisatawan tetap bisa menikmati wahana ini tanpa bayar.\n",
      "Pred: 5 bintang\n"
     ]
    }
   ],
   "source": [
    "print_pred(text3)"
   ]
  },
  {
   "cell_type": "code",
   "execution_count": null,
   "id": "f98534b7-79ec-46f2-8520-c249f6ee587c",
   "metadata": {},
   "outputs": [],
   "source": [
    "text4 = \"semakin buruk, mobil ga bisa keliling didalam lagi.. alesan macet 🤣.. sumpah nyesel ke ancol lagi.. bey ancol ga akan saya rekomendasikan sebagai rekreasi untuk keluarga lagi seperti taman mini yg udah ga nyaman lagi.. kebijakan pemprov yg sangat blunder dan ngaco.. sebelum bikin kebijakan silahkan coba dulu.. panas bgt coy.. kalo ujan badai juga bakal kuyup fasilitas 0 besar.\""
   ]
  }
 ],
 "metadata": {
  "kernelspec": {
   "display_name": "Python 3 (ipykernel)",
   "language": "python",
   "name": "python3"
  },
  "language_info": {
   "codemirror_mode": {
    "name": "ipython",
    "version": 3
   },
   "file_extension": ".py",
   "mimetype": "text/x-python",
   "name": "python",
   "nbconvert_exporter": "python",
   "pygments_lexer": "ipython3",
   "version": "3.8.19"
  }
 },
 "nbformat": 4,
 "nbformat_minor": 5
}
