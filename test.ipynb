{
 "cells": [
  {
   "cell_type": "code",
   "execution_count": 28,
   "metadata": {},
   "outputs": [],
   "source": [
    "import pandas as pd\n",
    "import nltk\n",
    "import re\n",
    "\n",
    "from Sastrawi.Stemmer.StemmerFactory import StemmerFactory\n",
    "from Sastrawi.StopWordRemover.StopWordRemoverFactory import StopWordRemoverFactory \n",
    "\n",
    "from sklearn.model_selection import train_test_split\n",
    "\n",
    "import tensorflow as tf\n",
    "from tensorflow.keras.preprocessing.text import Tokenizer\n",
    "from tensorflow.keras.preprocessing.sequence import pad_sequences\n",
    "import torch\n",
    "\n",
    "from transformers import  BertTokenizer, TFBertForSequenceClassification, TFAutoModel, BertConfig, AutoModel, AutoTokenizer, TFBertModel,  TFAutoModelForSequenceClassification"
   ]
  },
  {
   "cell_type": "code",
   "execution_count": 2,
   "metadata": {},
   "outputs": [
    {
     "data": {
      "text/html": [
       "<div>\n",
       "<style scoped>\n",
       "    .dataframe tbody tr th:only-of-type {\n",
       "        vertical-align: middle;\n",
       "    }\n",
       "\n",
       "    .dataframe tbody tr th {\n",
       "        vertical-align: top;\n",
       "    }\n",
       "\n",
       "    .dataframe thead th {\n",
       "        text-align: right;\n",
       "    }\n",
       "</style>\n",
       "<table border=\"1\" class=\"dataframe\">\n",
       "  <thead>\n",
       "    <tr style=\"text-align: right;\">\n",
       "      <th></th>\n",
       "      <th>Rating</th>\n",
       "      <th>Description</th>\n",
       "    </tr>\n",
       "  </thead>\n",
       "  <tbody>\n",
       "    <tr>\n",
       "      <th>0</th>\n",
       "      <td>5</td>\n",
       "      <td>Klenteng Ban Hin Kiong merupakan Klenteng tert...</td>\n",
       "    </tr>\n",
       "    <tr>\n",
       "      <th>1</th>\n",
       "      <td>5</td>\n",
       "      <td>Airnya sejuk. Tempatnya bebas plastik. Bagi ya...</td>\n",
       "    </tr>\n",
       "    <tr>\n",
       "      <th>2</th>\n",
       "      <td>5</td>\n",
       "      <td>Tiap minggu pasti kesini buat foto2 doang😁 kar...</td>\n",
       "    </tr>\n",
       "    <tr>\n",
       "      <th>3</th>\n",
       "      <td>5</td>\n",
       "      <td>Pernah kesana pergi liat bunker jepang, naik p...</td>\n",
       "    </tr>\n",
       "    <tr>\n",
       "      <th>4</th>\n",
       "      <td>5</td>\n",
       "      <td>Mengikuti Talkshow \" Menyingkap Pesona Wastra ...</td>\n",
       "    </tr>\n",
       "  </tbody>\n",
       "</table>\n",
       "</div>"
      ],
      "text/plain": [
       "   Rating                                        Description\n",
       "0       5  Klenteng Ban Hin Kiong merupakan Klenteng tert...\n",
       "1       5  Airnya sejuk. Tempatnya bebas plastik. Bagi ya...\n",
       "2       5  Tiap minggu pasti kesini buat foto2 doang😁 kar...\n",
       "3       5  Pernah kesana pergi liat bunker jepang, naik p...\n",
       "4       5  Mengikuti Talkshow \" Menyingkap Pesona Wastra ..."
      ]
     },
     "execution_count": 2,
     "metadata": {},
     "output_type": "execute_result"
    }
   ],
   "source": [
    "df = pd.read_csv(r'dataset\\balance.csv')\n",
    "df.head()"
   ]
  },
  {
   "cell_type": "code",
   "execution_count": 3,
   "metadata": {},
   "outputs": [
    {
     "data": {
      "text/plain": [
       "array([2, 1, 0], dtype=int64)"
      ]
     },
     "execution_count": 3,
     "metadata": {},
     "output_type": "execute_result"
    }
   ],
   "source": [
    "# ubah rating\n",
    "mapping = {1:0,2:0,3:1,4:2,5:2}\n",
    "\n",
    "df['Rating'] = df['Rating'].replace(mapping)\n",
    "df['Rating'].unique()"
   ]
  },
  {
   "cell_type": "code",
   "execution_count": 4,
   "metadata": {},
   "outputs": [],
   "source": [
    "# preprocess text\n",
    "\n",
    "factory = StemmerFactory()\n",
    "stemmer = factory.create_stemmer()\n",
    "\n",
    "stopword_factory = StopWordRemoverFactory()\n",
    "stopwords = stopword_factory.get_stop_words()\n",
    "\n",
    "def clean_text(text):\n",
    "    text = text.dropna()\n",
    "\n",
    "def preprocess_text(text):\n",
    "    # pastikan dalam bentuk string\n",
    "    text = str(text)\n",
    "\n",
    "    # ubah menjadi lower case\n",
    "    text = text.lower()\n",
    "\n",
    "    # Menghapus handles\n",
    "    text = re.sub(r'\\@\\w+|\\#','', text)\n",
    "\n",
    "    # menghapus angka dari text\n",
    "    text = re.sub(r\"\\d+\", \"\", text)\n",
    "\n",
    "    # Menghapus tanda baca\n",
    "    text = re.sub(r'[^\\w\\s]', '', text)\n",
    "\n",
    "    # menghapus spasi awal dan akhir kalimat\n",
    "    words = text.split()\n",
    "\n",
    "    # menghapus stopwords dan stemming\n",
    "    processed_word = []\n",
    "    for word in words:\n",
    "        if word not in stopwords:\n",
    "            stemmed_word = stemmer.stem(word)\n",
    "            processed_word.append(stemmed_word)\n",
    "\n",
    "    return ' '.join(processed_word)\n",
    "\n"
   ]
  },
  {
   "cell_type": "code",
   "execution_count": 5,
   "metadata": {},
   "outputs": [],
   "source": [
    "# df['preprocessed_text'] = df['Description'].apply(preprocess_text)\n",
    "# df.head()"
   ]
  },
  {
   "cell_type": "code",
   "execution_count": 6,
   "metadata": {},
   "outputs": [
    {
     "data": {
      "text/html": [
       "<div>\n",
       "<style scoped>\n",
       "    .dataframe tbody tr th:only-of-type {\n",
       "        vertical-align: middle;\n",
       "    }\n",
       "\n",
       "    .dataframe tbody tr th {\n",
       "        vertical-align: top;\n",
       "    }\n",
       "\n",
       "    .dataframe thead th {\n",
       "        text-align: right;\n",
       "    }\n",
       "</style>\n",
       "<table border=\"1\" class=\"dataframe\">\n",
       "  <thead>\n",
       "    <tr style=\"text-align: right;\">\n",
       "      <th></th>\n",
       "      <th>Rating</th>\n",
       "      <th>Description</th>\n",
       "      <th>preprocessed_text</th>\n",
       "    </tr>\n",
       "  </thead>\n",
       "  <tbody>\n",
       "    <tr>\n",
       "      <th>0</th>\n",
       "      <td>2</td>\n",
       "      <td>Klenteng Ban Hin Kiong merupakan Klenteng tert...</td>\n",
       "      <td>klenteng ban hin kiong rupa klenteng tua manad...</td>\n",
       "    </tr>\n",
       "    <tr>\n",
       "      <th>1</th>\n",
       "      <td>2</td>\n",
       "      <td>Airnya sejuk. Tempatnya bebas plastik. Bagi ya...</td>\n",
       "      <td>air sejuk tempat bebas plastik kesana pergi ke...</td>\n",
       "    </tr>\n",
       "    <tr>\n",
       "      <th>2</th>\n",
       "      <td>2</td>\n",
       "      <td>Tiap minggu pasti kesini buat foto2 doang😁 kar...</td>\n",
       "      <td>tiap minggu kesini buat foto doang emang bagus...</td>\n",
       "    </tr>\n",
       "    <tr>\n",
       "      <th>3</th>\n",
       "      <td>2</td>\n",
       "      <td>Pernah kesana pergi liat bunker jepang, naik p...</td>\n",
       "      <td>pernah kesana pergi liat bunker jepang naik pe...</td>\n",
       "    </tr>\n",
       "    <tr>\n",
       "      <th>4</th>\n",
       "      <td>2</td>\n",
       "      <td>Mengikuti Talkshow \" Menyingkap Pesona Wastra ...</td>\n",
       "      <td>ikut talkshow singkap pesona wastra indonesia ...</td>\n",
       "    </tr>\n",
       "  </tbody>\n",
       "</table>\n",
       "</div>"
      ],
      "text/plain": [
       "   Rating                                        Description  \\\n",
       "0       2  Klenteng Ban Hin Kiong merupakan Klenteng tert...   \n",
       "1       2  Airnya sejuk. Tempatnya bebas plastik. Bagi ya...   \n",
       "2       2  Tiap minggu pasti kesini buat foto2 doang😁 kar...   \n",
       "3       2  Pernah kesana pergi liat bunker jepang, naik p...   \n",
       "4       2  Mengikuti Talkshow \" Menyingkap Pesona Wastra ...   \n",
       "\n",
       "                                   preprocessed_text  \n",
       "0  klenteng ban hin kiong rupa klenteng tua manad...  \n",
       "1  air sejuk tempat bebas plastik kesana pergi ke...  \n",
       "2  tiap minggu kesini buat foto doang emang bagus...  \n",
       "3  pernah kesana pergi liat bunker jepang naik pe...  \n",
       "4  ikut talkshow singkap pesona wastra indonesia ...  "
      ]
     },
     "execution_count": 6,
     "metadata": {},
     "output_type": "execute_result"
    }
   ],
   "source": [
    "# df.to_csv(\"dataset\\preprocess.csv\", index=False)\n",
    "df = pd.read_csv(r'dataset\\preprocess.csv')\n",
    "df.head()"
   ]
  },
  {
   "cell_type": "code",
   "execution_count": 7,
   "metadata": {},
   "outputs": [
    {
     "data": {
      "text/plain": [
       "Rating               0\n",
       "Description          0\n",
       "preprocessed_text    0\n",
       "dtype: int64"
      ]
     },
     "execution_count": 7,
     "metadata": {},
     "output_type": "execute_result"
    }
   ],
   "source": [
    "df = df.dropna()\n",
    "df.isna().sum()"
   ]
  },
  {
   "cell_type": "markdown",
   "metadata": {},
   "source": [
    "Tokenisasi and padding"
   ]
  },
  {
   "cell_type": "code",
   "execution_count": 8,
   "metadata": {},
   "outputs": [
    {
     "data": {
      "text/html": [
       "<div>\n",
       "<style scoped>\n",
       "    .dataframe tbody tr th:only-of-type {\n",
       "        vertical-align: middle;\n",
       "    }\n",
       "\n",
       "    .dataframe tbody tr th {\n",
       "        vertical-align: top;\n",
       "    }\n",
       "\n",
       "    .dataframe thead th {\n",
       "        text-align: right;\n",
       "    }\n",
       "</style>\n",
       "<table border=\"1\" class=\"dataframe\">\n",
       "  <thead>\n",
       "    <tr style=\"text-align: right;\">\n",
       "      <th></th>\n",
       "      <th>label</th>\n",
       "      <th>text</th>\n",
       "    </tr>\n",
       "  </thead>\n",
       "  <tbody>\n",
       "    <tr>\n",
       "      <th>0</th>\n",
       "      <td>2</td>\n",
       "      <td>klenteng ban hin kiong rupa klenteng tua manad...</td>\n",
       "    </tr>\n",
       "    <tr>\n",
       "      <th>1</th>\n",
       "      <td>2</td>\n",
       "      <td>air sejuk tempat bebas plastik kesana pergi ke...</td>\n",
       "    </tr>\n",
       "    <tr>\n",
       "      <th>2</th>\n",
       "      <td>2</td>\n",
       "      <td>tiap minggu kesini buat foto doang emang bagus...</td>\n",
       "    </tr>\n",
       "    <tr>\n",
       "      <th>3</th>\n",
       "      <td>2</td>\n",
       "      <td>pernah kesana pergi liat bunker jepang naik pe...</td>\n",
       "    </tr>\n",
       "    <tr>\n",
       "      <th>4</th>\n",
       "      <td>2</td>\n",
       "      <td>ikut talkshow singkap pesona wastra indonesia ...</td>\n",
       "    </tr>\n",
       "  </tbody>\n",
       "</table>\n",
       "</div>"
      ],
      "text/plain": [
       "   label                                               text\n",
       "0      2  klenteng ban hin kiong rupa klenteng tua manad...\n",
       "1      2  air sejuk tempat bebas plastik kesana pergi ke...\n",
       "2      2  tiap minggu kesini buat foto doang emang bagus...\n",
       "3      2  pernah kesana pergi liat bunker jepang naik pe...\n",
       "4      2  ikut talkshow singkap pesona wastra indonesia ..."
      ]
     },
     "execution_count": 8,
     "metadata": {},
     "output_type": "execute_result"
    }
   ],
   "source": [
    "df = df[['Rating', 'preprocessed_text']]\n",
    "df.rename(columns={\"Rating\" : \"label\", \"preprocessed_text\" : \"text\"}, inplace=True)\n",
    "df.head()"
   ]
  },
  {
   "cell_type": "code",
   "execution_count": 9,
   "metadata": {},
   "outputs": [
    {
     "name": "stdout",
     "output_type": "stream",
     "text": [
      "Train size (634,)\n",
      "Test size (112,)\n"
     ]
    }
   ],
   "source": [
    "X = df['text']\n",
    "y = df['label']\n",
    "\n",
    "X_train, X_test, y_train, y_test = train_test_split(X,y, test_size=0.15, random_state=42)\n",
    "\n",
    "print(f\"Train size {X_train.shape}\")\n",
    "print(f\"Test size {X_test.shape}\")"
   ]
  },
  {
   "cell_type": "markdown",
   "metadata": {},
   "source": [
    "tokenizer manual vs bert"
   ]
  },
  {
   "cell_type": "code",
   "execution_count": 10,
   "metadata": {},
   "outputs": [],
   "source": [
    "# membuat tokenizer\n",
    "# tokenizer = Tokenizer(num_words=10000)\n",
    "# tokenizer.fit_on_texts(X_train)\n",
    "# X_train_sequence = tokenizer.texts_to_sequences(X_train)\n",
    "# X_test_sequence = tokenizer.texts_to_sequences(X_test)"
   ]
  },
  {
   "cell_type": "code",
   "execution_count": 29,
   "metadata": {},
   "outputs": [
    {
     "name": "stderr",
     "output_type": "stream",
     "text": [
      "Some weights of the PyTorch model were not used when initializing the TF 2.0 model TFBertModel: ['cls.predictions.bias', 'cls.predictions.transform.LayerNorm.bias', 'cls.predictions.decoder.weight', 'cls.predictions.transform.LayerNorm.weight', 'cls.predictions.transform.dense.bias', 'cls.predictions.decoder.bias', 'cls.predictions.transform.dense.weight']\n",
      "- This IS expected if you are initializing TFBertModel from a PyTorch model trained on another task or with another architecture (e.g. initializing a TFBertForSequenceClassification model from a BertForPreTraining model).\n",
      "- This IS NOT expected if you are initializing TFBertModel from a PyTorch model that you expect to be exactly identical (e.g. initializing a TFBertForSequenceClassification model from a BertForSequenceClassification model).\n",
      "All the weights of TFBertModel were initialized from the PyTorch model.\n",
      "If your task is similar to the task the model of the checkpoint was trained on, you can already use TFBertModel for predictions without further training.\n"
     ]
    }
   ],
   "source": [
    "config = BertConfig.from_pretrained(\"indolem/indobert-base-uncased\", output_attentions=True, from_pt = True)\n",
    "tokenizer = BertTokenizer.from_pretrained(\"indolem/indobert-base-uncased\", from_pt = True)\n",
    "model = TFBertModel.from_pretrained(\"indolem/indobert-base-uncased\", from_pt=True)"
   ]
  },
  {
   "cell_type": "code",
   "execution_count": 30,
   "metadata": {},
   "outputs": [
    {
     "name": "stderr",
     "output_type": "stream",
     "text": [
      "Asking to truncate to max_length but no maximum length is provided and the model has no predefined maximum length. Default to no truncation.\n"
     ]
    }
   ],
   "source": [
    "# Tokenisasi Data\n",
    "train_encodings = tokenizer(X_train.tolist(), truncation=True, padding=True)\n",
    "test_encodings = tokenizer(X_test.tolist(), truncation=True, padding=True)"
   ]
  },
  {
   "cell_type": "code",
   "execution_count": 31,
   "metadata": {},
   "outputs": [],
   "source": [
    "# # membuat padding\n",
    "# max_length = max([len(seq) for seq in X_train_sequence])\n",
    "# X_train_padded = pad_sequences(X_train_sequence, maxlen=max_length, padding='post', truncating='post')\n",
    "# X_test_padded = pad_sequences(X_test_sequence, maxlen=max_length, padding='post', truncating='post')\n",
    "\n",
    "\n",
    "# print(f\"X_train_padded shape : {X_train_padded.shape}\")\n",
    "# print(f\"X_test_padded shape : {X_test_padded.shape}\")"
   ]
  },
  {
   "cell_type": "code",
   "execution_count": 42,
   "metadata": {},
   "outputs": [],
   "source": [
    "# Mempersiapkan Data untuk Model\n",
    "batch_size = 2\n",
    "train_dataset = tf.data.Dataset.from_tensor_slices((\n",
    "    dict(train_encodings),\n",
    "    y_train.tolist()\n",
    "))\n",
    "test_dataset = tf.data.Dataset.from_tensor_slices((\n",
    "    dict(test_encodings),\n",
    "    y_test.tolist()\n",
    "))\n",
    "\n",
    "train_dataset = train_dataset.shuffle(len(X_train)).batch(batch_size).prefetch(tf.data.experimental.AUTOTUNE)\n",
    "test_dataset = test_dataset.batch(batch_size).prefetch(tf.data.experimental.AUTOTUNE)"
   ]
  },
  {
   "cell_type": "markdown",
   "metadata": {},
   "source": [
    "Model dengan embedding layer"
   ]
  },
  {
   "cell_type": "code",
   "execution_count": 43,
   "metadata": {},
   "outputs": [],
   "source": [
    "# model = tf.keras.Sequential([\n",
    "#     tf.keras.layers.Embedding(input_dim=10000, output_dim=32, input_length=max_length),\n",
    "#     tf.keras.layers.Conv1D(128, 5, activation='relu'),\n",
    "#     tf.keras.layers.MaxPooling1D(5),\n",
    "#     tf.keras.layers.Conv1D(64, 5, activation='relu'),\n",
    "#     tf.keras.layers.GlobalMaxPooling1D(),\n",
    "#     tf.keras.layers.Dense(64, activation='relu'),\n",
    "#     tf.keras.layers.Dropout(0.5),\n",
    "#     tf.keras.layers.Dense(3, activation='softmax')\n",
    "# ])"
   ]
  },
  {
   "cell_type": "code",
   "execution_count": 44,
   "metadata": {},
   "outputs": [],
   "source": [
    "# model = tf.keras.Sequential([\n",
    "#     tf.keras.layers.Embedding(input_dim=10000, output_dim=16, input_length=max_length),\n",
    "#     tf.keras.layers.GlobalAveragePooling1D(),\n",
    "#     tf.keras.layers.Dense(16, activation='relu'),\n",
    "#     tf.keras.layers.Dropout(0.5),\n",
    "#     tf.keras.layers.Dense(3, activation='softmax')\n",
    "# ])"
   ]
  },
  {
   "cell_type": "markdown",
   "metadata": {},
   "source": [
    "compile model"
   ]
  },
  {
   "cell_type": "code",
   "execution_count": 45,
   "metadata": {},
   "outputs": [],
   "source": [
    "# Membangun dan Melatih Model\n",
    "optimizer = tf.keras.optimizers.Adam(learning_rate=2e-5)\n",
    "loss = tf.keras.losses.SparseCategoricalCrossentropy(from_logits=True)\n",
    "model.compile(optimizer=optimizer, loss=loss, metrics=['accuracy'])"
   ]
  },
  {
   "cell_type": "markdown",
   "metadata": {},
   "source": [
    "train model"
   ]
  },
  {
   "cell_type": "code",
   "execution_count": 46,
   "metadata": {},
   "outputs": [
    {
     "name": "stdout",
     "output_type": "stream",
     "text": [
      "Epoch 1/3\n"
     ]
    },
    {
     "name": "stderr",
     "output_type": "stream",
     "text": [
      "The parameters `output_attentions`, `output_hidden_states` and `use_cache` cannot be updated when calling a model.They have to be set to True/False in the config object (i.e.: `config=XConfig.from_pretrained('name', output_attentions=True)`).\n",
      "The parameter `return_dict` cannot be set in graph mode and will always be set to `True`.\n"
     ]
    },
    {
     "ename": "StagingError",
     "evalue": "in user code:\n\n    File \"c:\\ProgramData\\anaconda3\\envs\\capstone\\lib\\site-packages\\keras\\engine\\training.py\", line 1160, in train_function  *\n        return step_function(self, iterator)\n    File \"c:\\ProgramData\\anaconda3\\envs\\capstone\\lib\\site-packages\\keras\\engine\\training.py\", line 1146, in step_function  **\n        outputs = model.distribute_strategy.run(run_step, args=(data,))\n    File \"c:\\ProgramData\\anaconda3\\envs\\capstone\\lib\\site-packages\\keras\\engine\\training.py\", line 1135, in run_step  **\n        outputs = model.train_step(data)\n    File \"c:\\ProgramData\\anaconda3\\envs\\capstone\\lib\\site-packages\\keras\\engine\\training.py\", line 993, in train_step\n        y_pred = self(x, training=True)\n    File \"c:\\ProgramData\\anaconda3\\envs\\capstone\\lib\\site-packages\\keras\\utils\\traceback_utils.py\", line 70, in error_handler\n        raise e.with_traceback(filtered_tb) from None\n\n    StagingError: Exception encountered when calling layer \"tf_bert_model_2\" \"                 f\"(type TFBertModel).\n    \n    in user code:\n    \n        File \"c:\\ProgramData\\anaconda3\\envs\\capstone\\lib\\site-packages\\transformers\\models\\bert\\modeling_tf_bert.py\", line 859, in call  *\n            outputs = self.bert(\n        File \"c:\\ProgramData\\anaconda3\\envs\\capstone\\lib\\site-packages\\keras\\utils\\traceback_utils.py\", line 70, in error_handler  **\n            raise e.with_traceback(filtered_tb) from None\n    \n        StagingError: Exception encountered when calling layer \"bert\" \"                 f\"(type TFBertMainLayer).\n        \n        in user code:\n        \n            File \"c:\\ProgramData\\anaconda3\\envs\\capstone\\lib\\site-packages\\transformers\\models\\bert\\modeling_tf_bert.py\", line 622, in call  *\n                embedding_output = self.embeddings(\n            File \"c:\\ProgramData\\anaconda3\\envs\\capstone\\lib\\site-packages\\keras\\utils\\traceback_utils.py\", line 70, in error_handler  **\n                raise e.with_traceback(filtered_tb) from None\n        \n            StagingError: Exception encountered when calling layer \"embeddings\" \"                 f\"(type TFBertEmbeddings).\n            \n            in user code:\n            \n                File \"c:\\ProgramData\\anaconda3\\envs\\capstone\\lib\\site-packages\\transformers\\models\\bert\\modeling_tf_bert.py\", line 191, in call  *\n                    return self._embedding(input_ids, position_ids, token_type_ids, inputs_embeds, training=training)\n                File \"c:\\ProgramData\\anaconda3\\envs\\capstone\\lib\\site-packages\\transformers\\models\\bert\\modeling_tf_bert.py\", line 206, in _embedding  *\n                    seq_length = input_shape[1]\n            \n                IndexError: list index out of range\n            \n            \n            Call arguments received by layer \"embeddings\" \"                 f\"(type TFBertEmbeddings):\n              • input_ids=tf.Tensor(shape=(361,), dtype=int32)\n              • position_ids=None\n              • token_type_ids=tf.Tensor(shape=(361,), dtype=int32)\n              • inputs_embeds=None\n              • mode=embedding\n              • training=True\n        \n        \n        Call arguments received by layer \"bert\" \"                 f\"(type TFBertMainLayer):\n          • input_ids=tf.Tensor(shape=(361,), dtype=int32)\n          • attention_mask=tf.Tensor(shape=(361,), dtype=int32)\n          • token_type_ids=tf.Tensor(shape=(361,), dtype=int32)\n          • position_ids=None\n          • head_mask=None\n          • inputs_embeds=None\n          • output_attentions=False\n          • output_hidden_states=False\n          • return_dict=True\n          • training=True\n          • kwargs=<class 'inspect._empty'>\n    \n    \n    Call arguments received by layer \"tf_bert_model_2\" \"                 f\"(type TFBertModel):\n      • input_ids={'input_ids': 'tf.Tensor(shape=(361,), dtype=int32)', 'token_type_ids': 'tf.Tensor(shape=(361,), dtype=int32)', 'attention_mask': 'tf.Tensor(shape=(361,), dtype=int32)'}\n      • attention_mask=None\n      • token_type_ids=None\n      • position_ids=None\n      • head_mask=None\n      • inputs_embeds=None\n      • output_attentions=None\n      • output_hidden_states=None\n      • return_dict=None\n      • training=True\n      • kwargs=<class 'inspect._empty'>\n",
     "output_type": "error",
     "traceback": [
      "\u001b[1;31m---------------------------------------------------------------------------\u001b[0m",
      "\u001b[1;31mStagingError\u001b[0m                              Traceback (most recent call last)",
      "Cell \u001b[1;32mIn[46], line 1\u001b[0m\n\u001b[1;32m----> 1\u001b[0m model\u001b[39m.\u001b[39;49mfit(train_dataset,\n\u001b[0;32m      2\u001b[0m           epochs\u001b[39m=\u001b[39;49m\u001b[39m3\u001b[39;49m,\n\u001b[0;32m      3\u001b[0m           validation_data\u001b[39m=\u001b[39;49mtest_dataset)\n",
      "File \u001b[1;32mc:\\ProgramData\\anaconda3\\envs\\capstone\\lib\\site-packages\\keras\\utils\\traceback_utils.py:70\u001b[0m, in \u001b[0;36mfilter_traceback.<locals>.error_handler\u001b[1;34m(*args, **kwargs)\u001b[0m\n\u001b[0;32m     67\u001b[0m     filtered_tb \u001b[39m=\u001b[39m _process_traceback_frames(e\u001b[39m.\u001b[39m__traceback__)\n\u001b[0;32m     68\u001b[0m     \u001b[39m# To get the full stack trace, call:\u001b[39;00m\n\u001b[0;32m     69\u001b[0m     \u001b[39m# `tf.debugging.disable_traceback_filtering()`\u001b[39;00m\n\u001b[1;32m---> 70\u001b[0m     \u001b[39mraise\u001b[39;00m e\u001b[39m.\u001b[39mwith_traceback(filtered_tb) \u001b[39mfrom\u001b[39;00m \u001b[39mNone\u001b[39;00m\n\u001b[0;32m     71\u001b[0m \u001b[39mfinally\u001b[39;00m:\n\u001b[0;32m     72\u001b[0m     \u001b[39mdel\u001b[39;00m filtered_tb\n",
      "File \u001b[1;32mc:\\ProgramData\\anaconda3\\envs\\capstone\\lib\\site-packages\\tensorflow\\python\\framework\\func_graph.py:1233\u001b[0m, in \u001b[0;36mfunc_graph_from_py_func.<locals>.autograph_handler\u001b[1;34m(*args, **kwargs)\u001b[0m\n\u001b[0;32m   1231\u001b[0m \u001b[39mexcept\u001b[39;00m \u001b[39mException\u001b[39;00m \u001b[39mas\u001b[39;00m e:  \u001b[39m# pylint:disable=broad-except\u001b[39;00m\n\u001b[0;32m   1232\u001b[0m   \u001b[39mif\u001b[39;00m \u001b[39mhasattr\u001b[39m(e, \u001b[39m\"\u001b[39m\u001b[39mag_error_metadata\u001b[39m\u001b[39m\"\u001b[39m):\n\u001b[1;32m-> 1233\u001b[0m     \u001b[39mraise\u001b[39;00m e\u001b[39m.\u001b[39mag_error_metadata\u001b[39m.\u001b[39mto_exception(e)\n\u001b[0;32m   1234\u001b[0m   \u001b[39melse\u001b[39;00m:\n\u001b[0;32m   1235\u001b[0m     \u001b[39mraise\u001b[39;00m\n",
      "\u001b[1;31mStagingError\u001b[0m: in user code:\n\n    File \"c:\\ProgramData\\anaconda3\\envs\\capstone\\lib\\site-packages\\keras\\engine\\training.py\", line 1160, in train_function  *\n        return step_function(self, iterator)\n    File \"c:\\ProgramData\\anaconda3\\envs\\capstone\\lib\\site-packages\\keras\\engine\\training.py\", line 1146, in step_function  **\n        outputs = model.distribute_strategy.run(run_step, args=(data,))\n    File \"c:\\ProgramData\\anaconda3\\envs\\capstone\\lib\\site-packages\\keras\\engine\\training.py\", line 1135, in run_step  **\n        outputs = model.train_step(data)\n    File \"c:\\ProgramData\\anaconda3\\envs\\capstone\\lib\\site-packages\\keras\\engine\\training.py\", line 993, in train_step\n        y_pred = self(x, training=True)\n    File \"c:\\ProgramData\\anaconda3\\envs\\capstone\\lib\\site-packages\\keras\\utils\\traceback_utils.py\", line 70, in error_handler\n        raise e.with_traceback(filtered_tb) from None\n\n    StagingError: Exception encountered when calling layer \"tf_bert_model_2\" \"                 f\"(type TFBertModel).\n    \n    in user code:\n    \n        File \"c:\\ProgramData\\anaconda3\\envs\\capstone\\lib\\site-packages\\transformers\\models\\bert\\modeling_tf_bert.py\", line 859, in call  *\n            outputs = self.bert(\n        File \"c:\\ProgramData\\anaconda3\\envs\\capstone\\lib\\site-packages\\keras\\utils\\traceback_utils.py\", line 70, in error_handler  **\n            raise e.with_traceback(filtered_tb) from None\n    \n        StagingError: Exception encountered when calling layer \"bert\" \"                 f\"(type TFBertMainLayer).\n        \n        in user code:\n        \n            File \"c:\\ProgramData\\anaconda3\\envs\\capstone\\lib\\site-packages\\transformers\\models\\bert\\modeling_tf_bert.py\", line 622, in call  *\n                embedding_output = self.embeddings(\n            File \"c:\\ProgramData\\anaconda3\\envs\\capstone\\lib\\site-packages\\keras\\utils\\traceback_utils.py\", line 70, in error_handler  **\n                raise e.with_traceback(filtered_tb) from None\n        \n            StagingError: Exception encountered when calling layer \"embeddings\" \"                 f\"(type TFBertEmbeddings).\n            \n            in user code:\n            \n                File \"c:\\ProgramData\\anaconda3\\envs\\capstone\\lib\\site-packages\\transformers\\models\\bert\\modeling_tf_bert.py\", line 191, in call  *\n                    return self._embedding(input_ids, position_ids, token_type_ids, inputs_embeds, training=training)\n                File \"c:\\ProgramData\\anaconda3\\envs\\capstone\\lib\\site-packages\\transformers\\models\\bert\\modeling_tf_bert.py\", line 206, in _embedding  *\n                    seq_length = input_shape[1]\n            \n                IndexError: list index out of range\n            \n            \n            Call arguments received by layer \"embeddings\" \"                 f\"(type TFBertEmbeddings):\n              • input_ids=tf.Tensor(shape=(361,), dtype=int32)\n              • position_ids=None\n              • token_type_ids=tf.Tensor(shape=(361,), dtype=int32)\n              • inputs_embeds=None\n              • mode=embedding\n              • training=True\n        \n        \n        Call arguments received by layer \"bert\" \"                 f\"(type TFBertMainLayer):\n          • input_ids=tf.Tensor(shape=(361,), dtype=int32)\n          • attention_mask=tf.Tensor(shape=(361,), dtype=int32)\n          • token_type_ids=tf.Tensor(shape=(361,), dtype=int32)\n          • position_ids=None\n          • head_mask=None\n          • inputs_embeds=None\n          • output_attentions=False\n          • output_hidden_states=False\n          • return_dict=True\n          • training=True\n          • kwargs=<class 'inspect._empty'>\n    \n    \n    Call arguments received by layer \"tf_bert_model_2\" \"                 f\"(type TFBertModel):\n      • input_ids={'input_ids': 'tf.Tensor(shape=(361,), dtype=int32)', 'token_type_ids': 'tf.Tensor(shape=(361,), dtype=int32)', 'attention_mask': 'tf.Tensor(shape=(361,), dtype=int32)'}\n      • attention_mask=None\n      • token_type_ids=None\n      • position_ids=None\n      • head_mask=None\n      • inputs_embeds=None\n      • output_attentions=None\n      • output_hidden_states=None\n      • return_dict=None\n      • training=True\n      • kwargs=<class 'inspect._empty'>\n"
     ]
    }
   ],
   "source": [
    "model.fit(train_dataset,\n",
    "          epochs=3,\n",
    "          validation_data=test_dataset)"
   ]
  },
  {
   "cell_type": "code",
   "execution_count": null,
   "metadata": {},
   "outputs": [],
   "source": [
    "# Evaluasi model pada test set\n",
    "# loss, accuracy = model.evaluate(X_test_padded, y_test)\n",
    "# print(f\"Test Accuracy: {accuracy:.4f}\")"
   ]
  }
 ],
 "metadata": {
  "kernelspec": {
   "display_name": "capstone",
   "language": "python",
   "name": "python3"
  },
  "language_info": {
   "codemirror_mode": {
    "name": "ipython",
    "version": 3
   },
   "file_extension": ".py",
   "mimetype": "text/x-python",
   "name": "python",
   "nbconvert_exporter": "python",
   "pygments_lexer": "ipython3",
   "version": "3.9.19"
  },
  "orig_nbformat": 4
 },
 "nbformat": 4,
 "nbformat_minor": 2
}
