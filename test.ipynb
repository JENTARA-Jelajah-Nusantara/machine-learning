{
 "cells": [
  {
   "cell_type": "code",
   "execution_count": 44,
   "metadata": {},
   "outputs": [],
   "source": [
    "import pandas as pd\n",
    "import json\n",
    "import matplotlib.pyplot as plt\n",
    "from sklearn.model_selection import train_test_split\n",
    "\n",
    "from imblearn.over_sampling import RandomOverSampler\n",
    "from imblearn.under_sampling import RandomUnderSampler\n",
    "\n",
    "import numpy as np\n",
    "\n",
    "from sklearn.metrics import classification_report, accuracy_score, confusion_matrix\n",
    "\n",
    "import seaborn as sns\n",
    "import tensorflow as tf\n",
    "import tensorflow_datasets as tfds\n",
    "import re\n",
    "import string\n",
    "import nltk\n",
    "from nltk.tokenize import word_tokenize, sent_tokenize\n",
    "from Sastrawi.Stemmer.StemmerFactory import StemmerFactory\n",
    "\n",
    "from nltk.stem import WordNetLemmatizer\n",
    "from nltk.corpus import wordnet\n",
    "\n",
    "from transformers import BertTokenizer, TFBertForSequenceClassification"
   ]
  },
  {
   "cell_type": "markdown",
   "metadata": {},
   "source": [
    "# Data crawling"
   ]
  },
  {
   "cell_type": "code",
   "execution_count": 2,
   "metadata": {},
   "outputs": [
    {
     "data": {
      "text/html": [
       "<div>\n",
       "<style scoped>\n",
       "    .dataframe tbody tr th:only-of-type {\n",
       "        vertical-align: middle;\n",
       "    }\n",
       "\n",
       "    .dataframe tbody tr th {\n",
       "        vertical-align: top;\n",
       "    }\n",
       "\n",
       "    .dataframe thead th {\n",
       "        text-align: right;\n",
       "    }\n",
       "</style>\n",
       "<table border=\"1\" class=\"dataframe\">\n",
       "  <thead>\n",
       "    <tr style=\"text-align: right;\">\n",
       "      <th></th>\n",
       "      <th>input_id</th>\n",
       "      <th>link</th>\n",
       "      <th>title</th>\n",
       "      <th>category</th>\n",
       "      <th>address</th>\n",
       "      <th>open_hours</th>\n",
       "      <th>popular_times</th>\n",
       "      <th>website</th>\n",
       "      <th>phone</th>\n",
       "      <th>plus_code</th>\n",
       "      <th>...</th>\n",
       "      <th>data_id</th>\n",
       "      <th>images</th>\n",
       "      <th>reservations</th>\n",
       "      <th>order_online</th>\n",
       "      <th>menu</th>\n",
       "      <th>owner</th>\n",
       "      <th>complete_address</th>\n",
       "      <th>about</th>\n",
       "      <th>user_reviews</th>\n",
       "      <th>emails</th>\n",
       "    </tr>\n",
       "  </thead>\n",
       "  <tbody>\n",
       "    <tr>\n",
       "      <th>0</th>\n",
       "      <td>0fff97bc-cece-4edd-ab0d-b4ad6eb62860</td>\n",
       "      <td>NaN</td>\n",
       "      <td>Vihara Dhamma Sundara</td>\n",
       "      <td>Buddhist temple</td>\n",
       "      <td>Jl. Ir. Juanda No.223B, Pucangsawit, Jebres, S...</td>\n",
       "      <td>{\"Friday\":[\"9.00 am–5.00 pm\"],\"Monday\":[\"9.00 ...</td>\n",
       "      <td>{}</td>\n",
       "      <td>NaN</td>\n",
       "      <td>(0271) 643749</td>\n",
       "      <td>CRJX+3G Pucangsawit, Surakarta City, Central Java</td>\n",
       "      <td>...</td>\n",
       "      <td>0x2e7a16582f12c515:0x16fa374ebaeeeecd</td>\n",
       "      <td>[{\"title\":\"All\",\"image\":\"https://lh5.googleuse...</td>\n",
       "      <td>NaN</td>\n",
       "      <td>NaN</td>\n",
       "      <td>{\"link\":\"\",\"source\":\"\"}</td>\n",
       "      <td>{\"id\":\"111828298465089363475\",\"name\":\"Vihara D...</td>\n",
       "      <td>{\"borough\":\"Pucangsawit, Jebres\",\"street\":\"Jl....</td>\n",
       "      <td>[{\"id\":\"accessibility\",\"name\":\"Accessibility\",...</td>\n",
       "      <td>[{\"Name\":\"Mettaxiumei\",\"ProfilePicture\":\"https...</td>\n",
       "      <td>NaN</td>\n",
       "    </tr>\n",
       "    <tr>\n",
       "      <th>1</th>\n",
       "      <td>0fff97bc-cece-4edd-ab0d-b4ad6eb62860</td>\n",
       "      <td>NaN</td>\n",
       "      <td>Tirtonadi Park</td>\n",
       "      <td>Park</td>\n",
       "      <td>Jl. A. Yani, Gilingan, Banjarsari, Surakarta C...</td>\n",
       "      <td>{\"Friday\":[\"Open 24 hours\"],\"Monday\":[\"Open 24...</td>\n",
       "      <td>{\"Friday\":{\"0\":33,\"1\":20,\"10\":5,\"11\":5,\"12\":6,...</td>\n",
       "      <td>NaN</td>\n",
       "      <td>NaN</td>\n",
       "      <td>CRXC+95 Gilingan, Surakarta City, Central Java</td>\n",
       "      <td>...</td>\n",
       "      <td>0x2e7a1697336d25e1:0x9e965d10ffb23cc2</td>\n",
       "      <td>[{\"title\":\"All\",\"image\":\"https://lh5.googleuse...</td>\n",
       "      <td>NaN</td>\n",
       "      <td>NaN</td>\n",
       "      <td>{\"link\":\"\",\"source\":\"\"}</td>\n",
       "      <td>{\"id\":\"104418315103655540738\",\"name\":\"Tirtonad...</td>\n",
       "      <td>{\"borough\":\"Gilingan, Banjarsari\",\"street\":\"Jl...</td>\n",
       "      <td>[{\"id\":\"accessibility\",\"name\":\"Accessibility\",...</td>\n",
       "      <td>[{\"Name\":\"M Bad.\",\"ProfilePicture\":\"https://lh...</td>\n",
       "      <td>NaN</td>\n",
       "    </tr>\n",
       "    <tr>\n",
       "      <th>2</th>\n",
       "      <td>0fff97bc-cece-4edd-ab0d-b4ad6eb62860</td>\n",
       "      <td>NaN</td>\n",
       "      <td>Ngarsopuro Night Market</td>\n",
       "      <td>Night market</td>\n",
       "      <td>Jl. Diponegoro, Keprabon, Banjarsari, Surakart...</td>\n",
       "      <td>{\"Friday\":[\"5.00–11.00 pm\"],\"Monday\":[\"Closed\"...</td>\n",
       "      <td>{}</td>\n",
       "      <td>NaN</td>\n",
       "      <td>0838-1943-4232</td>\n",
       "      <td>CRJC+GW Keprabon, Surakarta City, Central Java</td>\n",
       "      <td>...</td>\n",
       "      <td>0x2e7a166287cccb57:0xbba4b465bfa08dcc</td>\n",
       "      <td>[{\"title\":\"All\",\"image\":\"https://lh5.googleuse...</td>\n",
       "      <td>NaN</td>\n",
       "      <td>NaN</td>\n",
       "      <td>{\"link\":\"\",\"source\":\"\"}</td>\n",
       "      <td>{\"id\":\"109298893982878160837\",\"name\":\"Ngarsopu...</td>\n",
       "      <td>{\"borough\":\"Keprabon, Banjarsari\",\"street\":\"Jl...</td>\n",
       "      <td>[{\"id\":\"service_options\",\"name\":\"Service optio...</td>\n",
       "      <td>[{\"Name\":\"Putra Satria\",\"ProfilePicture\":\"http...</td>\n",
       "      <td>NaN</td>\n",
       "    </tr>\n",
       "    <tr>\n",
       "      <th>3</th>\n",
       "      <td>0fff97bc-cece-4edd-ab0d-b4ad6eb62860</td>\n",
       "      <td>NaN</td>\n",
       "      <td>Sriwedari Park</td>\n",
       "      <td>Park</td>\n",
       "      <td>Slamet Riyadi St No.275, Sriwedari, Laweyan, S...</td>\n",
       "      <td>{\"Friday\":[\"Open 24 hours\"],\"Monday\":[\"Open 24...</td>\n",
       "      <td>{\"Friday\":{\"0\":5,\"1\":2,\"10\":9,\"11\":10,\"12\":10,...</td>\n",
       "      <td>NaN</td>\n",
       "      <td>NaN</td>\n",
       "      <td>CRJ7+H5 Sriwedari, Surakarta City, Central Java</td>\n",
       "      <td>...</td>\n",
       "      <td>0x2e7a1680a93d3af1:0x7e1dfa994e59efcf</td>\n",
       "      <td>[{\"title\":\"All\",\"image\":\"https://lh5.googleuse...</td>\n",
       "      <td>NaN</td>\n",
       "      <td>NaN</td>\n",
       "      <td>{\"link\":\"\",\"source\":\"\"}</td>\n",
       "      <td>{\"id\":\"\",\"name\":\"Sriwedari Park (Owner)\",\"link...</td>\n",
       "      <td>{\"borough\":\"Sriwedari, Laweyan\",\"street\":\"Slam...</td>\n",
       "      <td>[{\"id\":\"accessibility\",\"name\":\"Accessibility\",...</td>\n",
       "      <td>[{\"Name\":\"Desy Natalia\",\"ProfilePicture\":\"http...</td>\n",
       "      <td>NaN</td>\n",
       "    </tr>\n",
       "    <tr>\n",
       "      <th>4</th>\n",
       "      <td>0fff97bc-cece-4edd-ab0d-b4ad6eb62860</td>\n",
       "      <td>NaN</td>\n",
       "      <td>Monument 45 Banjarsari Park</td>\n",
       "      <td>Memorial park</td>\n",
       "      <td>CRQG+RHP Monument 45 Banjarsari Park, Setabela...</td>\n",
       "      <td>{\"Friday\":[\"Open 24 hours\"],\"Monday\":[\"Open 24...</td>\n",
       "      <td>{\"Friday\":{\"0\":12,\"1\":8,\"10\":64,\"11\":55,\"12\":4...</td>\n",
       "      <td>http://surakarta.go.id/</td>\n",
       "      <td>NaN</td>\n",
       "      <td>NaN</td>\n",
       "      <td>...</td>\n",
       "      <td>0x2e7a168c33aa2a01:0x3c93de4d15b801f9</td>\n",
       "      <td>[{\"title\":\"All\",\"image\":\"https://lh5.googleuse...</td>\n",
       "      <td>NaN</td>\n",
       "      <td>NaN</td>\n",
       "      <td>{\"link\":\"\",\"source\":\"\"}</td>\n",
       "      <td>{\"id\":\"\",\"name\":\"Monument 45 Banjarsari Park (...</td>\n",
       "      <td>{\"borough\":\"Setabelan, Banjarsari\",\"street\":\"C...</td>\n",
       "      <td>[{\"id\":\"accessibility\",\"name\":\"Accessibility\",...</td>\n",
       "      <td>[{\"Name\":\"Marsepti Ndaruwati\",\"ProfilePicture\"...</td>\n",
       "      <td>NaN</td>\n",
       "    </tr>\n",
       "  </tbody>\n",
       "</table>\n",
       "<p>5 rows × 32 columns</p>\n",
       "</div>"
      ],
      "text/plain": [
       "                               input_id  link                        title  \\\n",
       "0  0fff97bc-cece-4edd-ab0d-b4ad6eb62860   NaN        Vihara Dhamma Sundara   \n",
       "1  0fff97bc-cece-4edd-ab0d-b4ad6eb62860   NaN               Tirtonadi Park   \n",
       "2  0fff97bc-cece-4edd-ab0d-b4ad6eb62860   NaN      Ngarsopuro Night Market   \n",
       "3  0fff97bc-cece-4edd-ab0d-b4ad6eb62860   NaN               Sriwedari Park   \n",
       "4  0fff97bc-cece-4edd-ab0d-b4ad6eb62860   NaN  Monument 45 Banjarsari Park   \n",
       "\n",
       "          category                                            address  \\\n",
       "0  Buddhist temple  Jl. Ir. Juanda No.223B, Pucangsawit, Jebres, S...   \n",
       "1             Park  Jl. A. Yani, Gilingan, Banjarsari, Surakarta C...   \n",
       "2     Night market  Jl. Diponegoro, Keprabon, Banjarsari, Surakart...   \n",
       "3             Park  Slamet Riyadi St No.275, Sriwedari, Laweyan, S...   \n",
       "4    Memorial park  CRQG+RHP Monument 45 Banjarsari Park, Setabela...   \n",
       "\n",
       "                                          open_hours  \\\n",
       "0  {\"Friday\":[\"9.00 am–5.00 pm\"],\"Monday\":[\"9.00 ...   \n",
       "1  {\"Friday\":[\"Open 24 hours\"],\"Monday\":[\"Open 24...   \n",
       "2  {\"Friday\":[\"5.00–11.00 pm\"],\"Monday\":[\"Closed\"...   \n",
       "3  {\"Friday\":[\"Open 24 hours\"],\"Monday\":[\"Open 24...   \n",
       "4  {\"Friday\":[\"Open 24 hours\"],\"Monday\":[\"Open 24...   \n",
       "\n",
       "                                       popular_times                  website  \\\n",
       "0                                                 {}                      NaN   \n",
       "1  {\"Friday\":{\"0\":33,\"1\":20,\"10\":5,\"11\":5,\"12\":6,...                      NaN   \n",
       "2                                                 {}                      NaN   \n",
       "3  {\"Friday\":{\"0\":5,\"1\":2,\"10\":9,\"11\":10,\"12\":10,...                      NaN   \n",
       "4  {\"Friday\":{\"0\":12,\"1\":8,\"10\":64,\"11\":55,\"12\":4...  http://surakarta.go.id/   \n",
       "\n",
       "            phone                                          plus_code  ...  \\\n",
       "0   (0271) 643749  CRJX+3G Pucangsawit, Surakarta City, Central Java  ...   \n",
       "1             NaN     CRXC+95 Gilingan, Surakarta City, Central Java  ...   \n",
       "2  0838-1943-4232     CRJC+GW Keprabon, Surakarta City, Central Java  ...   \n",
       "3             NaN    CRJ7+H5 Sriwedari, Surakarta City, Central Java  ...   \n",
       "4             NaN                                                NaN  ...   \n",
       "\n",
       "                                 data_id  \\\n",
       "0  0x2e7a16582f12c515:0x16fa374ebaeeeecd   \n",
       "1  0x2e7a1697336d25e1:0x9e965d10ffb23cc2   \n",
       "2  0x2e7a166287cccb57:0xbba4b465bfa08dcc   \n",
       "3  0x2e7a1680a93d3af1:0x7e1dfa994e59efcf   \n",
       "4  0x2e7a168c33aa2a01:0x3c93de4d15b801f9   \n",
       "\n",
       "                                              images reservations  \\\n",
       "0  [{\"title\":\"All\",\"image\":\"https://lh5.googleuse...          NaN   \n",
       "1  [{\"title\":\"All\",\"image\":\"https://lh5.googleuse...          NaN   \n",
       "2  [{\"title\":\"All\",\"image\":\"https://lh5.googleuse...          NaN   \n",
       "3  [{\"title\":\"All\",\"image\":\"https://lh5.googleuse...          NaN   \n",
       "4  [{\"title\":\"All\",\"image\":\"https://lh5.googleuse...          NaN   \n",
       "\n",
       "   order_online                     menu  \\\n",
       "0           NaN  {\"link\":\"\",\"source\":\"\"}   \n",
       "1           NaN  {\"link\":\"\",\"source\":\"\"}   \n",
       "2           NaN  {\"link\":\"\",\"source\":\"\"}   \n",
       "3           NaN  {\"link\":\"\",\"source\":\"\"}   \n",
       "4           NaN  {\"link\":\"\",\"source\":\"\"}   \n",
       "\n",
       "                                               owner  \\\n",
       "0  {\"id\":\"111828298465089363475\",\"name\":\"Vihara D...   \n",
       "1  {\"id\":\"104418315103655540738\",\"name\":\"Tirtonad...   \n",
       "2  {\"id\":\"109298893982878160837\",\"name\":\"Ngarsopu...   \n",
       "3  {\"id\":\"\",\"name\":\"Sriwedari Park (Owner)\",\"link...   \n",
       "4  {\"id\":\"\",\"name\":\"Monument 45 Banjarsari Park (...   \n",
       "\n",
       "                                    complete_address  \\\n",
       "0  {\"borough\":\"Pucangsawit, Jebres\",\"street\":\"Jl....   \n",
       "1  {\"borough\":\"Gilingan, Banjarsari\",\"street\":\"Jl...   \n",
       "2  {\"borough\":\"Keprabon, Banjarsari\",\"street\":\"Jl...   \n",
       "3  {\"borough\":\"Sriwedari, Laweyan\",\"street\":\"Slam...   \n",
       "4  {\"borough\":\"Setabelan, Banjarsari\",\"street\":\"C...   \n",
       "\n",
       "                                               about  \\\n",
       "0  [{\"id\":\"accessibility\",\"name\":\"Accessibility\",...   \n",
       "1  [{\"id\":\"accessibility\",\"name\":\"Accessibility\",...   \n",
       "2  [{\"id\":\"service_options\",\"name\":\"Service optio...   \n",
       "3  [{\"id\":\"accessibility\",\"name\":\"Accessibility\",...   \n",
       "4  [{\"id\":\"accessibility\",\"name\":\"Accessibility\",...   \n",
       "\n",
       "                                        user_reviews emails  \n",
       "0  [{\"Name\":\"Mettaxiumei\",\"ProfilePicture\":\"https...    NaN  \n",
       "1  [{\"Name\":\"M Bad.\",\"ProfilePicture\":\"https://lh...    NaN  \n",
       "2  [{\"Name\":\"Putra Satria\",\"ProfilePicture\":\"http...    NaN  \n",
       "3  [{\"Name\":\"Desy Natalia\",\"ProfilePicture\":\"http...    NaN  \n",
       "4  [{\"Name\":\"Marsepti Ndaruwati\",\"ProfilePicture\"...    NaN  \n",
       "\n",
       "[5 rows x 32 columns]"
      ]
     },
     "execution_count": 2,
     "metadata": {},
     "output_type": "execute_result"
    }
   ],
   "source": [
    "df = pd.read_csv(r'dataset\\data-review-final.csv')\n",
    "df.head()"
   ]
  },
  {
   "cell_type": "code",
   "execution_count": 3,
   "metadata": {},
   "outputs": [
    {
     "name": "stdout",
     "output_type": "stream",
     "text": [
      "<class 'pandas.core.frame.DataFrame'>\n",
      "RangeIndex: 954 entries, 0 to 953\n",
      "Data columns (total 32 columns):\n",
      " #   Column              Non-Null Count  Dtype  \n",
      "---  ------              --------------  -----  \n",
      " 0   input_id            954 non-null    object \n",
      " 1   link                0 non-null      float64\n",
      " 2   title               954 non-null    object \n",
      " 3   category            953 non-null    object \n",
      " 4   address             954 non-null    object \n",
      " 5   open_hours          954 non-null    object \n",
      " 6   popular_times       954 non-null    object \n",
      " 7   website             173 non-null    object \n",
      " 8   phone               319 non-null    object \n",
      " 9   plus_code           501 non-null    object \n",
      " 10  review_count        954 non-null    int64  \n",
      " 11  review_rating       954 non-null    float64\n",
      " 12  reviews_per_rating  954 non-null    object \n",
      " 13  latitude            954 non-null    float64\n",
      " 14  longitude           954 non-null    float64\n",
      " 15  cid                 954 non-null    uint64 \n",
      " 16  status              717 non-null    object \n",
      " 17  descriptions        264 non-null    object \n",
      " 18  reviews_link        937 non-null    object \n",
      " 19  thumbnail           952 non-null    object \n",
      " 20  timezone            952 non-null    object \n",
      " 21  price_range         5 non-null      object \n",
      " 22  data_id             954 non-null    object \n",
      " 23  images              954 non-null    object \n",
      " 24  reservations        0 non-null      float64\n",
      " 25  order_online        14 non-null     object \n",
      " 26  menu                954 non-null    object \n",
      " 27  owner               954 non-null    object \n",
      " 28  complete_address    954 non-null    object \n",
      " 29  about               909 non-null    object \n",
      " 30  user_reviews        936 non-null    object \n",
      " 31  emails              0 non-null      float64\n",
      "dtypes: float64(6), int64(1), object(24), uint64(1)\n",
      "memory usage: 238.6+ KB\n"
     ]
    }
   ],
   "source": [
    "df.info()"
   ]
  },
  {
   "cell_type": "code",
   "execution_count": 4,
   "metadata": {},
   "outputs": [
    {
     "data": {
      "text/html": [
       "<div>\n",
       "<style scoped>\n",
       "    .dataframe tbody tr th:only-of-type {\n",
       "        vertical-align: middle;\n",
       "    }\n",
       "\n",
       "    .dataframe tbody tr th {\n",
       "        vertical-align: top;\n",
       "    }\n",
       "\n",
       "    .dataframe thead th {\n",
       "        text-align: right;\n",
       "    }\n",
       "</style>\n",
       "<table border=\"1\" class=\"dataframe\">\n",
       "  <thead>\n",
       "    <tr style=\"text-align: right;\">\n",
       "      <th></th>\n",
       "      <th>user_reviews</th>\n",
       "    </tr>\n",
       "  </thead>\n",
       "  <tbody>\n",
       "    <tr>\n",
       "      <th>0</th>\n",
       "      <td>[{\"Name\":\"Mettaxiumei\",\"ProfilePicture\":\"https...</td>\n",
       "    </tr>\n",
       "    <tr>\n",
       "      <th>1</th>\n",
       "      <td>[{\"Name\":\"M Bad.\",\"ProfilePicture\":\"https://lh...</td>\n",
       "    </tr>\n",
       "    <tr>\n",
       "      <th>2</th>\n",
       "      <td>[{\"Name\":\"Putra Satria\",\"ProfilePicture\":\"http...</td>\n",
       "    </tr>\n",
       "    <tr>\n",
       "      <th>3</th>\n",
       "      <td>[{\"Name\":\"Desy Natalia\",\"ProfilePicture\":\"http...</td>\n",
       "    </tr>\n",
       "    <tr>\n",
       "      <th>4</th>\n",
       "      <td>[{\"Name\":\"Marsepti Ndaruwati\",\"ProfilePicture\"...</td>\n",
       "    </tr>\n",
       "  </tbody>\n",
       "</table>\n",
       "</div>"
      ],
      "text/plain": [
       "                                        user_reviews\n",
       "0  [{\"Name\":\"Mettaxiumei\",\"ProfilePicture\":\"https...\n",
       "1  [{\"Name\":\"M Bad.\",\"ProfilePicture\":\"https://lh...\n",
       "2  [{\"Name\":\"Putra Satria\",\"ProfilePicture\":\"http...\n",
       "3  [{\"Name\":\"Desy Natalia\",\"ProfilePicture\":\"http...\n",
       "4  [{\"Name\":\"Marsepti Ndaruwati\",\"ProfilePicture\"..."
      ]
     },
     "execution_count": 4,
     "metadata": {},
     "output_type": "execute_result"
    }
   ],
   "source": [
    "df = df[['user_reviews']]\n",
    "df.head()"
   ]
  },
  {
   "cell_type": "code",
   "execution_count": 5,
   "metadata": {},
   "outputs": [
    {
     "data": {
      "text/plain": [
       "'[{\"Name\":\"Mettaxiumei\",\"ProfilePicture\":\"https://lh3.googleusercontent.com/a-/ALV-UjWmViIc8Nd8oi_6vtggkwIldDHJ5tFtz0GSetaZpeDmKiHOVgjT2g=s120-c-rp-mo-ba3-br100\",\"Rating\":5,\"Description\":\"Ikut Kathina di Vihara Dhamma sundara^^\\\\n\\\\nViharanya bagus dan pengurusnya baik dan ramah..\\\\nJadwal Pujabakti di Hari Minggu Jam 9.30 Pagi, Kamis Jam 7 malam.\",\"Images\":[\"www.google.com/local/imagery/report/?cb_client=maps_sv.tactile\\\\u0026image_key=!1e10!2sAF1QipPabr9-Fs7UtAlAyIVzXtpHs8XY1Jt48df6t77c\"],\"When\":\"2023-11-18\"},{\"Name\":\"bumen dhiey\",\"ProfilePicture\":\"https://lh3.googleusercontent.com/a-/ALV-UjV1OrPYsyDy4jrnqOqe1vzFSF-Rzw1HvUf64--GfyHspIC79d2G=s120-c-rp-mo-ba5-br100\",\"Rating\":5,\"Description\":\"Tempatnya nampak sepi walaupun akan ada acara, namanya juga tempat ibadah..\\\\nPerlu diingat agar kita saling menjaga ketertiban apalagi ini adalah rumah ibadah jangan sampai kita yg berkunjung mengganggu ibadah,,\\\\nMenjaga adab dan sopan santun, ketika berkunjung usahakan untuk meminta ijin jika akan berswafoto,,\\\\nTempatnya sangat nyaman, adem, yg menjaga pun sangat ramah terhadap pengunjung yg datang.. 😃\",\"Images\":[\"www.google.com/local/imagery/report/?cb_client=maps_sv.tactile\\\\u0026image_key=!1e10!2sAF1QipO9uARa0TI3YTaXq40-ECI2QL5TPxNsBmE9evUf\"],\"When\":\"2023-6-24\"},{\"Name\":\"Erlin Apriyani\",\"ProfilePicture\":\"https://lh3.googleusercontent.com/a-/ALV-UjXNf7vwskl-fGqgz-_NOe4hF-g62xbcKGF-eBIyBubFQRrv34xU=s120-c-rp-mo-ba5-br100\",\"Rating\":5,\"Description\":\"Tempatnya bagus dan rapih. Namun saat ke sana lagi perbaikan, saya ke sana mengantarkan kontingen dari Myanmar untuk beribadah. Tempatnya mudah dijangkau dan sangat baik. Walaupun saya seorang muslim, tapi saya diperlakukan dengan baik oleh para jemaah dari Vihara ini. Orang Myanmar pun menyukai tempat ini.\",\"Images\":[\"www.google.com/local/imagery/report/?cb_client=maps_sv.tactile\\\\u0026image_key=!1e10!2sAF1QipMbB5c6jc_gGwBekRcXICfg2LvxxsDqUsSTNQUT\"],\"When\":\"2022-8-25\"},{\"Name\":\"Rhiyo Khatulistiwa\",\"ProfilePicture\":\"https://lh3.googleusercontent.com/a-/ALV-UjWKO1f0K9SZM2_Io4aXlZ0m3YUpBsFVUdWPfGxchwMECCfx4TLQjA=s120-c-rp-mo-ba4-br100\",\"Rating\":5,\"Description\":\"Ini Rumah ibadah untuk Umat Budha, Tapi diperbolehkan untuk umum kok(semua etnis/suku/agama/ras) untuk berkunjung. Pemotretan mohon tanya ke Petugas yang ada,,disini juga jual buku2 umat Budha,,Ada kotak Dana juga bayar seikhlasnya,,Bagus tempatnya sejuk. Tapi karena sifat nya sakral,mohon diharapkan sopan dan tidak mengganggu orang yang ibadah.\",\"Images\":[\"www.google.com/local/imagery/report/?cb_client=maps_sv.tactile\\\\u0026image_key=!1e10!2sAF1QipPF0HPzic4tOwdFapN1W8jzw59WQ2ywiK4fgAAX\"],\"When\":\"2022-1-27\"},{\"Name\":\"Margaretha Merlyna\",\"ProfilePicture\":\"https://lh3.googleusercontent.com/a/ACg8ocKmOqQwVZ7fe8tF3IHLmlV8Yh8bV25cYa71X4nQMkhkzZcq60-I=s120-c-rp-mo-ba4-br100\",\"Rating\":3,\"Description\":\"Untuk ibadah ckp kecil tp tempat luas..\\\\nKesini pas lagi renov\\\\nJd lumayan sepi.\\\\n\\\\nSpot foto cm ga banyak cm segini aja\",\"Images\":[\"www.google.com/local/imagery/report/?cb_client=maps_sv.tactile\\\\u0026image_key=!1e10!2sAF1QipNZBaq70ZQ_wvnlIaE18_d0bBOE2NA4qdxXMWGy\"],\"When\":\"2022-10-1\"},{\"Name\":\"yo_ bowie\",\"ProfilePicture\":\"https://lh3.googleusercontent.com/a-/ALV-UjWY9nM2z9YdkjQqxVDMAQbajN80K0cmZOv3CI_0ZvjbOL90h_U=s120-c-rp-mo-ba5-br100\",\"Rating\":5,\"Description\":\"This Holly place awesome,  feels so peacefully,  so relax and first time in here I\\'m still unbelievable there is place like this in the middle of the town.\\\\n\\\\nMy friend told me that \\\\\"if you looking a good place for taking pictures and have a stories to tell.. Then go there\\\\\"\\\\n\\\\nTaraaaa and here we are...  (In the front of gate.. 🤣🤣),  knocking the gate and nobody comes out.. Hahahaha then some one came take us to come in, what a day...  So polite.. And humble..  Just like Indonesian People when they meet another people.\\\\n\\\\nInside you will saw a temple like in Thailand,  suddenly I forgot if I\\'m still in Indonesia ahahahahah.\\\\n\\\\nI hope the senior (the humble man opened the gate) stay healthy,  happy,  and  wealthy.\\\\nRecommended place for looking beautiful temple in solo\",\"Images\":[\"www.google.com/local/imagery/report/?cb_client=maps_sv.tactile\\\\u0026image_key=!1e10!2sAF1QipN81lZT4ZoGPugGpHcQH71-9KIc5WyWTlCPVCzK\"],\"When\":\"2019-8-7\"},{\"Name\":\"Naftali Novita\",\"ProfilePicture\":\"https://lh3.googleusercontent.com/a-/ALV-UjVfYhD-2sTRwj-6kpB8Gyd0cnJNorjruH39W4lA3m1l3HHXyAYm-g=s120-c-rp-mo-ba6-br100\",\"Rating\":4,\"Description\":\"Tempat ibadah yang tenang yang ada ditengah kota Solo...bangunan depan cukup modern...disisi samping gedung ada kuil kecil mirip candi putih seperti di Thailand...dan kalau boleh dibilang saat anda berkunjung disini berasa seperti Solo rasa Thailand😁\",\"Images\":[\"www.google.com/local/imagery/report/?cb_client=maps_sv.tactile\\\\u0026image_key=!1e10!2sAF1QipPD_UkomVEtn1tLKXe_4KNCnVMMAi9ZSIS80g2g\"],\"When\":\"2018-6-1\"},{\"Name\":\"Birgi Niar\",\"ProfilePicture\":\"https://lh3.googleusercontent.com/a-/ALV-UjUuMV1XR7PO9LmWHhFze9i1Oknb6rbWhLl_LyLp6yncxb368_xdjQ=s120-c-rp-mo-ba5-br100\",\"Rating\":5,\"Description\":\"Asri dan tenang untuk bersembahyang bagi umat Budha.\",\"Images\":[\"www.google.com/local/imagery/report/?cb_client=maps_sv.tactile\\\\u0026image_key=!1e10!2sAF1QipMdoMx1QMjYhFTywmKNnWVatlDhKBaDxlEUyECy\"],\"When\":\"2024-5-5\"}]'"
      ]
     },
     "execution_count": 5,
     "metadata": {},
     "output_type": "execute_result"
    }
   ],
   "source": [
    "df['user_reviews'].iloc[0]"
   ]
  },
  {
   "cell_type": "code",
   "execution_count": 6,
   "metadata": {},
   "outputs": [
    {
     "data": {
      "text/html": [
       "<div>\n",
       "<style scoped>\n",
       "    .dataframe tbody tr th:only-of-type {\n",
       "        vertical-align: middle;\n",
       "    }\n",
       "\n",
       "    .dataframe tbody tr th {\n",
       "        vertical-align: top;\n",
       "    }\n",
       "\n",
       "    .dataframe thead th {\n",
       "        text-align: right;\n",
       "    }\n",
       "</style>\n",
       "<table border=\"1\" class=\"dataframe\">\n",
       "  <thead>\n",
       "    <tr style=\"text-align: right;\">\n",
       "      <th></th>\n",
       "      <th>label</th>\n",
       "      <th>text</th>\n",
       "    </tr>\n",
       "  </thead>\n",
       "  <tbody>\n",
       "    <tr>\n",
       "      <th>0</th>\n",
       "      <td>5</td>\n",
       "      <td>Ikut Kathina di Vihara Dhamma sundara^^\\n\\nVih...</td>\n",
       "    </tr>\n",
       "    <tr>\n",
       "      <th>1</th>\n",
       "      <td>5</td>\n",
       "      <td>Tempatnya nampak sepi walaupun akan ada acara,...</td>\n",
       "    </tr>\n",
       "    <tr>\n",
       "      <th>2</th>\n",
       "      <td>5</td>\n",
       "      <td>Tempatnya bagus dan rapih. Namun saat ke sana ...</td>\n",
       "    </tr>\n",
       "    <tr>\n",
       "      <th>3</th>\n",
       "      <td>5</td>\n",
       "      <td>Ini Rumah ibadah untuk Umat Budha, Tapi diperb...</td>\n",
       "    </tr>\n",
       "    <tr>\n",
       "      <th>4</th>\n",
       "      <td>3</td>\n",
       "      <td>Untuk ibadah ckp kecil tp tempat luas..\\nKesin...</td>\n",
       "    </tr>\n",
       "  </tbody>\n",
       "</table>\n",
       "</div>"
      ],
      "text/plain": [
       "   label                                               text\n",
       "0      5  Ikut Kathina di Vihara Dhamma sundara^^\\n\\nVih...\n",
       "1      5  Tempatnya nampak sepi walaupun akan ada acara,...\n",
       "2      5  Tempatnya bagus dan rapih. Namun saat ke sana ...\n",
       "3      5  Ini Rumah ibadah untuk Umat Budha, Tapi diperb...\n",
       "4      3  Untuk ibadah ckp kecil tp tempat luas..\\nKesin..."
      ]
     },
     "execution_count": 6,
     "metadata": {},
     "output_type": "execute_result"
    }
   ],
   "source": [
    "# extract rating and description\n",
    "rating = []\n",
    "description = []\n",
    "\n",
    "for i in df['user_reviews']:\n",
    "    if isinstance(i,str):\n",
    "        reviews = json.loads(i)\n",
    "        for review in reviews:\n",
    "            rating.append(review['Rating'])\n",
    "            description.append(review['Description'])\n",
    "df = pd.DataFrame({'label':rating, 'text' : description})\n",
    "df.head()"
   ]
  },
  {
   "cell_type": "code",
   "execution_count": 7,
   "metadata": {},
   "outputs": [
    {
     "data": {
      "text/plain": [
       "array([ 1,  0, -1], dtype=int64)"
      ]
     },
     "execution_count": 7,
     "metadata": {},
     "output_type": "execute_result"
    }
   ],
   "source": [
    "# ubah labeling menjadi -1,0,1\n",
    "df.replace({'label' : {1:-1, 2:-1, 3:0, 4:1, 5:1}},inplace=True)\n",
    "df['label'].unique()"
   ]
  },
  {
   "cell_type": "code",
   "execution_count": 8,
   "metadata": {},
   "outputs": [
    {
     "data": {
      "text/plain": [
       "label\n",
       " 1    6305\n",
       " 0     618\n",
       "-1     286\n",
       "Name: count, dtype: int64"
      ]
     },
     "execution_count": 8,
     "metadata": {},
     "output_type": "execute_result"
    }
   ],
   "source": [
    "df['label'].value_counts()"
   ]
  },
  {
   "cell_type": "markdown",
   "metadata": {},
   "source": [
    "data tidak seimbang"
   ]
  },
  {
   "cell_type": "markdown",
   "metadata": {},
   "source": [
    "## Resampling imbalance data"
   ]
  },
  {
   "cell_type": "code",
   "execution_count": 9,
   "metadata": {},
   "outputs": [
    {
     "data": {
      "image/png": "[encoded data removed]",
      "text/plain": [
       "<Figure size 600x300 with 1 Axes>"
      ]
     },
     "metadata": {},
     "output_type": "display_data"
    }
   ],
   "source": [
    "# sebelum di resampling\n",
    "plt.figure(figsize=(6,3))\n",
    "plt.pie(df['label'].value_counts(), autopct='%0.1f%%', labels=df['label'].value_counts().index)\n",
    "plt.title('label count')\n",
    "plt.show()"
   ]
  },
  {
   "cell_type": "code",
   "execution_count": 10,
   "metadata": {},
   "outputs": [
    {
     "data": {
      "text/plain": [
       "label\n",
       "-1    800\n",
       " 0    800\n",
       " 1    800\n",
       "Name: count, dtype: int64"
      ]
     },
     "execution_count": 10,
     "metadata": {},
     "output_type": "execute_result"
    }
   ],
   "source": [
    "X = df.drop('label', axis=1)\n",
    "y = df['label']\n",
    "\n",
    "oversample = RandomOverSampler(sampling_strategy={-1:800, 0:800})\n",
    "X_over, y_over = oversample.fit_resample(X,y)\n",
    "\n",
    "undersample = RandomUnderSampler(sampling_strategy={1:800})\n",
    "X_res, y_res = undersample.fit_resample(X_over,y_over)\n",
    "\n",
    "df = pd.concat([X_res, y_res], axis=1)\n",
    "df['label'].value_counts()\n",
    "\n"
   ]
  },
  {
   "cell_type": "code",
   "execution_count": 11,
   "metadata": {},
   "outputs": [
    {
     "data": {
      "image/png": "[encoded data removed]",
      "text/plain": [
       "<Figure size 600x300 with 1 Axes>"
      ]
     },
     "metadata": {},
     "output_type": "display_data"
    }
   ],
   "source": [
    "# setelah resampling dengan oversampling\n",
    "plt.figure(figsize=(6,3))\n",
    "plt.title('label count')\n",
    "plt.pie(df['label'].value_counts(), autopct='%0.1f%%', labels=df['label'].value_counts().index)\n",
    "plt.show()"
   ]
  },
  {
   "cell_type": "code",
   "execution_count": 12,
   "metadata": {},
   "outputs": [],
   "source": [
    "# simpan file yang sudah dibalance to csv\n",
    "df.to_csv(r'dataset\\balance.csv', index=False)"
   ]
  },
  {
   "cell_type": "markdown",
   "metadata": {},
   "source": [
    "## Cleansing data"
   ]
  },
  {
   "cell_type": "code",
   "execution_count": 13,
   "metadata": {},
   "outputs": [
    {
     "data": {
      "text/html": [
       "<div>\n",
       "<style scoped>\n",
       "    .dataframe tbody tr th:only-of-type {\n",
       "        vertical-align: middle;\n",
       "    }\n",
       "\n",
       "    .dataframe tbody tr th {\n",
       "        vertical-align: top;\n",
       "    }\n",
       "\n",
       "    .dataframe thead th {\n",
       "        text-align: right;\n",
       "    }\n",
       "</style>\n",
       "<table border=\"1\" class=\"dataframe\">\n",
       "  <thead>\n",
       "    <tr style=\"text-align: right;\">\n",
       "      <th></th>\n",
       "      <th>text</th>\n",
       "      <th>label</th>\n",
       "    </tr>\n",
       "  </thead>\n",
       "  <tbody>\n",
       "    <tr>\n",
       "      <th>0</th>\n",
       "      <td>Fort Vastenburg ini merupakan benteng peningga...</td>\n",
       "      <td>-1</td>\n",
       "    </tr>\n",
       "    <tr>\n",
       "      <th>1</th>\n",
       "      <td>Kecewa berat karena jauh2 datang bersama kelua...</td>\n",
       "      <td>-1</td>\n",
       "    </tr>\n",
       "    <tr>\n",
       "      <th>2</th>\n",
       "      <td>Karena lokasi yg tepat di bantaran sungai jadi...</td>\n",
       "      <td>-1</td>\n",
       "    </tr>\n",
       "    <tr>\n",
       "      <th>3</th>\n",
       "      <td>NaN</td>\n",
       "      <td>-1</td>\n",
       "    </tr>\n",
       "    <tr>\n",
       "      <th>4</th>\n",
       "      <td>Reservasi nya yg retail selalu kalah dengan yg...</td>\n",
       "      <td>-1</td>\n",
       "    </tr>\n",
       "  </tbody>\n",
       "</table>\n",
       "</div>"
      ],
      "text/plain": [
       "                                                text  label\n",
       "0  Fort Vastenburg ini merupakan benteng peningga...     -1\n",
       "1  Kecewa berat karena jauh2 datang bersama kelua...     -1\n",
       "2  Karena lokasi yg tepat di bantaran sungai jadi...     -1\n",
       "3                                                NaN     -1\n",
       "4  Reservasi nya yg retail selalu kalah dengan yg...     -1"
      ]
     },
     "execution_count": 13,
     "metadata": {},
     "output_type": "execute_result"
    }
   ],
   "source": [
    "df = pd.read_csv(r'dataset\\balance.csv')\n",
    "df.head()"
   ]
  },
  {
   "cell_type": "code",
   "execution_count": 14,
   "metadata": {},
   "outputs": [
    {
     "data": {
      "text/plain": [
       "text     41\n",
       "label     0\n",
       "dtype: int64"
      ]
     },
     "execution_count": 14,
     "metadata": {},
     "output_type": "execute_result"
    }
   ],
   "source": [
    "df.isna().sum()"
   ]
  },
  {
   "cell_type": "code",
   "execution_count": 15,
   "metadata": {},
   "outputs": [],
   "source": [
    "df.dropna(inplace=True)"
   ]
  },
  {
   "cell_type": "code",
   "execution_count": 16,
   "metadata": {},
   "outputs": [
    {
     "data": {
      "text/plain": [
       "text     0\n",
       "label    0\n",
       "dtype: int64"
      ]
     },
     "execution_count": 16,
     "metadata": {},
     "output_type": "execute_result"
    }
   ],
   "source": [
    "df.isna().sum()"
   ]
  },
  {
   "cell_type": "code",
   "execution_count": 17,
   "metadata": {},
   "outputs": [
    {
     "name": "stderr",
     "output_type": "stream",
     "text": [
      "[nltk_data] Downloading package stopwords to\n",
      "[nltk_data]     C:\\Users\\Admin\\AppData\\Roaming\\nltk_data...\n",
      "[nltk_data]   Package stopwords is already up-to-date!\n"
     ]
    }
   ],
   "source": [
    "# inisialisasi stop words\n",
    "nltk.download('stopwords')\n",
    "stopwords = set(nltk.corpus.stopwords.words('indonesian'))\n",
    "\n",
    "# inisialisasi lemmatizer\n",
    "lemmatizer = WordNetLemmatizer()\n",
    "\n",
    "# inisialisasi stemmer dari sastrawi\n",
    "factory = StemmerFactory()\n",
    "stemmer = factory.create_stemmer()"
   ]
  },
  {
   "cell_type": "code",
   "execution_count": 18,
   "metadata": {},
   "outputs": [],
   "source": [
    "def clean_text(text):\n",
    "    text = str(text)\n",
    "\n",
    "    # buat text jadi huruf kecil\n",
    "    text = text.lower()\n",
    "\n",
    "    # hapus karakter non ASCII seperti karakter khusus, emot dll\n",
    "    text = re.sub(r'[^\\x00-\\x7f]', r'', text)\n",
    "\n",
    "    # hapus angka\n",
    "    text = re.sub(r'\\d+','',text)\n",
    "    \n",
    "    # hapus tanda baca\n",
    "    text = text.translate(str.maketrans('','',string.punctuation))\n",
    "\n",
    "    # hapus kelebihan spasi\n",
    "    text = re.sub(r'\\s+',' ',text).strip()\n",
    "\n",
    "    # pisahkan text menjadi kata terpisah\n",
    "    # words = text.split()\n",
    "\n",
    "    # filter kata dari stopwords dan lakukan stemming\n",
    "    # cleaned_words = []\n",
    "    # for word in words:\n",
    "    #     if word not in stopwords:\n",
    "    #         # Melakukan stemming\n",
    "    #         stemmed_word = stemmer.stem(word)\n",
    "    #         # Melakukan lemmatisasi\n",
    "    #         lemmatized_word = lemmatizer.lemmatize(stemmed_word, wordnet.VERB) # Anggap kata sebagai kata kerja\n",
    "    #         cleaned_words.append(lemmatized_word)\n",
    "\n",
    "\n",
    "\n",
    "    # Menggabungkan kembali kata-kata yang sudah difilter menjadi teks\n",
    "    # cleaned_text = ' '.join(cleaned_words)\n",
    "\n",
    "    return text\n",
    "    "
   ]
  },
  {
   "cell_type": "code",
   "execution_count": 19,
   "metadata": {},
   "outputs": [],
   "source": [
    "def remove_stopwords(text):\n",
    "    word_token = word_tokenize(text)\n",
    "    filtered_sentences = [w for w in word_token if w not in stopwords]\n",
    "    return ' '.join(filtered_sentences)"
   ]
  },
  {
   "cell_type": "code",
   "execution_count": 20,
   "metadata": {},
   "outputs": [],
   "source": [
    "def preprocess_text(text):\n",
    "    text = clean_text(text)\n",
    "    text = remove_stopwords(text)\n",
    "    return text\n",
    "\n"
   ]
  },
  {
   "cell_type": "code",
   "execution_count": 21,
   "metadata": {},
   "outputs": [
    {
     "data": {
      "text/plain": [
       "'Fort Vastenburg ini merupakan benteng peninggalan penjajah Belanda yang ada di kota solo.\\nBenteng ini dibangun sejak abad ke 18.\\nKemarin pada saat kesana benteng ini ditutup dan tidak dapat masuk.\\nSepertinya sekarang benteng ini sering sibuat untuk tempat pertunjukan konser2..\\n\\nBenteng ini letaknya tidak jauh dari pasar gede solo. Jalan kaki sekitar 400m saja.\\n\\nSayangnya sepertinya kurang terawat...\\nBanyak sampah dimana2..\\nSayang sekali padahal harusnya peninggalan sejarah seperti ini harus dirawat dan dijaga..'"
      ]
     },
     "execution_count": 21,
     "metadata": {},
     "output_type": "execute_result"
    }
   ],
   "source": [
    "df['text'][0]"
   ]
  },
  {
   "cell_type": "code",
   "execution_count": 22,
   "metadata": {},
   "outputs": [
    {
     "data": {
      "text/plain": [
       "'fort vastenburg benteng peninggalan penjajah belanda kota solo benteng dibangun abad kemarin kesana benteng ditutup masuk benteng sibuat pertunjukan konser benteng letaknya pasar gede solo jalan kaki m sayangnya terawat sampah dimana sayang peninggalan sejarah dirawat dijaga'"
      ]
     },
     "execution_count": 22,
     "metadata": {},
     "output_type": "execute_result"
    }
   ],
   "source": [
    "# apply fungsi clean_text memakan waktu kurang lebih 30 menit\n",
    "\n",
    "df['clean'] = df['text'].apply(preprocess_text)\n",
    "df['clean'][0]"
   ]
  },
  {
   "cell_type": "code",
   "execution_count": 23,
   "metadata": {},
   "outputs": [
    {
     "data": {
      "text/html": [
       "<div>\n",
       "<style scoped>\n",
       "    .dataframe tbody tr th:only-of-type {\n",
       "        vertical-align: middle;\n",
       "    }\n",
       "\n",
       "    .dataframe tbody tr th {\n",
       "        vertical-align: top;\n",
       "    }\n",
       "\n",
       "    .dataframe thead th {\n",
       "        text-align: right;\n",
       "    }\n",
       "</style>\n",
       "<table border=\"1\" class=\"dataframe\">\n",
       "  <thead>\n",
       "    <tr style=\"text-align: right;\">\n",
       "      <th></th>\n",
       "      <th>label</th>\n",
       "      <th>text</th>\n",
       "    </tr>\n",
       "  </thead>\n",
       "  <tbody>\n",
       "    <tr>\n",
       "      <th>0</th>\n",
       "      <td>-1</td>\n",
       "      <td>fort vastenburg benteng peninggalan penjajah b...</td>\n",
       "    </tr>\n",
       "    <tr>\n",
       "      <th>1</th>\n",
       "      <td>-1</td>\n",
       "      <td>kecewa berat keluarga air mancurnya tdk dinyal...</td>\n",
       "    </tr>\n",
       "    <tr>\n",
       "      <th>2</th>\n",
       "      <td>-1</td>\n",
       "      <td>lokasi yg bantaran sungai rawan hujan banjir l...</td>\n",
       "    </tr>\n",
       "    <tr>\n",
       "      <th>4</th>\n",
       "      <td>-1</td>\n",
       "      <td>reservasi nya yg retail kalah yg sewa menanyak...</td>\n",
       "    </tr>\n",
       "    <tr>\n",
       "      <th>5</th>\n",
       "      <td>-1</td>\n",
       "      <td>sorry to say yg menarik duduk kursi tingkat bu...</td>\n",
       "    </tr>\n",
       "  </tbody>\n",
       "</table>\n",
       "</div>"
      ],
      "text/plain": [
       "   label                                               text\n",
       "0     -1  fort vastenburg benteng peninggalan penjajah b...\n",
       "1     -1  kecewa berat keluarga air mancurnya tdk dinyal...\n",
       "2     -1  lokasi yg bantaran sungai rawan hujan banjir l...\n",
       "4     -1  reservasi nya yg retail kalah yg sewa menanyak...\n",
       "5     -1  sorry to say yg menarik duduk kursi tingkat bu..."
      ]
     },
     "execution_count": 23,
     "metadata": {},
     "output_type": "execute_result"
    }
   ],
   "source": [
    "df.drop('text', inplace=True, axis=1)\n",
    "df.rename(columns={\"clean\" : \"text\"}, inplace=True)\n",
    "df.head()"
   ]
  },
  {
   "cell_type": "code",
   "execution_count": 24,
   "metadata": {},
   "outputs": [],
   "source": [
    "# # simpan file yang telah di cleansing\n",
    "df.to_csv('dataset\\preprocess.csv', index = False)"
   ]
  },
  {
   "cell_type": "markdown",
   "metadata": {},
   "source": [
    "# Processing"
   ]
  },
  {
   "cell_type": "code",
   "execution_count": 25,
   "metadata": {},
   "outputs": [
    {
     "data": {
      "text/html": [
       "<div>\n",
       "<style scoped>\n",
       "    .dataframe tbody tr th:only-of-type {\n",
       "        vertical-align: middle;\n",
       "    }\n",
       "\n",
       "    .dataframe tbody tr th {\n",
       "        vertical-align: top;\n",
       "    }\n",
       "\n",
       "    .dataframe thead th {\n",
       "        text-align: right;\n",
       "    }\n",
       "</style>\n",
       "<table border=\"1\" class=\"dataframe\">\n",
       "  <thead>\n",
       "    <tr style=\"text-align: right;\">\n",
       "      <th></th>\n",
       "      <th>label</th>\n",
       "      <th>text</th>\n",
       "    </tr>\n",
       "  </thead>\n",
       "  <tbody>\n",
       "    <tr>\n",
       "      <th>0</th>\n",
       "      <td>-1</td>\n",
       "      <td>fort vastenburg benteng peninggalan penjajah b...</td>\n",
       "    </tr>\n",
       "    <tr>\n",
       "      <th>1</th>\n",
       "      <td>-1</td>\n",
       "      <td>kecewa berat keluarga air mancurnya tdk dinyal...</td>\n",
       "    </tr>\n",
       "    <tr>\n",
       "      <th>2</th>\n",
       "      <td>-1</td>\n",
       "      <td>lokasi yg bantaran sungai rawan hujan banjir l...</td>\n",
       "    </tr>\n",
       "    <tr>\n",
       "      <th>3</th>\n",
       "      <td>-1</td>\n",
       "      <td>reservasi nya yg retail kalah yg sewa menanyak...</td>\n",
       "    </tr>\n",
       "    <tr>\n",
       "      <th>4</th>\n",
       "      <td>-1</td>\n",
       "      <td>sorry to say yg menarik duduk kursi tingkat bu...</td>\n",
       "    </tr>\n",
       "  </tbody>\n",
       "</table>\n",
       "</div>"
      ],
      "text/plain": [
       "   label                                               text\n",
       "0     -1  fort vastenburg benteng peninggalan penjajah b...\n",
       "1     -1  kecewa berat keluarga air mancurnya tdk dinyal...\n",
       "2     -1  lokasi yg bantaran sungai rawan hujan banjir l...\n",
       "3     -1  reservasi nya yg retail kalah yg sewa menanyak...\n",
       "4     -1  sorry to say yg menarik duduk kursi tingkat bu..."
      ]
     },
     "execution_count": 25,
     "metadata": {},
     "output_type": "execute_result"
    }
   ],
   "source": [
    "df = pd.read_csv(r'dataset\\preprocess.csv')\n",
    "df.head()"
   ]
  },
  {
   "cell_type": "code",
   "execution_count": 26,
   "metadata": {},
   "outputs": [
    {
     "data": {
      "text/plain": [
       "label    0\n",
       "text     5\n",
       "dtype: int64"
      ]
     },
     "execution_count": 26,
     "metadata": {},
     "output_type": "execute_result"
    }
   ],
   "source": [
    "df.isna().sum()"
   ]
  },
  {
   "cell_type": "code",
   "execution_count": 27,
   "metadata": {},
   "outputs": [],
   "source": [
    "df.dropna(inplace=True)"
   ]
  },
  {
   "cell_type": "code",
   "execution_count": 28,
   "metadata": {},
   "outputs": [
    {
     "data": {
      "text/plain": [
       "label\n",
       "0    1566\n",
       "1     788\n",
       "Name: count, dtype: int64"
      ]
     },
     "execution_count": 28,
     "metadata": {},
     "output_type": "execute_result"
    }
   ],
   "source": [
    "df.replace({'label' : {-1:0, 0:0, 1:1}},inplace=True)\n",
    "df['label'].value_counts()"
   ]
  },
  {
   "cell_type": "code",
   "execution_count": 29,
   "metadata": {},
   "outputs": [
    {
     "data": {
      "text/html": [
       "<div>\n",
       "<style scoped>\n",
       "    .dataframe tbody tr th:only-of-type {\n",
       "        vertical-align: middle;\n",
       "    }\n",
       "\n",
       "    .dataframe tbody tr th {\n",
       "        vertical-align: top;\n",
       "    }\n",
       "\n",
       "    .dataframe thead th {\n",
       "        text-align: right;\n",
       "    }\n",
       "</style>\n",
       "<table border=\"1\" class=\"dataframe\">\n",
       "  <thead>\n",
       "    <tr style=\"text-align: right;\">\n",
       "      <th></th>\n",
       "      <th>text</th>\n",
       "      <th>label</th>\n",
       "    </tr>\n",
       "  </thead>\n",
       "  <tbody>\n",
       "    <tr>\n",
       "      <th>0</th>\n",
       "      <td>fort vastenburg benteng peninggalan penjajah b...</td>\n",
       "      <td>0</td>\n",
       "    </tr>\n",
       "    <tr>\n",
       "      <th>1</th>\n",
       "      <td>kecewa berat keluarga air mancurnya tdk dinyal...</td>\n",
       "      <td>0</td>\n",
       "    </tr>\n",
       "    <tr>\n",
       "      <th>2</th>\n",
       "      <td>lokasi yg bantaran sungai rawan hujan banjir l...</td>\n",
       "      <td>0</td>\n",
       "    </tr>\n",
       "    <tr>\n",
       "      <th>3</th>\n",
       "      <td>reservasi nya yg retail kalah yg sewa menanyak...</td>\n",
       "      <td>0</td>\n",
       "    </tr>\n",
       "    <tr>\n",
       "      <th>4</th>\n",
       "      <td>sorry to say yg menarik duduk kursi tingkat bu...</td>\n",
       "      <td>0</td>\n",
       "    </tr>\n",
       "  </tbody>\n",
       "</table>\n",
       "</div>"
      ],
      "text/plain": [
       "                                                text  label\n",
       "0  fort vastenburg benteng peninggalan penjajah b...      0\n",
       "1  kecewa berat keluarga air mancurnya tdk dinyal...      0\n",
       "2  lokasi yg bantaran sungai rawan hujan banjir l...      0\n",
       "3  reservasi nya yg retail kalah yg sewa menanyak...      0\n",
       "4  sorry to say yg menarik duduk kursi tingkat bu...      0"
      ]
     },
     "execution_count": 29,
     "metadata": {},
     "output_type": "execute_result"
    }
   ],
   "source": [
    "X = df.drop('label', axis=1)\n",
    "y = df['label']\n",
    "\n",
    "oversample = RandomOverSampler(random_state=42)\n",
    "X_over, y_over = oversample.fit_resample(X,y)\n",
    "\n",
    "df = pd.DataFrame(X_over, columns=X.columns)\n",
    "df['label'] = y_over\n",
    "df.head()"
   ]
  },
  {
   "cell_type": "code",
   "execution_count": 30,
   "metadata": {},
   "outputs": [
    {
     "data": {
      "text/plain": [
       "label\n",
       "0    1566\n",
       "1    1566\n",
       "Name: count, dtype: int64"
      ]
     },
     "execution_count": 30,
     "metadata": {},
     "output_type": "execute_result"
    }
   ],
   "source": [
    "df['label'].value_counts()"
   ]
  },
  {
   "cell_type": "markdown",
   "metadata": {},
   "source": [
    "split data menjadi train,val,test (70%, 15%, 15%)"
   ]
  },
  {
   "cell_type": "code",
   "execution_count": 31,
   "metadata": {},
   "outputs": [
    {
     "name": "stdout",
     "output_type": "stream",
     "text": [
      "train size : 2192\n",
      "val size : 470\n",
      "test size : 470\n"
     ]
    }
   ],
   "source": [
    "train_ratio = 0.7\n",
    "val_ratio = 0.15\n",
    "test_ratio = 0.15\n",
    "\n",
    "df_train, df_remaining = train_test_split(df, train_size=train_ratio, random_state=42)\n",
    "df_val, df_test = train_test_split(df_remaining, train_size=val_ratio/(val_ratio+test_ratio), random_state=42)\n",
    "\n",
    "print(f\"train size : {len(df_train)}\")\n",
    "print(f\"val size : {len(df_val)}\")\n",
    "print(f\"test size : {len(df_test)}\")"
   ]
  },
  {
   "cell_type": "code",
   "execution_count": 32,
   "metadata": {},
   "outputs": [
    {
     "data": {
      "text/plain": [
       "dict"
      ]
     },
     "execution_count": 32,
     "metadata": {},
     "output_type": "execute_result"
    }
   ],
   "source": [
    "PRETRAINED_MODEL ='indobenchmark/indobert-base-p2'\n",
    "\n",
    "tokenizer = BertTokenizer.from_pretrained(PRETRAINED_MODEL)\n",
    "vocab = tokenizer.get_vocab()\n",
    "type(vocab)\n"
   ]
  },
  {
   "cell_type": "code",
   "execution_count": 33,
   "metadata": {},
   "outputs": [
    {
     "data": {
      "image/png": "[encoded data removed]",
      "text/plain": [
       "<Figure size 640x480 with 1 Axes>"
      ]
     },
     "metadata": {},
     "output_type": "display_data"
    }
   ],
   "source": [
    "token_max = []\n",
    "\n",
    "for txt in df['text']:\n",
    "    tokens = tokenizer.encode(txt)\n",
    "    token_max.append(len(tokens))\n",
    "\n",
    "sns.histplot(token_max, kde=True, stat='density', linewidth=0)\n",
    "plt.xlabel(\"token count\")\n",
    "plt.show()"
   ]
  },
  {
   "cell_type": "code",
   "execution_count": 34,
   "metadata": {},
   "outputs": [],
   "source": [
    "MAXLEN = 250"
   ]
  },
  {
   "cell_type": "code",
   "execution_count": 35,
   "metadata": {},
   "outputs": [],
   "source": [
    "def encode_sentence(sent):\n",
    "    return tokenizer.encode_plus(\n",
    "        sent,\n",
    "        add_special_tokens=True,\n",
    "        padding='max_length',\n",
    "        truncation='longest_first',\n",
    "        max_length=MAXLEN,\n",
    "        return_attention_mask=True,\n",
    "        return_token_type_ids=True\n",
    "    )"
   ]
  },
  {
   "cell_type": "code",
   "execution_count": 36,
   "metadata": {},
   "outputs": [],
   "source": [
    "def map_example_to_dict(input_ids, attention_mask, token_type_ids, label):\n",
    "    return {\n",
    "        'input_ids' : input_ids,\n",
    "        'attention_mask' : attention_mask,\n",
    "        'token_type_ids' : token_type_ids,\n",
    "    }, label"
   ]
  },
  {
   "cell_type": "code",
   "execution_count": 37,
   "metadata": {},
   "outputs": [],
   "source": [
    "def encode_dataset(ds, limit = -1):\n",
    "    input_ids_list = []\n",
    "    attention_mask_list = []\n",
    "    token_type_ids_list = []\n",
    "    label_list = []\n",
    "\n",
    "    for index, row in ds.iterrows():\n",
    "        if limit > 0 and index >= limit:\n",
    "            break\n",
    "\n",
    "        input_ids, attention_mask, token_type_ids = \\\n",
    "        encode_sentence(row['text'])['input_ids'],\\\n",
    "        encode_sentence(row['text'])['attention_mask'], \\\n",
    "        encode_sentence(row['text'])['token_type_ids']\n",
    "\n",
    "        label = row['label']\n",
    "\n",
    "        input_ids_list.append(input_ids)\n",
    "        attention_mask_list.append(attention_mask)\n",
    "        token_type_ids_list.append(token_type_ids)\n",
    "        label_list.append(label)\n",
    "    \n",
    "    return tf.data.Dataset.from_tensor_slices((\n",
    "        input_ids_list,\n",
    "        attention_mask_list,\n",
    "        token_type_ids_list,\n",
    "        label_list\n",
    "    )).map(map_example_to_dict)"
   ]
  },
  {
   "cell_type": "code",
   "execution_count": 38,
   "metadata": {},
   "outputs": [],
   "source": [
    "EPOCHS = 5\n",
    "BATCH_SIZE = 8\n",
    "LEARNING_RATE = 5e-5\n",
    "\n",
    "train_data = encode_dataset(df_train).shuffle(100).batch(BATCH_SIZE)\n",
    "val_data = encode_dataset(df_val).batch(BATCH_SIZE)\n",
    "test_data = encode_dataset(df_test).batch(BATCH_SIZE)"
   ]
  },
  {
   "cell_type": "code",
   "execution_count": 39,
   "metadata": {},
   "outputs": [
    {
     "name": "stderr",
     "output_type": "stream",
     "text": [
      "All model checkpoint layers were used when initializing TFBertForSequenceClassification.\n",
      "\n",
      "Some layers of TFBertForSequenceClassification were not initialized from the model checkpoint at indobenchmark/indobert-base-p2 and are newly initialized: ['classifier']\n",
      "You should probably TRAIN this model on a down-stream task to be able to use it for predictions and inference.\n"
     ]
    },
    {
     "name": "stdout",
     "output_type": "stream",
     "text": [
      "Model: \"tf_bert_for_sequence_classification\"\n",
      "_________________________________________________________________\n",
      " Layer (type)                Output Shape              Param #   \n",
      "=================================================================\n",
      " bert (TFBertMainLayer)      multiple                  124441344 \n",
      "                                                                 \n",
      " dropout_37 (Dropout)        multiple                  0         \n",
      "                                                                 \n",
      " classifier (Dense)          multiple                  2307      \n",
      "                                                                 \n",
      "=================================================================\n",
      "Total params: 124,443,651\n",
      "Trainable params: 124,443,651\n",
      "Non-trainable params: 0\n",
      "_________________________________________________________________\n"
     ]
    }
   ],
   "source": [
    "model = TFBertForSequenceClassification.from_pretrained(PRETRAINED_MODEL, num_labels=3)\n",
    "model.summary()"
   ]
  },
  {
   "cell_type": "code",
   "execution_count": 40,
   "metadata": {},
   "outputs": [],
   "source": [
    "optimizer = tf.keras.optimizers.Adam(learning_rate=LEARNING_RATE)\n",
    "loss = tf.keras.losses.SparseCategoricalCrossentropy(from_logits=True)\n",
    "metrics = tf.keras.metrics.SparseCategoricalAccuracy('accuracy')\n",
    "model.compile(optimizer=optimizer, loss=loss, metrics=metrics)"
   ]
  },
  {
   "cell_type": "code",
   "execution_count": 41,
   "metadata": {},
   "outputs": [
    {
     "name": "stdout",
     "output_type": "stream",
     "text": [
      "Epoch 1/5\n"
     ]
    },
    {
     "name": "stdout",
     "output_type": "stream",
     "text": [
      "WARNING:tensorflow:AutoGraph could not transform <bound method Socket.send of <zmq.Socket(zmq.PUSH) at 0x2575ad8d7c0>> and will run it as-is.\n",
      "Please report this to the TensorFlow team. When filing the bug, set the verbosity to 10 (on Linux, `export AUTOGRAPH_VERBOSITY=10`) and attach the full output.\n",
      "Cause: module, class, method, function, traceback, frame, or code object was expected, got cython_function_or_method\n",
      "To silence this warning, decorate the function with @tf.autograph.experimental.do_not_convert\n"
     ]
    },
    {
     "name": "stderr",
     "output_type": "stream",
     "text": [
      "The parameters `output_attentions`, `output_hidden_states` and `use_cache` cannot be updated when calling a model.They have to be set to True/False in the config object (i.e.: `config=XConfig.from_pretrained('name', output_attentions=True)`).\n"
     ]
    },
    {
     "name": "stdout",
     "output_type": "stream",
     "text": [
      "WARNING: AutoGraph could not transform <bound method Socket.send of <zmq.Socket(zmq.PUSH) at 0x2575ad8d7c0>> and will run it as-is.\n",
      "Please report this to the TensorFlow team. When filing the bug, set the verbosity to 10 (on Linux, `export AUTOGRAPH_VERBOSITY=10`) and attach the full output.\n",
      "Cause: module, class, method, function, traceback, frame, or code object was expected, got cython_function_or_method\n",
      "To silence this warning, decorate the function with @tf.autograph.experimental.do_not_convert\n"
     ]
    },
    {
     "name": "stderr",
     "output_type": "stream",
     "text": [
      "The parameter `return_dict` cannot be set in graph mode and will always be set to `True`.\n",
      "The parameters `output_attentions`, `output_hidden_states` and `use_cache` cannot be updated when calling a model.They have to be set to True/False in the config object (i.e.: `config=XConfig.from_pretrained('name', output_attentions=True)`).\n",
      "The parameter `return_dict` cannot be set in graph mode and will always be set to `True`.\n"
     ]
    },
    {
     "name": "stdout",
     "output_type": "stream",
     "text": [
      "274/274 [==============================] - ETA: 0s - loss: 0.5748 - accuracy: 0.7144"
     ]
    },
    {
     "name": "stderr",
     "output_type": "stream",
     "text": [
      "The parameters `output_attentions`, `output_hidden_states` and `use_cache` cannot be updated when calling a model.They have to be set to True/False in the config object (i.e.: `config=XConfig.from_pretrained('name', output_attentions=True)`).\n",
      "The parameter `return_dict` cannot be set in graph mode and will always be set to `True`.\n"
     ]
    },
    {
     "name": "stdout",
     "output_type": "stream",
     "text": [
      "274/274 [==============================] - 120s 350ms/step - loss: 0.5748 - accuracy: 0.7144 - val_loss: 0.4444 - val_accuracy: 0.7936\n",
      "Epoch 2/5\n",
      "274/274 [==============================] - 93s 339ms/step - loss: 0.3428 - accuracy: 0.8682 - val_loss: 0.4473 - val_accuracy: 0.8426\n",
      "Epoch 3/5\n",
      "274/274 [==============================] - 94s 342ms/step - loss: 0.1682 - accuracy: 0.9448 - val_loss: 0.3827 - val_accuracy: 0.8851\n",
      "Epoch 4/5\n",
      "274/274 [==============================] - 93s 341ms/step - loss: 0.1064 - accuracy: 0.9685 - val_loss: 0.5000 - val_accuracy: 0.8745\n",
      "Epoch 5/5\n",
      "274/274 [==============================] - 93s 341ms/step - loss: 0.1065 - accuracy: 0.9726 - val_loss: 0.5389 - val_accuracy: 0.8447\n"
     ]
    }
   ],
   "source": [
    "history = model.fit(train_data, epochs=EPOCHS, batch_size=BATCH_SIZE, validation_data=val_data)"
   ]
  },
  {
   "cell_type": "code",
   "execution_count": 43,
   "metadata": {},
   "outputs": [
    {
     "name": "stderr",
     "output_type": "stream",
     "text": [
      "The parameters `output_attentions`, `output_hidden_states` and `use_cache` cannot be updated when calling a model.They have to be set to True/False in the config object (i.e.: `config=XConfig.from_pretrained('name', output_attentions=True)`).\n",
      "The parameter `return_dict` cannot be set in graph mode and will always be set to `True`.\n"
     ]
    },
    {
     "name": "stdout",
     "output_type": "stream",
     "text": [
      "59/59 [==============================] - 11s 116ms/step\n"
     ]
    }
   ],
   "source": [
    "y_pred = model.predict(test_data)\n",
    "y_actual = np.concatenate([y for x, y in test_data], axis=0)"
   ]
  },
  {
   "cell_type": "code",
   "execution_count": 45,
   "metadata": {},
   "outputs": [
    {
     "data": {
      "text/plain": [
       "0.8553191489361702"
      ]
     },
     "execution_count": 45,
     "metadata": {},
     "output_type": "execute_result"
    }
   ],
   "source": [
    "accuracy_score(y_actual, np.argmax(y_pred[0], axis=1))"
   ]
  },
  {
   "cell_type": "code",
   "execution_count": 46,
   "metadata": {},
   "outputs": [
    {
     "data": {
      "text/plain": [
       "<Axes: >"
      ]
     },
     "execution_count": 46,
     "metadata": {},
     "output_type": "execute_result"
    },
    {
     "data": {
      "image/png": "[encoded data removed]",
      "text/plain": [
       "<Figure size 640x480 with 2 Axes>"
      ]
     },
     "metadata": {},
     "output_type": "display_data"
    }
   ],
   "source": [
    "cm = confusion_matrix(y_actual, np.argmax(y_pred[0], axis = 1))\n",
    "sns.heatmap(cm, annot=True, fmt='d')"
   ]
  },
  {
   "cell_type": "code",
   "execution_count": 47,
   "metadata": {},
   "outputs": [
    {
     "name": "stdout",
     "output_type": "stream",
     "text": [
      "              precision    recall  f1-score   support\n",
      "\n",
      "           0       0.94      0.78      0.85       248\n",
      "           1       0.79      0.94      0.86       222\n",
      "\n",
      "    accuracy                           0.86       470\n",
      "   macro avg       0.86      0.86      0.86       470\n",
      "weighted avg       0.87      0.86      0.85       470\n",
      "\n"
     ]
    }
   ],
   "source": [
    "print(classification_report(y_actual, np.argmax(y_pred[0], axis=1)))"
   ]
  }
 ],
 "metadata": {
  "kernelspec": {
   "display_name": "capstone",
   "language": "python",
   "name": "python3"
  },
  "language_info": {
   "codemirror_mode": {
    "name": "ipython",
    "version": 3
   },
   "file_extension": ".py",
   "mimetype": "text/x-python",
   "name": "python",
   "nbconvert_exporter": "python",
   "pygments_lexer": "ipython3",
   "version": "3.9.19"
  },
  "orig_nbformat": 4
 },
 "nbformat": 4,
 "nbformat_minor": 2
}
