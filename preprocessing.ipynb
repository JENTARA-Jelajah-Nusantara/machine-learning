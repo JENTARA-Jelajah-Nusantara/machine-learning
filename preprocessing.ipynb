{
 "cells": [
  {
   "cell_type": "code",
   "execution_count": 43,
   "metadata": {},
   "outputs": [],
   "source": [
    "import pandas as pd\n",
    "import re"
   ]
  },
  {
   "cell_type": "code",
   "execution_count": 44,
   "metadata": {},
   "outputs": [
    {
     "data": {
      "text/html": [
       "<div>\n",
       "<style scoped>\n",
       "    .dataframe tbody tr th:only-of-type {\n",
       "        vertical-align: middle;\n",
       "    }\n",
       "\n",
       "    .dataframe tbody tr th {\n",
       "        vertical-align: top;\n",
       "    }\n",
       "\n",
       "    .dataframe thead th {\n",
       "        text-align: right;\n",
       "    }\n",
       "</style>\n",
       "<table border=\"1\" class=\"dataframe\">\n",
       "  <thead>\n",
       "    <tr style=\"text-align: right;\">\n",
       "      <th></th>\n",
       "      <th>Rating</th>\n",
       "      <th>Description</th>\n",
       "    </tr>\n",
       "  </thead>\n",
       "  <tbody>\n",
       "    <tr>\n",
       "      <th>0</th>\n",
       "      <td>5</td>\n",
       "      <td>Klenteng Ban Hin Kiong merupakan Klenteng tert...</td>\n",
       "    </tr>\n",
       "    <tr>\n",
       "      <th>1</th>\n",
       "      <td>5</td>\n",
       "      <td>Airnya sejuk. Tempatnya bebas plastik. Bagi ya...</td>\n",
       "    </tr>\n",
       "    <tr>\n",
       "      <th>2</th>\n",
       "      <td>5</td>\n",
       "      <td>Tiap minggu pasti kesini buat foto2 doang😁 kar...</td>\n",
       "    </tr>\n",
       "    <tr>\n",
       "      <th>3</th>\n",
       "      <td>5</td>\n",
       "      <td>Pernah kesana pergi liat bunker jepang, naik p...</td>\n",
       "    </tr>\n",
       "    <tr>\n",
       "      <th>4</th>\n",
       "      <td>5</td>\n",
       "      <td>Mengikuti Talkshow \" Menyingkap Pesona Wastra ...</td>\n",
       "    </tr>\n",
       "  </tbody>\n",
       "</table>\n",
       "</div>"
      ],
      "text/plain": [
       "   Rating                                        Description\n",
       "0       5  Klenteng Ban Hin Kiong merupakan Klenteng tert...\n",
       "1       5  Airnya sejuk. Tempatnya bebas plastik. Bagi ya...\n",
       "2       5  Tiap minggu pasti kesini buat foto2 doang😁 kar...\n",
       "3       5  Pernah kesana pergi liat bunker jepang, naik p...\n",
       "4       5  Mengikuti Talkshow \" Menyingkap Pesona Wastra ..."
      ]
     },
     "execution_count": 44,
     "metadata": {},
     "output_type": "execute_result"
    }
   ],
   "source": [
    "data = pd.read_csv(r'dataset\\balance.csv')\n",
    "data.head()"
   ]
  },
  {
   "cell_type": "markdown",
   "metadata": {},
   "source": [
    "Formating"
   ]
  },
  {
   "cell_type": "code",
   "execution_count": 45,
   "metadata": {},
   "outputs": [],
   "source": [
    "def cast_data(kolom):\n",
    "    kolom = int(kolom)\n",
    "    if kolom in {1,2,3}:\n",
    "        return 0\n",
    "    else:\n",
    "        return 1"
   ]
  },
  {
   "cell_type": "code",
   "execution_count": 46,
   "metadata": {},
   "outputs": [
    {
     "data": {
      "text/html": [
       "<div>\n",
       "<style scoped>\n",
       "    .dataframe tbody tr th:only-of-type {\n",
       "        vertical-align: middle;\n",
       "    }\n",
       "\n",
       "    .dataframe tbody tr th {\n",
       "        vertical-align: top;\n",
       "    }\n",
       "\n",
       "    .dataframe thead th {\n",
       "        text-align: right;\n",
       "    }\n",
       "</style>\n",
       "<table border=\"1\" class=\"dataframe\">\n",
       "  <thead>\n",
       "    <tr style=\"text-align: right;\">\n",
       "      <th></th>\n",
       "      <th>Rating</th>\n",
       "      <th>Description</th>\n",
       "      <th>label</th>\n",
       "    </tr>\n",
       "  </thead>\n",
       "  <tbody>\n",
       "    <tr>\n",
       "      <th>0</th>\n",
       "      <td>5</td>\n",
       "      <td>Klenteng Ban Hin Kiong merupakan Klenteng tert...</td>\n",
       "      <td>1</td>\n",
       "    </tr>\n",
       "    <tr>\n",
       "      <th>1</th>\n",
       "      <td>5</td>\n",
       "      <td>Airnya sejuk. Tempatnya bebas plastik. Bagi ya...</td>\n",
       "      <td>1</td>\n",
       "    </tr>\n",
       "    <tr>\n",
       "      <th>2</th>\n",
       "      <td>5</td>\n",
       "      <td>Tiap minggu pasti kesini buat foto2 doang😁 kar...</td>\n",
       "      <td>1</td>\n",
       "    </tr>\n",
       "    <tr>\n",
       "      <th>3</th>\n",
       "      <td>5</td>\n",
       "      <td>Pernah kesana pergi liat bunker jepang, naik p...</td>\n",
       "      <td>1</td>\n",
       "    </tr>\n",
       "    <tr>\n",
       "      <th>4</th>\n",
       "      <td>5</td>\n",
       "      <td>Mengikuti Talkshow \" Menyingkap Pesona Wastra ...</td>\n",
       "      <td>1</td>\n",
       "    </tr>\n",
       "  </tbody>\n",
       "</table>\n",
       "</div>"
      ],
      "text/plain": [
       "   Rating                                        Description  label\n",
       "0       5  Klenteng Ban Hin Kiong merupakan Klenteng tert...      1\n",
       "1       5  Airnya sejuk. Tempatnya bebas plastik. Bagi ya...      1\n",
       "2       5  Tiap minggu pasti kesini buat foto2 doang😁 kar...      1\n",
       "3       5  Pernah kesana pergi liat bunker jepang, naik p...      1\n",
       "4       5  Mengikuti Talkshow \" Menyingkap Pesona Wastra ...      1"
      ]
     },
     "execution_count": 46,
     "metadata": {},
     "output_type": "execute_result"
    }
   ],
   "source": [
    "data['label'] = data['Rating'].apply(cast_data)\n",
    "data.head()"
   ]
  },
  {
   "cell_type": "markdown",
   "metadata": {},
   "source": [
    "Casefolding"
   ]
  },
  {
   "cell_type": "code",
   "execution_count": 47,
   "metadata": {},
   "outputs": [],
   "source": [
    "import string"
   ]
  },
  {
   "cell_type": "code",
   "execution_count": 48,
   "metadata": {},
   "outputs": [],
   "source": [
    "def preprocess_text(kalimat):\n",
    "    kalimat = str(kalimat)\n",
    "\n",
    "    # membuat huruf jadi lowercase\n",
    "    lower_case = kalimat.lower()\n",
    "\n",
    "    # menghapus angka dari kalimat\n",
    "    hasil = re.sub(r\"\\d+\",\"\", lower_case)\n",
    "\n",
    "    # menghapus tanda baca dari kalimat\n",
    "    hasil = hasil.translate(str.maketrans(\"\",\"\",string.punctuation))\n",
    "\n",
    "    # menghapus spasi diawal dan diakhir kalimat\n",
    "\n",
    "    hasil = hasil.strip()\n",
    "\n",
    "    return hasil"
   ]
  },
  {
   "cell_type": "code",
   "execution_count": 49,
   "metadata": {},
   "outputs": [
    {
     "data": {
      "text/html": [
       "<div>\n",
       "<style scoped>\n",
       "    .dataframe tbody tr th:only-of-type {\n",
       "        vertical-align: middle;\n",
       "    }\n",
       "\n",
       "    .dataframe tbody tr th {\n",
       "        vertical-align: top;\n",
       "    }\n",
       "\n",
       "    .dataframe thead th {\n",
       "        text-align: right;\n",
       "    }\n",
       "</style>\n",
       "<table border=\"1\" class=\"dataframe\">\n",
       "  <thead>\n",
       "    <tr style=\"text-align: right;\">\n",
       "      <th></th>\n",
       "      <th>Rating</th>\n",
       "      <th>Description</th>\n",
       "      <th>label</th>\n",
       "      <th>text clean</th>\n",
       "    </tr>\n",
       "  </thead>\n",
       "  <tbody>\n",
       "    <tr>\n",
       "      <th>0</th>\n",
       "      <td>5</td>\n",
       "      <td>Klenteng Ban Hin Kiong merupakan Klenteng tert...</td>\n",
       "      <td>1</td>\n",
       "      <td>klenteng ban hin kiong merupakan klenteng tert...</td>\n",
       "    </tr>\n",
       "    <tr>\n",
       "      <th>1</th>\n",
       "      <td>5</td>\n",
       "      <td>Airnya sejuk. Tempatnya bebas plastik. Bagi ya...</td>\n",
       "      <td>1</td>\n",
       "      <td>airnya sejuk tempatnya bebas plastik bagi yang...</td>\n",
       "    </tr>\n",
       "    <tr>\n",
       "      <th>2</th>\n",
       "      <td>5</td>\n",
       "      <td>Tiap minggu pasti kesini buat foto2 doang😁 kar...</td>\n",
       "      <td>1</td>\n",
       "      <td>tiap minggu pasti kesini buat foto doang😁 kare...</td>\n",
       "    </tr>\n",
       "    <tr>\n",
       "      <th>3</th>\n",
       "      <td>5</td>\n",
       "      <td>Pernah kesana pergi liat bunker jepang, naik p...</td>\n",
       "      <td>1</td>\n",
       "      <td>pernah kesana pergi liat bunker jepang naik pe...</td>\n",
       "    </tr>\n",
       "    <tr>\n",
       "      <th>4</th>\n",
       "      <td>5</td>\n",
       "      <td>Mengikuti Talkshow \" Menyingkap Pesona Wastra ...</td>\n",
       "      <td>1</td>\n",
       "      <td>mengikuti talkshow  menyingkap pesona wastra i...</td>\n",
       "    </tr>\n",
       "  </tbody>\n",
       "</table>\n",
       "</div>"
      ],
      "text/plain": [
       "   Rating                                        Description  label  \\\n",
       "0       5  Klenteng Ban Hin Kiong merupakan Klenteng tert...      1   \n",
       "1       5  Airnya sejuk. Tempatnya bebas plastik. Bagi ya...      1   \n",
       "2       5  Tiap minggu pasti kesini buat foto2 doang😁 kar...      1   \n",
       "3       5  Pernah kesana pergi liat bunker jepang, naik p...      1   \n",
       "4       5  Mengikuti Talkshow \" Menyingkap Pesona Wastra ...      1   \n",
       "\n",
       "                                          text clean  \n",
       "0  klenteng ban hin kiong merupakan klenteng tert...  \n",
       "1  airnya sejuk tempatnya bebas plastik bagi yang...  \n",
       "2  tiap minggu pasti kesini buat foto doang😁 kare...  \n",
       "3  pernah kesana pergi liat bunker jepang naik pe...  \n",
       "4  mengikuti talkshow  menyingkap pesona wastra i...  "
      ]
     },
     "execution_count": 49,
     "metadata": {},
     "output_type": "execute_result"
    }
   ],
   "source": [
    "data['text clean'] = data['Description'].apply(preprocess_text)\n",
    "data.head()"
   ]
  },
  {
   "cell_type": "markdown",
   "metadata": {},
   "source": [
    "Tokenizing"
   ]
  },
  {
   "cell_type": "code",
   "execution_count": 50,
   "metadata": {},
   "outputs": [],
   "source": [
    "import nltk\n",
    "from nltk.tokenize import word_tokenize"
   ]
  },
  {
   "cell_type": "code",
   "execution_count": 51,
   "metadata": {},
   "outputs": [],
   "source": [
    "def tokenize_data(kalimat):\n",
    "    tokens = nltk.tokenize.word_tokenize(kalimat)\n",
    "    return tokens"
   ]
  },
  {
   "cell_type": "code",
   "execution_count": 52,
   "metadata": {},
   "outputs": [
    {
     "data": {
      "text/html": [
       "<div>\n",
       "<style scoped>\n",
       "    .dataframe tbody tr th:only-of-type {\n",
       "        vertical-align: middle;\n",
       "    }\n",
       "\n",
       "    .dataframe tbody tr th {\n",
       "        vertical-align: top;\n",
       "    }\n",
       "\n",
       "    .dataframe thead th {\n",
       "        text-align: right;\n",
       "    }\n",
       "</style>\n",
       "<table border=\"1\" class=\"dataframe\">\n",
       "  <thead>\n",
       "    <tr style=\"text-align: right;\">\n",
       "      <th></th>\n",
       "      <th>Rating</th>\n",
       "      <th>Description</th>\n",
       "      <th>label</th>\n",
       "      <th>text clean</th>\n",
       "      <th>tokens</th>\n",
       "    </tr>\n",
       "  </thead>\n",
       "  <tbody>\n",
       "    <tr>\n",
       "      <th>0</th>\n",
       "      <td>5</td>\n",
       "      <td>Klenteng Ban Hin Kiong merupakan Klenteng tert...</td>\n",
       "      <td>1</td>\n",
       "      <td>klenteng ban hin kiong merupakan klenteng tert...</td>\n",
       "      <td>[klenteng, ban, hin, kiong, merupakan, klenten...</td>\n",
       "    </tr>\n",
       "    <tr>\n",
       "      <th>1</th>\n",
       "      <td>5</td>\n",
       "      <td>Airnya sejuk. Tempatnya bebas plastik. Bagi ya...</td>\n",
       "      <td>1</td>\n",
       "      <td>airnya sejuk tempatnya bebas plastik bagi yang...</td>\n",
       "      <td>[airnya, sejuk, tempatnya, bebas, plastik, bag...</td>\n",
       "    </tr>\n",
       "    <tr>\n",
       "      <th>2</th>\n",
       "      <td>5</td>\n",
       "      <td>Tiap minggu pasti kesini buat foto2 doang😁 kar...</td>\n",
       "      <td>1</td>\n",
       "      <td>tiap minggu pasti kesini buat foto doang😁 kare...</td>\n",
       "      <td>[tiap, minggu, pasti, kesini, buat, foto, doan...</td>\n",
       "    </tr>\n",
       "    <tr>\n",
       "      <th>3</th>\n",
       "      <td>5</td>\n",
       "      <td>Pernah kesana pergi liat bunker jepang, naik p...</td>\n",
       "      <td>1</td>\n",
       "      <td>pernah kesana pergi liat bunker jepang naik pe...</td>\n",
       "      <td>[pernah, kesana, pergi, liat, bunker, jepang, ...</td>\n",
       "    </tr>\n",
       "    <tr>\n",
       "      <th>4</th>\n",
       "      <td>5</td>\n",
       "      <td>Mengikuti Talkshow \" Menyingkap Pesona Wastra ...</td>\n",
       "      <td>1</td>\n",
       "      <td>mengikuti talkshow  menyingkap pesona wastra i...</td>\n",
       "      <td>[mengikuti, talkshow, menyingkap, pesona, wast...</td>\n",
       "    </tr>\n",
       "  </tbody>\n",
       "</table>\n",
       "</div>"
      ],
      "text/plain": [
       "   Rating                                        Description  label  \\\n",
       "0       5  Klenteng Ban Hin Kiong merupakan Klenteng tert...      1   \n",
       "1       5  Airnya sejuk. Tempatnya bebas plastik. Bagi ya...      1   \n",
       "2       5  Tiap minggu pasti kesini buat foto2 doang😁 kar...      1   \n",
       "3       5  Pernah kesana pergi liat bunker jepang, naik p...      1   \n",
       "4       5  Mengikuti Talkshow \" Menyingkap Pesona Wastra ...      1   \n",
       "\n",
       "                                          text clean  \\\n",
       "0  klenteng ban hin kiong merupakan klenteng tert...   \n",
       "1  airnya sejuk tempatnya bebas plastik bagi yang...   \n",
       "2  tiap minggu pasti kesini buat foto doang😁 kare...   \n",
       "3  pernah kesana pergi liat bunker jepang naik pe...   \n",
       "4  mengikuti talkshow  menyingkap pesona wastra i...   \n",
       "\n",
       "                                              tokens  \n",
       "0  [klenteng, ban, hin, kiong, merupakan, klenten...  \n",
       "1  [airnya, sejuk, tempatnya, bebas, plastik, bag...  \n",
       "2  [tiap, minggu, pasti, kesini, buat, foto, doan...  \n",
       "3  [pernah, kesana, pergi, liat, bunker, jepang, ...  \n",
       "4  [mengikuti, talkshow, menyingkap, pesona, wast...  "
      ]
     },
     "execution_count": 52,
     "metadata": {},
     "output_type": "execute_result"
    }
   ],
   "source": [
    "data['tokens'] = data['text clean'].apply(tokenize_data)\n",
    "data.head()"
   ]
  },
  {
   "cell_type": "markdown",
   "metadata": {},
   "source": [
    "Filtering (stopwords removal)"
   ]
  },
  {
   "cell_type": "code",
   "execution_count": 53,
   "metadata": {},
   "outputs": [
    {
     "name": "stdout",
     "output_type": "stream",
     "text": [
      "['yang', 'untuk', 'pada', 'ke', 'para', 'namun', 'menurut', 'antara', 'dia', 'dua', 'ia', 'seperti', 'jika', 'jika', 'sehingga', 'kembali', 'dan', 'tidak', 'ini', 'karena', 'kepada', 'oleh', 'saat', 'harus', 'sementara', 'setelah', 'belum', 'kami', 'sekitar', 'bagi', 'serta', 'di', 'dari', 'telah', 'sebagai', 'masih', 'hal', 'ketika', 'adalah', 'itu', 'dalam', 'bisa', 'bahwa', 'atau', 'hanya', 'kita', 'dengan', 'akan', 'juga', 'ada', 'mereka', 'sudah', 'saya', 'terhadap', 'secara', 'agar', 'lain', 'anda', 'begitu', 'mengapa', 'kenapa', 'yaitu', 'yakni', 'daripada', 'itulah', 'lagi', 'maka', 'tentang', 'demi', 'dimana', 'kemana', 'pula', 'sambil', 'sebelum', 'sesudah', 'supaya', 'guna', 'kah', 'pun', 'sampai', 'sedangkan', 'selagi', 'sementara', 'tetapi', 'apakah', 'kecuali', 'sebab', 'selain', 'seolah', 'seraya', 'seterusnya', 'tanpa', 'agak', 'boleh', 'dapat', 'dsb', 'dst', 'dll', 'dahulu', 'dulunya', 'anu', 'demikian', 'tapi', 'ingin', 'juga', 'nggak', 'mari', 'nanti', 'melainkan', 'oh', 'ok', 'seharusnya', 'sebetulnya', 'setiap', 'setidaknya', 'sesuatu', 'pasti', 'saja', 'toh', 'ya', 'walau', 'tolong', 'tentu', 'amat', 'apalagi', 'bagaimanapun']\n"
     ]
    }
   ],
   "source": [
    "from Sastrawi.StopWordRemover.StopWordRemoverFactory import StopWordRemoverFactory\n",
    "factory = StopWordRemoverFactory()\n",
    "stopwords = factory.get_stop_words()\n",
    "print(stopwords)"
   ]
  },
  {
   "cell_type": "code",
   "execution_count": 54,
   "metadata": {},
   "outputs": [],
   "source": [
    "def stopword_text(tokens):\n",
    "    cleaned_tokens = []\n",
    "    for token in stopwords:\n",
    "        if token not in stopwords:\n",
    "            cleaned_tokens.append(token)\n",
    "    \n",
    "    return cleaned_tokens"
   ]
  },
  {
   "cell_type": "code",
   "execution_count": 55,
   "metadata": {},
   "outputs": [
    {
     "data": {
      "text/html": [
       "<div>\n",
       "<style scoped>\n",
       "    .dataframe tbody tr th:only-of-type {\n",
       "        vertical-align: middle;\n",
       "    }\n",
       "\n",
       "    .dataframe tbody tr th {\n",
       "        vertical-align: top;\n",
       "    }\n",
       "\n",
       "    .dataframe thead th {\n",
       "        text-align: right;\n",
       "    }\n",
       "</style>\n",
       "<table border=\"1\" class=\"dataframe\">\n",
       "  <thead>\n",
       "    <tr style=\"text-align: right;\">\n",
       "      <th></th>\n",
       "      <th>Rating</th>\n",
       "      <th>Description</th>\n",
       "      <th>label</th>\n",
       "      <th>text clean</th>\n",
       "      <th>tokens</th>\n",
       "      <th>stop</th>\n",
       "    </tr>\n",
       "  </thead>\n",
       "  <tbody>\n",
       "    <tr>\n",
       "      <th>0</th>\n",
       "      <td>5</td>\n",
       "      <td>Klenteng Ban Hin Kiong merupakan Klenteng tert...</td>\n",
       "      <td>1</td>\n",
       "      <td>klenteng ban hin kiong merupakan klenteng tert...</td>\n",
       "      <td>[klenteng, ban, hin, kiong, merupakan, klenten...</td>\n",
       "      <td>[klenteng, ban, hin, kiong, merupakan, klenten...</td>\n",
       "    </tr>\n",
       "    <tr>\n",
       "      <th>1</th>\n",
       "      <td>5</td>\n",
       "      <td>Airnya sejuk. Tempatnya bebas plastik. Bagi ya...</td>\n",
       "      <td>1</td>\n",
       "      <td>airnya sejuk tempatnya bebas plastik bagi yang...</td>\n",
       "      <td>[airnya, sejuk, tempatnya, bebas, plastik, bag...</td>\n",
       "      <td>[airnya, sejuk, tempatnya, bebas, plastik, kes...</td>\n",
       "    </tr>\n",
       "    <tr>\n",
       "      <th>2</th>\n",
       "      <td>5</td>\n",
       "      <td>Tiap minggu pasti kesini buat foto2 doang😁 kar...</td>\n",
       "      <td>1</td>\n",
       "      <td>tiap minggu pasti kesini buat foto doang😁 kare...</td>\n",
       "      <td>[tiap, minggu, pasti, kesini, buat, foto, doan...</td>\n",
       "      <td>[tiap, minggu, kesini, buat, foto, doang😁, ema...</td>\n",
       "    </tr>\n",
       "    <tr>\n",
       "      <th>3</th>\n",
       "      <td>5</td>\n",
       "      <td>Pernah kesana pergi liat bunker jepang, naik p...</td>\n",
       "      <td>1</td>\n",
       "      <td>pernah kesana pergi liat bunker jepang naik pe...</td>\n",
       "      <td>[pernah, kesana, pergi, liat, bunker, jepang, ...</td>\n",
       "      <td>[pernah, kesana, pergi, liat, bunker, jepang, ...</td>\n",
       "    </tr>\n",
       "    <tr>\n",
       "      <th>4</th>\n",
       "      <td>5</td>\n",
       "      <td>Mengikuti Talkshow \" Menyingkap Pesona Wastra ...</td>\n",
       "      <td>1</td>\n",
       "      <td>mengikuti talkshow  menyingkap pesona wastra i...</td>\n",
       "      <td>[mengikuti, talkshow, menyingkap, pesona, wast...</td>\n",
       "      <td>[mengikuti, talkshow, menyingkap, pesona, wast...</td>\n",
       "    </tr>\n",
       "  </tbody>\n",
       "</table>\n",
       "</div>"
      ],
      "text/plain": [
       "   Rating                                        Description  label  \\\n",
       "0       5  Klenteng Ban Hin Kiong merupakan Klenteng tert...      1   \n",
       "1       5  Airnya sejuk. Tempatnya bebas plastik. Bagi ya...      1   \n",
       "2       5  Tiap minggu pasti kesini buat foto2 doang😁 kar...      1   \n",
       "3       5  Pernah kesana pergi liat bunker jepang, naik p...      1   \n",
       "4       5  Mengikuti Talkshow \" Menyingkap Pesona Wastra ...      1   \n",
       "\n",
       "                                          text clean  \\\n",
       "0  klenteng ban hin kiong merupakan klenteng tert...   \n",
       "1  airnya sejuk tempatnya bebas plastik bagi yang...   \n",
       "2  tiap minggu pasti kesini buat foto doang😁 kare...   \n",
       "3  pernah kesana pergi liat bunker jepang naik pe...   \n",
       "4  mengikuti talkshow  menyingkap pesona wastra i...   \n",
       "\n",
       "                                              tokens  \\\n",
       "0  [klenteng, ban, hin, kiong, merupakan, klenten...   \n",
       "1  [airnya, sejuk, tempatnya, bebas, plastik, bag...   \n",
       "2  [tiap, minggu, pasti, kesini, buat, foto, doan...   \n",
       "3  [pernah, kesana, pergi, liat, bunker, jepang, ...   \n",
       "4  [mengikuti, talkshow, menyingkap, pesona, wast...   \n",
       "\n",
       "                                                stop  \n",
       "0  [klenteng, ban, hin, kiong, merupakan, klenten...  \n",
       "1  [airnya, sejuk, tempatnya, bebas, plastik, kes...  \n",
       "2  [tiap, minggu, kesini, buat, foto, doang😁, ema...  \n",
       "3  [pernah, kesana, pergi, liat, bunker, jepang, ...  \n",
       "4  [mengikuti, talkshow, menyingkap, pesona, wast...  "
      ]
     },
     "execution_count": 55,
     "metadata": {},
     "output_type": "execute_result"
    }
   ],
   "source": [
    "data['stop'] = data['tokens'].apply(stopword_text)\n",
    "data.head()"
   ]
  },
  {
   "cell_type": "markdown",
   "metadata": {},
   "source": [
    "Stemming"
   ]
  },
  {
   "cell_type": "code",
   "execution_count": 56,
   "metadata": {},
   "outputs": [],
   "source": [
    "from Sastrawi.Stemmer.StemmerFactory import StemmerFactory\n",
    "stem_factory = StemmerFactory()\n",
    "stemmer = stem_factory.create_stemmer()"
   ]
  },
  {
   "cell_type": "code",
   "execution_count": 57,
   "metadata": {},
   "outputs": [],
   "source": [
    "def stemmer_text(tokens):\n",
    "    hasil = [stemmer.stem(token) for token in tokens]\n",
    "    return hasil"
   ]
  },
  {
   "cell_type": "code",
   "execution_count": 58,
   "metadata": {},
   "outputs": [
    {
     "data": {
      "text/html": [
       "<div>\n",
       "<style scoped>\n",
       "    .dataframe tbody tr th:only-of-type {\n",
       "        vertical-align: middle;\n",
       "    }\n",
       "\n",
       "    .dataframe tbody tr th {\n",
       "        vertical-align: top;\n",
       "    }\n",
       "\n",
       "    .dataframe thead th {\n",
       "        text-align: right;\n",
       "    }\n",
       "</style>\n",
       "<table border=\"1\" class=\"dataframe\">\n",
       "  <thead>\n",
       "    <tr style=\"text-align: right;\">\n",
       "      <th></th>\n",
       "      <th>Rating</th>\n",
       "      <th>Description</th>\n",
       "      <th>label</th>\n",
       "      <th>text clean</th>\n",
       "      <th>tokens</th>\n",
       "      <th>stop</th>\n",
       "      <th>stemmed</th>\n",
       "    </tr>\n",
       "  </thead>\n",
       "  <tbody>\n",
       "    <tr>\n",
       "      <th>0</th>\n",
       "      <td>5</td>\n",
       "      <td>Klenteng Ban Hin Kiong merupakan Klenteng tert...</td>\n",
       "      <td>1</td>\n",
       "      <td>klenteng ban hin kiong merupakan klenteng tert...</td>\n",
       "      <td>[klenteng, ban, hin, kiong, merupakan, klenten...</td>\n",
       "      <td>[klenteng, ban, hin, kiong, merupakan, klenten...</td>\n",
       "      <td>[klenteng, ban, hin, kiong, rupa, klenteng, tu...</td>\n",
       "    </tr>\n",
       "    <tr>\n",
       "      <th>1</th>\n",
       "      <td>5</td>\n",
       "      <td>Airnya sejuk. Tempatnya bebas plastik. Bagi ya...</td>\n",
       "      <td>1</td>\n",
       "      <td>airnya sejuk tempatnya bebas plastik bagi yang...</td>\n",
       "      <td>[airnya, sejuk, tempatnya, bebas, plastik, bag...</td>\n",
       "      <td>[airnya, sejuk, tempatnya, bebas, plastik, kes...</td>\n",
       "      <td>[air, sejuk, tempat, bebas, plastik, kesana, p...</td>\n",
       "    </tr>\n",
       "    <tr>\n",
       "      <th>2</th>\n",
       "      <td>5</td>\n",
       "      <td>Tiap minggu pasti kesini buat foto2 doang😁 kar...</td>\n",
       "      <td>1</td>\n",
       "      <td>tiap minggu pasti kesini buat foto doang😁 kare...</td>\n",
       "      <td>[tiap, minggu, pasti, kesini, buat, foto, doan...</td>\n",
       "      <td>[tiap, minggu, kesini, buat, foto, doang😁, ema...</td>\n",
       "      <td>[tiap, minggu, kesini, buat, foto, doang, eman...</td>\n",
       "    </tr>\n",
       "    <tr>\n",
       "      <th>3</th>\n",
       "      <td>5</td>\n",
       "      <td>Pernah kesana pergi liat bunker jepang, naik p...</td>\n",
       "      <td>1</td>\n",
       "      <td>pernah kesana pergi liat bunker jepang naik pe...</td>\n",
       "      <td>[pernah, kesana, pergi, liat, bunker, jepang, ...</td>\n",
       "      <td>[pernah, kesana, pergi, liat, bunker, jepang, ...</td>\n",
       "      <td>[pernah, kesana, pergi, liat, bunker, jepang, ...</td>\n",
       "    </tr>\n",
       "    <tr>\n",
       "      <th>4</th>\n",
       "      <td>5</td>\n",
       "      <td>Mengikuti Talkshow \" Menyingkap Pesona Wastra ...</td>\n",
       "      <td>1</td>\n",
       "      <td>mengikuti talkshow  menyingkap pesona wastra i...</td>\n",
       "      <td>[mengikuti, talkshow, menyingkap, pesona, wast...</td>\n",
       "      <td>[mengikuti, talkshow, menyingkap, pesona, wast...</td>\n",
       "      <td>[ikut, talkshow, singkap, pesona, wastra, indo...</td>\n",
       "    </tr>\n",
       "  </tbody>\n",
       "</table>\n",
       "</div>"
      ],
      "text/plain": [
       "   Rating                                        Description  label  \\\n",
       "0       5  Klenteng Ban Hin Kiong merupakan Klenteng tert...      1   \n",
       "1       5  Airnya sejuk. Tempatnya bebas plastik. Bagi ya...      1   \n",
       "2       5  Tiap minggu pasti kesini buat foto2 doang😁 kar...      1   \n",
       "3       5  Pernah kesana pergi liat bunker jepang, naik p...      1   \n",
       "4       5  Mengikuti Talkshow \" Menyingkap Pesona Wastra ...      1   \n",
       "\n",
       "                                          text clean  \\\n",
       "0  klenteng ban hin kiong merupakan klenteng tert...   \n",
       "1  airnya sejuk tempatnya bebas plastik bagi yang...   \n",
       "2  tiap minggu pasti kesini buat foto doang😁 kare...   \n",
       "3  pernah kesana pergi liat bunker jepang naik pe...   \n",
       "4  mengikuti talkshow  menyingkap pesona wastra i...   \n",
       "\n",
       "                                              tokens  \\\n",
       "0  [klenteng, ban, hin, kiong, merupakan, klenten...   \n",
       "1  [airnya, sejuk, tempatnya, bebas, plastik, bag...   \n",
       "2  [tiap, minggu, pasti, kesini, buat, foto, doan...   \n",
       "3  [pernah, kesana, pergi, liat, bunker, jepang, ...   \n",
       "4  [mengikuti, talkshow, menyingkap, pesona, wast...   \n",
       "\n",
       "                                                stop  \\\n",
       "0  [klenteng, ban, hin, kiong, merupakan, klenten...   \n",
       "1  [airnya, sejuk, tempatnya, bebas, plastik, kes...   \n",
       "2  [tiap, minggu, kesini, buat, foto, doang😁, ema...   \n",
       "3  [pernah, kesana, pergi, liat, bunker, jepang, ...   \n",
       "4  [mengikuti, talkshow, menyingkap, pesona, wast...   \n",
       "\n",
       "                                             stemmed  \n",
       "0  [klenteng, ban, hin, kiong, rupa, klenteng, tu...  \n",
       "1  [air, sejuk, tempat, bebas, plastik, kesana, p...  \n",
       "2  [tiap, minggu, kesini, buat, foto, doang, eman...  \n",
       "3  [pernah, kesana, pergi, liat, bunker, jepang, ...  \n",
       "4  [ikut, talkshow, singkap, pesona, wastra, indo...  "
      ]
     },
     "execution_count": 58,
     "metadata": {},
     "output_type": "execute_result"
    }
   ],
   "source": [
    "data['stemmed'] = data['stop'].apply(stemmer_text)\n",
    "data.head()"
   ]
  },
  {
   "cell_type": "code",
   "execution_count": 59,
   "metadata": {},
   "outputs": [],
   "source": [
    "# save file preprocess\n",
    "# data.to_csv('dataset\\preprocess.csv', index=False)"
   ]
  },
  {
   "cell_type": "code",
   "execution_count": null,
   "metadata": {},
   "outputs": [],
   "source": []
  }
 ],
 "metadata": {
  "kernelspec": {
   "display_name": "capstone",
   "language": "python",
   "name": "python3"
  },
  "language_info": {
   "codemirror_mode": {
    "name": "ipython",
    "version": 3
   },
   "file_extension": ".py",
   "mimetype": "text/x-python",
   "name": "python",
   "nbconvert_exporter": "python",
   "pygments_lexer": "ipython3",
   "version": "3.9.19"
  },
  "orig_nbformat": 4
 },
 "nbformat": 4,
 "nbformat_minor": 2
}
