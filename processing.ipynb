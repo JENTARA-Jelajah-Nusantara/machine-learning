{
 "cells": [
  {
   "cell_type": "markdown",
   "metadata": {},
   "source": [
    "# Processing with sklearn"
   ]
  },
  {
   "cell_type": "code",
   "execution_count": 145,
   "metadata": {},
   "outputs": [
    {
     "data": {
      "text/html": [
       "<div>\n",
       "<style scoped>\n",
       "    .dataframe tbody tr th:only-of-type {\n",
       "        vertical-align: middle;\n",
       "    }\n",
       "\n",
       "    .dataframe tbody tr th {\n",
       "        vertical-align: top;\n",
       "    }\n",
       "\n",
       "    .dataframe thead th {\n",
       "        text-align: right;\n",
       "    }\n",
       "</style>\n",
       "<table border=\"1\" class=\"dataframe\">\n",
       "  <thead>\n",
       "    <tr style=\"text-align: right;\">\n",
       "      <th></th>\n",
       "      <th>Rating</th>\n",
       "      <th>Description</th>\n",
       "      <th>label</th>\n",
       "      <th>text clean</th>\n",
       "      <th>tokens</th>\n",
       "      <th>stop</th>\n",
       "      <th>stemmed</th>\n",
       "    </tr>\n",
       "  </thead>\n",
       "  <tbody>\n",
       "    <tr>\n",
       "      <th>0</th>\n",
       "      <td>5</td>\n",
       "      <td>Klenteng Ban Hin Kiong merupakan Klenteng tert...</td>\n",
       "      <td>1</td>\n",
       "      <td>klenteng ban hin kiong merupakan klenteng tert...</td>\n",
       "      <td>['klenteng', 'ban', 'hin', 'kiong', 'merupakan...</td>\n",
       "      <td>['klenteng', 'ban', 'hin', 'kiong', 'merupakan...</td>\n",
       "      <td>['klenteng', 'ban', 'hin', 'kiong', 'rupa', 'k...</td>\n",
       "    </tr>\n",
       "    <tr>\n",
       "      <th>1</th>\n",
       "      <td>5</td>\n",
       "      <td>Airnya sejuk. Tempatnya bebas plastik. Bagi ya...</td>\n",
       "      <td>1</td>\n",
       "      <td>airnya sejuk tempatnya bebas plastik bagi yang...</td>\n",
       "      <td>['airnya', 'sejuk', 'tempatnya', 'bebas', 'pla...</td>\n",
       "      <td>['airnya', 'sejuk', 'tempatnya', 'bebas', 'pla...</td>\n",
       "      <td>['air', 'sejuk', 'tempat', 'bebas', 'plastik',...</td>\n",
       "    </tr>\n",
       "    <tr>\n",
       "      <th>2</th>\n",
       "      <td>5</td>\n",
       "      <td>Tiap minggu pasti kesini buat foto2 doang😁 kar...</td>\n",
       "      <td>1</td>\n",
       "      <td>tiap minggu pasti kesini buat foto doang😁 kare...</td>\n",
       "      <td>['tiap', 'minggu', 'pasti', 'kesini', 'buat', ...</td>\n",
       "      <td>['tiap', 'minggu', 'kesini', 'buat', 'foto', '...</td>\n",
       "      <td>['tiap', 'minggu', 'kesini', 'buat', 'foto', '...</td>\n",
       "    </tr>\n",
       "    <tr>\n",
       "      <th>3</th>\n",
       "      <td>5</td>\n",
       "      <td>Pernah kesana pergi liat bunker jepang, naik p...</td>\n",
       "      <td>1</td>\n",
       "      <td>pernah kesana pergi liat bunker jepang naik pe...</td>\n",
       "      <td>['pernah', 'kesana', 'pergi', 'liat', 'bunker'...</td>\n",
       "      <td>['pernah', 'kesana', 'pergi', 'liat', 'bunker'...</td>\n",
       "      <td>['pernah', 'kesana', 'pergi', 'liat', 'bunker'...</td>\n",
       "    </tr>\n",
       "    <tr>\n",
       "      <th>4</th>\n",
       "      <td>5</td>\n",
       "      <td>Mengikuti Talkshow \" Menyingkap Pesona Wastra ...</td>\n",
       "      <td>1</td>\n",
       "      <td>mengikuti talkshow  menyingkap pesona wastra i...</td>\n",
       "      <td>['mengikuti', 'talkshow', 'menyingkap', 'peson...</td>\n",
       "      <td>['mengikuti', 'talkshow', 'menyingkap', 'peson...</td>\n",
       "      <td>['ikut', 'talkshow', 'singkap', 'pesona', 'was...</td>\n",
       "    </tr>\n",
       "  </tbody>\n",
       "</table>\n",
       "</div>"
      ],
      "text/plain": [
       "   Rating                                        Description  label  \\\n",
       "0       5  Klenteng Ban Hin Kiong merupakan Klenteng tert...      1   \n",
       "1       5  Airnya sejuk. Tempatnya bebas plastik. Bagi ya...      1   \n",
       "2       5  Tiap minggu pasti kesini buat foto2 doang😁 kar...      1   \n",
       "3       5  Pernah kesana pergi liat bunker jepang, naik p...      1   \n",
       "4       5  Mengikuti Talkshow \" Menyingkap Pesona Wastra ...      1   \n",
       "\n",
       "                                          text clean  \\\n",
       "0  klenteng ban hin kiong merupakan klenteng tert...   \n",
       "1  airnya sejuk tempatnya bebas plastik bagi yang...   \n",
       "2  tiap minggu pasti kesini buat foto doang😁 kare...   \n",
       "3  pernah kesana pergi liat bunker jepang naik pe...   \n",
       "4  mengikuti talkshow  menyingkap pesona wastra i...   \n",
       "\n",
       "                                              tokens  \\\n",
       "0  ['klenteng', 'ban', 'hin', 'kiong', 'merupakan...   \n",
       "1  ['airnya', 'sejuk', 'tempatnya', 'bebas', 'pla...   \n",
       "2  ['tiap', 'minggu', 'pasti', 'kesini', 'buat', ...   \n",
       "3  ['pernah', 'kesana', 'pergi', 'liat', 'bunker'...   \n",
       "4  ['mengikuti', 'talkshow', 'menyingkap', 'peson...   \n",
       "\n",
       "                                                stop  \\\n",
       "0  ['klenteng', 'ban', 'hin', 'kiong', 'merupakan...   \n",
       "1  ['airnya', 'sejuk', 'tempatnya', 'bebas', 'pla...   \n",
       "2  ['tiap', 'minggu', 'kesini', 'buat', 'foto', '...   \n",
       "3  ['pernah', 'kesana', 'pergi', 'liat', 'bunker'...   \n",
       "4  ['mengikuti', 'talkshow', 'menyingkap', 'peson...   \n",
       "\n",
       "                                             stemmed  \n",
       "0  ['klenteng', 'ban', 'hin', 'kiong', 'rupa', 'k...  \n",
       "1  ['air', 'sejuk', 'tempat', 'bebas', 'plastik',...  \n",
       "2  ['tiap', 'minggu', 'kesini', 'buat', 'foto', '...  \n",
       "3  ['pernah', 'kesana', 'pergi', 'liat', 'bunker'...  \n",
       "4  ['ikut', 'talkshow', 'singkap', 'pesona', 'was...  "
      ]
     },
     "execution_count": 145,
     "metadata": {},
     "output_type": "execute_result"
    }
   ],
   "source": [
    "import pandas as pd\n",
    "\n",
    "df = pd.read_csv(r'dataset\\preprocess.csv')\n",
    "df.head()"
   ]
  },
  {
   "cell_type": "code",
   "execution_count": 146,
   "metadata": {},
   "outputs": [
    {
     "data": {
      "text/html": [
       "<div>\n",
       "<style scoped>\n",
       "    .dataframe tbody tr th:only-of-type {\n",
       "        vertical-align: middle;\n",
       "    }\n",
       "\n",
       "    .dataframe tbody tr th {\n",
       "        vertical-align: top;\n",
       "    }\n",
       "\n",
       "    .dataframe thead th {\n",
       "        text-align: right;\n",
       "    }\n",
       "</style>\n",
       "<table border=\"1\" class=\"dataframe\">\n",
       "  <thead>\n",
       "    <tr style=\"text-align: right;\">\n",
       "      <th></th>\n",
       "      <th>label</th>\n",
       "      <th>stemmed</th>\n",
       "    </tr>\n",
       "  </thead>\n",
       "  <tbody>\n",
       "    <tr>\n",
       "      <th>0</th>\n",
       "      <td>1</td>\n",
       "      <td>['klenteng', 'ban', 'hin', 'kiong', 'rupa', 'k...</td>\n",
       "    </tr>\n",
       "    <tr>\n",
       "      <th>1</th>\n",
       "      <td>1</td>\n",
       "      <td>['air', 'sejuk', 'tempat', 'bebas', 'plastik',...</td>\n",
       "    </tr>\n",
       "    <tr>\n",
       "      <th>2</th>\n",
       "      <td>1</td>\n",
       "      <td>['tiap', 'minggu', 'kesini', 'buat', 'foto', '...</td>\n",
       "    </tr>\n",
       "    <tr>\n",
       "      <th>3</th>\n",
       "      <td>1</td>\n",
       "      <td>['pernah', 'kesana', 'pergi', 'liat', 'bunker'...</td>\n",
       "    </tr>\n",
       "    <tr>\n",
       "      <th>4</th>\n",
       "      <td>1</td>\n",
       "      <td>['ikut', 'talkshow', 'singkap', 'pesona', 'was...</td>\n",
       "    </tr>\n",
       "  </tbody>\n",
       "</table>\n",
       "</div>"
      ],
      "text/plain": [
       "   label                                            stemmed\n",
       "0      1  ['klenteng', 'ban', 'hin', 'kiong', 'rupa', 'k...\n",
       "1      1  ['air', 'sejuk', 'tempat', 'bebas', 'plastik',...\n",
       "2      1  ['tiap', 'minggu', 'kesini', 'buat', 'foto', '...\n",
       "3      1  ['pernah', 'kesana', 'pergi', 'liat', 'bunker'...\n",
       "4      1  ['ikut', 'talkshow', 'singkap', 'pesona', 'was..."
      ]
     },
     "execution_count": 146,
     "metadata": {},
     "output_type": "execute_result"
    }
   ],
   "source": [
    "df = df[['label', 'stemmed']]\n",
    "df.head()"
   ]
  },
  {
   "cell_type": "code",
   "execution_count": 147,
   "metadata": {},
   "outputs": [],
   "source": [
    "df['stemmed'] = df['stemmed'].astype(str)"
   ]
  },
  {
   "cell_type": "code",
   "execution_count": 148,
   "metadata": {},
   "outputs": [
    {
     "data": {
      "text/plain": [
       "label\n",
       "0    446\n",
       "1    320\n",
       "Name: count, dtype: int64"
      ]
     },
     "execution_count": 148,
     "metadata": {},
     "output_type": "execute_result"
    }
   ],
   "source": [
    "df['label'].value_counts()"
   ]
  },
  {
   "cell_type": "code",
   "execution_count": 149,
   "metadata": {},
   "outputs": [
    {
     "name": "stdout",
     "output_type": "stream",
     "text": [
      "(766, 2)\n",
      "label\n",
      "0    0.5\n",
      "1    0.5\n",
      "Name: proportion, dtype: float64\n"
     ]
    }
   ],
   "source": [
    "s_1 = df[df['label']==0].sample(383, replace=True)\n",
    "s_2 = df[df['label']==1].sample(383, replace=True)\n",
    "df = pd.concat([s_1, s_2])\n",
    "\n",
    "print(df.shape)\n",
    "print(df['label'].value_counts(normalize=True))"
   ]
  },
  {
   "cell_type": "code",
   "execution_count": 150,
   "metadata": {},
   "outputs": [],
   "source": [
    "text = df['stemmed']\n",
    "label = df['label']"
   ]
  },
  {
   "cell_type": "code",
   "execution_count": 151,
   "metadata": {},
   "outputs": [],
   "source": [
    "# SPLIT DATA\n",
    "import numpy as np\n",
    "from sklearn.model_selection import train_test_split\n",
    "X_train, X_test, y_train, y_test = train_test_split(text, label, test_size=0.2, random_state=30, stratify=label)\n"
   ]
  },
  {
   "cell_type": "code",
   "execution_count": 152,
   "metadata": {},
   "outputs": [],
   "source": [
    "from sklearn.feature_extraction.text import TfidfVectorizer\n",
    "# Apply TF-IDF vectorization\n",
    "vectorizer = TfidfVectorizer(max_features=5000)  # Adjust max_features based on your dataset\n",
    "X_train_tfidf = vectorizer.fit_transform(X_train)\n",
    "X_test_tfidf = vectorizer.transform(X_test)"
   ]
  },
  {
   "cell_type": "markdown",
   "metadata": {},
   "source": [
    "## SVM"
   ]
  },
  {
   "cell_type": "code",
   "execution_count": 153,
   "metadata": {},
   "outputs": [],
   "source": [
    "from sklearn import svm\n",
    "from sklearn.model_selection import cross_val_score\n",
    "\n",
    "clf = svm.SVC(kernel='linear')"
   ]
  },
  {
   "cell_type": "code",
   "execution_count": 154,
   "metadata": {},
   "outputs": [],
   "source": [
    "clf.fit(X_train_tfidf,y_train)\n",
    "predict = clf.predict(X_test_tfidf)"
   ]
  },
  {
   "cell_type": "code",
   "execution_count": 155,
   "metadata": {},
   "outputs": [
    {
     "name": "stdout",
     "output_type": "stream",
     "text": [
      "              precision    recall  f1-score   support\n",
      "\n",
      "           0       0.84      0.79      0.81        77\n",
      "           1       0.80      0.84      0.82        77\n",
      "\n",
      "    accuracy                           0.82       154\n",
      "   macro avg       0.82      0.82      0.82       154\n",
      "weighted avg       0.82      0.82      0.82       154\n",
      "\n"
     ]
    }
   ],
   "source": [
    "from sklearn.metrics import classification_report, confusion_matrix\n",
    "\n",
    "\n",
    "print(classification_report(y_test, predict))"
   ]
  },
  {
   "cell_type": "code",
   "execution_count": 156,
   "metadata": {},
   "outputs": [
    {
     "name": "stdout",
     "output_type": "stream",
     "text": [
      "[[61 16]\n",
      " [12 65]]\n"
     ]
    }
   ],
   "source": [
    "# confusion matrix\n",
    "conf_matrix = confusion_matrix(y_test,predict)\n",
    "print(conf_matrix)"
   ]
  },
  {
   "cell_type": "code",
   "execution_count": 157,
   "metadata": {},
   "outputs": [
    {
     "data": {
      "text/plain": [
       "<Axes: >"
      ]
     },
     "execution_count": 157,
     "metadata": {},
     "output_type": "execute_result"
    },
    {
     "data": {
      "image/png": "[encoded data removed]",
      "text/plain": [
       "<Figure size 640x480 with 2 Axes>"
      ]
     },
     "metadata": {},
     "output_type": "display_data"
    }
   ],
   "source": [
    "import seaborn as sns\n",
    "sns.heatmap(conf_matrix, annot=True)"
   ]
  },
  {
   "cell_type": "markdown",
   "metadata": {},
   "source": [
    "## TEST NEW DATA"
   ]
  },
  {
   "cell_type": "code",
   "execution_count": 158,
   "metadata": {},
   "outputs": [],
   "source": [
    "import re\n",
    "import string\n",
    "from Sastrawi.StopWordRemover.StopWordRemoverFactory import StopWordRemoverFactory\n",
    "from Sastrawi.Stemmer.StemmerFactory import StemmerFactory\n",
    "\n",
    "\n",
    "def cleansing(kalimat):\n",
    "    kalimat = str(kalimat)\n",
    "\n",
    "    # membuat huruf jadi lowercase\n",
    "    lower_case = kalimat.lower()\n",
    "\n",
    "    # menghapus angka dari kalimat\n",
    "    hasil = re.sub(r\"\\d+\",\"\", lower_case)\n",
    "\n",
    "    # menghapus tanda baca dari kalimat\n",
    "    hasil = hasil.translate(str.maketrans(\"\",\"\",string.punctuation))\n",
    "\n",
    "    # menghapus spasi diawal dan diakhir kalimat\n",
    "    hasil = hasil.strip()\n",
    "\n",
    "    # remove new line\n",
    "    hasil = hasil.replace(\"\\n\", \"\")\n",
    "\n",
    "\n",
    "    return hasil\n",
    "\n",
    "def proses(data):\n",
    "    data = cleansing(data)\n",
    "\n",
    "    #hapus stopwords\n",
    "    factory = StopWordRemoverFactory()\n",
    "    stopwords = factory.create_stop_word_remover()\n",
    "    data = stopwords.remove(data)\n",
    "\n",
    "    #stemming\n",
    "    factory = StemmerFactory()\n",
    "    stemmer = factory.create_stemmer()\n",
    "    data = stemmer.stem(data)\n",
    "\n",
    "    # tf idf vectorizer\n",
    "    data = vectorizer.transform([data])\n",
    "\n",
    "    return data"
   ]
  },
  {
   "cell_type": "code",
   "execution_count": 159,
   "metadata": {},
   "outputs": [],
   "source": [
    "review_positif = 'pantai ini bagus untuk keluarga dan nyaman sekali'\n",
    "review_negatif = 'sangat kotor dan tidak baik'"
   ]
  },
  {
   "cell_type": "code",
   "execution_count": 160,
   "metadata": {},
   "outputs": [
    {
     "data": {
      "text/plain": [
       "array([1], dtype=int64)"
      ]
     },
     "execution_count": 160,
     "metadata": {},
     "output_type": "execute_result"
    }
   ],
   "source": [
    "clf.predict(proses(review_positif))"
   ]
  },
  {
   "cell_type": "code",
   "execution_count": 161,
   "metadata": {},
   "outputs": [
    {
     "data": {
      "text/plain": [
       "array([0], dtype=int64)"
      ]
     },
     "execution_count": 161,
     "metadata": {},
     "output_type": "execute_result"
    }
   ],
   "source": [
    "clf.predict(proses(review_negatif))"
   ]
  }
 ],
 "metadata": {
  "kernelspec": {
   "display_name": "capstone",
   "language": "python",
   "name": "python3"
  },
  "language_info": {
   "codemirror_mode": {
    "name": "ipython",
    "version": 3
   },
   "file_extension": ".py",
   "mimetype": "text/x-python",
   "name": "python",
   "nbconvert_exporter": "python",
   "pygments_lexer": "ipython3",
   "version": "3.9.19"
  },
  "orig_nbformat": 4
 },
 "nbformat": 4,
 "nbformat_minor": 2
}
